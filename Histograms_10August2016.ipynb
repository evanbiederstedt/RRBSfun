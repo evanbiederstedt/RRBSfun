{
 "cells": [
  {
   "cell_type": "code",
   "execution_count": 1,
   "metadata": {
    "collapsed": true
   },
   "outputs": [],
   "source": [
    "%matplotlib inline"
   ]
  },
  {
   "cell_type": "code",
   "execution_count": 2,
   "metadata": {
    "collapsed": true
   },
   "outputs": [],
   "source": [
    "import glob\n",
    "import pandas as pd\n",
    "import numpy as np\n",
    "import seaborn as sns\n",
    "import matplotlib.pyplot as plt\n",
    "import matplotlib\n",
    "\n",
    "import os\n",
    "os.chdir('/Users/evanbiederstedt/Downloads/RRBS_data_files')\n"
   ]
  },
  {
   "cell_type": "code",
   "execution_count": 4,
   "metadata": {
    "collapsed": true
   },
   "outputs": [],
   "source": [
    "df = pd.read_csv(\"all_file_stats.csv\")"
   ]
  },
  {
   "cell_type": "code",
   "execution_count": 6,
   "metadata": {
    "collapsed": false
   },
   "outputs": [
    {
     "data": {
      "text/plain": [
       "(513, 14)"
      ]
     },
     "execution_count": 6,
     "metadata": {},
     "output_type": "execute_result"
    }
   ],
   "source": [
    "df.shape"
   ]
  },
  {
   "cell_type": "code",
   "execution_count": 8,
   "metadata": {
    "collapsed": false
   },
   "outputs": [
    {
     "data": {
      "text/html": [
       "<div>\n",
       "<table border=\"1\" class=\"dataframe\">\n",
       "  <thead>\n",
       "    <tr style=\"text-align: right;\">\n",
       "      <th></th>\n",
       "      <th>filename</th>\n",
       "      <th>methylation</th>\n",
       "      <th>PDR_total</th>\n",
       "      <th>methylation_unweighted</th>\n",
       "      <th>PDR_unweighted</th>\n",
       "      <th>thisMeth</th>\n",
       "      <th>mixedReadCount</th>\n",
       "      <th>total_reads</th>\n",
       "      <th>type</th>\n",
       "      <th>bio</th>\n",
       "      <th>protocol</th>\n",
       "      <th>total_cpg_no_filter</th>\n",
       "      <th>total_cpg_gtrthan1</th>\n",
       "      <th>total_cpg_gtrthan38</th>\n",
       "    </tr>\n",
       "  </thead>\n",
       "  <tbody>\n",
       "    <tr>\n",
       "      <th>0</th>\n",
       "      <td>RRBS_normal_B_cell_A1_24_TAAGGCGA.ACAACC</td>\n",
       "      <td>0.591346</td>\n",
       "      <td>0.259001</td>\n",
       "      <td>0.691996</td>\n",
       "      <td>0.254835</td>\n",
       "      <td>7033858.0</td>\n",
       "      <td>3080732.0</td>\n",
       "      <td>11894660.0</td>\n",
       "      <td>normal</td>\n",
       "      <td>normal_B</td>\n",
       "      <td>normal_B_cell_A1_24</td>\n",
       "      <td>147675.0</td>\n",
       "      <td>147599.0</td>\n",
       "      <td>122481.0</td>\n",
       "    </tr>\n",
       "    <tr>\n",
       "      <th>1</th>\n",
       "      <td>RRBS_normal_B_cell_A1_24_TAAGGCGA.ACCGCG</td>\n",
       "      <td>0.531169</td>\n",
       "      <td>0.411448</td>\n",
       "      <td>0.620106</td>\n",
       "      <td>0.390562</td>\n",
       "      <td>1989048.0</td>\n",
       "      <td>1540734.0</td>\n",
       "      <td>3744659.0</td>\n",
       "      <td>normal</td>\n",
       "      <td>normal_B</td>\n",
       "      <td>normal_B_cell_A1_24</td>\n",
       "      <td>69078.0</td>\n",
       "      <td>69058.0</td>\n",
       "      <td>57061.0</td>\n",
       "    </tr>\n",
       "    <tr>\n",
       "      <th>2</th>\n",
       "      <td>RRBS_normal_B_cell_A1_24_TAAGGCGA.ACGTGG</td>\n",
       "      <td>0.586403</td>\n",
       "      <td>0.278568</td>\n",
       "      <td>0.699736</td>\n",
       "      <td>0.266418</td>\n",
       "      <td>6134873.0</td>\n",
       "      <td>2914341.0</td>\n",
       "      <td>10461874.0</td>\n",
       "      <td>normal</td>\n",
       "      <td>normal_B</td>\n",
       "      <td>normal_B_cell_A1_24</td>\n",
       "      <td>151692.0</td>\n",
       "      <td>151636.0</td>\n",
       "      <td>125516.0</td>\n",
       "    </tr>\n",
       "    <tr>\n",
       "      <th>3</th>\n",
       "      <td>RRBS_normal_B_cell_A1_24_TAAGGCGA.ACTCAC</td>\n",
       "      <td>0.618746</td>\n",
       "      <td>0.384385</td>\n",
       "      <td>0.763173</td>\n",
       "      <td>0.265385</td>\n",
       "      <td>8694.0</td>\n",
       "      <td>5401.0</td>\n",
       "      <td>14051.0</td>\n",
       "      <td>normal</td>\n",
       "      <td>normal_B</td>\n",
       "      <td>normal_B_cell_A1_24</td>\n",
       "      <td>8843.0</td>\n",
       "      <td>8843.0</td>\n",
       "      <td>7124.0</td>\n",
       "    </tr>\n",
       "    <tr>\n",
       "      <th>4</th>\n",
       "      <td>RRBS_normal_B_cell_A1_24_TAAGGCGA.AGGATG</td>\n",
       "      <td>0.628623</td>\n",
       "      <td>0.248006</td>\n",
       "      <td>0.732036</td>\n",
       "      <td>0.240201</td>\n",
       "      <td>13784911.0</td>\n",
       "      <td>5438461.0</td>\n",
       "      <td>21928743.0</td>\n",
       "      <td>normal</td>\n",
       "      <td>normal_B</td>\n",
       "      <td>normal_B_cell_A1_24</td>\n",
       "      <td>234318.0</td>\n",
       "      <td>234229.0</td>\n",
       "      <td>193915.0</td>\n",
       "    </tr>\n",
       "  </tbody>\n",
       "</table>\n",
       "</div>"
      ],
      "text/plain": [
       "                                   filename  methylation  PDR_total  \\\n",
       "0  RRBS_normal_B_cell_A1_24_TAAGGCGA.ACAACC     0.591346   0.259001   \n",
       "1  RRBS_normal_B_cell_A1_24_TAAGGCGA.ACCGCG     0.531169   0.411448   \n",
       "2  RRBS_normal_B_cell_A1_24_TAAGGCGA.ACGTGG     0.586403   0.278568   \n",
       "3  RRBS_normal_B_cell_A1_24_TAAGGCGA.ACTCAC     0.618746   0.384385   \n",
       "4  RRBS_normal_B_cell_A1_24_TAAGGCGA.AGGATG     0.628623   0.248006   \n",
       "\n",
       "   methylation_unweighted  PDR_unweighted    thisMeth  mixedReadCount  \\\n",
       "0                0.691996        0.254835   7033858.0       3080732.0   \n",
       "1                0.620106        0.390562   1989048.0       1540734.0   \n",
       "2                0.699736        0.266418   6134873.0       2914341.0   \n",
       "3                0.763173        0.265385      8694.0          5401.0   \n",
       "4                0.732036        0.240201  13784911.0       5438461.0   \n",
       "\n",
       "   total_reads    type       bio             protocol  total_cpg_no_filter  \\\n",
       "0   11894660.0  normal  normal_B  normal_B_cell_A1_24             147675.0   \n",
       "1    3744659.0  normal  normal_B  normal_B_cell_A1_24              69078.0   \n",
       "2   10461874.0  normal  normal_B  normal_B_cell_A1_24             151692.0   \n",
       "3      14051.0  normal  normal_B  normal_B_cell_A1_24               8843.0   \n",
       "4   21928743.0  normal  normal_B  normal_B_cell_A1_24             234318.0   \n",
       "\n",
       "   total_cpg_gtrthan1  total_cpg_gtrthan38  \n",
       "0            147599.0             122481.0  \n",
       "1             69058.0              57061.0  \n",
       "2            151636.0             125516.0  \n",
       "3              8843.0               7124.0  \n",
       "4            234229.0             193915.0  "
      ]
     },
     "execution_count": 8,
     "metadata": {},
     "output_type": "execute_result"
    }
   ],
   "source": [
    "df.head()   # all CpGs == total_cpg_no_filter"
   ]
  },
  {
   "cell_type": "code",
   "execution_count": 33,
   "metadata": {
    "collapsed": false
   },
   "outputs": [],
   "source": [
    "#\n",
    "# remove all \"2cell\" files\n",
    "#\n",
    "# index 498-----RRBS_trito_pool_2_CGTACTAG.CCCGGG\n",
    "# index 502-----RRBS_trito_pool_2_CGTACTAG.CTCAGC\n",
    "#\n",
    "df = df.drop([498, 502])"
   ]
  },
  {
   "cell_type": "code",
   "execution_count": 34,
   "metadata": {
    "collapsed": true
   },
   "outputs": [],
   "source": [
    "unfiltered_all = df"
   ]
  },
  {
   "cell_type": "code",
   "execution_count": 35,
   "metadata": {
    "collapsed": false
   },
   "outputs": [
    {
     "data": {
      "text/plain": [
       "(511, 14)"
      ]
     },
     "execution_count": 35,
     "metadata": {},
     "output_type": "execute_result"
    }
   ],
   "source": [
    "unfiltered_all.shape"
   ]
  },
  {
   "cell_type": "code",
   "execution_count": null,
   "metadata": {
    "collapsed": true
   },
   "outputs": [],
   "source": [
    "#\n",
    "# y-axis: # of cells with sum total CpG count, x-axis is range of sum total CpG counts per file\n",
    "#"
   ]
  },
  {
   "cell_type": "code",
   "execution_count": 36,
   "metadata": {
    "collapsed": true
   },
   "outputs": [],
   "source": [
    "unfiltered_all2 = unfiltered_all.loc[:,['total_cpg_no_filter']]\n",
    "unfiltered_all2 = unfiltered_all2.reset_index(drop=True)"
   ]
  },
  {
   "cell_type": "code",
   "execution_count": 37,
   "metadata": {
    "collapsed": false
   },
   "outputs": [
    {
     "data": {
      "text/plain": [
       "(511, 1)"
      ]
     },
     "execution_count": 37,
     "metadata": {},
     "output_type": "execute_result"
    }
   ],
   "source": [
    "unfiltered_all2.shape"
   ]
  },
  {
   "cell_type": "code",
   "execution_count": 73,
   "metadata": {
    "collapsed": false
   },
   "outputs": [
    {
     "data": {
      "text/plain": [
       "<matplotlib.text.Text at 0x10e817be0>"
      ]
     },
     "execution_count": 73,
     "metadata": {},
     "output_type": "execute_result"
    },
    {
     "data": {
      "image/png": "[encoded data removed]",
      "text/plain": [
       "<matplotlib.figure.Figure at 0x10e3a1fd0>"
      ]
     },
     "metadata": {},
     "output_type": "display_data"
    }
   ],
   "source": [
    "unfiltered_all2.plot(kind='area', color='r')\n",
    "plt.title('Unfiltered, total unique CpG per cells, 511 *.anno files')\n",
    "plt.xlabel('511 total *.anno files') \n",
    "plt.ylabel('Total # of CpG per file')"
   ]
  },
  {
   "cell_type": "code",
   "execution_count": 64,
   "metadata": {
    "collapsed": false
   },
   "outputs": [
    {
     "data": {
      "text/plain": [
       "<matplotlib.text.Text at 0x10dee8240>"
      ]
     },
     "execution_count": 64,
     "metadata": {},
     "output_type": "execute_result"
    },
    {
     "data": {
      "image/png": "[encoded data removed]",
      "text/plain": [
       "<matplotlib.figure.Figure at 0x10df765c0>"
      ]
     },
     "metadata": {},
     "output_type": "display_data"
    }
   ],
   "source": [
    "plt.hist(unfiltered_all2['total_cpg_no_filter'], bins=75)\n",
    "plt.title(\"Histogram: total unique CpG per cells, 511 *.anno files\")\n",
    "plt.ylabel(\"Number of files by bin\")\n",
    "plt.xlabel(\"Total number of unique CpG per file\")"
   ]
  },
  {
   "cell_type": "code",
   "execution_count": 65,
   "metadata": {
    "collapsed": true
   },
   "outputs": [],
   "source": [
    "filtered1 = unfiltered_all2[unfiltered_all2[\"total_cpg_no_filter\"]>100000]"
   ]
  },
  {
   "cell_type": "code",
   "execution_count": 66,
   "metadata": {
    "collapsed": false
   },
   "outputs": [
    {
     "data": {
      "text/plain": [
       "<matplotlib.text.Text at 0x10e12ecf8>"
      ]
     },
     "execution_count": 66,
     "metadata": {},
     "output_type": "execute_result"
    },
    {
     "data": {
      "image/png": "[encoded data removed]",
      "text/plain": [
       "<matplotlib.figure.Figure at 0x10e08eb38>"
      ]
     },
     "metadata": {},
     "output_type": "display_data"
    }
   ],
   "source": [
    "plt.hist(filtered1['total_cpg_no_filter'], bins=75, color='darkmagenta')\n",
    "plt.title(\"Histogram: total unique CpG per cells, FILTERED by CpG > 100K, 438 *.anno files\")\n",
    "plt.ylabel(\"Number of files by bin\")\n",
    "plt.xlabel(\"Total number of unique CpG per file\")"
   ]
  },
  {
   "cell_type": "code",
   "execution_count": null,
   "metadata": {
    "collapsed": true
   },
   "outputs": [],
   "source": []
  },
  {
   "cell_type": "code",
   "execution_count": 67,
   "metadata": {
    "collapsed": true
   },
   "outputs": [],
   "source": [
    "filtered2 = unfiltered_all2[unfiltered_all2[\"total_cpg_no_filter\"]>80000]"
   ]
  },
  {
   "cell_type": "code",
   "execution_count": 69,
   "metadata": {
    "collapsed": false
   },
   "outputs": [
    {
     "data": {
      "text/plain": [
       "442"
      ]
     },
     "execution_count": 69,
     "metadata": {},
     "output_type": "execute_result"
    }
   ],
   "source": [
    "len(filtered2)  # a difference of four files"
   ]
  },
  {
   "cell_type": "code",
   "execution_count": 74,
   "metadata": {
    "collapsed": false
   },
   "outputs": [
    {
     "data": {
      "text/plain": [
       "<matplotlib.text.Text at 0x10e6e3a58>"
      ]
     },
     "execution_count": 74,
     "metadata": {},
     "output_type": "execute_result"
    },
    {
     "data": {
      "image/png": "[encoded data removed]",
      "text/plain": [
       "<matplotlib.figure.Figure at 0x10e91e048>"
      ]
     },
     "metadata": {},
     "output_type": "display_data"
    }
   ],
   "source": [
    "plt.hist(filtered2['total_cpg_no_filter'], bins=75, color='firebrick')\n",
    "plt.title(\"Histogram: total unique CpG per cells, FILTERED by CpG > 80K, 442 *.anno files\")\n",
    "plt.ylabel(\"Number of files by bin\")\n",
    "plt.xlabel(\"Total number of unique CpG per file\")"
   ]
  },
  {
   "cell_type": "code",
   "execution_count": 91,
   "metadata": {
    "collapsed": false
   },
   "outputs": [
    {
     "name": "stdout",
     "output_type": "stream",
     "text": [
      "(438, 14)\n",
      "(442, 14)\n"
     ]
    },
    {
     "data": {
      "text/html": [
       "<div>\n",
       "<table border=\"1\" class=\"dataframe\">\n",
       "  <thead>\n",
       "    <tr style=\"text-align: right;\">\n",
       "      <th></th>\n",
       "      <th>filename</th>\n",
       "      <th>methylation</th>\n",
       "      <th>PDR_total</th>\n",
       "      <th>methylation_unweighted</th>\n",
       "      <th>PDR_unweighted</th>\n",
       "      <th>thisMeth</th>\n",
       "      <th>mixedReadCount</th>\n",
       "      <th>total_reads</th>\n",
       "      <th>type</th>\n",
       "      <th>bio</th>\n",
       "      <th>protocol</th>\n",
       "      <th>total_cpg_no_filter</th>\n",
       "      <th>total_cpg_gtrthan1</th>\n",
       "      <th>total_cpg_gtrthan38</th>\n",
       "    </tr>\n",
       "  </thead>\n",
       "  <tbody>\n",
       "    <tr>\n",
       "      <th>159</th>\n",
       "      <td>RRBS_NormalBCD19pCD27mcell23_44_GTAGAGGA.ACCGCG</td>\n",
       "      <td>0.450554</td>\n",
       "      <td>0.177824</td>\n",
       "      <td>0.586210</td>\n",
       "      <td>0.175492</td>\n",
       "      <td>346652.0</td>\n",
       "      <td>136816.0</td>\n",
       "      <td>769390.0</td>\n",
       "      <td>normal</td>\n",
       "      <td>CD19CD27m</td>\n",
       "      <td>NormalBCD19pCD27mcell23_44</td>\n",
       "      <td>95398.0</td>\n",
       "      <td>95393.0</td>\n",
       "      <td>80025.0</td>\n",
       "    </tr>\n",
       "    <tr>\n",
       "      <th>225</th>\n",
       "      <td>RRBS_NormalBCD19pCD27pcell1_22_TAGGCATG.ACCGCG</td>\n",
       "      <td>0.417533</td>\n",
       "      <td>0.308561</td>\n",
       "      <td>0.525005</td>\n",
       "      <td>0.317133</td>\n",
       "      <td>376315.0</td>\n",
       "      <td>278101.0</td>\n",
       "      <td>901283.0</td>\n",
       "      <td>normal</td>\n",
       "      <td>CD19CD27p</td>\n",
       "      <td>NormalBCD19pCD27pcell1_22_</td>\n",
       "      <td>88590.0</td>\n",
       "      <td>88584.0</td>\n",
       "      <td>73436.0</td>\n",
       "    </tr>\n",
       "    <tr>\n",
       "      <th>292</th>\n",
       "      <td>RRBS_NormalBCD19pCD27pcell67_88_GCTACGCT.ACCGCG</td>\n",
       "      <td>0.452662</td>\n",
       "      <td>0.298460</td>\n",
       "      <td>0.561306</td>\n",
       "      <td>0.304930</td>\n",
       "      <td>538864.0</td>\n",
       "      <td>355297.0</td>\n",
       "      <td>1190433.0</td>\n",
       "      <td>normal</td>\n",
       "      <td>CD19CD27p</td>\n",
       "      <td>NormalBCD19pCD27pcell67_88</td>\n",
       "      <td>84355.0</td>\n",
       "      <td>84343.0</td>\n",
       "      <td>69548.0</td>\n",
       "    </tr>\n",
       "    <tr>\n",
       "      <th>398</th>\n",
       "      <td>RRBS_NormalBCD19pcell67_88_TCCTGAGC.GTTGAG</td>\n",
       "      <td>0.394685</td>\n",
       "      <td>0.166073</td>\n",
       "      <td>0.535144</td>\n",
       "      <td>0.168153</td>\n",
       "      <td>315587.0</td>\n",
       "      <td>132791.0</td>\n",
       "      <td>799593.0</td>\n",
       "      <td>normal</td>\n",
       "      <td>CD19p</td>\n",
       "      <td>RRBS_NormalBCD19pcell67_88</td>\n",
       "      <td>91467.0</td>\n",
       "      <td>91461.0</td>\n",
       "      <td>78199.0</td>\n",
       "    </tr>\n",
       "  </tbody>\n",
       "</table>\n",
       "</div>"
      ],
      "text/plain": [
       "                                            filename  methylation  PDR_total  \\\n",
       "159  RRBS_NormalBCD19pCD27mcell23_44_GTAGAGGA.ACCGCG     0.450554   0.177824   \n",
       "225   RRBS_NormalBCD19pCD27pcell1_22_TAGGCATG.ACCGCG     0.417533   0.308561   \n",
       "292  RRBS_NormalBCD19pCD27pcell67_88_GCTACGCT.ACCGCG     0.452662   0.298460   \n",
       "398       RRBS_NormalBCD19pcell67_88_TCCTGAGC.GTTGAG     0.394685   0.166073   \n",
       "\n",
       "     methylation_unweighted  PDR_unweighted  thisMeth  mixedReadCount  \\\n",
       "159                0.586210        0.175492  346652.0        136816.0   \n",
       "225                0.525005        0.317133  376315.0        278101.0   \n",
       "292                0.561306        0.304930  538864.0        355297.0   \n",
       "398                0.535144        0.168153  315587.0        132791.0   \n",
       "\n",
       "     total_reads    type        bio                    protocol  \\\n",
       "159     769390.0  normal  CD19CD27m  NormalBCD19pCD27mcell23_44   \n",
       "225     901283.0  normal  CD19CD27p  NormalBCD19pCD27pcell1_22_   \n",
       "292    1190433.0  normal  CD19CD27p  NormalBCD19pCD27pcell67_88   \n",
       "398     799593.0  normal      CD19p  RRBS_NormalBCD19pcell67_88   \n",
       "\n",
       "     total_cpg_no_filter  total_cpg_gtrthan1  total_cpg_gtrthan38  \n",
       "159              95398.0             95393.0              80025.0  \n",
       "225              88590.0             88584.0              73436.0  \n",
       "292              84355.0             84343.0              69548.0  \n",
       "398              91467.0             91461.0              78199.0  "
      ]
     },
     "execution_count": 91,
     "metadata": {},
     "output_type": "execute_result"
    }
   ],
   "source": [
    "#\n",
    "# List the four files difference between these two filters, >100K vs >80K\n",
    "#\n",
    "filtered438 = df[df[\"total_cpg_no_filter\"] > 100000]\n",
    "filtered442 = df[df[\"total_cpg_no_filter\"] > 80000]\n",
    "\n",
    "print(filtered438.shape)\n",
    "print(filtered442.shape)\n",
    "\n",
    "filtered442[(~filtered442.filename.isin(filtered438.filename))]"
   ]
  },
  {
   "cell_type": "code",
   "execution_count": 92,
   "metadata": {
    "collapsed": true
   },
   "outputs": [],
   "source": [
    "filtered3 = unfiltered_all2[unfiltered_all2[\"total_cpg_no_filter\"]>75000]"
   ]
  },
  {
   "cell_type": "code",
   "execution_count": 93,
   "metadata": {
    "collapsed": false
   },
   "outputs": [
    {
     "data": {
      "text/plain": [
       "443"
      ]
     },
     "execution_count": 93,
     "metadata": {},
     "output_type": "execute_result"
    }
   ],
   "source": [
    "len(filtered3)"
   ]
  },
  {
   "cell_type": "code",
   "execution_count": 94,
   "metadata": {
    "collapsed": false
   },
   "outputs": [
    {
     "data": {
      "text/plain": [
       "<matplotlib.text.Text at 0x10ef25eb8>"
      ]
     },
     "execution_count": 94,
     "metadata": {},
     "output_type": "execute_result"
    },
    {
     "data": {
      "image/png": "[encoded data removed]",
      "text/plain": [
       "<matplotlib.figure.Figure at 0x10eec2b38>"
      ]
     },
     "metadata": {},
     "output_type": "display_data"
    }
   ],
   "source": [
    "plt.hist(filtered3['total_cpg_no_filter'], bins=75, color='darkcyan')\n",
    "plt.title(\"Histogram: total unique CpG per cells, FILTERED by CpG > 75K, 443 *.anno files\")\n",
    "plt.ylabel(\"Number of files by bin\")\n",
    "plt.xlabel(\"Total number of unique CpG per file\")"
   ]
  },
  {
   "cell_type": "code",
   "execution_count": 95,
   "metadata": {
    "collapsed": false
   },
   "outputs": [
    {
     "name": "stdout",
     "output_type": "stream",
     "text": [
      "(438, 14)\n",
      "(443, 14)\n"
     ]
    },
    {
     "data": {
      "text/html": [
       "<div>\n",
       "<table border=\"1\" class=\"dataframe\">\n",
       "  <thead>\n",
       "    <tr style=\"text-align: right;\">\n",
       "      <th></th>\n",
       "      <th>filename</th>\n",
       "      <th>methylation</th>\n",
       "      <th>PDR_total</th>\n",
       "      <th>methylation_unweighted</th>\n",
       "      <th>PDR_unweighted</th>\n",
       "      <th>thisMeth</th>\n",
       "      <th>mixedReadCount</th>\n",
       "      <th>total_reads</th>\n",
       "      <th>type</th>\n",
       "      <th>bio</th>\n",
       "      <th>protocol</th>\n",
       "      <th>total_cpg_no_filter</th>\n",
       "      <th>total_cpg_gtrthan1</th>\n",
       "      <th>total_cpg_gtrthan38</th>\n",
       "    </tr>\n",
       "  </thead>\n",
       "  <tbody>\n",
       "    <tr>\n",
       "      <th>159</th>\n",
       "      <td>RRBS_NormalBCD19pCD27mcell23_44_GTAGAGGA.ACCGCG</td>\n",
       "      <td>0.450554</td>\n",
       "      <td>0.177824</td>\n",
       "      <td>0.586210</td>\n",
       "      <td>0.175492</td>\n",
       "      <td>346652.0</td>\n",
       "      <td>136816.0</td>\n",
       "      <td>769390.0</td>\n",
       "      <td>normal</td>\n",
       "      <td>CD19CD27m</td>\n",
       "      <td>NormalBCD19pCD27mcell23_44</td>\n",
       "      <td>95398.0</td>\n",
       "      <td>95393.0</td>\n",
       "      <td>80025.0</td>\n",
       "    </tr>\n",
       "    <tr>\n",
       "      <th>225</th>\n",
       "      <td>RRBS_NormalBCD19pCD27pcell1_22_TAGGCATG.ACCGCG</td>\n",
       "      <td>0.417533</td>\n",
       "      <td>0.308561</td>\n",
       "      <td>0.525005</td>\n",
       "      <td>0.317133</td>\n",
       "      <td>376315.0</td>\n",
       "      <td>278101.0</td>\n",
       "      <td>901283.0</td>\n",
       "      <td>normal</td>\n",
       "      <td>CD19CD27p</td>\n",
       "      <td>NormalBCD19pCD27pcell1_22_</td>\n",
       "      <td>88590.0</td>\n",
       "      <td>88584.0</td>\n",
       "      <td>73436.0</td>\n",
       "    </tr>\n",
       "    <tr>\n",
       "      <th>292</th>\n",
       "      <td>RRBS_NormalBCD19pCD27pcell67_88_GCTACGCT.ACCGCG</td>\n",
       "      <td>0.452662</td>\n",
       "      <td>0.298460</td>\n",
       "      <td>0.561306</td>\n",
       "      <td>0.304930</td>\n",
       "      <td>538864.0</td>\n",
       "      <td>355297.0</td>\n",
       "      <td>1190433.0</td>\n",
       "      <td>normal</td>\n",
       "      <td>CD19CD27p</td>\n",
       "      <td>NormalBCD19pCD27pcell67_88</td>\n",
       "      <td>84355.0</td>\n",
       "      <td>84343.0</td>\n",
       "      <td>69548.0</td>\n",
       "    </tr>\n",
       "    <tr>\n",
       "      <th>398</th>\n",
       "      <td>RRBS_NormalBCD19pcell67_88_TCCTGAGC.GTTGAG</td>\n",
       "      <td>0.394685</td>\n",
       "      <td>0.166073</td>\n",
       "      <td>0.535144</td>\n",
       "      <td>0.168153</td>\n",
       "      <td>315587.0</td>\n",
       "      <td>132791.0</td>\n",
       "      <td>799593.0</td>\n",
       "      <td>normal</td>\n",
       "      <td>CD19p</td>\n",
       "      <td>RRBS_NormalBCD19pcell67_88</td>\n",
       "      <td>91467.0</td>\n",
       "      <td>91461.0</td>\n",
       "      <td>78199.0</td>\n",
       "    </tr>\n",
       "    <tr>\n",
       "      <th>444</th>\n",
       "      <td>RRBS_cw154_Tris_protease_CTCTCTAC.TAGCGG</td>\n",
       "      <td>0.500082</td>\n",
       "      <td>0.420654</td>\n",
       "      <td>0.596881</td>\n",
       "      <td>0.386584</td>\n",
       "      <td>711059.0</td>\n",
       "      <td>598122.0</td>\n",
       "      <td>1421886.0</td>\n",
       "      <td>CLL</td>\n",
       "      <td>CLL</td>\n",
       "      <td>cw154_Tris_protease</td>\n",
       "      <td>77891.0</td>\n",
       "      <td>77882.0</td>\n",
       "      <td>65323.0</td>\n",
       "    </tr>\n",
       "  </tbody>\n",
       "</table>\n",
       "</div>"
      ],
      "text/plain": [
       "                                            filename  methylation  PDR_total  \\\n",
       "159  RRBS_NormalBCD19pCD27mcell23_44_GTAGAGGA.ACCGCG     0.450554   0.177824   \n",
       "225   RRBS_NormalBCD19pCD27pcell1_22_TAGGCATG.ACCGCG     0.417533   0.308561   \n",
       "292  RRBS_NormalBCD19pCD27pcell67_88_GCTACGCT.ACCGCG     0.452662   0.298460   \n",
       "398       RRBS_NormalBCD19pcell67_88_TCCTGAGC.GTTGAG     0.394685   0.166073   \n",
       "444         RRBS_cw154_Tris_protease_CTCTCTAC.TAGCGG     0.500082   0.420654   \n",
       "\n",
       "     methylation_unweighted  PDR_unweighted  thisMeth  mixedReadCount  \\\n",
       "159                0.586210        0.175492  346652.0        136816.0   \n",
       "225                0.525005        0.317133  376315.0        278101.0   \n",
       "292                0.561306        0.304930  538864.0        355297.0   \n",
       "398                0.535144        0.168153  315587.0        132791.0   \n",
       "444                0.596881        0.386584  711059.0        598122.0   \n",
       "\n",
       "     total_reads    type        bio                    protocol  \\\n",
       "159     769390.0  normal  CD19CD27m  NormalBCD19pCD27mcell23_44   \n",
       "225     901283.0  normal  CD19CD27p  NormalBCD19pCD27pcell1_22_   \n",
       "292    1190433.0  normal  CD19CD27p  NormalBCD19pCD27pcell67_88   \n",
       "398     799593.0  normal      CD19p  RRBS_NormalBCD19pcell67_88   \n",
       "444    1421886.0     CLL        CLL         cw154_Tris_protease   \n",
       "\n",
       "     total_cpg_no_filter  total_cpg_gtrthan1  total_cpg_gtrthan38  \n",
       "159              95398.0             95393.0              80025.0  \n",
       "225              88590.0             88584.0              73436.0  \n",
       "292              84355.0             84343.0              69548.0  \n",
       "398              91467.0             91461.0              78199.0  \n",
       "444              77891.0             77882.0              65323.0  "
      ]
     },
     "execution_count": 95,
     "metadata": {},
     "output_type": "execute_result"
    }
   ],
   "source": [
    "#\n",
    "# List the 5 files difference between these two filters, >100K vs >80K\n",
    "#\n",
    "\n",
    "filtered438 = df[df[\"total_cpg_no_filter\"] > 100000]\n",
    "filtered443 = df[df[\"total_cpg_no_filter\"] > 75000]\n",
    "\n",
    "print(filtered438.shape)\n",
    "print(filtered443.shape)\n",
    "\n",
    "filtered443[(~filtered443.filename.isin(filtered438.filename))]"
   ]
  },
  {
   "cell_type": "code",
   "execution_count": 98,
   "metadata": {
    "collapsed": true
   },
   "outputs": [],
   "source": [
    "filtered4 = unfiltered_all2[unfiltered_all2[\"total_cpg_no_filter\"]>50000]"
   ]
  },
  {
   "cell_type": "code",
   "execution_count": 99,
   "metadata": {
    "collapsed": false
   },
   "outputs": [
    {
     "data": {
      "text/plain": [
       "446"
      ]
     },
     "execution_count": 99,
     "metadata": {},
     "output_type": "execute_result"
    }
   ],
   "source": [
    "len(filtered4)"
   ]
  },
  {
   "cell_type": "code",
   "execution_count": 100,
   "metadata": {
    "collapsed": false
   },
   "outputs": [
    {
     "data": {
      "text/plain": [
       "<matplotlib.text.Text at 0x10f129898>"
      ]
     },
     "execution_count": 100,
     "metadata": {},
     "output_type": "execute_result"
    },
    {
     "data": {
      "image/png": "[encoded data removed]",
      "text/plain": [
       "<matplotlib.figure.Figure at 0x10f1c44e0>"
      ]
     },
     "metadata": {},
     "output_type": "display_data"
    }
   ],
   "source": [
    "plt.hist(filtered4['total_cpg_no_filter'], bins=75, color='darkkhaki')\n",
    "plt.title(\"Histogram: total unique CpG per cells, FILTERED by CpG > 50K, 446 *.anno files\")\n",
    "plt.ylabel(\"Number of files by bin\")\n",
    "plt.xlabel(\"Total number of unique CpG per file\")"
   ]
  },
  {
   "cell_type": "code",
   "execution_count": 103,
   "metadata": {
    "collapsed": false
   },
   "outputs": [
    {
     "name": "stdout",
     "output_type": "stream",
     "text": [
      "(438, 14)\n",
      "(446, 14)\n"
     ]
    },
    {
     "data": {
      "text/html": [
       "<div>\n",
       "<table border=\"1\" class=\"dataframe\">\n",
       "  <thead>\n",
       "    <tr style=\"text-align: right;\">\n",
       "      <th></th>\n",
       "      <th>filename</th>\n",
       "      <th>methylation</th>\n",
       "      <th>PDR_total</th>\n",
       "      <th>methylation_unweighted</th>\n",
       "      <th>PDR_unweighted</th>\n",
       "      <th>thisMeth</th>\n",
       "      <th>mixedReadCount</th>\n",
       "      <th>total_reads</th>\n",
       "      <th>type</th>\n",
       "      <th>bio</th>\n",
       "      <th>protocol</th>\n",
       "      <th>total_cpg_no_filter</th>\n",
       "      <th>total_cpg_gtrthan1</th>\n",
       "      <th>total_cpg_gtrthan38</th>\n",
       "    </tr>\n",
       "  </thead>\n",
       "  <tbody>\n",
       "    <tr>\n",
       "      <th>1</th>\n",
       "      <td>RRBS_normal_B_cell_A1_24_TAAGGCGA.ACCGCG</td>\n",
       "      <td>0.531169</td>\n",
       "      <td>0.411448</td>\n",
       "      <td>0.620106</td>\n",
       "      <td>0.390562</td>\n",
       "      <td>1989048.0</td>\n",
       "      <td>1540734.0</td>\n",
       "      <td>3744659.0</td>\n",
       "      <td>normal</td>\n",
       "      <td>normal_B</td>\n",
       "      <td>normal_B_cell_A1_24</td>\n",
       "      <td>69078.0</td>\n",
       "      <td>69058.0</td>\n",
       "      <td>57061.0</td>\n",
       "    </tr>\n",
       "    <tr>\n",
       "      <th>126</th>\n",
       "      <td>RRBS_normal_B_cell_H1_22_TAGGCATG.CTCAGC</td>\n",
       "      <td>0.564256</td>\n",
       "      <td>0.300729</td>\n",
       "      <td>0.645135</td>\n",
       "      <td>0.284544</td>\n",
       "      <td>773682.0</td>\n",
       "      <td>412346.0</td>\n",
       "      <td>1371155.0</td>\n",
       "      <td>normal</td>\n",
       "      <td>normal_B</td>\n",
       "      <td>normal_B_cell_H1_22</td>\n",
       "      <td>72816.0</td>\n",
       "      <td>72799.0</td>\n",
       "      <td>60338.0</td>\n",
       "    </tr>\n",
       "    <tr>\n",
       "      <th>159</th>\n",
       "      <td>RRBS_NormalBCD19pCD27mcell23_44_GTAGAGGA.ACCGCG</td>\n",
       "      <td>0.450554</td>\n",
       "      <td>0.177824</td>\n",
       "      <td>0.586210</td>\n",
       "      <td>0.175492</td>\n",
       "      <td>346652.0</td>\n",
       "      <td>136816.0</td>\n",
       "      <td>769390.0</td>\n",
       "      <td>normal</td>\n",
       "      <td>CD19CD27m</td>\n",
       "      <td>NormalBCD19pCD27mcell23_44</td>\n",
       "      <td>95398.0</td>\n",
       "      <td>95393.0</td>\n",
       "      <td>80025.0</td>\n",
       "    </tr>\n",
       "    <tr>\n",
       "      <th>225</th>\n",
       "      <td>RRBS_NormalBCD19pCD27pcell1_22_TAGGCATG.ACCGCG</td>\n",
       "      <td>0.417533</td>\n",
       "      <td>0.308561</td>\n",
       "      <td>0.525005</td>\n",
       "      <td>0.317133</td>\n",
       "      <td>376315.0</td>\n",
       "      <td>278101.0</td>\n",
       "      <td>901283.0</td>\n",
       "      <td>normal</td>\n",
       "      <td>CD19CD27p</td>\n",
       "      <td>NormalBCD19pCD27pcell1_22_</td>\n",
       "      <td>88590.0</td>\n",
       "      <td>88584.0</td>\n",
       "      <td>73436.0</td>\n",
       "    </tr>\n",
       "    <tr>\n",
       "      <th>292</th>\n",
       "      <td>RRBS_NormalBCD19pCD27pcell67_88_GCTACGCT.ACCGCG</td>\n",
       "      <td>0.452662</td>\n",
       "      <td>0.298460</td>\n",
       "      <td>0.561306</td>\n",
       "      <td>0.304930</td>\n",
       "      <td>538864.0</td>\n",
       "      <td>355297.0</td>\n",
       "      <td>1190433.0</td>\n",
       "      <td>normal</td>\n",
       "      <td>CD19CD27p</td>\n",
       "      <td>NormalBCD19pCD27pcell67_88</td>\n",
       "      <td>84355.0</td>\n",
       "      <td>84343.0</td>\n",
       "      <td>69548.0</td>\n",
       "    </tr>\n",
       "    <tr>\n",
       "      <th>398</th>\n",
       "      <td>RRBS_NormalBCD19pcell67_88_TCCTGAGC.GTTGAG</td>\n",
       "      <td>0.394685</td>\n",
       "      <td>0.166073</td>\n",
       "      <td>0.535144</td>\n",
       "      <td>0.168153</td>\n",
       "      <td>315587.0</td>\n",
       "      <td>132791.0</td>\n",
       "      <td>799593.0</td>\n",
       "      <td>normal</td>\n",
       "      <td>CD19p</td>\n",
       "      <td>RRBS_NormalBCD19pcell67_88</td>\n",
       "      <td>91467.0</td>\n",
       "      <td>91461.0</td>\n",
       "      <td>78199.0</td>\n",
       "    </tr>\n",
       "    <tr>\n",
       "      <th>444</th>\n",
       "      <td>RRBS_cw154_Tris_protease_CTCTCTAC.TAGCGG</td>\n",
       "      <td>0.500082</td>\n",
       "      <td>0.420654</td>\n",
       "      <td>0.596881</td>\n",
       "      <td>0.386584</td>\n",
       "      <td>711059.0</td>\n",
       "      <td>598122.0</td>\n",
       "      <td>1421886.0</td>\n",
       "      <td>CLL</td>\n",
       "      <td>CLL</td>\n",
       "      <td>cw154_Tris_protease</td>\n",
       "      <td>77891.0</td>\n",
       "      <td>77882.0</td>\n",
       "      <td>65323.0</td>\n",
       "    </tr>\n",
       "    <tr>\n",
       "      <th>448</th>\n",
       "      <td>RRBS_cw154_Tris_protease_GR_CAGAGAGG.ACCGCG</td>\n",
       "      <td>0.537193</td>\n",
       "      <td>0.429048</td>\n",
       "      <td>0.628864</td>\n",
       "      <td>0.389734</td>\n",
       "      <td>400150.0</td>\n",
       "      <td>319594.0</td>\n",
       "      <td>744891.0</td>\n",
       "      <td>CLL</td>\n",
       "      <td>CLL</td>\n",
       "      <td>cw154_Tris_protease_GR</td>\n",
       "      <td>56706.0</td>\n",
       "      <td>56695.0</td>\n",
       "      <td>46212.0</td>\n",
       "    </tr>\n",
       "  </tbody>\n",
       "</table>\n",
       "</div>"
      ],
      "text/plain": [
       "                                            filename  methylation  PDR_total  \\\n",
       "1           RRBS_normal_B_cell_A1_24_TAAGGCGA.ACCGCG     0.531169   0.411448   \n",
       "126         RRBS_normal_B_cell_H1_22_TAGGCATG.CTCAGC     0.564256   0.300729   \n",
       "159  RRBS_NormalBCD19pCD27mcell23_44_GTAGAGGA.ACCGCG     0.450554   0.177824   \n",
       "225   RRBS_NormalBCD19pCD27pcell1_22_TAGGCATG.ACCGCG     0.417533   0.308561   \n",
       "292  RRBS_NormalBCD19pCD27pcell67_88_GCTACGCT.ACCGCG     0.452662   0.298460   \n",
       "398       RRBS_NormalBCD19pcell67_88_TCCTGAGC.GTTGAG     0.394685   0.166073   \n",
       "444         RRBS_cw154_Tris_protease_CTCTCTAC.TAGCGG     0.500082   0.420654   \n",
       "448      RRBS_cw154_Tris_protease_GR_CAGAGAGG.ACCGCG     0.537193   0.429048   \n",
       "\n",
       "     methylation_unweighted  PDR_unweighted   thisMeth  mixedReadCount  \\\n",
       "1                  0.620106        0.390562  1989048.0       1540734.0   \n",
       "126                0.645135        0.284544   773682.0        412346.0   \n",
       "159                0.586210        0.175492   346652.0        136816.0   \n",
       "225                0.525005        0.317133   376315.0        278101.0   \n",
       "292                0.561306        0.304930   538864.0        355297.0   \n",
       "398                0.535144        0.168153   315587.0        132791.0   \n",
       "444                0.596881        0.386584   711059.0        598122.0   \n",
       "448                0.628864        0.389734   400150.0        319594.0   \n",
       "\n",
       "     total_reads    type        bio                    protocol  \\\n",
       "1      3744659.0  normal   normal_B         normal_B_cell_A1_24   \n",
       "126    1371155.0  normal   normal_B         normal_B_cell_H1_22   \n",
       "159     769390.0  normal  CD19CD27m  NormalBCD19pCD27mcell23_44   \n",
       "225     901283.0  normal  CD19CD27p  NormalBCD19pCD27pcell1_22_   \n",
       "292    1190433.0  normal  CD19CD27p  NormalBCD19pCD27pcell67_88   \n",
       "398     799593.0  normal      CD19p  RRBS_NormalBCD19pcell67_88   \n",
       "444    1421886.0     CLL        CLL         cw154_Tris_protease   \n",
       "448     744891.0     CLL        CLL      cw154_Tris_protease_GR   \n",
       "\n",
       "     total_cpg_no_filter  total_cpg_gtrthan1  total_cpg_gtrthan38  \n",
       "1                69078.0             69058.0              57061.0  \n",
       "126              72816.0             72799.0              60338.0  \n",
       "159              95398.0             95393.0              80025.0  \n",
       "225              88590.0             88584.0              73436.0  \n",
       "292              84355.0             84343.0              69548.0  \n",
       "398              91467.0             91461.0              78199.0  \n",
       "444              77891.0             77882.0              65323.0  \n",
       "448              56706.0             56695.0              46212.0  "
      ]
     },
     "execution_count": 103,
     "metadata": {},
     "output_type": "execute_result"
    }
   ],
   "source": [
    "#\n",
    "# List the 8 files difference between these two filters, >100K vs >50K\n",
    "#\n",
    "\n",
    "\n",
    "filtered438 = df[df[\"total_cpg_no_filter\"] > 100000]\n",
    "filtered446 = df[df[\"total_cpg_no_filter\"] > 50000]\n",
    "\n",
    "print(filtered438.shape)\n",
    "print(filtered446.shape)\n",
    "\n",
    "filtered446[(~filtered446.filename.isin(filtered438.filename))]"
   ]
  },
  {
   "cell_type": "code",
   "execution_count": null,
   "metadata": {
    "collapsed": true
   },
   "outputs": [],
   "source": []
  },
  {
   "cell_type": "code",
   "execution_count": null,
   "metadata": {
    "collapsed": true
   },
   "outputs": [],
   "source": []
  }
 ],
 "metadata": {
  "kernelspec": {
   "display_name": "Python 3",
   "language": "python",
   "name": "python3"
  },
  "language_info": {
   "codemirror_mode": {
    "name": "ipython",
    "version": 3
   },
   "file_extension": ".py",
   "mimetype": "text/x-python",
   "name": "python",
   "nbconvert_exporter": "python",
   "pygments_lexer": "ipython3",
   "version": "3.4.5"
  }
 },
 "nbformat": 4,
 "nbformat_minor": 0
}
