{
 "cells": [
  {
   "cell_type": "code",
   "execution_count": null,
   "metadata": {
    "collapsed": true
   },
   "outputs": [],
   "source": [
    "%matplotlib inline"
   ]
  },
  {
   "cell_type": "code",
   "execution_count": null,
   "metadata": {
    "collapsed": true
   },
   "outputs": [],
   "source": [
    "import glob\n",
    "import pandas as pd\n",
    "import numpy as np\n",
    "import seaborn as sns\n",
    "import matplotlib.pyplot as plt\n",
    "import matplotlib\n",
    "pd.set_option('display.max_columns', 50) # print all rows\n",
    "\n",
    "\n",
    "import os\n",
    "os.chdir('/Users/evanbiederstedt/Downloads/RRBS_data_files')"
   ]
  },
  {
   "cell_type": "code",
   "execution_count": null,
   "metadata": {
    "collapsed": true
   },
   "outputs": [],
   "source": [
    "stats = pd.read_csv(\"RRBS_anno_statistics_full_446files_filter50K.csv\")"
   ]
  },
  {
   "cell_type": "code",
   "execution_count": null,
   "metadata": {
    "collapsed": false
   },
   "outputs": [],
   "source": [
    "stats.shape"
   ]
  },
  {
   "cell_type": "code",
   "execution_count": null,
   "metadata": {
    "collapsed": false
   },
   "outputs": [],
   "source": [
    "normal = stats[stats[\"type\"]==\"normal\"]\n",
    "CLL = stats[stats[\"type\"]==\"CLL\"]"
   ]
  },
  {
   "cell_type": "code",
   "execution_count": null,
   "metadata": {
    "collapsed": false
   },
   "outputs": [],
   "source": [
    "len(normal)"
   ]
  },
  {
   "cell_type": "code",
   "execution_count": null,
   "metadata": {
    "collapsed": false
   },
   "outputs": [],
   "source": [
    "len(CLL)"
   ]
  },
  {
   "cell_type": "code",
   "execution_count": null,
   "metadata": {
    "collapsed": false
   },
   "outputs": [],
   "source": [
    "import seaborn as sns\n",
    "sns.set_style(\"whitegrid\")\n",
    "ax = sns.stripplot(x=stats[\"type\"], y=stats[\"methylation\"])\n",
    "sns.plt.title(\"Methylation per cell, normal vs CLL, all chromosomes, weighted\")\n",
    "plt.xlabel(\"Normal cells = 336 *.anno files; CLL cells = 102 *.anno files\")\n",
    "plt.ylabel(\"Percent Methylation, weighted\")"
   ]
  },
  {
   "cell_type": "code",
   "execution_count": null,
   "metadata": {
    "collapsed": false
   },
   "outputs": [],
   "source": [
    "import seaborn as sns\n",
    "sns.set_style(\"whitegrid\")\n",
    "ax = sns.stripplot(x=stats[\"type\"], y=stats[\"methylation\"], jitter=True)\n",
    "sns.plt.title(\"Methylation per cell, normal vs CLL, all chromosomes, weighted\")\n",
    "plt.xlabel(\"Normal cells = 336 *.anno files; CLL cells = 102 *.anno files\")\n",
    "plt.ylabel(\"Percent Methylation, weighted\")"
   ]
  },
  {
   "cell_type": "code",
   "execution_count": null,
   "metadata": {
    "collapsed": false
   },
   "outputs": [],
   "source": [
    "ax = sns.violinplot(x=stats[\"type\"],  y=stats[\"methylation\"])\n",
    "sns.plt.title(\"Violin plot: Methylation per cell, normal vs CLL\")\n",
    "plt.xlabel(\"Normal cells = 336 *.anno files; CLL cells = 102 *.anno files\")\n",
    "plt.ylabel(\"Percent Methylation, weighted\")\n",
    "print(\"violin plot features a kernel density estimation of the underlying distribution\")"
   ]
  },
  {
   "cell_type": "code",
   "execution_count": null,
   "metadata": {
    "collapsed": false
   },
   "outputs": [],
   "source": [
    "ax = sns.boxplot(x=stats[\"type\"],y=stats[\"methylation\"], linewidth=1.5)\n",
    "sns.plt.title(\"Box Whisker plot: Methylation per cell, normal vs CLL\")\n",
    "plt.xlabel(\"Normal cells = 336 *.anno files; CLL cells = 102 *.anno files\")\n",
    "plt.ylabel(\"Percent Methylation, weighted\")\n",
    "print(\"Box whisker plot\")"
   ]
  },
  {
   "cell_type": "code",
   "execution_count": null,
   "metadata": {
    "collapsed": false
   },
   "outputs": [],
   "source": [
    "ax = sns.boxplot(x=stats[\"type\"],y=stats[\"methylation\"], linewidth=1.5)\n",
    "sns.plt.title(\"Violin plot: Methylation per cell, normal vs CLL\")\n",
    "plt.xlabel(\"Normal cells = 336 *.anno files; CLL cells = 102 *.anno files\")\n",
    "plt.ylabel(\"Percent Methylation, weighted\")\n",
    "print(\"Box whisker plot\")\n",
    "#plt.ylim(0.35, 0.7)"
   ]
  },
  {
   "cell_type": "code",
   "execution_count": null,
   "metadata": {
    "collapsed": false
   },
   "outputs": [],
   "source": [
    "ax = sns.boxplot(y=stats[\"type\"], x=stats[\"methylation\"], linewidth=1.5)\n",
    "sns.plt.title(\"Methylation per cell, normal vs CLL, all chromosomes, weighted\")\n",
    "plt.xlabel(\"Normal cells = 336 *.anno files; CLL cells = 102 *.anno files\")\n",
    "plt.ylabel(\"Cell Type: Normal cells vs. CLL samples\")"
   ]
  },
  {
   "cell_type": "code",
   "execution_count": null,
   "metadata": {
    "collapsed": false
   },
   "outputs": [],
   "source": [
    "ax = sns.boxplot(x=stats[\"type\"], y=stats[\"methylation\"], linewidth=1.5)\n",
    "ax = sns.stripplot(x=stats[\"type\"], y=stats[\"methylation\"], color=\".25\", linewidth=1.5, jitter=True)\n",
    "sns.plt.title(\"Methylation per cell, normal vs CLL, all chromosomes, weighted\")\n",
    "plt.xlabel(\"Normal cells = 336 *.anno files; CLL cells = 102 *.anno files\")"
   ]
  },
  {
   "cell_type": "code",
   "execution_count": null,
   "metadata": {
    "collapsed": true
   },
   "outputs": [],
   "source": [
    "combined = stats"
   ]
  },
  {
   "cell_type": "code",
   "execution_count": null,
   "metadata": {
    "collapsed": false
   },
   "outputs": [],
   "source": [
    "ax = sns.boxplot(y=combined[\"type\"],  x=combined[\"methylation\"], linewidth=1.5)\n",
    "ax = sns.stripplot(y=combined[\"type\"], x=combined[\"methylation\"], color=\".25\", linewidth=1.5, jitter=True)\n",
    "sns.plt.title(\"Methylation per cell, normal vs CLL, all chromosomes, weighted\")\n",
    "plt.xlabel(\"Normal cells = 336 *.anno files; CLL cells = 102 *.anno files\")\n",
    "plt.ylabel(\"Percent Methylation, weighted\")"
   ]
  },
  {
   "cell_type": "code",
   "execution_count": null,
   "metadata": {
    "collapsed": false
   },
   "outputs": [],
   "source": [
    "ax = sns.boxplot(x=combined[\"type\"], y=combined[\"methylation\"], linewidth=1.5)\n",
    "ax = sns.swarmplot(x=combined[\"type\"], y=combined[\"methylation\"], color=\".25\", linewidth=1.5)\n",
    "sns.plt.title(\"Methylation per cell, normal vs CLL, all chromosomes, weighted\")\n",
    "plt.xlabel(\"Normal cells = 336 *.anno files; CLL cells = 102 *.anno files\")\n",
    "plt.ylabel(\"Percent Methylation, weighted\")"
   ]
  },
  {
   "cell_type": "code",
   "execution_count": null,
   "metadata": {
    "collapsed": false
   },
   "outputs": [],
   "source": [
    "ax = sns.boxplot(y=combined[\"type\"], x=combined[\"methylation\"], linewidth=1.5)\n",
    "ax = sns.swarmplot(y=combined[\"type\"], x=combined[\"methylation\"], color=\".25\", linewidth=1.5)\n",
    "sns.plt.title(\"Methylation per cell, normal vs CLL, all chromosomes, weighted\")\n",
    "plt.xlabel(\"Normal cells = 336 *.anno files; CLL cells = 102 *.anno files\")\n",
    "plt.ylabel(\"Percent Methylation, weighted\")\n"
   ]
  },
  {
   "cell_type": "code",
   "execution_count": null,
   "metadata": {
    "collapsed": false
   },
   "outputs": [],
   "source": [
    "ax = sns.boxplot(y=combined[\"type\"], x=combined[\"methylation\"], linewidth=1.5)\n",
    "ax = sns.swarmplot(y=combined[\"type\"], x=combined[\"methylation\"], color=\".25\", linewidth=1.5)\n",
    "sns.plt.title(\"Methylation per cell, normal vs CLL, all chromosomes, weighted\")\n",
    "plt.xlabel(\"Normal cells = 336 *.anno files; CLL cells = 102 *.anno files\")\n",
    "plt.ylabel(\"Percent Methylation, weighted\")\n"
   ]
  },
  {
   "cell_type": "code",
   "execution_count": null,
   "metadata": {
    "collapsed": true
   },
   "outputs": [],
   "source": [
    "combined2 = stats"
   ]
  },
  {
   "cell_type": "code",
   "execution_count": null,
   "metadata": {
    "collapsed": false
   },
   "outputs": [],
   "source": [
    "import seaborn as sns\n",
    "sns.set_style(\"whitegrid\")\n",
    "ax = sns.stripplot(x=combined2[\"type\"], y=combined2[\"methylation\"], hue=combined2.bio)\n",
    "sns.plt.title(\"Biological sorting: Methylation per cell, normal vs CLL, all chromosomes, weighted\")\n",
    "plt.xlabel(\"Normal cells = 336 *.anno files; CLL cells = 102 *.anno files\")\n",
    "plt.legend(bbox_to_anchor=(1.05, 1), loc=2)\n",
    "plt.ylabel(\"Percent Methylation, weighted\")"
   ]
  },
  {
   "cell_type": "code",
   "execution_count": null,
   "metadata": {
    "collapsed": false
   },
   "outputs": [],
   "source": [
    "import seaborn as sns\n",
    "sns.set(style=\"whitegrid\", palette=\"muted\")\n",
    "ax = sns.stripplot(x=combined2[\"type\"], y=combined2[\"methylation\"], hue=combined2.bio, \n",
    "                   jitter=True, palette=dict(normal_B = 'b', CD19CD27m = 'g', CD19CD27p = 'r', CLL='m', CD19p = 'c'))\n",
    "sns.plt.title(\"Biological sorting: Methylation per cell, normal vs CLL, all chromosomes, weighted\")\n",
    "plt.xlabel(\"Normal cells = 336 *.anno files; CLL cells = 102 *.anno files\")\n",
    "plt.ylabel(\"Percent Methylation, weighted\")\n",
    "plt.legend(bbox_to_anchor=(1.05, 1), loc=2)\n"
   ]
  },
  {
   "cell_type": "code",
   "execution_count": null,
   "metadata": {
    "collapsed": false
   },
   "outputs": [],
   "source": [
    "import seaborn as sns\n",
    "sns.set_style(\"whitegrid\")\n",
    "ax = sns.stripplot(x=combined2[\"type\"], y=combined2[\"methylation\"], hue=combined2.bio, jitter=True)\n",
    "sns.plt.title(\"Biological sorting: Methylation per cell, normal vs CLL, all chromosomes, weighted\")\n",
    "plt.xlabel(\"Normal cells = 336 *.anno files; CLL cells = 102 *.anno files\")\n",
    "plt.legend(bbox_to_anchor=(1.05, 1), loc=2)\n",
    "plt.ylabel(\"Percent Methylation, weighted\")"
   ]
  },
  {
   "cell_type": "code",
   "execution_count": null,
   "metadata": {
    "collapsed": false
   },
   "outputs": [],
   "source": [
    "ax = sns.boxplot(x=combined2[\"type\"],y=combined2[\"methylation\"], linewidth=1.5)\n",
    "plt.ylim(0.15,0.8)\n",
    "sns.set_style(\"whitegrid\")\n",
    "ax = sns.stripplot(x=combined2[\"type\"], y=combined2[\"methylation\"], hue=combined2.bio, jitter=True, linewidth=1.5)\n",
    "sns.plt.title(\"Biological sorting: Methylation per cell, normal vs CLL, all chromosomes, weighted\")\n",
    "plt.xlabel(\"Normal cells = 336 *.anno files; CLL cells = 102 *.anno files\")\n",
    "plt.ylabel(\"Percent Methylation, weighted\")\n",
    "plt.legend(bbox_to_anchor=(1.05, 1), loc=2)"
   ]
  },
  {
   "cell_type": "code",
   "execution_count": null,
   "metadata": {
    "collapsed": false
   },
   "outputs": [],
   "source": [
    "combined2.boxplot(column = 'methylation', by='type', fontsize=13)\n",
    "\n",
    "sns.set_style(\"whitegrid\")\n",
    "ax = sns.stripplot(x=combined2[\"type\"], y=combined2[\"methylation\"], hue=combined2.bio, jitter=True, linewidth=1.5)\n",
    "sns.plt.title(\"Biological sorting: Methylation per cell, normal vs CLL, all chromosomes, weighted\")\n",
    "plt.xlabel(\"Normal cells = 336 *.anno files; CLL cells = 102 *.anno files\")\n",
    "plt.ylabel(\"Percent Methylation, weighted\")\n",
    "plt.legend(bbox_to_anchor=(1.05, 1), loc=2)"
   ]
  },
  {
   "cell_type": "code",
   "execution_count": null,
   "metadata": {
    "collapsed": false
   },
   "outputs": [],
   "source": [
    "combined2.boxplot(column = 'methylation', by='type', fontsize=13)\n",
    "plt.title('corrected')"
   ]
  },
  {
   "cell_type": "code",
   "execution_count": null,
   "metadata": {
    "collapsed": false
   },
   "outputs": [],
   "source": [
    "ax = sns.violinplot(x=combined2[\"type\"],y=combined2[\"methylation\"], palette=\"Set3\")\n",
    "sns.set_style(\"whitegrid\")\n",
    "ax = sns.stripplot(x=combined2[\"type\"], y=combined2[\"methylation\"], hue=combined2.bio, jitter=True, linewidth=1.5)\n",
    "sns.plt.title(\"Biological sorting: Methylation per cell, normal vs CLL, all chromosomes, weighted\")\n",
    "plt.xlabel(\"Normal cells = 336 *.anno files; CLL cells = 102 *.anno files\")\n",
    "plt.ylabel(\"Percent Methylation, weighted\")\n",
    "plt.legend(bbox_to_anchor=(1.05, 1), loc=2)"
   ]
  },
  {
   "cell_type": "code",
   "execution_count": null,
   "metadata": {
    "collapsed": false
   },
   "outputs": [],
   "source": [
    "sns.set_style(\"whitegrid\")\n",
    "ax = sns.stripplot(x=combined2[\"type\"], y=combined2[\"methylation\"], hue=combined2.protocol, jitter=True)\n",
    "sns.plt.title(\"Technical/protocol sorting: Methylation per cell, normal vs CLL, all chromosomes, weighted\")\n",
    "plt.xlabel(\"Normal cells = 336 *.anno files; CLL cells = 102 *.anno files\")\n",
    "plt.ylabel(\"Percent Methylation, weighted\")\n",
    "plt.legend(bbox_to_anchor=(1.05, 1), loc=2)"
   ]
  },
  {
   "cell_type": "code",
   "execution_count": null,
   "metadata": {
    "collapsed": false
   },
   "outputs": [],
   "source": [
    "sns.set_style(\"whitegrid\")\n",
    "ax = sns.stripplot(x=combined2[\"type\"],y=combined2[\"methylation\"], hue=combined2.protocol, jitter=True, linewidth=1.0)\n",
    "sns.plt.title(\"Technical/protocol sorting: Methylation per cell, normal vs CLL, all chromosomes, weighted\")\n",
    "plt.xlabel(\"Normal cells = 336 *.anno files; CLL cells = 102 *.anno files\")\n",
    "plt.ylabel(\"Percent Methylation, weighted\")\n",
    "plt.legend(bbox_to_anchor=(1.05, 1), loc=2)"
   ]
  },
  {
   "cell_type": "code",
   "execution_count": null,
   "metadata": {
    "collapsed": false
   },
   "outputs": [],
   "source": [
    "ax = sns.violinplot(x=combined2[\"type\"], y=combined2[\"methylation\"], palette=\"Set1\")\n",
    "sns.set_style(\"whitegrid\")\n",
    "ax = sns.stripplot(x=combined2[\"type\"], y=combined2[\"methylation\"], hue=combined2.protocol, jitter=True, linewidth=1.0)\n",
    "sns.plt.title(\"Technical/protocol sorting: Methylation per cell, normal vs CLL, all chromosomes, weighted\")\n",
    "plt.xlabel(\"Normal cells = 336 *.anno files; CLL cells = 102 *.anno files\")\n",
    "plt.ylabel(\"Percent Methylation, weighted\")\n",
    "plt.legend(bbox_to_anchor=(1.05, 1), loc=2)"
   ]
  },
  {
   "cell_type": "code",
   "execution_count": null,
   "metadata": {
    "collapsed": false
   },
   "outputs": [],
   "source": [
    "ax = sns.boxplot(x=combined[\"type\"], y=combined[\"methylation\"], linewidth=1.5)\n",
    "ax = sns.stripplot(x=combined[\"type\"], y=combined[\"methylation\"], color=\".25\", linewidth=1.5, jitter=True)\n",
    "sns.plt.title(\"Methylation per cell, normal vs CLL, all chromosomes, weighted\")\n",
    "plt.xlabel(\"Normal cells = 336 *.anno files; CLL cells = 102 *.anno files\")"
   ]
  },
  {
   "cell_type": "code",
   "execution_count": null,
   "metadata": {
    "collapsed": false
   },
   "outputs": [],
   "source": [
    "from scipy.stats import ttest_ind\n",
    "\n",
    "cat1 = combined[combined['type']=='CLL']\n",
    "cat2 = combined[combined['type']=='normal']\n",
    "\n",
    "t, p = ttest_ind(cat1.methylation, cat2.methylation)\n",
    "print(str(\"t-statistic is \") + str(t))\n",
    "print(str(\"p-value is \") + str(p))\n"
   ]
  },
  {
   "cell_type": "code",
   "execution_count": null,
   "metadata": {
    "collapsed": false
   },
   "outputs": [],
   "source": [
    "import scipy.stats\n",
    "z, p = scipy.stats.mannwhitneyu(cat1.methylation, cat2.methylation)\n",
    "p_value = p * 2\n",
    "print(str(\"Mann-Whitney U statistic is \") + str(z))\n",
    "print(str(\"p-value is \") + str(p_value))"
   ]
  },
  {
   "cell_type": "code",
   "execution_count": null,
   "metadata": {
    "collapsed": false
   },
   "outputs": [],
   "source": [
    "sns.boxplot(x=\"bio\", y=\"methylation\", hue=\"type\", data=combined2, palette=\"PRGn\")\n",
    "sns.despine(offset=10, trim=True)"
   ]
  },
  {
   "cell_type": "code",
   "execution_count": null,
   "metadata": {
    "collapsed": false
   },
   "outputs": [],
   "source": [
    "sns.plt.title(\"Biological sorting: Methylation per cell, normal vs CLL, all chromosomes, weighted\")\n",
    "plt.xlabel(\"Normal cells = 336 *.anno files; CLL cells = 102 *.anno files\")\n",
    "sns.boxplot(x=\"bio\", y=\"methylation\", data=combined2)\n",
    "sns.despine(offset=10, trim=True)"
   ]
  },
  {
   "cell_type": "code",
   "execution_count": null,
   "metadata": {
    "collapsed": false
   },
   "outputs": [],
   "source": [
    "sns.plt.title(\"Biological sorting: Methylation per cell, normal vs CLL, all chromosomes, weighted\")\n",
    "plt.xlabel(\"Normal cells = 336 *.anno files; CLL cells = 102 *.anno files\")\n",
    "sns.boxplot(x=\"bio\", y=\"methylation\", data=combined2)\n",
    "sns.stripplot(x=\"bio\", y=\"methylation\", data=combined2, color=\".25\", linewidth=0.5, jitter=True)\n",
    "sns.despine(offset=10, trim=True)"
   ]
  },
  {
   "cell_type": "code",
   "execution_count": null,
   "metadata": {
    "collapsed": false
   },
   "outputs": [],
   "source": [
    "sns.plt.title(\"Biological sorting: Methylation per cell, normal vs CLL, all chromosomes, weighted\")\n",
    "plt.xlabel(\"Normal cells = 336 *.anno files; CLL cells = 102 *.anno files\")\n",
    "sns.violinplot(x=\"bio\", y=\"methylation\", data=combined2)\n",
    "sns.despine(offset=10, trim=True)"
   ]
  },
  {
   "cell_type": "code",
   "execution_count": null,
   "metadata": {
    "collapsed": false
   },
   "outputs": [],
   "source": [
    "sns.plt.title(\"Biological sorting: Methylation per cell, normal vs CLL, all chromosomes, weighted\")\n",
    "sns.stripplot(x=\"bio\", y=\"methylation\", data=combined2, color=\".25\", linewidth=0.5, jitter=True)\n",
    "plt.xlabel(\"Normal cells = 336 *.anno files; CLL cells = 102 *.anno files\")\n",
    "sns.violinplot(x=\"bio\", y=\"methylation\", data=combined2)\n",
    "sns.despine(offset=10, trim=True)"
   ]
  },
  {
   "cell_type": "code",
   "execution_count": null,
   "metadata": {
    "collapsed": false
   },
   "outputs": [],
   "source": [
    "final_real2 = stats"
   ]
  },
  {
   "cell_type": "code",
   "execution_count": null,
   "metadata": {
    "collapsed": false
   },
   "outputs": [],
   "source": [
    "norm = final_real2[final_real2['type'] == 'normal']\n",
    "print(len(norm))\n",
    "cll = final_real2[final_real2['type'] == 'CLL']\n",
    "print(len(cll))"
   ]
  },
  {
   "cell_type": "code",
   "execution_count": null,
   "metadata": {
    "collapsed": false
   },
   "outputs": [],
   "source": [
    "ax = sns.boxplot(x=final_real2[\"type\"], y=final_real2[\"methylation\"], linewidth=1.5)\n",
    "ax = sns.stripplot(x=final_real2[\"type\"], y=final_real2[\"methylation\"], color=\".25\", linewidth=1.5, jitter=True)\n",
    "sns.plt.title(\"Methylation per cell, normal vs CLL, all chromosomes, weighted\")\n",
    "plt.xlabel(\"Normal cells = 336 *.anno files; CLL cells = 102 *.anno files\")"
   ]
  },
  {
   "cell_type": "code",
   "execution_count": null,
   "metadata": {
    "collapsed": false
   },
   "outputs": [],
   "source": [
    "print(norm['methylation'].mean())  # mean\n",
    "print(cll['methylation'].mean())\n",
    "\n",
    "print(norm['methylation'].std())   # standard deviation\n",
    "print(cll['methylation'].std())"
   ]
  },
  {
   "cell_type": "code",
   "execution_count": null,
   "metadata": {
    "collapsed": false
   },
   "outputs": [],
   "source": [
    "t, p = ttest_ind(norm.methylation, cll.methylation)\n",
    "print(str(\"t-statistic is \") + str(t))\n",
    "print(str(\"p-value is \") + str(p))\n",
    "\n",
    "#\n",
    "# The classic Student's t-test is a parametric test that only works when the data are normally distributed.\n",
    "# A good non-parametric alternative to the t-test is the Mann-Whitney U-test (called ranksum in matlab, \n",
    "#     or Wilcoxon test, or Man-Whitney-Wilcoxon)\n",
    "#\n",
    "import scipy.stats\n",
    "z, p = scipy.stats.mannwhitneyu(norm.methylation, cll.methylation)\n",
    "p_value = p * 2\n",
    "print(str(\"Mann-Whitney U statistic is \") + str(z))\n",
    "print(str(\"p-value is \") + str(p_value))"
   ]
  },
  {
   "cell_type": "code",
   "execution_count": null,
   "metadata": {
    "collapsed": false
   },
   "outputs": [],
   "source": [
    "ax = sns.boxplot(x=final_real2[\"type\"], y=final_real2[\"methylation\"], linewidth=1.5)\n",
    "ax = sns.stripplot(x=final_real2[\"type\"], y=final_real2[\"methylation\"], color=\".25\", linewidth=1.5, jitter=True)\n",
    "sns.plt.title(\"Methylation per cell, normal vs CLL, all chromosomes, weighted\")\n",
    "plt.xlabel(\"Normal cells = 336 *.anno files; CLL cells = 102 *.anno files\")\n",
    "x1, x2 = 0, 1   # columns 'Sat' and 'Sun' (first column: 0, see plt.xticks())\n",
    "y, h, col = final_real2[\"methylation\"].max() + .025, .01, 'k'\n",
    "plt.plot([x1, x1, x2, x2], [y, y+h, y+h, y], lw=1.5, c=col)\n",
    "plt.text((x1+x2)*.5, y+h, r'p = $3.56 \\times 10^{-20}$', ha='center', va='bottom', color=col)"
   ]
  },
  {
   "cell_type": "code",
   "execution_count": null,
   "metadata": {
    "collapsed": false
   },
   "outputs": [],
   "source": [
    "ax = sns.boxplot(x=final_real2[\"type\"], y=final_real2[\"PDR_total\"], linewidth=1.5)\n",
    "ax = sns.stripplot(x=final_real2[\"type\"], y=final_real2[\"PDR_total\"], color=\".25\", linewidth=1.5, jitter=True)\n",
    "sns.plt.title(\"PDR per cell, normal vs CLL, all chromosomes, weighted\")\n",
    "plt.xlabel(\"Normal cells = 336 *.anno files; CLL cells = 102 *.anno files\")\n",
    "plt.ylabel(\"PDR\")"
   ]
  },
  {
   "cell_type": "code",
   "execution_count": null,
   "metadata": {
    "collapsed": false
   },
   "outputs": [],
   "source": [
    "print(norm['PDR_total'].mean())  # mean\n",
    "print(cll['PDR_total'].mean())\n",
    "\n",
    "print(norm['PDR_total'].std())   # standard deviation\n",
    "print(cll['PDR_total'].std())"
   ]
  },
  {
   "cell_type": "code",
   "execution_count": null,
   "metadata": {
    "collapsed": false
   },
   "outputs": [],
   "source": [
    "t, p = ttest_ind(norm.PDR_total, cll.PDR_total)\n",
    "print(str(\"t-statistic is \") + str(t))\n",
    "print(str(\"p-value is \") + str(p))\n",
    "\n",
    "#\n",
    "# The classic Student's t-test is a parametric test that only works when the data are normally distributed.\n",
    "# A good non-parametric alternative to the t-test is the Mann-Whitney U-test (called ranksum in matlab, \n",
    "#     or Wilcoxon test, or Man-Whitney-Wilcoxon)\n",
    "#\n",
    "import scipy.stats\n",
    "z, p = scipy.stats.mannwhitneyu(norm.PDR_total, cll.PDR_total)\n",
    "p_value = p * 2\n",
    "print(str(\"Mann-Whitney U statistic is \") + str(z))\n",
    "print(str(\"p-value is \") + str(p_value))"
   ]
  },
  {
   "cell_type": "code",
   "execution_count": null,
   "metadata": {
    "collapsed": false
   },
   "outputs": [],
   "source": [
    "ax = sns.boxplot(x=final_real2[\"type\"], y=final_real2[\"PDR_total\"], linewidth=1.5)\n",
    "ax = sns.stripplot(x=final_real2[\"type\"], y=final_real2[\"PDR_total\"], color=\".25\", linewidth=1.5, jitter=True)\n",
    "sns.plt.title(\"PDR per cell, normal vs CLL, all chromosomes, weighted\")\n",
    "plt.xlabel(\"Normal cells = 336 *.anno files; CLL cells = 102 *.anno files\")\n",
    "x1, x2 = 0, 1   # columns 'Sat' and 'Sun' (first column: 0, see plt.xticks())\n",
    "y, h, col = final_real2[\"PDR_total\"].max() + .025, .01, 'k'\n",
    "plt.plot([x1, x1, x2, x2], [y, y+h, y+h, y], lw=1.5, c=col)\n",
    "plt.text((x1+x2)*.5, y+h, r'p = $1.30 \\times 10^{-31}$', ha='center', va='bottom', color=col)\n",
    "plt.ylabel(\"PDR\")\n",
    "plt.savefig('PDR_normal_CLL_weighted.eps', format='eps', dpi=1000000)"
   ]
  },
  {
   "cell_type": "code",
   "execution_count": null,
   "metadata": {
    "collapsed": false
   },
   "outputs": [],
   "source": [
    "ax = sns.boxplot(x=final_real2[\"type\"], y=final_real2[\"methylation_unweighted\"], linewidth=1.5)\n",
    "ax = sns.stripplot(x=final_real2[\"type\"], y=final_real2[\"methylation_unweighted\"], color=\".25\", linewidth=1.5, jitter=True)\n",
    "sns.plt.title(\"Methylation per cell, normal vs CLL, all chromosomes, weighted\")\n",
    "plt.xlabel(\"Normal cells = 336 *.anno files; CLL cells = 102 *.anno files\")"
   ]
  },
  {
   "cell_type": "code",
   "execution_count": null,
   "metadata": {
    "collapsed": false
   },
   "outputs": [],
   "source": [
    "print(norm['methylation_unweighted'].mean())  # mean\n",
    "print(cll['methylation_unweighted'].mean())\n",
    "\n",
    "print(norm['methylation_unweighted'].std())   # standard deviation\n",
    "print(cll['methylation_unweighted'].std())"
   ]
  },
  {
   "cell_type": "code",
   "execution_count": null,
   "metadata": {
    "collapsed": false
   },
   "outputs": [],
   "source": [
    "t, p = ttest_ind(norm.methylation_unweighted, cll.methylation_unweighted)\n",
    "print(str(\"t-statistic is \") + str(t))\n",
    "print(str(\"p-value is \") + str(p))\n",
    "\n",
    "#\n",
    "# The classic Student's t-test is a parametric test that only works when the data are normally distributed.\n",
    "# A good non-parametric alternative to the t-test is the Mann-Whitney U-test (called ranksum in matlab, \n",
    "#     or Wilcoxon test, or Man-Whitney-Wilcoxon)\n",
    "#\n",
    "import scipy.stats\n",
    "z, p = scipy.stats.mannwhitneyu(norm.methylation_unweighted, cll.methylation_unweighted)\n",
    "p_value = p * 2\n",
    "print(str(\"Mann-Whitney U statistic is \") + str(z))\n",
    "print(str(\"p-value is \") + str(p_value))"
   ]
  },
  {
   "cell_type": "code",
   "execution_count": null,
   "metadata": {
    "collapsed": false
   },
   "outputs": [],
   "source": [
    "ax = sns.boxplot(x=final_real2[\"type\"], y=final_real2[\"methylation_unweighted\"], linewidth=1.5)\n",
    "ax = sns.stripplot(x=final_real2[\"type\"], y=final_real2[\"methylation_unweighted\"], color=\".25\", linewidth=1.5, jitter=True)\n",
    "sns.plt.title(\"Methylation per cell, normal vs CLL, all chromosomes, unweighted\")\n",
    "plt.xlabel(\"Normal cells = 336 *.anno files; CLL cells = 102 *.anno files\")\n",
    "x1, x2 = 0, 1   # columns 'Sat' and 'Sun' (first column: 0, see plt.xticks())\n",
    "y, h, col = final_real2[\"methylation_unweighted\"].max() + .025, .01, 'k'\n",
    "plt.plot([x1, x1, x2, x2], [y, y+h, y+h, y], lw=1.5, c=col)\n",
    "plt.text((x1+x2)*.5, y+h, r'p = $1.86 \\times 10^{-9}$', ha='center', va='bottom', color=col)\n",
    "plt.ylabel(\"Methylation\")"
   ]
  },
  {
   "cell_type": "code",
   "execution_count": null,
   "metadata": {
    "collapsed": false
   },
   "outputs": [],
   "source": [
    "ax = sns.boxplot(x=final_real2[\"type\"], y=final_real2[\"PDR_unweighted\"], linewidth=1.5)\n",
    "ax = sns.stripplot(x=final_real2[\"type\"], y=final_real2[\"PDR_unweighted\"], color=\".25\", linewidth=1.5, jitter=True)\n",
    "sns.plt.title(\"PDR per cell, normal vs CLL, all chromosomes, unweighted\")\n",
    "plt.xlabel(\"Normal cells = 336 *.anno files; CLL cells = 102 *.anno files\")\n",
    "plt.ylabel(\"PDR\")"
   ]
  },
  {
   "cell_type": "code",
   "execution_count": null,
   "metadata": {
    "collapsed": false
   },
   "outputs": [],
   "source": [
    "print(norm['PDR_unweighted'].mean())  # mean\n",
    "print(cll['PDR_unweighted'].mean())\n",
    "\n",
    "print(norm['PDR_unweighted'].std())   # standard deviation\n",
    "print(cll['PDR_unweighted'].std())"
   ]
  },
  {
   "cell_type": "code",
   "execution_count": null,
   "metadata": {
    "collapsed": false
   },
   "outputs": [],
   "source": [
    "t, p = ttest_ind(norm.PDR_unweighted, cll.PDR_unweighted)\n",
    "print(str(\"t-statistic is \") + str(t))\n",
    "print(str(\"p-value is \") + str(p))\n",
    "\n",
    "#\n",
    "# The classic Student's t-test is a parametric test that only works when the data are normally distributed.\n",
    "# A good non-parametric alternative to the t-test is the Mann-Whitney U-test (called ranksum in matlab, \n",
    "#     or Wilcoxon test, or Man-Whitney-Wilcoxon)\n",
    "#\n",
    "import scipy.stats\n",
    "z, p = scipy.stats.mannwhitneyu(norm.PDR_unweighted, cll.PDR_unweighted)\n",
    "p_value = p * 2\n",
    "print(str(\"Mann-Whitney U statistic is \") + str(z))\n",
    "print(str(\"p-value is \") + str(p_value))"
   ]
  },
  {
   "cell_type": "code",
   "execution_count": null,
   "metadata": {
    "collapsed": false
   },
   "outputs": [],
   "source": [
    "ax = sns.boxplot(x=final_real2[\"type\"], y=final_real2[\"PDR_unweighted\"], linewidth=1.5)\n",
    "ax = sns.stripplot(x=final_real2[\"type\"], y=final_real2[\"PDR_unweighted\"], color=\".25\", linewidth=1.5, jitter=True)\n",
    "sns.plt.title(\"PDR per cell, normal vs CLL, all chromosomes, unweighted\")\n",
    "plt.xlabel(\"Normal cells = 336 *.anno files; CLL cells = 102 *.anno files\")\n",
    "x1, x2 = 0, 1   # columns 'Sat' and 'Sun' (first column: 0, see plt.xticks())\n",
    "y, h, col = final_real2[\"PDR_unweighted\"].max() + .025, .01, 'k'\n",
    "plt.plot([x1, x1, x2, x2], [y, y+h, y+h, y], lw=1.5, c=col)\n",
    "plt.text((x1+x2)*.5, y+h, r'p = $1.11 \\times 10^{-29}$', ha='center', va='bottom', color=col)\n",
    "plt.ylabel(\"PDR\")"
   ]
  },
  {
   "cell_type": "code",
   "execution_count": null,
   "metadata": {
    "collapsed": false
   },
   "outputs": [],
   "source": [
    "CD27p = final_real2[final_real2['bio'] == 'CD19CD27p']\n",
    "print(len(CD27p))\n",
    "CD27m = final_real2[final_real2['bio'] == 'CD19CD27m']\n",
    "print(len(CD27m))"
   ]
  },
  {
   "cell_type": "code",
   "execution_count": null,
   "metadata": {
    "collapsed": true
   },
   "outputs": [],
   "source": [
    "# CD19CD27m\n",
    "\n",
    "CD27cells = pd.concat([CD27p, CD27m])"
   ]
  },
  {
   "cell_type": "code",
   "execution_count": null,
   "metadata": {
    "collapsed": true
   },
   "outputs": [],
   "source": [
    "CD27cells = CD27cells.reset_index(drop=True)"
   ]
  },
  {
   "cell_type": "code",
   "execution_count": null,
   "metadata": {
    "collapsed": false
   },
   "outputs": [],
   "source": [
    "ax = sns.boxplot(x=CD27cells[\"bio\"], y=CD27cells[\"methylation\"], linewidth=1.5, palette='Set2')\n",
    "ax = sns.stripplot(x=CD27cells[\"bio\"], y=CD27cells[\"methylation\"], color=\".25\", linewidth=1.5, jitter=True)\n",
    "sns.plt.title(\"Methylation per cell, CD27p vs. CD27m, all chromosomes, weighted\")\n",
    "plt.xlabel(\"CD27p = 68 *.anno files; CD27m = 74 *.anno files\")\n",
    "plt.ylabel(\"Methylation\")"
   ]
  },
  {
   "cell_type": "code",
   "execution_count": null,
   "metadata": {
    "collapsed": false
   },
   "outputs": [],
   "source": [
    "print(CD27p['methylation'].mean())  # mean\n",
    "print(CD27m['methylation'].mean())\n",
    "\n",
    "print(CD27p['methylation'].std())   # standard deviation\n",
    "print(CD27m['methylation'].std())"
   ]
  },
  {
   "cell_type": "code",
   "execution_count": null,
   "metadata": {
    "collapsed": false
   },
   "outputs": [],
   "source": [
    "t, p = ttest_ind(CD27p.methylation, CD27m.methylation)\n",
    "print(str(\"t-statistic is \") + str(t))\n",
    "print(str(\"p-value is \") + str(p))\n",
    "\n",
    "#\n",
    "# The classic Student's t-test is a parametric test that only works when the data are normally distributed.\n",
    "# A good non-parametric alternative to the t-test is the Mann-Whitney U-test (called ranksum in matlab, \n",
    "#     or Wilcoxon test, or Man-Whitney-Wilcoxon)\n",
    "#\n",
    "import scipy.stats\n",
    "z, p = scipy.stats.mannwhitneyu(CD27p.methylation, CD27m.methylation)\n",
    "p_value = p * 2\n",
    "print(str(\"Mann-Whitney U statistic is \") + str(z))\n",
    "print(str(\"p-value is \") + str(p_value))"
   ]
  },
  {
   "cell_type": "code",
   "execution_count": null,
   "metadata": {
    "collapsed": false
   },
   "outputs": [],
   "source": [
    "ax = sns.stripplot(x=CD27cells[\"bio\"], y=CD27cells[\"methylation\"], hue=CD27cells.protocol, linewidth=1.5, jitter=True)\n",
    "sns.plt.title(\"Methylation per cell, CD27p vs. CD27m, all chromosomes, weighted\")\n",
    "plt.xlabel(\"CD27p = 68 *.anno files; CD27m = 74 *.anno files\")\n",
    "plt.ylabel(\"Methylation\")\n",
    "plt.legend(bbox_to_anchor=(1.05, 1), loc=2)"
   ]
  },
  {
   "cell_type": "code",
   "execution_count": null,
   "metadata": {
    "collapsed": true
   },
   "outputs": [],
   "source": [
    "CD27p122 = CD27p[CD27p['protocol'] == 'NormalBCD19pCD27pcell1_22_']\n",
    "CD27p2344 = CD27p[CD27p['protocol'] == 'NormalBCD19pCD27pcell23_44']\n",
    "CD27p4566 = CD27p[CD27p['protocol'] == 'NormalBCD19pCD27pcell45_66']\n",
    "CD27p6788 = CD27p[CD27p['protocol'] == 'NormalBCD19pCD27pcell67_88']\n",
    "\n",
    "CD27m122 = CD27m[CD27m['protocol'] == 'NormalBCD19pCD27mcell1_22_']\n",
    "CD27m2344 = CD27m[CD27m['protocol'] == 'NormalBCD19pCD27mcell23_44']\n",
    "CD27m4566 = CD27m[CD27m['protocol'] == 'NormalBCD19pCD27mcell45_66']\n",
    "CD27m6788 = CD27m[CD27m['protocol'] == 'NormalBCD19pCD27mcell67_88']"
   ]
  },
  {
   "cell_type": "code",
   "execution_count": null,
   "metadata": {
    "collapsed": false
   },
   "outputs": [],
   "source": [
    "print(\"MEAN\")\n",
    "print(\"CD27p122\")\n",
    "print(CD27p122['methylation'].mean()) \n",
    "print(\"CD27p2344\")\n",
    "print(CD27p2344['methylation'].mean())\n",
    "print(\"CD27p4566\")\n",
    "print(CD27p4566['methylation'].mean()) \n",
    "print(\"CD27p6788\")\n",
    "print(CD27p6788['methylation'].mean())\n",
    "\n",
    "\n",
    "print(\"***\")\n",
    "print(\"CD27m122\")\n",
    "print(CD27m122['methylation'].mean()) \n",
    "print(\"CD27m2344\")\n",
    "print(CD27m2344['methylation'].mean())\n",
    "print(\"CD27m4566\")\n",
    "print(CD27m4566['methylation'].mean()) \n",
    "print(\"CD27m6788\")\n",
    "print(CD27m6788['methylation'].mean())"
   ]
  },
  {
   "cell_type": "code",
   "execution_count": null,
   "metadata": {
    "collapsed": false
   },
   "outputs": [],
   "source": [
    "print(\"total\")\n",
    "print(\"CD27p122\")\n",
    "print(len(CD27p122['methylation']))\n",
    "print(\"CD27p2344\")\n",
    "print(len(CD27p2344['methylation']))\n",
    "print(\"CD27p4566\")\n",
    "print(len(CD27p4566['methylation']))\n",
    "print(\"CD27p6788\")\n",
    "print(len(CD27p6788['methylation']))\n",
    "\n",
    "\n",
    "print(\"***\")\n",
    "print(\"CD27m122\")\n",
    "print(len(CD27m122['methylation']))\n",
    "print(\"CD27m2344\")\n",
    "print(len(CD27m2344['methylation']))\n",
    "print(\"CD27m4566\")\n",
    "print(len(CD27m4566['methylation']))\n",
    "print(\"CD27m6788\")\n",
    "print(len(CD27m6788['methylation']))"
   ]
  },
  {
   "cell_type": "code",
   "execution_count": null,
   "metadata": {
    "collapsed": false
   },
   "outputs": [],
   "source": [
    "print(\"STD\")\n",
    "print(\"CD27p122\")\n",
    "print(CD27p122['methylation'].std()) \n",
    "print(\"CD27p2344\")\n",
    "print(CD27p2344['methylation'].std())\n",
    "print(\"CD27p4566\")\n",
    "print(CD27p4566['methylation'].std()) \n",
    "print(\"CD27p6788\")\n",
    "print(CD27p6788['methylation'].std())\n",
    "\n",
    "\n",
    "print(\"***\")\n",
    "print(\"CD27m122\")\n",
    "print(CD27m122['methylation'].std()) \n",
    "print(\"CD27m2344\")\n",
    "print(CD27m2344['methylation'].std())\n",
    "print(\"CD27m4566\")\n",
    "print(CD27m4566['methylation'].std()) \n",
    "print(\"CD27m6788\")\n",
    "print(CD27m6788['methylation'].std())"
   ]
  },
  {
   "cell_type": "code",
   "execution_count": null,
   "metadata": {
    "collapsed": false
   },
   "outputs": [],
   "source": [
    "ax = sns.boxplot(x=CD27cells[\"protocol\"], y=CD27cells[\"methylation\"], linewidth=1.5, palette='Set2')\n",
    "ax = sns.stripplot(x=CD27cells[\"protocol\"], y=CD27cells[\"methylation\"], color=\".25\", linewidth=1.5, jitter=True)\n",
    "ax.xaxis.set_major_formatter(plt.NullFormatter())\n",
    "sns.plt.title(\"Methylation per cell, CD27p vs. CD27m, all chromosomes, weighted\")\n",
    "plt.xlabel(\"CD27p122 CD27p2344 CD27p4566 CD27p6788 CD27m122 CD27m2344 CD27m4566 CD27m6788\")\n",
    "plt.ylabel(\"Methylation\")"
   ]
  },
  {
   "cell_type": "code",
   "execution_count": null,
   "metadata": {
    "collapsed": false
   },
   "outputs": [],
   "source": [
    "ax = sns.boxplot(x=CD27p[\"protocol\"], y=CD27p[\"methylation\"], linewidth=1.5, palette='Set2')\n",
    "ax = sns.stripplot(x=CD27p[\"protocol\"], y=CD27p[\"methylation\"], color=\".25\", linewidth=1.5, jitter=True)\n",
    "ax.xaxis.set_major_formatter(plt.NullFormatter())\n",
    "sns.plt.title(\"Methylation per cell, CD27p, all chromosomes, weighted\")\n",
    "plt.xlabel(\"CD27p122 CD27p2344 CD27p4566 CD27p6788\")\n",
    "plt.ylabel(\"Methylation\")"
   ]
  },
  {
   "cell_type": "code",
   "execution_count": null,
   "metadata": {
    "collapsed": false
   },
   "outputs": [],
   "source": [
    "ax = sns.boxplot(x=CD27m[\"protocol\"], y=CD27m[\"methylation\"], linewidth=1.5, palette='Set1')\n",
    "ax = sns.stripplot(x=CD27m[\"protocol\"], y=CD27m[\"methylation\"], color=\".25\", linewidth=1.5, jitter=True)\n",
    "ax.xaxis.set_major_formatter(plt.NullFormatter())\n",
    "sns.plt.title(\"Methylation per cell, CD27m, all chromosomes, weighted\")\n",
    "plt.xlabel(\"CD27m122 CD27m2344 CD27m4566 CD27m6788\")\n",
    "plt.ylabel(\"Methylation\")"
   ]
  },
  {
   "cell_type": "code",
   "execution_count": null,
   "metadata": {
    "collapsed": false
   },
   "outputs": [],
   "source": [
    "print(\"MEAN: methylation unweighted\")\n",
    "print(\"CD27p122\")\n",
    "print(CD27p122['methylation_unweighted'].mean()) \n",
    "print(\"CD27p2344\")\n",
    "print(CD27p2344['methylation_unweighted'].mean())\n",
    "print(\"CD27p4566\")\n",
    "print(CD27p4566['methylation_unweighted'].mean()) \n",
    "print(\"CD27p6788\")\n",
    "print(CD27p6788['methylation_unweighted'].mean())\n",
    "\n",
    "\n",
    "print(\"***\")\n",
    "print(\"CD27m122\")\n",
    "print(CD27m122['methylation_unweighted'].mean()) \n",
    "print(\"CD27m2344\")\n",
    "print(CD27m2344['methylation_unweighted'].mean())\n",
    "print(\"CD27m4566\")\n",
    "print(CD27m4566['methylation_unweighted'].mean()) \n",
    "print(\"CD27m6788\")\n",
    "print(CD27m6788['methylation_unweighted'].mean())"
   ]
  },
  {
   "cell_type": "code",
   "execution_count": null,
   "metadata": {
    "collapsed": false
   },
   "outputs": [],
   "source": [
    "print(\"STD: methylation unweighted\")\n",
    "print(\"CD27p122\")\n",
    "print(CD27p122['methylation_unweighted'].std()) \n",
    "print(\"CD27p2344\")\n",
    "print(CD27p2344['methylation_unweighted'].std())\n",
    "print(\"CD27p4566\")\n",
    "print(CD27p4566['methylation_unweighted'].std()) \n",
    "print(\"CD27p6788\")\n",
    "print(CD27p6788['methylation_unweighted'].std())\n",
    "\n",
    "\n",
    "print(\"***\")\n",
    "print(\"CD27m122\")\n",
    "print(CD27m122['methylation_unweighted'].std()) \n",
    "print(\"CD27m2344\")\n",
    "print(CD27m2344['methylation_unweighted'].std())\n",
    "print(\"CD27m4566\")\n",
    "print(CD27m4566['methylation_unweighted'].std()) \n",
    "print(\"CD27m6788\")\n",
    "print(CD27m6788['methylation_unweighted'].std())"
   ]
  },
  {
   "cell_type": "code",
   "execution_count": null,
   "metadata": {
    "collapsed": false
   },
   "outputs": [],
   "source": [
    "ax = sns.stripplot(x=CD27cells[\"bio\"], y=CD27cells[\"methylation_unweighted\"], hue=CD27cells.protocol, linewidth=1.5, jitter=True)\n",
    "sns.plt.title(\"Methylation per cell, CD27p vs. CD27m, all chromosomes, unweighted\")\n",
    "plt.xlabel(\"CD27p = 68 *.anno files; CD27m = 74 *.anno files\")\n",
    "plt.ylabel(\"Methylation\")\n",
    "plt.legend(bbox_to_anchor=(1.05, 1), loc=2)"
   ]
  },
  {
   "cell_type": "code",
   "execution_count": null,
   "metadata": {
    "collapsed": false
   },
   "outputs": [],
   "source": [
    "ax = sns.boxplot(x=CD27cells[\"protocol\"], y=CD27cells[\"methylation_unweighted\"], linewidth=1.5, palette='Set2')\n",
    "ax = sns.stripplot(x=CD27cells[\"protocol\"], y=CD27cells[\"methylation_unweighted\"], color=\".25\", linewidth=1.5, jitter=True)\n",
    "ax.xaxis.set_major_formatter(plt.NullFormatter())\n",
    "sns.plt.title(\"Methylation per cell, CD27p vs. CD27m, all chromosomes, unweighted\")\n",
    "plt.xlabel(\"CD27p122 CD27p2344 CD27p4566 CD27p6788 CD27m122 CD27m2344 CD27m4566 CD27m6788\")\n",
    "plt.ylabel(\"Methylation\")"
   ]
  },
  {
   "cell_type": "code",
   "execution_count": null,
   "metadata": {
    "collapsed": false
   },
   "outputs": [],
   "source": [
    "ax = sns.boxplot(x=CD27p[\"protocol\"], y=CD27p[\"methylation_unweighted\"], linewidth=1.5, palette='Set2')\n",
    "ax = sns.stripplot(x=CD27p[\"protocol\"], y=CD27p[\"methylation_unweighted\"], color=\".25\", linewidth=1.5, jitter=True)\n",
    "ax.xaxis.set_major_formatter(plt.NullFormatter())\n",
    "sns.plt.title(\"Methylation per cell, CD27p, all chromosomes, unweighted\")\n",
    "plt.xlabel(\"CD27p122 CD27p2344 CD27p4566 CD27p6788\")\n",
    "plt.ylabel(\"Methylation\")"
   ]
  },
  {
   "cell_type": "code",
   "execution_count": null,
   "metadata": {
    "collapsed": false
   },
   "outputs": [],
   "source": [
    "ax = sns.boxplot(x=CD27m[\"protocol\"], y=CD27m[\"methylation_unweighted\"], linewidth=1.5, palette='Set1')\n",
    "ax = sns.stripplot(x=CD27m[\"protocol\"], y=CD27m[\"methylation_unweighted\"], color=\".25\", linewidth=1.5, jitter=True)\n",
    "ax.xaxis.set_major_formatter(plt.NullFormatter())\n",
    "sns.plt.title(\"Methylation per cell, CD27m, all chromosomes, unweighted\")\n",
    "plt.xlabel(\"CD27m122 CD27m2344 CD27m4566 CD27m6788\")\n",
    "plt.ylabel(\"Methylation\")"
   ]
  },
  {
   "cell_type": "code",
   "execution_count": null,
   "metadata": {
    "collapsed": false
   },
   "outputs": [],
   "source": [
    "print(\"MEAN: PDR, weighted\")\n",
    "print(\"CD27p122\")\n",
    "print(CD27p122['PDR_total'].mean()) \n",
    "print(\"CD27p2344\")\n",
    "print(CD27p2344['PDR_total'].mean())\n",
    "print(\"CD27p4566\")\n",
    "print(CD27p4566['PDR_total'].mean()) \n",
    "print(\"CD27p6788\")\n",
    "print(CD27p6788['PDR_total'].mean())\n",
    "\n",
    "\n",
    "print(\"***\")\n",
    "print(\"CD27m122\")\n",
    "print(CD27m122['PDR_total'].mean()) \n",
    "print(\"CD27m2344\")\n",
    "print(CD27m2344['PDR_total'].mean())\n",
    "print(\"CD27m4566\")\n",
    "print(CD27m4566['PDR_total'].mean()) \n",
    "print(\"CD27m6788\")\n",
    "print(CD27m6788['PDR_total'].mean())\n",
    "\n",
    "print(\"***\")\n",
    "print(\"*** *** *** *** *** ***\")\n",
    "print(\"***\")\n",
    "\n",
    "print(\"STD: PDR, weighted\")\n",
    "print(\"CD27p122\")\n",
    "print(CD27p122['PDR_total'].std()) \n",
    "print(\"CD27p2344\")\n",
    "print(CD27p2344['PDR_total'].std())\n",
    "print(\"CD27p4566\")\n",
    "print(CD27p4566['PDR_total'].std()) \n",
    "print(\"CD27p6788\")\n",
    "print(CD27p6788['PDR_total'].std())\n",
    "\n",
    "\n",
    "print(\"***\")\n",
    "print(\"CD27m122\")\n",
    "print(CD27m122['PDR_total'].std()) \n",
    "print(\"CD27m2344\")\n",
    "print(CD27m2344['PDR_total'].std())\n",
    "print(\"CD27m4566\")\n",
    "print(CD27m4566['PDR_total'].std()) \n",
    "print(\"CD27m6788\")\n",
    "print(CD27m6788['PDR_total'].std())\n",
    "\n",
    "\n"
   ]
  },
  {
   "cell_type": "code",
   "execution_count": null,
   "metadata": {
    "collapsed": false
   },
   "outputs": [],
   "source": [
    "ax = sns.stripplot(x=CD27cells[\"bio\"], y=CD27cells[\"PDR_total\"], hue=CD27cells.protocol, linewidth=1.5, jitter=True)\n",
    "sns.plt.title(\"PDR total per cell, CD27p vs. CD27m, all chromosomes, weighted\")\n",
    "plt.xlabel(\"CD27p = 68 *.anno files; CD27m = 74 *.anno files\")\n",
    "plt.ylabel(\"PDR total, weighted\")\n",
    "plt.legend(bbox_to_anchor=(1.05, 1), loc=2)\n"
   ]
  },
  {
   "cell_type": "code",
   "execution_count": null,
   "metadata": {
    "collapsed": false
   },
   "outputs": [],
   "source": [
    "ax = sns.boxplot(x=CD27cells[\"protocol\"], y=CD27cells[\"PDR_total\"], linewidth=1.5, palette='Set2')\n",
    "ax = sns.stripplot(x=CD27cells[\"protocol\"], y=CD27cells[\"PDR_total\"], color=\".25\", linewidth=1.5, jitter=True)\n",
    "ax.xaxis.set_major_formatter(plt.NullFormatter())\n",
    "sns.plt.title(\"PDR total per cell, CD27p vs. CD27m, all chromosomes, weighted\")\n",
    "plt.xlabel(\"CD27p122 CD27p2344 CD27p4566 CD27p6788 CD27m122 CD27m2344 CD27m4566 CD27m6788\")\n",
    "plt.ylabel(\"PDR total, weighted\")"
   ]
  },
  {
   "cell_type": "code",
   "execution_count": null,
   "metadata": {
    "collapsed": false
   },
   "outputs": [],
   "source": [
    "ax = sns.boxplot(x=CD27p[\"protocol\"], y=CD27p[\"PDR_total\"], linewidth=1.5, palette='Set2')\n",
    "ax = sns.stripplot(x=CD27p[\"protocol\"], y=CD27p[\"PDR_total\"], color=\".25\", linewidth=1.5, jitter=True)\n",
    "ax.xaxis.set_major_formatter(plt.NullFormatter())\n",
    "sns.plt.title(\"PDR total per cell, CD27p, all chromosomes, weighted\")\n",
    "plt.xlabel(\"CD27p122 CD27p2344 CD27p4566 CD27p6788\")\n",
    "plt.ylabel(\"PDR total, weighted\")"
   ]
  },
  {
   "cell_type": "code",
   "execution_count": null,
   "metadata": {
    "collapsed": false
   },
   "outputs": [],
   "source": [
    "ax = sns.boxplot(x=CD27m[\"protocol\"], y=CD27m[\"PDR_total\"], linewidth=1.5, palette='Set1')\n",
    "ax = sns.stripplot(x=CD27m[\"protocol\"], y=CD27m[\"PDR_total\"], color=\".25\", linewidth=1.5, jitter=True)\n",
    "ax.xaxis.set_major_formatter(plt.NullFormatter())\n",
    "sns.plt.title(\"PDR total per cell, CD27m, all chromosomes, weighted\")\n",
    "plt.xlabel(\"CD27m122 CD27m2344 CD27m4566 CD27m6788\")\n",
    "plt.ylabel(\"PDR total, weighted\")"
   ]
  },
  {
   "cell_type": "code",
   "execution_count": null,
   "metadata": {
    "collapsed": false
   },
   "outputs": [],
   "source": [
    "print(\"MEAN: PDR, unweighted\")\n",
    "print(\"CD27p122\")\n",
    "print(CD27p122['PDR_unweighted'].mean()) \n",
    "print(\"CD27p2344\")\n",
    "print(CD27p2344['PDR_unweighted'].mean())\n",
    "print(\"CD27p4566\")\n",
    "print(CD27p4566['PDR_unweighted'].mean()) \n",
    "print(\"CD27p6788\")\n",
    "print(CD27p6788['PDR_unweighted'].mean())\n",
    "\n",
    "\n",
    "print(\"***\")\n",
    "print(\"CD27m122\")\n",
    "print(CD27m122['PDR_unweighted'].mean()) \n",
    "print(\"CD27m2344\")\n",
    "print(CD27m2344['PDR_unweighted'].mean())\n",
    "print(\"CD27m4566\")\n",
    "print(CD27m4566['PDR_unweighted'].mean()) \n",
    "print(\"CD27m6788\")\n",
    "print(CD27m6788['PDR_unweighted'].mean())\n",
    "\n",
    "print(\"***\")\n",
    "print(\"*** *** *** *** *** ***\")\n",
    "print(\"***\")\n",
    "\n",
    "print(\"STD: PDR, unweighted\")\n",
    "print(\"CD27p122\")\n",
    "print(CD27p122['PDR_unweighted'].std()) \n",
    "print(\"CD27p2344\")\n",
    "print(CD27p2344['PDR_unweighted'].std())\n",
    "print(\"CD27p4566\")\n",
    "print(CD27p4566['PDR_unweighted'].std()) \n",
    "print(\"CD27p6788\")\n",
    "print(CD27p6788['PDR_unweighted'].std())\n",
    "\n",
    "\n",
    "print(\"***\")\n",
    "print(\"CD27m122\")\n",
    "print(CD27m122['PDR_unweighted'].std()) \n",
    "print(\"CD27m2344\")\n",
    "print(CD27m2344['PDR_unweighted'].std())\n",
    "print(\"CD27m4566\")\n",
    "print(CD27m4566['PDR_unweighted'].std()) \n",
    "print(\"CD27m6788\")\n",
    "print(CD27m6788['PDR_unweighted'].std())"
   ]
  },
  {
   "cell_type": "code",
   "execution_count": null,
   "metadata": {
    "collapsed": false
   },
   "outputs": [],
   "source": [
    "ax = sns.stripplot(x=CD27cells[\"bio\"], y=CD27cells[\"PDR_unweighted\"], hue=CD27cells.protocol, linewidth=1.5, jitter=True)\n",
    "sns.plt.title(\"PDR per cell, CD27p vs. CD27m, all chromosomes, unweighted\")\n",
    "plt.xlabel(\"CD27p = 68 *.anno files; CD27m = 74 *.anno files\")\n",
    "plt.ylabel(\"PDR total, unweighted\")\n",
    "plt.legend(bbox_to_anchor=(1.05, 1), loc=2)"
   ]
  },
  {
   "cell_type": "code",
   "execution_count": null,
   "metadata": {
    "collapsed": false
   },
   "outputs": [],
   "source": [
    "ax = sns.boxplot(x=CD27cells[\"protocol\"], y=CD27cells[\"PDR_unweighted\"], linewidth=1.5, palette='Set2')\n",
    "ax = sns.stripplot(x=CD27cells[\"protocol\"], y=CD27cells[\"PDR_unweighted\"], color=\".25\", linewidth=1.5, jitter=True)\n",
    "ax.xaxis.set_major_formatter(plt.NullFormatter())\n",
    "sns.plt.title(\"PDR per cell, CD27p vs. CD27m, all chromosomes, unweighted\")\n",
    "plt.xlabel(\"CD27p122 CD27p2344 CD27p4566 CD27p6788 CD27m122 CD27m2344 CD27m4566 CD27m6788\")\n",
    "plt.ylabel(\"PDR, unweighted\")"
   ]
  },
  {
   "cell_type": "code",
   "execution_count": null,
   "metadata": {
    "collapsed": false
   },
   "outputs": [],
   "source": [
    "ax = sns.boxplot(x=CD27p[\"protocol\"], y=CD27p[\"PDR_unweighted\"], linewidth=1.5, palette='Set2')\n",
    "ax = sns.stripplot(x=CD27p[\"protocol\"], y=CD27p[\"PDR_unweighted\"], color=\".25\", linewidth=1.5, jitter=True)\n",
    "ax.xaxis.set_major_formatter(plt.NullFormatter())\n",
    "sns.plt.title(\"PDR per cell, CD27p, all chromosomes, unweighted\")\n",
    "plt.xlabel(\"CD27p122 CD27p2344 CD27p4566 CD27p6788\")\n",
    "plt.ylabel(\"PDR, unweighted\")"
   ]
  },
  {
   "cell_type": "code",
   "execution_count": null,
   "metadata": {
    "collapsed": false
   },
   "outputs": [],
   "source": [
    "ax = sns.boxplot(x=CD27m[\"protocol\"], y=CD27m[\"PDR_unweighted\"], linewidth=1.5, palette='Set1')\n",
    "ax = sns.stripplot(x=CD27m[\"protocol\"], y=CD27m[\"PDR_unweighted\"], color=\".25\", linewidth=1.5, jitter=True)\n",
    "ax.xaxis.set_major_formatter(plt.NullFormatter())\n",
    "sns.plt.title(\"PDR total per cell, CD27m, all chromosomes, unweighted\")\n",
    "plt.xlabel(\"CD27m122 CD27m2344 CD27m4566 CD27m6788\")\n",
    "plt.ylabel(\"PDR, unweighted\")"
   ]
  },
  {
   "cell_type": "code",
   "execution_count": null,
   "metadata": {
    "collapsed": false
   },
   "outputs": [],
   "source": [
    "ax = sns.boxplot(x=CD27cells[\"bio\"], y=CD27cells[\"methylation\"], linewidth=1.5, palette='Set2')\n",
    "ax = sns.stripplot(x=CD27cells[\"bio\"], y=CD27cells[\"methylation\"], color=\".25\", linewidth=1.5, jitter=True)\n",
    "sns.plt.title(\"Methylation per cell, CD27p vs. CD27m, all chromosomes, weighted\")\n",
    "plt.xlabel(\"CD27p = 68 *.anno files; CD27m = 74 *.anno files\")\n",
    "x1, x2 = 0, 1   # columns 'Sat' and 'Sun' (first column: 0, see plt.xticks())\n",
    "y, h, col = CD27cells[\"methylation\"].max() + .025, .01, 'k'\n",
    "plt.plot([x1, x1, x2, x2], [y, y+h, y+h, y], lw=1.5, c=col)\n",
    "plt.text((x1+x2)*.5, y+h, r'p = $0.0232$', ha='center', va='bottom', color=col)\n",
    "plt.ylabel(\"Methylation\")\n",
    "plt.ylim(0.40, 0.63)"
   ]
  },
  {
   "cell_type": "code",
   "execution_count": null,
   "metadata": {
    "collapsed": false
   },
   "outputs": [],
   "source": [
    "print(CD27p['methylation'].mean())  # mean\n",
    "print(CD27m['methylation'].mean())\n",
    "\n",
    "print(CD27p['methylation'].std())   # standard deviation\n",
    "print(CD27m['methylation'].std())"
   ]
  },
  {
   "cell_type": "code",
   "execution_count": null,
   "metadata": {
    "collapsed": false
   },
   "outputs": [],
   "source": [
    "t, p = ttest_ind(CD27p.methylation, CD27m.methylation)\n",
    "print(str(\"t-statistic is \") + str(t))\n",
    "print(str(\"p-value is \") + str(p))\n",
    "\n",
    "#\n",
    "# The classic Student's t-test is a parametric test that only works when the data are normally distributed.\n",
    "# A good non-parametric alternative to the t-test is the Mann-Whitney U-test (called ranksum in matlab, \n",
    "#     or Wilcoxon test, or Man-Whitney-Wilcoxon)\n",
    "#\n",
    "import scipy.stats\n",
    "z, p = scipy.stats.mannwhitneyu(CD27p.methylation, CD27m.methylation)\n",
    "p_value = p * 2\n",
    "print(str(\"Mann-Whitney U statistic is \") + str(z))\n",
    "print(str(\"p-value is \") + str(p_value))"
   ]
  },
  {
   "cell_type": "code",
   "execution_count": null,
   "metadata": {
    "collapsed": false
   },
   "outputs": [],
   "source": [
    "ax = sns.boxplot(x=CD27cells[\"bio\"], y=CD27cells[\"PDR_total\"], linewidth=1.5, palette='Set2')\n",
    "ax = sns.stripplot(x=CD27cells[\"bio\"], y=CD27cells[\"PDR_total\"], color=\".25\", linewidth=1.5, jitter=True)\n",
    "sns.plt.title(\"PDR per cell, CD27p vs. CD27m, all chromosomes, weighted\")\n",
    "plt.xlabel(\"CD27p = 68 *.anno files; CD27m = 74 *.anno files\")\n",
    "plt.ylabel(\"PDR\")"
   ]
  },
  {
   "cell_type": "code",
   "execution_count": null,
   "metadata": {
    "collapsed": false
   },
   "outputs": [],
   "source": [
    "print(CD27p['PDR_total'].mean())  # mean\n",
    "print(CD27m['PDR_total'].mean())\n",
    "\n",
    "print(CD27p['PDR_total'].std())   # standard deviation\n",
    "print(CD27m['PDR_total'].std())"
   ]
  },
  {
   "cell_type": "code",
   "execution_count": null,
   "metadata": {
    "collapsed": false
   },
   "outputs": [],
   "source": [
    "t, p = ttest_ind(CD27p.PDR_total, CD27m.PDR_total)\n",
    "print(str(\"t-statistic is \") + str(t))\n",
    "print(str(\"p-value is \") + str(p))\n",
    "\n",
    "#\n",
    "# The classic Student's t-test is a parametric test that only works when the data are normally distributed.\n",
    "# A good non-parametric alternative to the t-test is the Mann-Whitney U-test (called ranksum in matlab, \n",
    "#     or Wilcoxon test, or Man-Whitney-Wilcoxon)\n",
    "#\n",
    "import scipy.stats\n",
    "z, p = scipy.stats.mannwhitneyu(CD27p.PDR_total, CD27m.PDR_total)\n",
    "p_value = p * 2\n",
    "print(str(\"Mann-Whitney U statistic is \") + str(z))\n",
    "print(str(\"p-value is \") + str(p_value))"
   ]
  },
  {
   "cell_type": "code",
   "execution_count": null,
   "metadata": {
    "collapsed": false
   },
   "outputs": [],
   "source": [
    "ax = sns.boxplot(x=CD27cells[\"bio\"], y=CD27cells[\"PDR_total\"], linewidth=1.5, palette='Set2')\n",
    "ax = sns.stripplot(x=CD27cells[\"bio\"], y=CD27cells[\"PDR_total\"], color=\".25\", linewidth=1.5, jitter=True)\n",
    "sns.plt.title(\"PDR per cell, CD27p vs. CD27m, all chromosomes, weighted\")\n",
    "plt.xlabel(\"CD27p = 68 *.anno files; CD27m = 74 *.anno files\")\n",
    "x1, x2 = 0, 1   # columns 'Sat' and 'Sun' (first column: 0, see plt.xticks())\n",
    "y, h, col = CD27cells[\"PDR_total\"].max() + .025, .01, 'k'\n",
    "plt.plot([x1, x1, x2, x2], [y, y+h, y+h, y], lw=1.5, c=col)\n",
    "plt.text((x1+x2)*.5, y+h, r'p = $1.69 \\times 10^{-24}$', ha='center', va='bottom', color=col)\n",
    "plt.ylabel(\"PDR\")"
   ]
  },
  {
   "cell_type": "code",
   "execution_count": null,
   "metadata": {
    "collapsed": false
   },
   "outputs": [],
   "source": [
    "ax = sns.boxplot(x=CD27cells[\"bio\"], y=CD27cells[\"methylation_unweighted\"], linewidth=1.5, palette='Set2')\n",
    "ax = sns.stripplot(x=CD27cells[\"bio\"], y=CD27cells[\"methylation_unweighted\"], color=\".25\", linewidth=1.5, jitter=True)\n",
    "sns.plt.title(\"Methylation per cell, CD27p vs. CD27m, all chromosomes, unweighted\")\n",
    "plt.xlabel(\"CD27p = 68 *.anno files; CD27m = 74 *.anno files\")\n",
    "plt.ylabel(\"Methylation\")"
   ]
  },
  {
   "cell_type": "code",
   "execution_count": null,
   "metadata": {
    "collapsed": false
   },
   "outputs": [],
   "source": [
    "print(CD27p['methylation_unweighted'].mean())  # mean\n",
    "print(CD27m['methylation_unweighted'].mean())\n",
    "\n",
    "print(CD27p['methylation_unweighted'].std())   # standard deviation\n",
    "print(CD27m['methylation_unweighted'].std())"
   ]
  },
  {
   "cell_type": "code",
   "execution_count": null,
   "metadata": {
    "collapsed": false
   },
   "outputs": [],
   "source": [
    "t, p = ttest_ind(CD27p.methylation_unweighted, CD27m.methylation_unweighted)\n",
    "print(str(\"t-statistic is \") + str(t))\n",
    "print(str(\"p-value is \") + str(p))\n",
    "\n",
    "#\n",
    "# The classic Student's t-test is a parametric test that only works when the data are normally distributed.\n",
    "# A good non-parametric alternative to the t-test is the Mann-Whitney U-test (called ranksum in matlab, \n",
    "#     or Wilcoxon test, or Man-Whitney-Wilcoxon)\n",
    "#\n",
    "import scipy.stats\n",
    "z, p = scipy.stats.mannwhitneyu(CD27p.methylation_unweighted, CD27m.methylation_unweighted)\n",
    "p_value = p * 2\n",
    "print(str(\"Mann-Whitney U statistic is \") + str(z))\n",
    "print(str(\"p-value is \") + str(p_value))"
   ]
  },
  {
   "cell_type": "code",
   "execution_count": null,
   "metadata": {
    "collapsed": false
   },
   "outputs": [],
   "source": [
    "ax = sns.boxplot(x=CD27cells[\"bio\"], y=CD27cells[\"methylation_unweighted\"], linewidth=1.5, palette='Set2')\n",
    "ax = sns.stripplot(x=CD27cells[\"bio\"], y=CD27cells[\"methylation_unweighted\"], color=\".25\", linewidth=1.5, jitter=True)\n",
    "sns.plt.title(\"Methylation per cell, CD27p vs. CD27m, all chromosomes, unweighted\")\n",
    "plt.xlabel(\"CD27p = 68 *.anno files; CD27m = 74 *.anno files\")\n",
    "x1, x2 = 0, 1   # columns 'Sat' and 'Sun' (first column: 0, see plt.xticks())\n",
    "y, h, col = CD27cells[\"methylation_unweighted\"].max() + .025, .01, 'k'\n",
    "plt.plot([x1, x1, x2, x2], [y, y+h, y+h, y], lw=1.5, c=col)\n",
    "plt.text((x1+x2)*.5, y+h, r'p = $2.42 \\times 10^{-14}$', ha='center', va='bottom', color=col)\n",
    "plt.ylabel(\"Methylation\")"
   ]
  },
  {
   "cell_type": "code",
   "execution_count": null,
   "metadata": {
    "collapsed": false
   },
   "outputs": [],
   "source": [
    "ax = sns.boxplot(x=CD27cells[\"bio\"], y=CD27cells[\"PDR_unweighted\"], linewidth=1.5, palette='Set2')\n",
    "ax = sns.stripplot(x=CD27cells[\"bio\"], y=CD27cells[\"PDR_unweighted\"], color=\".25\", linewidth=1.5, jitter=True)\n",
    "sns.plt.title(\"PDR per cell, CD27p vs. CD27m, all chromosomes, unweighted\")\n",
    "plt.xlabel(\"CD27p = 68 *.anno files; CD27m = 74 *.anno files\")\n",
    "plt.ylabel(\"PDR\")"
   ]
  },
  {
   "cell_type": "code",
   "execution_count": null,
   "metadata": {
    "collapsed": false
   },
   "outputs": [],
   "source": [
    "print(CD27p['PDR_unweighted'].mean())  # mean\n",
    "print(CD27m['PDR_unweighted'].mean())\n",
    "\n",
    "print(CD27p['PDR_unweighted'].std())   # standard deviation\n",
    "print(CD27m['PDR_unweighted'].std())"
   ]
  },
  {
   "cell_type": "code",
   "execution_count": null,
   "metadata": {
    "collapsed": false
   },
   "outputs": [],
   "source": [
    "t, p = ttest_ind(CD27p.PDR_unweighted, CD27m.PDR_unweighted)\n",
    "print(str(\"t-statistic is \") + str(t))\n",
    "print(str(\"p-value is \") + str(p))\n",
    "\n",
    "#\n",
    "# The classic Student's t-test is a parametric test that only works when the data are normally distributed.\n",
    "# A good non-parametric alternative to the t-test is the Mann-Whitney U-test (called ranksum in matlab, \n",
    "#     or Wilcoxon test, or Man-Whitney-Wilcoxon)\n",
    "#\n",
    "import scipy.stats\n",
    "z, p = scipy.stats.mannwhitneyu(CD27p.PDR_unweighted, CD27m.PDR_unweighted)\n",
    "p_value = p * 2\n",
    "print(str(\"Mann-Whitney U statistic is \") + str(z))\n",
    "print(str(\"p-value is \") + str(p_value))"
   ]
  },
  {
   "cell_type": "code",
   "execution_count": null,
   "metadata": {
    "collapsed": false
   },
   "outputs": [],
   "source": [
    "ax = sns.boxplot(x=CD27cells[\"bio\"], y=CD27cells[\"PDR_unweighted\"], linewidth=1.5, palette='Set2')\n",
    "ax = sns.stripplot(x=CD27cells[\"bio\"], y=CD27cells[\"PDR_unweighted\"], color=\".25\", linewidth=1.5, jitter=True)\n",
    "sns.plt.title(\"PDR per cell, CD27p vs. CD27m, all chromosomes, unweighted\")\n",
    "plt.xlabel(\"CD27p = 68 *.anno files; CD27m = 74 *.anno files\")\n",
    "x1, x2 = 0, 1   # columns 'Sat' and 'Sun' (first column: 0, see plt.xticks())\n",
    "y, h, col = CD27cells[\"PDR_unweighted\"].max() + .025, .01, 'k'\n",
    "plt.plot([x1, x1, x2, x2], [y, y+h, y+h, y], lw=1.5, c=col)\n",
    "plt.text((x1+x2)*.5, y+h, r'p = $1.623 \\times 10^{-24}$', ha='center', va='bottom', color=col)\n",
    "plt.ylabel(\"PDR\")"
   ]
  },
  {
   "cell_type": "code",
   "execution_count": null,
   "metadata": {
    "collapsed": false
   },
   "outputs": [],
   "source": [
    "import seaborn as sns\n",
    "sns.set(style=\"whitegrid\", palette=\"muted\")\n",
    "muted = [\"#4878CF\", \"#6ACC65\", \"#D65F5F\", \"#B47CC7\", \"#C4AD66\", \"#77BEDB\"]\n",
    "newPal   = dict(normal_B = muted[5], CD19CD27m = muted[2],CD19CD27p = muted[1], CD19p = muted[3], CLL=muted[0])\n",
    "ax = sns.stripplot(x=final_real2[\"type\"], y=final_real2[\"methylation\"], hue=final_real2.bio, jitter=True, palette=newPal)\n",
    "sns.plt.title(\"Biological sorting: Methylation per cell, normal vs CLL, all chromosomes, weighted\")\n",
    "plt.xlabel(\"Normal cells = 336 *.anno files; CLL cells = 102 *.anno files\")\n",
    "plt.legend(bbox_to_anchor=(1.05, 1), loc=2)\n",
    "plt.ylabel(\"Methylation\")"
   ]
  },
  {
   "cell_type": "code",
   "execution_count": null,
   "metadata": {
    "collapsed": false
   },
   "outputs": [],
   "source": [
    "import seaborn as sns\n",
    "sns.set(style=\"whitegrid\", palette=\"muted\")\n",
    "muted = [\"#4878CF\", \"#6ACC65\", \"#D65F5F\", \"#B47CC7\", \"#C4AD66\", \"#77BEDB\"]\n",
    "newPal   = dict(normal_B = muted[5], CD19CD27m = muted[2],CD19CD27p = muted[1], CD19p = muted[3], CLL=muted[0])\n",
    "ax = sns.stripplot(x=final_real2[\"type\"], y=final_real2[\"PDR_total\"], hue=final_real2.bio, jitter=True, palette=newPal)\n",
    "sns.plt.title(\"Biological sorting: PDR per cell, normal vs CLL, all chromosomes, weighted\")\n",
    "plt.xlabel(\"Normal cells = 336 *.anno files; CLL cells = 102 *.anno files\")\n",
    "plt.legend(bbox_to_anchor=(1.05, 1), loc=2)\n",
    "plt.ylabel(\"PDR\")"
   ]
  },
  {
   "cell_type": "code",
   "execution_count": null,
   "metadata": {
    "collapsed": false
   },
   "outputs": [],
   "source": [
    "import seaborn as sns\n",
    "sns.set(style=\"whitegrid\", palette=\"muted\")\n",
    "muted = [\"#4878CF\", \"#6ACC65\", \"#D65F5F\", \"#B47CC7\", \"#C4AD66\", \"#77BEDB\"]\n",
    "newPal   = dict(normal_B = muted[5], CD19CD27m = muted[2],CD19CD27p = muted[1], CD19p = muted[3], CLL=muted[0])\n",
    "ax = sns.stripplot(x=final_real2[\"type\"], y=final_real2[\"methylation_unweighted\"], hue=final_real2.bio, jitter=True, palette=newPal)\n",
    "sns.plt.title(\"Biological sorting: Methylation per cell, normal vs CLL, all chromosomes, unweighted\")\n",
    "plt.xlabel(\"Normal cells = 336 *.anno files; CLL cells = 102 *.anno files\")\n",
    "plt.legend(bbox_to_anchor=(1.05, 1), loc=2)\n",
    "plt.ylabel(\"Methylation\")"
   ]
  },
  {
   "cell_type": "code",
   "execution_count": null,
   "metadata": {
    "collapsed": false
   },
   "outputs": [],
   "source": [
    "sns.set(style=\"whitegrid\", palette=\"muted\")\n",
    "muted = [\"#4878CF\", \"#6ACC65\", \"#D65F5F\", \"#B47CC7\", \"#C4AD66\", \"#77BEDB\"]\n",
    "newPal   = dict(normal_B = muted[5], CD19CD27m = muted[2],CD19CD27p = muted[1], CD19p = muted[3], CLL=muted[0])\n",
    "ax = sns.stripplot(x=final_real2[\"type\"], y=final_real2[\"PDR_unweighted\"], hue=final_real2.bio, jitter=True, palette=newPal)\n",
    "sns.plt.title(\"Biological sorting: PDR per cell, normal vs CLL, all chromosomes, unweighted\")\n",
    "plt.xlabel(\"Normal cells = 336 *.anno files; CLL cells = 102 *.anno files\")\n",
    "plt.legend(bbox_to_anchor=(1.05, 1), loc=2)\n",
    "plt.ylabel(\"PDR\")"
   ]
  },
  {
   "cell_type": "code",
   "execution_count": null,
   "metadata": {
    "collapsed": true
   },
   "outputs": [],
   "source": []
  },
  {
   "cell_type": "code",
   "execution_count": null,
   "metadata": {
    "collapsed": true
   },
   "outputs": [],
   "source": []
  },
  {
   "cell_type": "code",
   "execution_count": null,
   "metadata": {
    "collapsed": true
   },
   "outputs": [],
   "source": []
  },
  {
   "cell_type": "code",
   "execution_count": null,
   "metadata": {
    "collapsed": true
   },
   "outputs": [],
   "source": []
  }
 ],
 "metadata": {
  "kernelspec": {
   "display_name": "Python 3",
   "language": "python",
   "name": "python3"
  },
  "language_info": {
   "codemirror_mode": {
    "name": "ipython",
    "version": 3
   },
   "file_extension": ".py",
   "mimetype": "text/x-python",
   "name": "python",
   "nbconvert_exporter": "python",
   "pygments_lexer": "ipython3",
   "version": "3.4.5"
  }
 },
 "nbformat": 4,
 "nbformat_minor": 0
}
