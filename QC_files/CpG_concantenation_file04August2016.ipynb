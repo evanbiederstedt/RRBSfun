{
 "cells": [
  {
   "cell_type": "code",
   "execution_count": 1,
   "metadata": {
    "collapsed": true
   },
   "outputs": [],
   "source": [
    "%matplotlib inline"
   ]
  },
  {
   "cell_type": "code",
   "execution_count": 2,
   "metadata": {
    "collapsed": true
   },
   "outputs": [],
   "source": [
    "import glob\n",
    "import pandas as pd\n",
    "import numpy as np\n",
    "import seaborn as sns\n",
    "import matplotlib.pyplot as plt\n",
    "import matplotlib\n",
    "pd.set_option('display.max_columns', 50) # print all rows\n",
    "\n",
    "\n",
    "import os\n",
    "os.chdir(\"/Users/evanbiederstedt/Downloads/RRBS_data_files\")"
   ]
  },
  {
   "cell_type": "code",
   "execution_count": 3,
   "metadata": {
    "collapsed": false
   },
   "outputs": [
    {
     "data": {
      "text/plain": [
       "'\\nallStats.csv\\ncd19_cpg3.csv\\ncd19_cpg2.csv\\ncd19_cpg1.csv\\nall_files450.csv\\npcell_cpg3.csv\\npcell_cpg2.csv\\nmcell_cpg3.csv\\nmcell_cpg2.csv\\npcell_cpg1.csv\\nmcell_cpg1.csv\\ntrito3.csv\\ntrito2.csv\\ncw154_cpgs_test3.csv\\ncw154_cpgs_test2.csv\\ntrito1.csv\\ncw154_cpgs_test1.csv\\n\\n'"
      ]
     },
     "execution_count": 3,
     "metadata": {},
     "output_type": "execute_result"
    }
   ],
   "source": [
    "\"\"\"\n",
    "allStats.csv\n",
    "cd19_cpg3.csv\n",
    "cd19_cpg2.csv\n",
    "cd19_cpg1.csv\n",
    "all_files450.csv\n",
    "pcell_cpg3.csv\n",
    "pcell_cpg2.csv\n",
    "mcell_cpg3.csv\n",
    "mcell_cpg2.csv\n",
    "pcell_cpg1.csv\n",
    "mcell_cpg1.csv\n",
    "trito3.csv\n",
    "trito2.csv\n",
    "cw154_cpgs_test3.csv\n",
    "cw154_cpgs_test2.csv\n",
    "trito1.csv\n",
    "cw154_cpgs_test1.csv\n",
    "\n",
    "\"\"\""
   ]
  },
  {
   "cell_type": "code",
   "execution_count": 4,
   "metadata": {
    "collapsed": true
   },
   "outputs": [],
   "source": [
    "df1 = pd.read_csv(\"cd19_cpg1.csv\")\n",
    "df2 = pd.read_csv(\"cd19_cpg2.csv\")\n",
    "df3 = pd.read_csv(\"cd19_cpg3.csv\")"
   ]
  },
  {
   "cell_type": "code",
   "execution_count": 5,
   "metadata": {
    "collapsed": false
   },
   "outputs": [],
   "source": [
    "df1 = df1.drop([\"Unnamed: 0\"], axis=1)\n",
    "df2 = df2.drop([\"Unnamed: 0\"], axis=1)\n",
    "df3 = df3.drop([\"Unnamed: 0\"], axis=1)"
   ]
  },
  {
   "cell_type": "code",
   "execution_count": 6,
   "metadata": {
    "collapsed": false
   },
   "outputs": [],
   "source": [
    "#df1 = df1.rename(columns = {'total_cpg_gtrthan1':'total_cpg_gtrthan38'})"
   ]
  },
  {
   "cell_type": "code",
   "execution_count": 7,
   "metadata": {
    "collapsed": false
   },
   "outputs": [
    {
     "data": {
      "text/html": [
       "<div>\n",
       "<table border=\"1\" class=\"dataframe\">\n",
       "  <thead>\n",
       "    <tr style=\"text-align: right;\">\n",
       "      <th></th>\n",
       "      <th>PDR_per_stack</th>\n",
       "      <th>Unnamed: 0.1</th>\n",
       "      <th>avgReadCpGs</th>\n",
       "      <th>filename</th>\n",
       "      <th>methReadCount</th>\n",
       "      <th>methylation</th>\n",
       "      <th>mixedReadCount</th>\n",
       "      <th>read_stack_ID</th>\n",
       "      <th>thisMeth</th>\n",
       "      <th>thisUnmeth</th>\n",
       "      <th>total_cpg_no_filter</th>\n",
       "      <th>total_reads</th>\n",
       "      <th>unmethReadCount</th>\n",
       "    </tr>\n",
       "  </thead>\n",
       "  <tbody>\n",
       "    <tr>\n",
       "      <th>0</th>\n",
       "      <td>38535.155429</td>\n",
       "      <td>1.226859e+10</td>\n",
       "      <td>830087.0</td>\n",
       "      <td>RRBS_NormalBCD19pcell1_22_TAAGGCGA.ACAACC.</td>\n",
       "      <td>2964863.0</td>\n",
       "      <td>97458.161898</td>\n",
       "      <td>1812703.0</td>\n",
       "      <td>1.213268e+10</td>\n",
       "      <td>4007620.0</td>\n",
       "      <td>3247989.0</td>\n",
       "      <td>830087.0</td>\n",
       "      <td>7255609.0</td>\n",
       "      <td>2478043.0</td>\n",
       "    </tr>\n",
       "    <tr>\n",
       "      <th>1</th>\n",
       "      <td>7775.252368</td>\n",
       "      <td>7.026188e+08</td>\n",
       "      <td>205444.0</td>\n",
       "      <td>RRBS_NormalBCD19pcell1_22_TAAGGCGA.ACCGCG.</td>\n",
       "      <td>433354.0</td>\n",
       "      <td>21222.416634</td>\n",
       "      <td>268399.0</td>\n",
       "      <td>6.906199e+08</td>\n",
       "      <td>576341.0</td>\n",
       "      <td>676915.0</td>\n",
       "      <td>205444.0</td>\n",
       "      <td>1253256.0</td>\n",
       "      <td>551503.0</td>\n",
       "    </tr>\n",
       "    <tr>\n",
       "      <th>2</th>\n",
       "      <td>12938.138525</td>\n",
       "      <td>2.224412e+09</td>\n",
       "      <td>362762.0</td>\n",
       "      <td>RRBS_NormalBCD19pcell1_22_TAAGGCGA.ACGTGG.</td>\n",
       "      <td>1141733.0</td>\n",
       "      <td>40648.729308</td>\n",
       "      <td>553762.0</td>\n",
       "      <td>2.202570e+09</td>\n",
       "      <td>1456949.0</td>\n",
       "      <td>1358920.0</td>\n",
       "      <td>362762.0</td>\n",
       "      <td>2815869.0</td>\n",
       "      <td>1120374.0</td>\n",
       "    </tr>\n",
       "    <tr>\n",
       "      <th>3</th>\n",
       "      <td>32980.046623</td>\n",
       "      <td>8.821705e+09</td>\n",
       "      <td>687749.0</td>\n",
       "      <td>RRBS_NormalBCD19pcell1_22_TAAGGCGA.ACTCAC.</td>\n",
       "      <td>2622515.0</td>\n",
       "      <td>86538.210407</td>\n",
       "      <td>1538888.0</td>\n",
       "      <td>8.735350e+09</td>\n",
       "      <td>3527738.0</td>\n",
       "      <td>2536187.0</td>\n",
       "      <td>687749.0</td>\n",
       "      <td>6063925.0</td>\n",
       "      <td>1902522.0</td>\n",
       "    </tr>\n",
       "    <tr>\n",
       "      <th>4</th>\n",
       "      <td>10115.626759</td>\n",
       "      <td>1.773965e+09</td>\n",
       "      <td>306597.0</td>\n",
       "      <td>RRBS_NormalBCD19pcell1_22_TAAGGCGA.AGGATG.</td>\n",
       "      <td>1373800.0</td>\n",
       "      <td>40266.419425</td>\n",
       "      <td>500640.0</td>\n",
       "      <td>1.758527e+09</td>\n",
       "      <td>1655479.0</td>\n",
       "      <td>1154831.0</td>\n",
       "      <td>306597.0</td>\n",
       "      <td>2810310.0</td>\n",
       "      <td>935870.0</td>\n",
       "    </tr>\n",
       "  </tbody>\n",
       "</table>\n",
       "</div>"
      ],
      "text/plain": [
       "   PDR_per_stack  Unnamed: 0.1  avgReadCpGs  \\\n",
       "0   38535.155429  1.226859e+10     830087.0   \n",
       "1    7775.252368  7.026188e+08     205444.0   \n",
       "2   12938.138525  2.224412e+09     362762.0   \n",
       "3   32980.046623  8.821705e+09     687749.0   \n",
       "4   10115.626759  1.773965e+09     306597.0   \n",
       "\n",
       "                                     filename  methReadCount   methylation  \\\n",
       "0  RRBS_NormalBCD19pcell1_22_TAAGGCGA.ACAACC.      2964863.0  97458.161898   \n",
       "1  RRBS_NormalBCD19pcell1_22_TAAGGCGA.ACCGCG.       433354.0  21222.416634   \n",
       "2  RRBS_NormalBCD19pcell1_22_TAAGGCGA.ACGTGG.      1141733.0  40648.729308   \n",
       "3  RRBS_NormalBCD19pcell1_22_TAAGGCGA.ACTCAC.      2622515.0  86538.210407   \n",
       "4  RRBS_NormalBCD19pcell1_22_TAAGGCGA.AGGATG.      1373800.0  40266.419425   \n",
       "\n",
       "   mixedReadCount  read_stack_ID   thisMeth  thisUnmeth  total_cpg_no_filter  \\\n",
       "0       1812703.0   1.213268e+10  4007620.0   3247989.0             830087.0   \n",
       "1        268399.0   6.906199e+08   576341.0    676915.0             205444.0   \n",
       "2        553762.0   2.202570e+09  1456949.0   1358920.0             362762.0   \n",
       "3       1538888.0   8.735350e+09  3527738.0   2536187.0             687749.0   \n",
       "4        500640.0   1.758527e+09  1655479.0   1154831.0             306597.0   \n",
       "\n",
       "   total_reads  unmethReadCount  \n",
       "0    7255609.0        2478043.0  \n",
       "1    1253256.0         551503.0  \n",
       "2    2815869.0        1120374.0  \n",
       "3    6063925.0        1902522.0  \n",
       "4    2810310.0         935870.0  "
      ]
     },
     "execution_count": 7,
     "metadata": {},
     "output_type": "execute_result"
    }
   ],
   "source": [
    "df1.head()"
   ]
  },
  {
   "cell_type": "code",
   "execution_count": 8,
   "metadata": {
    "collapsed": true
   },
   "outputs": [],
   "source": [
    "df1 = df1[[\"filename\", \"total_cpg_no_filter\"]]"
   ]
  },
  {
   "cell_type": "code",
   "execution_count": 9,
   "metadata": {
    "collapsed": false
   },
   "outputs": [
    {
     "data": {
      "text/html": [
       "<div>\n",
       "<table border=\"1\" class=\"dataframe\">\n",
       "  <thead>\n",
       "    <tr style=\"text-align: right;\">\n",
       "      <th></th>\n",
       "      <th>PDR_per_stack</th>\n",
       "      <th>Unnamed: 0.1</th>\n",
       "      <th>avgReadCpGs</th>\n",
       "      <th>filename</th>\n",
       "      <th>methReadCount</th>\n",
       "      <th>methylation</th>\n",
       "      <th>mixedReadCount</th>\n",
       "      <th>read_stack_ID</th>\n",
       "      <th>thisMeth</th>\n",
       "      <th>thisUnmeth</th>\n",
       "      <th>total_cpg_gtrthan1</th>\n",
       "      <th>total_reads</th>\n",
       "      <th>unmethReadCount</th>\n",
       "    </tr>\n",
       "  </thead>\n",
       "  <tbody>\n",
       "    <tr>\n",
       "      <th>0</th>\n",
       "      <td>38529.608673</td>\n",
       "      <td>1.226108e+10</td>\n",
       "      <td>829995.0</td>\n",
       "      <td>RRBS_NormalBCD19pcell1_22_TAAGGCGA.ACAACC.</td>\n",
       "      <td>2964125.0</td>\n",
       "      <td>97397.609858</td>\n",
       "      <td>1812653.0</td>\n",
       "      <td>1.212525e+10</td>\n",
       "      <td>4006850.0</td>\n",
       "      <td>3247545.0</td>\n",
       "      <td>829995.0</td>\n",
       "      <td>7254395.0</td>\n",
       "      <td>2477617.0</td>\n",
       "    </tr>\n",
       "    <tr>\n",
       "      <th>1</th>\n",
       "      <td>7774.242844</td>\n",
       "      <td>7.024402e+08</td>\n",
       "      <td>205433.0</td>\n",
       "      <td>RRBS_NormalBCD19pcell1_22_TAAGGCGA.ACCGCG.</td>\n",
       "      <td>433314.0</td>\n",
       "      <td>21214.416634</td>\n",
       "      <td>268393.0</td>\n",
       "      <td>6.904442e+08</td>\n",
       "      <td>576296.0</td>\n",
       "      <td>676896.0</td>\n",
       "      <td>205433.0</td>\n",
       "      <td>1253192.0</td>\n",
       "      <td>551485.0</td>\n",
       "    </tr>\n",
       "    <tr>\n",
       "      <th>2</th>\n",
       "      <td>12936.341116</td>\n",
       "      <td>2.223505e+09</td>\n",
       "      <td>362736.0</td>\n",
       "      <td>RRBS_NormalBCD19pcell1_22_TAAGGCGA.ACGTGG.</td>\n",
       "      <td>1141560.0</td>\n",
       "      <td>40631.229308</td>\n",
       "      <td>553748.0</td>\n",
       "      <td>2.201672e+09</td>\n",
       "      <td>1456764.0</td>\n",
       "      <td>1358856.0</td>\n",
       "      <td>362736.0</td>\n",
       "      <td>2815620.0</td>\n",
       "      <td>1120312.0</td>\n",
       "    </tr>\n",
       "    <tr>\n",
       "      <th>3</th>\n",
       "      <td>32972.331551</td>\n",
       "      <td>8.816508e+09</td>\n",
       "      <td>687666.0</td>\n",
       "      <td>RRBS_NormalBCD19pcell1_22_TAAGGCGA.ACTCAC.</td>\n",
       "      <td>2621843.0</td>\n",
       "      <td>86470.247293</td>\n",
       "      <td>1538815.0</td>\n",
       "      <td>8.730204e+09</td>\n",
       "      <td>3527017.0</td>\n",
       "      <td>2535995.0</td>\n",
       "      <td>687666.0</td>\n",
       "      <td>6063012.0</td>\n",
       "      <td>1902354.0</td>\n",
       "    </tr>\n",
       "    <tr>\n",
       "      <th>4</th>\n",
       "      <td>10114.558267</td>\n",
       "      <td>1.773191e+09</td>\n",
       "      <td>306576.0</td>\n",
       "      <td>RRBS_NormalBCD19pcell1_22_TAAGGCGA.AGGATG.</td>\n",
       "      <td>1373559.0</td>\n",
       "      <td>40246.419425</td>\n",
       "      <td>500629.0</td>\n",
       "      <td>1.757760e+09</td>\n",
       "      <td>1655227.0</td>\n",
       "      <td>1154828.0</td>\n",
       "      <td>306576.0</td>\n",
       "      <td>2810055.0</td>\n",
       "      <td>935867.0</td>\n",
       "    </tr>\n",
       "  </tbody>\n",
       "</table>\n",
       "</div>"
      ],
      "text/plain": [
       "   PDR_per_stack  Unnamed: 0.1  avgReadCpGs  \\\n",
       "0   38529.608673  1.226108e+10     829995.0   \n",
       "1    7774.242844  7.024402e+08     205433.0   \n",
       "2   12936.341116  2.223505e+09     362736.0   \n",
       "3   32972.331551  8.816508e+09     687666.0   \n",
       "4   10114.558267  1.773191e+09     306576.0   \n",
       "\n",
       "                                     filename  methReadCount   methylation  \\\n",
       "0  RRBS_NormalBCD19pcell1_22_TAAGGCGA.ACAACC.      2964125.0  97397.609858   \n",
       "1  RRBS_NormalBCD19pcell1_22_TAAGGCGA.ACCGCG.       433314.0  21214.416634   \n",
       "2  RRBS_NormalBCD19pcell1_22_TAAGGCGA.ACGTGG.      1141560.0  40631.229308   \n",
       "3  RRBS_NormalBCD19pcell1_22_TAAGGCGA.ACTCAC.      2621843.0  86470.247293   \n",
       "4  RRBS_NormalBCD19pcell1_22_TAAGGCGA.AGGATG.      1373559.0  40246.419425   \n",
       "\n",
       "   mixedReadCount  read_stack_ID   thisMeth  thisUnmeth  total_cpg_gtrthan1  \\\n",
       "0       1812653.0   1.212525e+10  4006850.0   3247545.0            829995.0   \n",
       "1        268393.0   6.904442e+08   576296.0    676896.0            205433.0   \n",
       "2        553748.0   2.201672e+09  1456764.0   1358856.0            362736.0   \n",
       "3       1538815.0   8.730204e+09  3527017.0   2535995.0            687666.0   \n",
       "4        500629.0   1.757760e+09  1655227.0   1154828.0            306576.0   \n",
       "\n",
       "   total_reads  unmethReadCount  \n",
       "0    7254395.0        2477617.0  \n",
       "1    1253192.0         551485.0  \n",
       "2    2815620.0        1120312.0  \n",
       "3    6063012.0        1902354.0  \n",
       "4    2810055.0         935867.0  "
      ]
     },
     "execution_count": 9,
     "metadata": {},
     "output_type": "execute_result"
    }
   ],
   "source": [
    "df2.head()"
   ]
  },
  {
   "cell_type": "code",
   "execution_count": 10,
   "metadata": {
    "collapsed": true
   },
   "outputs": [],
   "source": [
    "df2 = df2[[\"filename\", \"total_cpg_gtrthan1\"]]"
   ]
  },
  {
   "cell_type": "code",
   "execution_count": 11,
   "metadata": {
    "collapsed": false
   },
   "outputs": [
    {
     "data": {
      "text/html": [
       "<div>\n",
       "<table border=\"1\" class=\"dataframe\">\n",
       "  <thead>\n",
       "    <tr style=\"text-align: right;\">\n",
       "      <th></th>\n",
       "      <th>PDR_per_stack</th>\n",
       "      <th>Unnamed: 0.1</th>\n",
       "      <th>avgReadCpGs</th>\n",
       "      <th>filename</th>\n",
       "      <th>methReadCount</th>\n",
       "      <th>methylation</th>\n",
       "      <th>mixedReadCount</th>\n",
       "      <th>read_stack_ID</th>\n",
       "      <th>thisMeth</th>\n",
       "      <th>thisUnmeth</th>\n",
       "      <th>total_cpg_gtrthan38</th>\n",
       "      <th>total_reads</th>\n",
       "      <th>unmethReadCount</th>\n",
       "    </tr>\n",
       "  </thead>\n",
       "  <tbody>\n",
       "    <tr>\n",
       "      <th>0</th>\n",
       "      <td>26748.683723</td>\n",
       "      <td>7.763325e+09</td>\n",
       "      <td>686683.0</td>\n",
       "      <td>RRBS_NormalBCD19pcell1_22_TAAGGCGA.ACAACC.</td>\n",
       "      <td>1897380.0</td>\n",
       "      <td>53835.887435</td>\n",
       "      <td>1449102.0</td>\n",
       "      <td>7.677330e+09</td>\n",
       "      <td>2741967.0</td>\n",
       "      <td>2855864.0</td>\n",
       "      <td>686683.0</td>\n",
       "      <td>5597831.0</td>\n",
       "      <td>2251349.0</td>\n",
       "    </tr>\n",
       "    <tr>\n",
       "      <th>1</th>\n",
       "      <td>5394.725563</td>\n",
       "      <td>4.543323e+08</td>\n",
       "      <td>172625.0</td>\n",
       "      <td>RRBS_NormalBCD19pcell1_22_TAAGGCGA.ACCGCG.</td>\n",
       "      <td>278247.0</td>\n",
       "      <td>11445.886689</td>\n",
       "      <td>220605.0</td>\n",
       "      <td>4.465749e+08</td>\n",
       "      <td>395297.0</td>\n",
       "      <td>612023.0</td>\n",
       "      <td>172625.0</td>\n",
       "      <td>1007320.0</td>\n",
       "      <td>508468.0</td>\n",
       "    </tr>\n",
       "    <tr>\n",
       "      <th>2</th>\n",
       "      <td>9004.718202</td>\n",
       "      <td>1.419903e+09</td>\n",
       "      <td>302802.0</td>\n",
       "      <td>RRBS_NormalBCD19pcell1_22_TAAGGCGA.ACGTGG.</td>\n",
       "      <td>727876.0</td>\n",
       "      <td>22018.044138</td>\n",
       "      <td>448766.0</td>\n",
       "      <td>1.405962e+09</td>\n",
       "      <td>985480.0</td>\n",
       "      <td>1222417.0</td>\n",
       "      <td>302802.0</td>\n",
       "      <td>2207897.0</td>\n",
       "      <td>1031255.0</td>\n",
       "    </tr>\n",
       "    <tr>\n",
       "      <th>3</th>\n",
       "      <td>22614.174425</td>\n",
       "      <td>5.478791e+09</td>\n",
       "      <td>562701.0</td>\n",
       "      <td>RRBS_NormalBCD19pcell1_22_TAAGGCGA.ACTCAC.</td>\n",
       "      <td>1643931.0</td>\n",
       "      <td>47156.358513</td>\n",
       "      <td>1222277.0</td>\n",
       "      <td>5.425162e+09</td>\n",
       "      <td>2373699.0</td>\n",
       "      <td>2230845.0</td>\n",
       "      <td>562701.0</td>\n",
       "      <td>4604544.0</td>\n",
       "      <td>1738336.0</td>\n",
       "    </tr>\n",
       "    <tr>\n",
       "      <th>4</th>\n",
       "      <td>7245.550208</td>\n",
       "      <td>1.099108e+09</td>\n",
       "      <td>250348.0</td>\n",
       "      <td>RRBS_NormalBCD19pcell1_22_TAAGGCGA.AGGATG.</td>\n",
       "      <td>883336.0</td>\n",
       "      <td>21680.113138</td>\n",
       "      <td>413797.0</td>\n",
       "      <td>1.089543e+09</td>\n",
       "      <td>1117063.0</td>\n",
       "      <td>1041187.0</td>\n",
       "      <td>250348.0</td>\n",
       "      <td>2158250.0</td>\n",
       "      <td>861117.0</td>\n",
       "    </tr>\n",
       "  </tbody>\n",
       "</table>\n",
       "</div>"
      ],
      "text/plain": [
       "   PDR_per_stack  Unnamed: 0.1  avgReadCpGs  \\\n",
       "0   26748.683723  7.763325e+09     686683.0   \n",
       "1    5394.725563  4.543323e+08     172625.0   \n",
       "2    9004.718202  1.419903e+09     302802.0   \n",
       "3   22614.174425  5.478791e+09     562701.0   \n",
       "4    7245.550208  1.099108e+09     250348.0   \n",
       "\n",
       "                                     filename  methReadCount   methylation  \\\n",
       "0  RRBS_NormalBCD19pcell1_22_TAAGGCGA.ACAACC.      1897380.0  53835.887435   \n",
       "1  RRBS_NormalBCD19pcell1_22_TAAGGCGA.ACCGCG.       278247.0  11445.886689   \n",
       "2  RRBS_NormalBCD19pcell1_22_TAAGGCGA.ACGTGG.       727876.0  22018.044138   \n",
       "3  RRBS_NormalBCD19pcell1_22_TAAGGCGA.ACTCAC.      1643931.0  47156.358513   \n",
       "4  RRBS_NormalBCD19pcell1_22_TAAGGCGA.AGGATG.       883336.0  21680.113138   \n",
       "\n",
       "   mixedReadCount  read_stack_ID   thisMeth  thisUnmeth  total_cpg_gtrthan38  \\\n",
       "0       1449102.0   7.677330e+09  2741967.0   2855864.0             686683.0   \n",
       "1        220605.0   4.465749e+08   395297.0    612023.0             172625.0   \n",
       "2        448766.0   1.405962e+09   985480.0   1222417.0             302802.0   \n",
       "3       1222277.0   5.425162e+09  2373699.0   2230845.0             562701.0   \n",
       "4        413797.0   1.089543e+09  1117063.0   1041187.0             250348.0   \n",
       "\n",
       "   total_reads  unmethReadCount  \n",
       "0    5597831.0        2251349.0  \n",
       "1    1007320.0         508468.0  \n",
       "2    2207897.0        1031255.0  \n",
       "3    4604544.0        1738336.0  \n",
       "4    2158250.0         861117.0  "
      ]
     },
     "execution_count": 11,
     "metadata": {},
     "output_type": "execute_result"
    }
   ],
   "source": [
    "df3.head()"
   ]
  },
  {
   "cell_type": "code",
   "execution_count": 12,
   "metadata": {
    "collapsed": true
   },
   "outputs": [],
   "source": [
    "df3 = df3[[\"filename\", \"total_cpg_gtrthan38\"]]"
   ]
  },
  {
   "cell_type": "code",
   "execution_count": 13,
   "metadata": {
    "collapsed": false
   },
   "outputs": [
    {
     "data": {
      "text/html": [
       "<div>\n",
       "<table border=\"1\" class=\"dataframe\">\n",
       "  <thead>\n",
       "    <tr style=\"text-align: right;\">\n",
       "      <th></th>\n",
       "      <th>filename</th>\n",
       "      <th>total_cpg_no_filter</th>\n",
       "    </tr>\n",
       "  </thead>\n",
       "  <tbody>\n",
       "    <tr>\n",
       "      <th>0</th>\n",
       "      <td>RRBS_NormalBCD19pcell1_22_TAAGGCGA.ACAACC.</td>\n",
       "      <td>830087.0</td>\n",
       "    </tr>\n",
       "    <tr>\n",
       "      <th>1</th>\n",
       "      <td>RRBS_NormalBCD19pcell1_22_TAAGGCGA.ACCGCG.</td>\n",
       "      <td>205444.0</td>\n",
       "    </tr>\n",
       "    <tr>\n",
       "      <th>2</th>\n",
       "      <td>RRBS_NormalBCD19pcell1_22_TAAGGCGA.ACGTGG.</td>\n",
       "      <td>362762.0</td>\n",
       "    </tr>\n",
       "    <tr>\n",
       "      <th>3</th>\n",
       "      <td>RRBS_NormalBCD19pcell1_22_TAAGGCGA.ACTCAC.</td>\n",
       "      <td>687749.0</td>\n",
       "    </tr>\n",
       "    <tr>\n",
       "      <th>4</th>\n",
       "      <td>RRBS_NormalBCD19pcell1_22_TAAGGCGA.AGGATG.</td>\n",
       "      <td>306597.0</td>\n",
       "    </tr>\n",
       "  </tbody>\n",
       "</table>\n",
       "</div>"
      ],
      "text/plain": [
       "                                     filename  total_cpg_no_filter\n",
       "0  RRBS_NormalBCD19pcell1_22_TAAGGCGA.ACAACC.             830087.0\n",
       "1  RRBS_NormalBCD19pcell1_22_TAAGGCGA.ACCGCG.             205444.0\n",
       "2  RRBS_NormalBCD19pcell1_22_TAAGGCGA.ACGTGG.             362762.0\n",
       "3  RRBS_NormalBCD19pcell1_22_TAAGGCGA.ACTCAC.             687749.0\n",
       "4  RRBS_NormalBCD19pcell1_22_TAAGGCGA.AGGATG.             306597.0"
      ]
     },
     "execution_count": 13,
     "metadata": {},
     "output_type": "execute_result"
    }
   ],
   "source": [
    "df1.head()"
   ]
  },
  {
   "cell_type": "code",
   "execution_count": 14,
   "metadata": {
    "collapsed": false
   },
   "outputs": [
    {
     "data": {
      "text/html": [
       "<div>\n",
       "<table border=\"1\" class=\"dataframe\">\n",
       "  <thead>\n",
       "    <tr style=\"text-align: right;\">\n",
       "      <th></th>\n",
       "      <th>filename</th>\n",
       "      <th>total_cpg_gtrthan1</th>\n",
       "    </tr>\n",
       "  </thead>\n",
       "  <tbody>\n",
       "    <tr>\n",
       "      <th>0</th>\n",
       "      <td>RRBS_NormalBCD19pcell1_22_TAAGGCGA.ACAACC.</td>\n",
       "      <td>829995.0</td>\n",
       "    </tr>\n",
       "    <tr>\n",
       "      <th>1</th>\n",
       "      <td>RRBS_NormalBCD19pcell1_22_TAAGGCGA.ACCGCG.</td>\n",
       "      <td>205433.0</td>\n",
       "    </tr>\n",
       "    <tr>\n",
       "      <th>2</th>\n",
       "      <td>RRBS_NormalBCD19pcell1_22_TAAGGCGA.ACGTGG.</td>\n",
       "      <td>362736.0</td>\n",
       "    </tr>\n",
       "    <tr>\n",
       "      <th>3</th>\n",
       "      <td>RRBS_NormalBCD19pcell1_22_TAAGGCGA.ACTCAC.</td>\n",
       "      <td>687666.0</td>\n",
       "    </tr>\n",
       "    <tr>\n",
       "      <th>4</th>\n",
       "      <td>RRBS_NormalBCD19pcell1_22_TAAGGCGA.AGGATG.</td>\n",
       "      <td>306576.0</td>\n",
       "    </tr>\n",
       "  </tbody>\n",
       "</table>\n",
       "</div>"
      ],
      "text/plain": [
       "                                     filename  total_cpg_gtrthan1\n",
       "0  RRBS_NormalBCD19pcell1_22_TAAGGCGA.ACAACC.            829995.0\n",
       "1  RRBS_NormalBCD19pcell1_22_TAAGGCGA.ACCGCG.            205433.0\n",
       "2  RRBS_NormalBCD19pcell1_22_TAAGGCGA.ACGTGG.            362736.0\n",
       "3  RRBS_NormalBCD19pcell1_22_TAAGGCGA.ACTCAC.            687666.0\n",
       "4  RRBS_NormalBCD19pcell1_22_TAAGGCGA.AGGATG.            306576.0"
      ]
     },
     "execution_count": 14,
     "metadata": {},
     "output_type": "execute_result"
    }
   ],
   "source": [
    "df2.head()"
   ]
  },
  {
   "cell_type": "code",
   "execution_count": 15,
   "metadata": {
    "collapsed": false
   },
   "outputs": [
    {
     "data": {
      "text/html": [
       "<div>\n",
       "<table border=\"1\" class=\"dataframe\">\n",
       "  <thead>\n",
       "    <tr style=\"text-align: right;\">\n",
       "      <th></th>\n",
       "      <th>filename</th>\n",
       "      <th>total_cpg_gtrthan38</th>\n",
       "    </tr>\n",
       "  </thead>\n",
       "  <tbody>\n",
       "    <tr>\n",
       "      <th>0</th>\n",
       "      <td>RRBS_NormalBCD19pcell1_22_TAAGGCGA.ACAACC.</td>\n",
       "      <td>686683.0</td>\n",
       "    </tr>\n",
       "    <tr>\n",
       "      <th>1</th>\n",
       "      <td>RRBS_NormalBCD19pcell1_22_TAAGGCGA.ACCGCG.</td>\n",
       "      <td>172625.0</td>\n",
       "    </tr>\n",
       "    <tr>\n",
       "      <th>2</th>\n",
       "      <td>RRBS_NormalBCD19pcell1_22_TAAGGCGA.ACGTGG.</td>\n",
       "      <td>302802.0</td>\n",
       "    </tr>\n",
       "    <tr>\n",
       "      <th>3</th>\n",
       "      <td>RRBS_NormalBCD19pcell1_22_TAAGGCGA.ACTCAC.</td>\n",
       "      <td>562701.0</td>\n",
       "    </tr>\n",
       "    <tr>\n",
       "      <th>4</th>\n",
       "      <td>RRBS_NormalBCD19pcell1_22_TAAGGCGA.AGGATG.</td>\n",
       "      <td>250348.0</td>\n",
       "    </tr>\n",
       "  </tbody>\n",
       "</table>\n",
       "</div>"
      ],
      "text/plain": [
       "                                     filename  total_cpg_gtrthan38\n",
       "0  RRBS_NormalBCD19pcell1_22_TAAGGCGA.ACAACC.             686683.0\n",
       "1  RRBS_NormalBCD19pcell1_22_TAAGGCGA.ACCGCG.             172625.0\n",
       "2  RRBS_NormalBCD19pcell1_22_TAAGGCGA.ACGTGG.             302802.0\n",
       "3  RRBS_NormalBCD19pcell1_22_TAAGGCGA.ACTCAC.             562701.0\n",
       "4  RRBS_NormalBCD19pcell1_22_TAAGGCGA.AGGATG.             250348.0"
      ]
     },
     "execution_count": 15,
     "metadata": {},
     "output_type": "execute_result"
    }
   ],
   "source": [
    "df3.head()"
   ]
  },
  {
   "cell_type": "code",
   "execution_count": 16,
   "metadata": {
    "collapsed": false
   },
   "outputs": [],
   "source": [
    "first = df1.merge(df2, on=\"filename\")"
   ]
  },
  {
   "cell_type": "code",
   "execution_count": 17,
   "metadata": {
    "collapsed": false
   },
   "outputs": [],
   "source": [
    "second= first.merge(df3, on=\"filename\")"
   ]
  },
  {
   "cell_type": "code",
   "execution_count": 18,
   "metadata": {
    "collapsed": false
   },
   "outputs": [
    {
     "data": {
      "text/html": [
       "<div>\n",
       "<table border=\"1\" class=\"dataframe\">\n",
       "  <thead>\n",
       "    <tr style=\"text-align: right;\">\n",
       "      <th></th>\n",
       "      <th>filename</th>\n",
       "      <th>total_cpg_no_filter</th>\n",
       "      <th>total_cpg_gtrthan1</th>\n",
       "      <th>total_cpg_gtrthan38</th>\n",
       "    </tr>\n",
       "  </thead>\n",
       "  <tbody>\n",
       "    <tr>\n",
       "      <th>0</th>\n",
       "      <td>RRBS_NormalBCD19pcell1_22_TAAGGCGA.ACAACC.</td>\n",
       "      <td>830087.0</td>\n",
       "      <td>829995.0</td>\n",
       "      <td>686683.0</td>\n",
       "    </tr>\n",
       "    <tr>\n",
       "      <th>1</th>\n",
       "      <td>RRBS_NormalBCD19pcell1_22_TAAGGCGA.ACCGCG.</td>\n",
       "      <td>205444.0</td>\n",
       "      <td>205433.0</td>\n",
       "      <td>172625.0</td>\n",
       "    </tr>\n",
       "    <tr>\n",
       "      <th>2</th>\n",
       "      <td>RRBS_NormalBCD19pcell1_22_TAAGGCGA.ACGTGG.</td>\n",
       "      <td>362762.0</td>\n",
       "      <td>362736.0</td>\n",
       "      <td>302802.0</td>\n",
       "    </tr>\n",
       "    <tr>\n",
       "      <th>3</th>\n",
       "      <td>RRBS_NormalBCD19pcell1_22_TAAGGCGA.ACTCAC.</td>\n",
       "      <td>687749.0</td>\n",
       "      <td>687666.0</td>\n",
       "      <td>562701.0</td>\n",
       "    </tr>\n",
       "    <tr>\n",
       "      <th>4</th>\n",
       "      <td>RRBS_NormalBCD19pcell1_22_TAAGGCGA.AGGATG.</td>\n",
       "      <td>306597.0</td>\n",
       "      <td>306576.0</td>\n",
       "      <td>250348.0</td>\n",
       "    </tr>\n",
       "  </tbody>\n",
       "</table>\n",
       "</div>"
      ],
      "text/plain": [
       "                                     filename  total_cpg_no_filter  \\\n",
       "0  RRBS_NormalBCD19pcell1_22_TAAGGCGA.ACAACC.             830087.0   \n",
       "1  RRBS_NormalBCD19pcell1_22_TAAGGCGA.ACCGCG.             205444.0   \n",
       "2  RRBS_NormalBCD19pcell1_22_TAAGGCGA.ACGTGG.             362762.0   \n",
       "3  RRBS_NormalBCD19pcell1_22_TAAGGCGA.ACTCAC.             687749.0   \n",
       "4  RRBS_NormalBCD19pcell1_22_TAAGGCGA.AGGATG.             306597.0   \n",
       "\n",
       "   total_cpg_gtrthan1  total_cpg_gtrthan38  \n",
       "0            829995.0             686683.0  \n",
       "1            205433.0             172625.0  \n",
       "2            362736.0             302802.0  \n",
       "3            687666.0             562701.0  \n",
       "4            306576.0             250348.0  "
      ]
     },
     "execution_count": 18,
     "metadata": {},
     "output_type": "execute_result"
    }
   ],
   "source": [
    "second.head()"
   ]
  },
  {
   "cell_type": "code",
   "execution_count": 19,
   "metadata": {
    "collapsed": true
   },
   "outputs": [],
   "source": [
    "dfs = [df1, df2, df3]"
   ]
  },
  {
   "cell_type": "code",
   "execution_count": 20,
   "metadata": {
    "collapsed": false
   },
   "outputs": [
    {
     "data": {
      "text/plain": [
       "(89, 2)"
      ]
     },
     "execution_count": 20,
     "metadata": {},
     "output_type": "execute_result"
    }
   ],
   "source": [
    "df1.shape"
   ]
  },
  {
   "cell_type": "code",
   "execution_count": 21,
   "metadata": {
    "collapsed": false
   },
   "outputs": [
    {
     "data": {
      "text/plain": [
       "(89, 2)"
      ]
     },
     "execution_count": 21,
     "metadata": {},
     "output_type": "execute_result"
    }
   ],
   "source": [
    "df2.shape"
   ]
  },
  {
   "cell_type": "code",
   "execution_count": 22,
   "metadata": {
    "collapsed": false
   },
   "outputs": [
    {
     "data": {
      "text/plain": [
       "(89, 2)"
      ]
     },
     "execution_count": 22,
     "metadata": {},
     "output_type": "execute_result"
    }
   ],
   "source": [
    "df3.shape"
   ]
  },
  {
   "cell_type": "code",
   "execution_count": 23,
   "metadata": {
    "collapsed": false
   },
   "outputs": [],
   "source": [
    "cd19_merged = pd.concat([df.set_index('filename') for df in dfs], axis=1).reset_index()"
   ]
  },
  {
   "cell_type": "code",
   "execution_count": null,
   "metadata": {
    "collapsed": true
   },
   "outputs": [],
   "source": []
  },
  {
   "cell_type": "code",
   "execution_count": 24,
   "metadata": {
    "collapsed": false
   },
   "outputs": [
    {
     "data": {
      "text/html": [
       "<div>\n",
       "<table border=\"1\" class=\"dataframe\">\n",
       "  <thead>\n",
       "    <tr style=\"text-align: right;\">\n",
       "      <th></th>\n",
       "      <th>filename</th>\n",
       "      <th>total_cpg_no_filter</th>\n",
       "      <th>total_cpg_gtrthan1</th>\n",
       "      <th>total_cpg_gtrthan38</th>\n",
       "    </tr>\n",
       "  </thead>\n",
       "  <tbody>\n",
       "    <tr>\n",
       "      <th>0</th>\n",
       "      <td>RRBS_NormalBCD19pcell1_22_TAAGGCGA.ACAACC.</td>\n",
       "      <td>830087.0</td>\n",
       "      <td>829995.0</td>\n",
       "      <td>686683.0</td>\n",
       "    </tr>\n",
       "    <tr>\n",
       "      <th>1</th>\n",
       "      <td>RRBS_NormalBCD19pcell1_22_TAAGGCGA.ACCGCG.</td>\n",
       "      <td>205444.0</td>\n",
       "      <td>205433.0</td>\n",
       "      <td>172625.0</td>\n",
       "    </tr>\n",
       "    <tr>\n",
       "      <th>2</th>\n",
       "      <td>RRBS_NormalBCD19pcell1_22_TAAGGCGA.ACGTGG.</td>\n",
       "      <td>362762.0</td>\n",
       "      <td>362736.0</td>\n",
       "      <td>302802.0</td>\n",
       "    </tr>\n",
       "    <tr>\n",
       "      <th>3</th>\n",
       "      <td>RRBS_NormalBCD19pcell1_22_TAAGGCGA.ACTCAC.</td>\n",
       "      <td>687749.0</td>\n",
       "      <td>687666.0</td>\n",
       "      <td>562701.0</td>\n",
       "    </tr>\n",
       "    <tr>\n",
       "      <th>4</th>\n",
       "      <td>RRBS_NormalBCD19pcell1_22_TAAGGCGA.AGGATG.</td>\n",
       "      <td>306597.0</td>\n",
       "      <td>306576.0</td>\n",
       "      <td>250348.0</td>\n",
       "    </tr>\n",
       "  </tbody>\n",
       "</table>\n",
       "</div>"
      ],
      "text/plain": [
       "                                     filename  total_cpg_no_filter  \\\n",
       "0  RRBS_NormalBCD19pcell1_22_TAAGGCGA.ACAACC.             830087.0   \n",
       "1  RRBS_NormalBCD19pcell1_22_TAAGGCGA.ACCGCG.             205444.0   \n",
       "2  RRBS_NormalBCD19pcell1_22_TAAGGCGA.ACGTGG.             362762.0   \n",
       "3  RRBS_NormalBCD19pcell1_22_TAAGGCGA.ACTCAC.             687749.0   \n",
       "4  RRBS_NormalBCD19pcell1_22_TAAGGCGA.AGGATG.             306597.0   \n",
       "\n",
       "   total_cpg_gtrthan1  total_cpg_gtrthan38  \n",
       "0            829995.0             686683.0  \n",
       "1            205433.0             172625.0  \n",
       "2            362736.0             302802.0  \n",
       "3            687666.0             562701.0  \n",
       "4            306576.0             250348.0  "
      ]
     },
     "execution_count": 24,
     "metadata": {},
     "output_type": "execute_result"
    }
   ],
   "source": [
    "cd19_merged.head()"
   ]
  },
  {
   "cell_type": "code",
   "execution_count": 25,
   "metadata": {
    "collapsed": false
   },
   "outputs": [],
   "source": [
    "cd19_merged[\"filename\"] = cd19_merged[\"filename\"].str.replace(r'.$', '')"
   ]
  },
  {
   "cell_type": "code",
   "execution_count": 26,
   "metadata": {
    "collapsed": false
   },
   "outputs": [
    {
     "data": {
      "text/html": [
       "<div>\n",
       "<table border=\"1\" class=\"dataframe\">\n",
       "  <thead>\n",
       "    <tr style=\"text-align: right;\">\n",
       "      <th></th>\n",
       "      <th>filename</th>\n",
       "      <th>total_cpg_no_filter</th>\n",
       "      <th>total_cpg_gtrthan1</th>\n",
       "      <th>total_cpg_gtrthan38</th>\n",
       "    </tr>\n",
       "  </thead>\n",
       "  <tbody>\n",
       "    <tr>\n",
       "      <th>84</th>\n",
       "      <td>RRBS_NormalBCD19pcell67_88_TCCTGAGC.GTTGA</td>\n",
       "      <td>91467.0</td>\n",
       "      <td>91461.0</td>\n",
       "      <td>78199.0</td>\n",
       "    </tr>\n",
       "    <tr>\n",
       "      <th>85</th>\n",
       "      <td>RRBS_NormalBCD19pcell67_88_TCCTGAGC.TAGCG</td>\n",
       "      <td>215872.0</td>\n",
       "      <td>215857.0</td>\n",
       "      <td>178938.0</td>\n",
       "    </tr>\n",
       "    <tr>\n",
       "      <th>86</th>\n",
       "      <td>RRBS_NormalBCD19pcell67_88_TCCTGAGC.TATCT</td>\n",
       "      <td>446362.0</td>\n",
       "      <td>446317.0</td>\n",
       "      <td>376497.0</td>\n",
       "    </tr>\n",
       "    <tr>\n",
       "      <th>87</th>\n",
       "      <td>RRBS_NormalBCD19pcell67_88_TCCTGAGC.TCTCT</td>\n",
       "      <td>189736.0</td>\n",
       "      <td>189729.0</td>\n",
       "      <td>156738.0</td>\n",
       "    </tr>\n",
       "    <tr>\n",
       "      <th>88</th>\n",
       "      <td>RRBS_NormalBCD19pcell67_88_TCCTGAGC.TGCTG</td>\n",
       "      <td>9121.0</td>\n",
       "      <td>9121.0</td>\n",
       "      <td>7691.0</td>\n",
       "    </tr>\n",
       "  </tbody>\n",
       "</table>\n",
       "</div>"
      ],
      "text/plain": [
       "                                     filename  total_cpg_no_filter  \\\n",
       "84  RRBS_NormalBCD19pcell67_88_TCCTGAGC.GTTGA              91467.0   \n",
       "85  RRBS_NormalBCD19pcell67_88_TCCTGAGC.TAGCG             215872.0   \n",
       "86  RRBS_NormalBCD19pcell67_88_TCCTGAGC.TATCT             446362.0   \n",
       "87  RRBS_NormalBCD19pcell67_88_TCCTGAGC.TCTCT             189736.0   \n",
       "88  RRBS_NormalBCD19pcell67_88_TCCTGAGC.TGCTG               9121.0   \n",
       "\n",
       "    total_cpg_gtrthan1  total_cpg_gtrthan38  \n",
       "84             91461.0              78199.0  \n",
       "85            215857.0             178938.0  \n",
       "86            446317.0             376497.0  \n",
       "87            189729.0             156738.0  \n",
       "88              9121.0               7691.0  "
      ]
     },
     "execution_count": 26,
     "metadata": {},
     "output_type": "execute_result"
    }
   ],
   "source": [
    "cd19_merged.tail()"
   ]
  },
  {
   "cell_type": "code",
   "execution_count": 27,
   "metadata": {
    "collapsed": true
   },
   "outputs": [],
   "source": [
    "cd19_merged.to_csv(\"CD19_cpgs.csv\")"
   ]
  },
  {
   "cell_type": "code",
   "execution_count": null,
   "metadata": {
    "collapsed": true
   },
   "outputs": [],
   "source": []
  },
  {
   "cell_type": "code",
   "execution_count": 28,
   "metadata": {
    "collapsed": true
   },
   "outputs": [],
   "source": [
    "df1 = pd.read_csv(\"mcell_cpg1.csv\")\n",
    "df2 = pd.read_csv(\"mcell_cpg2.csv\")\n",
    "df3 = pd.read_csv(\"mcell_cpg3.csv\")"
   ]
  },
  {
   "cell_type": "code",
   "execution_count": 29,
   "metadata": {
    "collapsed": true
   },
   "outputs": [],
   "source": [
    "df3 = df3.rename(columns = {'total_cpg_gtrthan1':'total_cpg_gtrthan38'})"
   ]
  },
  {
   "cell_type": "code",
   "execution_count": 30,
   "metadata": {
    "collapsed": false
   },
   "outputs": [],
   "source": [
    "df1 = df1[[\"filename\", \"total_cpg_no_filter\"]]\n",
    "df2 = df2[[\"filename\", \"total_cpg_gtrthan1\"]]\n",
    "df3 = df3[[\"filename\", \"total_cpg_gtrthan38\"]]"
   ]
  },
  {
   "cell_type": "code",
   "execution_count": 31,
   "metadata": {
    "collapsed": false
   },
   "outputs": [],
   "source": [
    "dfs = [df1, df2, df3]\n",
    "\n",
    "mcell_cpg = pd.concat([df.set_index('filename') for df in dfs], axis=1).reset_index()"
   ]
  },
  {
   "cell_type": "code",
   "execution_count": 32,
   "metadata": {
    "collapsed": false
   },
   "outputs": [
    {
     "data": {
      "text/plain": [
       "30"
      ]
     },
     "execution_count": 32,
     "metadata": {},
     "output_type": "execute_result"
    }
   ],
   "source": [
    "len('RRBS_NormalBCD19pCD27mcell1_22')"
   ]
  },
  {
   "cell_type": "code",
   "execution_count": 33,
   "metadata": {
    "collapsed": true
   },
   "outputs": [],
   "source": [
    "mcell_cpg['protocol'] = mcell_cpg['filename'].str[:30]"
   ]
  },
  {
   "cell_type": "code",
   "execution_count": 34,
   "metadata": {
    "collapsed": false
   },
   "outputs": [
    {
     "name": "stderr",
     "output_type": "stream",
     "text": [
      "/opt/local/Library/Frameworks/Python.framework/Versions/3.4/lib/python3.4/site-packages/ipykernel/__main__.py:1: SettingWithCopyWarning: \n",
      "A value is trying to be set on a copy of a slice from a DataFrame\n",
      "\n",
      "See the caveats in the documentation: http://pandas.pydata.org/pandas-docs/stable/indexing.html#indexing-view-versus-copy\n",
      "  if __name__ == '__main__':\n"
     ]
    }
   ],
   "source": [
    "mcell_cpg[\"filename\"][mcell_cpg[\"protocol\"] == str('RRBS_NormalBCD19pCD27mcell1_22')] = mcell_cpg[\"filename\"].str.replace(r'.$', '')"
   ]
  },
  {
   "cell_type": "code",
   "execution_count": 35,
   "metadata": {
    "collapsed": false
   },
   "outputs": [
    {
     "data": {
      "text/html": [
       "<div>\n",
       "<table border=\"1\" class=\"dataframe\">\n",
       "  <thead>\n",
       "    <tr style=\"text-align: right;\">\n",
       "      <th></th>\n",
       "      <th>filename</th>\n",
       "      <th>total_cpg_no_filter</th>\n",
       "      <th>total_cpg_gtrthan1</th>\n",
       "      <th>total_cpg_gtrthan38</th>\n",
       "      <th>protocol</th>\n",
       "    </tr>\n",
       "  </thead>\n",
       "  <tbody>\n",
       "    <tr>\n",
       "      <th>0</th>\n",
       "      <td>RRBS_NormalBCD19pCD27mcell1_22_CGAGGCTG.ACAACC</td>\n",
       "      <td>4704.0</td>\n",
       "      <td>4704.0</td>\n",
       "      <td>3846.0</td>\n",
       "      <td>RRBS_NormalBCD19pCD27mcell1_22</td>\n",
       "    </tr>\n",
       "    <tr>\n",
       "      <th>1</th>\n",
       "      <td>RRBS_NormalBCD19pCD27mcell1_22_CGAGGCTG.ACCGCG</td>\n",
       "      <td>156456.0</td>\n",
       "      <td>156451.0</td>\n",
       "      <td>130998.0</td>\n",
       "      <td>RRBS_NormalBCD19pCD27mcell1_22</td>\n",
       "    </tr>\n",
       "    <tr>\n",
       "      <th>2</th>\n",
       "      <td>RRBS_NormalBCD19pCD27mcell1_22_CGAGGCTG.ACGTGG</td>\n",
       "      <td>229814.0</td>\n",
       "      <td>229799.0</td>\n",
       "      <td>192524.0</td>\n",
       "      <td>RRBS_NormalBCD19pCD27mcell1_22</td>\n",
       "    </tr>\n",
       "    <tr>\n",
       "      <th>3</th>\n",
       "      <td>RRBS_NormalBCD19pCD27mcell1_22_CGAGGCTG.ACTCAC</td>\n",
       "      <td>503087.0</td>\n",
       "      <td>503037.0</td>\n",
       "      <td>415806.0</td>\n",
       "      <td>RRBS_NormalBCD19pCD27mcell1_22</td>\n",
       "    </tr>\n",
       "    <tr>\n",
       "      <th>4</th>\n",
       "      <td>RRBS_NormalBCD19pCD27mcell1_22_CGAGGCTG.AGGATG</td>\n",
       "      <td>4385.0</td>\n",
       "      <td>4385.0</td>\n",
       "      <td>3606.0</td>\n",
       "      <td>RRBS_NormalBCD19pCD27mcell1_22</td>\n",
       "    </tr>\n",
       "  </tbody>\n",
       "</table>\n",
       "</div>"
      ],
      "text/plain": [
       "                                         filename  total_cpg_no_filter  \\\n",
       "0  RRBS_NormalBCD19pCD27mcell1_22_CGAGGCTG.ACAACC               4704.0   \n",
       "1  RRBS_NormalBCD19pCD27mcell1_22_CGAGGCTG.ACCGCG             156456.0   \n",
       "2  RRBS_NormalBCD19pCD27mcell1_22_CGAGGCTG.ACGTGG             229814.0   \n",
       "3  RRBS_NormalBCD19pCD27mcell1_22_CGAGGCTG.ACTCAC             503087.0   \n",
       "4  RRBS_NormalBCD19pCD27mcell1_22_CGAGGCTG.AGGATG               4385.0   \n",
       "\n",
       "   total_cpg_gtrthan1  total_cpg_gtrthan38                        protocol  \n",
       "0              4704.0               3846.0  RRBS_NormalBCD19pCD27mcell1_22  \n",
       "1            156451.0             130998.0  RRBS_NormalBCD19pCD27mcell1_22  \n",
       "2            229799.0             192524.0  RRBS_NormalBCD19pCD27mcell1_22  \n",
       "3            503037.0             415806.0  RRBS_NormalBCD19pCD27mcell1_22  \n",
       "4              4385.0               3606.0  RRBS_NormalBCD19pCD27mcell1_22  "
      ]
     },
     "execution_count": 35,
     "metadata": {},
     "output_type": "execute_result"
    }
   ],
   "source": [
    "mcell_cpg.head()"
   ]
  },
  {
   "cell_type": "code",
   "execution_count": 36,
   "metadata": {
    "collapsed": true
   },
   "outputs": [],
   "source": [
    "mcell_cpg = mcell_cpg.drop(\"protocol\", axis=1)"
   ]
  },
  {
   "cell_type": "code",
   "execution_count": 37,
   "metadata": {
    "collapsed": false
   },
   "outputs": [
    {
     "data": {
      "text/plain": [
       "(88, 4)"
      ]
     },
     "execution_count": 37,
     "metadata": {},
     "output_type": "execute_result"
    }
   ],
   "source": [
    "mcell_cpg.shape"
   ]
  },
  {
   "cell_type": "code",
   "execution_count": 38,
   "metadata": {
    "collapsed": true
   },
   "outputs": [],
   "source": [
    "mcell_cpg.to_csv(\"mcell_cpg.csv\")"
   ]
  },
  {
   "cell_type": "code",
   "execution_count": 39,
   "metadata": {
    "collapsed": true
   },
   "outputs": [],
   "source": [
    "df1 = pd.read_csv(\"pcell_cpg1.csv\")\n",
    "df2 = pd.read_csv(\"pcell_cpg2.csv\")\n",
    "df3 = pd.read_csv(\"pcell_cpg3.csv\")"
   ]
  },
  {
   "cell_type": "code",
   "execution_count": 40,
   "metadata": {
    "collapsed": true
   },
   "outputs": [],
   "source": [
    "df3 = df3.rename(columns = {'total_cpg_gtrthan1':'total_cpg_gtrthan38'})"
   ]
  },
  {
   "cell_type": "code",
   "execution_count": 41,
   "metadata": {
    "collapsed": true
   },
   "outputs": [],
   "source": [
    "df1 = df1[[\"filename\", \"total_cpg_no_filter\"]]\n",
    "df2 = df2[[\"filename\", \"total_cpg_gtrthan1\"]]\n",
    "df3 = df3[[\"filename\", \"total_cpg_gtrthan38\"]]"
   ]
  },
  {
   "cell_type": "code",
   "execution_count": 42,
   "metadata": {
    "collapsed": true
   },
   "outputs": [],
   "source": [
    "dfs = [df1, df2, df3]\n",
    "\n",
    "pcell_cpg = pd.concat([df.set_index('filename') for df in dfs], axis=1).reset_index()"
   ]
  },
  {
   "cell_type": "code",
   "execution_count": 43,
   "metadata": {
    "collapsed": true
   },
   "outputs": [],
   "source": [
    "pcell_cpg['protocol'] = pcell_cpg['filename'].str[:30]"
   ]
  },
  {
   "cell_type": "code",
   "execution_count": 44,
   "metadata": {
    "collapsed": false
   },
   "outputs": [
    {
     "name": "stderr",
     "output_type": "stream",
     "text": [
      "/opt/local/Library/Frameworks/Python.framework/Versions/3.4/lib/python3.4/site-packages/ipykernel/__main__.py:1: SettingWithCopyWarning: \n",
      "A value is trying to be set on a copy of a slice from a DataFrame\n",
      "\n",
      "See the caveats in the documentation: http://pandas.pydata.org/pandas-docs/stable/indexing.html#indexing-view-versus-copy\n",
      "  if __name__ == '__main__':\n"
     ]
    }
   ],
   "source": [
    "pcell_cpg[\"filename\"][pcell_cpg[\"protocol\"] == str('RRBS_NormalBCD19pCD27pcell1_22')] = pcell_cpg[\"filename\"].str.replace(r'.$', '')"
   ]
  },
  {
   "cell_type": "code",
   "execution_count": 45,
   "metadata": {
    "collapsed": false
   },
   "outputs": [
    {
     "data": {
      "text/html": [
       "<div>\n",
       "<table border=\"1\" class=\"dataframe\">\n",
       "  <thead>\n",
       "    <tr style=\"text-align: right;\">\n",
       "      <th></th>\n",
       "      <th>filename</th>\n",
       "      <th>total_cpg_no_filter</th>\n",
       "      <th>total_cpg_gtrthan1</th>\n",
       "      <th>total_cpg_gtrthan38</th>\n",
       "      <th>protocol</th>\n",
       "    </tr>\n",
       "  </thead>\n",
       "  <tbody>\n",
       "    <tr>\n",
       "      <th>0</th>\n",
       "      <td>RRBS_NormalBCD19pCD27pcell1_22_TAGGCATG.ACAACC</td>\n",
       "      <td>403150.0</td>\n",
       "      <td>403090.0</td>\n",
       "      <td>330131.0</td>\n",
       "      <td>RRBS_NormalBCD19pCD27pcell1_22</td>\n",
       "    </tr>\n",
       "    <tr>\n",
       "      <th>1</th>\n",
       "      <td>RRBS_NormalBCD19pCD27pcell1_22_TAGGCATG.ACCGCG</td>\n",
       "      <td>88590.0</td>\n",
       "      <td>88584.0</td>\n",
       "      <td>73436.0</td>\n",
       "      <td>RRBS_NormalBCD19pCD27pcell1_22</td>\n",
       "    </tr>\n",
       "    <tr>\n",
       "      <th>2</th>\n",
       "      <td>RRBS_NormalBCD19pCD27pcell1_22_TAGGCATG.ACGTGG</td>\n",
       "      <td>2012.0</td>\n",
       "      <td>2012.0</td>\n",
       "      <td>1636.0</td>\n",
       "      <td>RRBS_NormalBCD19pCD27pcell1_22</td>\n",
       "    </tr>\n",
       "    <tr>\n",
       "      <th>3</th>\n",
       "      <td>RRBS_NormalBCD19pCD27pcell1_22_TAGGCATG.ACTCAC</td>\n",
       "      <td>430377.0</td>\n",
       "      <td>430330.0</td>\n",
       "      <td>356147.0</td>\n",
       "      <td>RRBS_NormalBCD19pCD27pcell1_22</td>\n",
       "    </tr>\n",
       "    <tr>\n",
       "      <th>4</th>\n",
       "      <td>RRBS_NormalBCD19pCD27pcell1_22_TAGGCATG.AGGATG</td>\n",
       "      <td>215258.0</td>\n",
       "      <td>215241.0</td>\n",
       "      <td>179398.0</td>\n",
       "      <td>RRBS_NormalBCD19pCD27pcell1_22</td>\n",
       "    </tr>\n",
       "  </tbody>\n",
       "</table>\n",
       "</div>"
      ],
      "text/plain": [
       "                                         filename  total_cpg_no_filter  \\\n",
       "0  RRBS_NormalBCD19pCD27pcell1_22_TAGGCATG.ACAACC             403150.0   \n",
       "1  RRBS_NormalBCD19pCD27pcell1_22_TAGGCATG.ACCGCG              88590.0   \n",
       "2  RRBS_NormalBCD19pCD27pcell1_22_TAGGCATG.ACGTGG               2012.0   \n",
       "3  RRBS_NormalBCD19pCD27pcell1_22_TAGGCATG.ACTCAC             430377.0   \n",
       "4  RRBS_NormalBCD19pCD27pcell1_22_TAGGCATG.AGGATG             215258.0   \n",
       "\n",
       "   total_cpg_gtrthan1  total_cpg_gtrthan38                        protocol  \n",
       "0            403090.0             330131.0  RRBS_NormalBCD19pCD27pcell1_22  \n",
       "1             88584.0              73436.0  RRBS_NormalBCD19pCD27pcell1_22  \n",
       "2              2012.0               1636.0  RRBS_NormalBCD19pCD27pcell1_22  \n",
       "3            430330.0             356147.0  RRBS_NormalBCD19pCD27pcell1_22  \n",
       "4            215241.0             179398.0  RRBS_NormalBCD19pCD27pcell1_22  "
      ]
     },
     "execution_count": 45,
     "metadata": {},
     "output_type": "execute_result"
    }
   ],
   "source": [
    "pcell_cpg.head()"
   ]
  },
  {
   "cell_type": "code",
   "execution_count": 46,
   "metadata": {
    "collapsed": true
   },
   "outputs": [],
   "source": [
    "pcell_cpg = pcell_cpg.drop(\"protocol\", axis=1)"
   ]
  },
  {
   "cell_type": "code",
   "execution_count": 47,
   "metadata": {
    "collapsed": true
   },
   "outputs": [],
   "source": [
    "pcell_cpg.to_csv(\"pcell_cpg.csv\")"
   ]
  },
  {
   "cell_type": "code",
   "execution_count": null,
   "metadata": {
    "collapsed": true
   },
   "outputs": [],
   "source": []
  },
  {
   "cell_type": "code",
   "execution_count": 48,
   "metadata": {
    "collapsed": true
   },
   "outputs": [],
   "source": [
    "df1 = pd.read_csv(\"trito1.csv\")\n",
    "df2 = pd.read_csv(\"trito2.csv\")\n",
    "df3 = pd.read_csv(\"trito3.csv\")"
   ]
  },
  {
   "cell_type": "code",
   "execution_count": 49,
   "metadata": {
    "collapsed": true
   },
   "outputs": [],
   "source": [
    "df3 = df3.rename(columns = {'total_cpg_gtrthan1':'total_cpg_gtrthan38'})"
   ]
  },
  {
   "cell_type": "code",
   "execution_count": 50,
   "metadata": {
    "collapsed": true
   },
   "outputs": [],
   "source": [
    "df1 = df1[[\"filename\", \"total_cpg_no_filter\"]]\n",
    "df2 = df2[[\"filename\", \"total_cpg_gtrthan1\"]]\n",
    "df3 = df3[[\"filename\", \"total_cpg_gtrthan38\"]]"
   ]
  },
  {
   "cell_type": "code",
   "execution_count": 51,
   "metadata": {
    "collapsed": true
   },
   "outputs": [],
   "source": [
    "dfs = [df1, df2, df3]\n",
    "\n",
    "trito_cpg = pd.concat([df.set_index('filename') for df in dfs], axis=1).reset_index()"
   ]
  },
  {
   "cell_type": "code",
   "execution_count": 52,
   "metadata": {
    "collapsed": false
   },
   "outputs": [],
   "source": [
    "trito_cpg[\"filename\"] = trito_cpg[\"filename\"].str[:33]"
   ]
  },
  {
   "cell_type": "code",
   "execution_count": 53,
   "metadata": {
    "collapsed": false
   },
   "outputs": [
    {
     "data": {
      "text/plain": [
       "(42, 4)"
      ]
     },
     "execution_count": 53,
     "metadata": {},
     "output_type": "execute_result"
    }
   ],
   "source": [
    "trito_cpg.shape"
   ]
  },
  {
   "cell_type": "code",
   "execution_count": 54,
   "metadata": {
    "collapsed": true
   },
   "outputs": [],
   "source": [
    "trito_cpg.to_csv(\"trito_cpg.csv\")"
   ]
  },
  {
   "cell_type": "code",
   "execution_count": null,
   "metadata": {
    "collapsed": true
   },
   "outputs": [],
   "source": []
  },
  {
   "cell_type": "code",
   "execution_count": null,
   "metadata": {
    "collapsed": true
   },
   "outputs": [],
   "source": []
  },
  {
   "cell_type": "code",
   "execution_count": 55,
   "metadata": {
    "collapsed": true
   },
   "outputs": [],
   "source": [
    "df1 = pd.read_csv(\"cw154_cpgs_test1.csv\")\n",
    "df2 = pd.read_csv(\"cw154_cpgs_test2.csv\")\n",
    "df3 = pd.read_csv(\"cw154_cpgs_test3.csv\")"
   ]
  },
  {
   "cell_type": "code",
   "execution_count": 56,
   "metadata": {
    "collapsed": true
   },
   "outputs": [],
   "source": [
    "df3 = df3.rename(columns = {'total_cpg_gtrthan1':'total_cpg_gtrthan38'})"
   ]
  },
  {
   "cell_type": "code",
   "execution_count": 57,
   "metadata": {
    "collapsed": true
   },
   "outputs": [],
   "source": [
    "df1 = df1[[\"filename\", \"total_cpg_no_filter\"]]\n",
    "df2 = df2[[\"filename\", \"total_cpg_gtrthan1\"]]\n",
    "df3 = df3[[\"filename\", \"total_cpg_gtrthan38\"]]"
   ]
  },
  {
   "cell_type": "code",
   "execution_count": 58,
   "metadata": {
    "collapsed": true
   },
   "outputs": [],
   "source": [
    "dfs = [df1, df2, df3]\n",
    "\n",
    "cw154_cpg = pd.concat([df.set_index('filename') for df in dfs], axis=1).reset_index()"
   ]
  },
  {
   "cell_type": "code",
   "execution_count": 59,
   "metadata": {
    "collapsed": false
   },
   "outputs": [
    {
     "data": {
      "text/plain": [
       "(66, 4)"
      ]
     },
     "execution_count": 59,
     "metadata": {},
     "output_type": "execute_result"
    }
   ],
   "source": [
    "cw154_cpg.shape"
   ]
  },
  {
   "cell_type": "code",
   "execution_count": 60,
   "metadata": {
    "collapsed": false
   },
   "outputs": [
    {
     "name": "stderr",
     "output_type": "stream",
     "text": [
      "/opt/local/Library/Frameworks/Python.framework/Versions/3.4/lib/python3.4/site-packages/pandas/core/indexing.py:132: SettingWithCopyWarning: \n",
      "A value is trying to be set on a copy of a slice from a DataFrame\n",
      "\n",
      "See the caveats in the documentation: http://pandas.pydata.org/pandas-docs/stable/indexing.html#indexing-view-versus-copy\n",
      "  self._setitem_with_indexer(indexer, value)\n"
     ]
    }
   ],
   "source": [
    "cw154_cpg[\"filename\"].ix[0] = str(\"RRBS_cw154_CutSmart_proteinase_K_TAGGCATG.ACAACC\")\n",
    "cw154_cpg[\"filename\"].ix[1] = str(\"RRBS_cw154_CutSmart_proteinase_K_TAGGCATG.ACCGCG\")"
   ]
  },
  {
   "cell_type": "code",
   "execution_count": 61,
   "metadata": {
    "collapsed": false
   },
   "outputs": [
    {
     "name": "stderr",
     "output_type": "stream",
     "text": [
      "/opt/local/Library/Frameworks/Python.framework/Versions/3.4/lib/python3.4/site-packages/pandas/core/indexing.py:132: SettingWithCopyWarning: \n",
      "A value is trying to be set on a copy of a slice from a DataFrame\n",
      "\n",
      "See the caveats in the documentation: http://pandas.pydata.org/pandas-docs/stable/indexing.html#indexing-view-versus-copy\n",
      "  self._setitem_with_indexer(indexer, value)\n"
     ]
    }
   ],
   "source": [
    "cw154_cpg[\"filename\"].ix[2] = str('RRBS_cw154_CutSmart_proteinase_K_TAGGCATG.ACGTGG')"
   ]
  },
  {
   "cell_type": "code",
   "execution_count": 62,
   "metadata": {
    "collapsed": false
   },
   "outputs": [
    {
     "name": "stderr",
     "output_type": "stream",
     "text": [
      "/opt/local/Library/Frameworks/Python.framework/Versions/3.4/lib/python3.4/site-packages/pandas/core/indexing.py:132: SettingWithCopyWarning: \n",
      "A value is trying to be set on a copy of a slice from a DataFrame\n",
      "\n",
      "See the caveats in the documentation: http://pandas.pydata.org/pandas-docs/stable/indexing.html#indexing-view-versus-copy\n",
      "  self._setitem_with_indexer(indexer, value)\n"
     ]
    }
   ],
   "source": [
    "cw154_cpg[\"filename\"].ix[3] = str(\"RRBS_cw154_CutSmart_proteinase_K_TAGGCATG.ACTCAC\")"
   ]
  },
  {
   "cell_type": "code",
   "execution_count": 63,
   "metadata": {
    "collapsed": false
   },
   "outputs": [
    {
     "name": "stderr",
     "output_type": "stream",
     "text": [
      "/opt/local/Library/Frameworks/Python.framework/Versions/3.4/lib/python3.4/site-packages/pandas/core/indexing.py:132: SettingWithCopyWarning: \n",
      "A value is trying to be set on a copy of a slice from a DataFrame\n",
      "\n",
      "See the caveats in the documentation: http://pandas.pydata.org/pandas-docs/stable/indexing.html#indexing-view-versus-copy\n",
      "  self._setitem_with_indexer(indexer, value)\n"
     ]
    }
   ],
   "source": [
    "cw154_cpg[\"filename\"].ix[4] = str(\"RRBS_cw154_CutSmart_proteinase_K_TAGGCATG.AGGATG\")"
   ]
  },
  {
   "cell_type": "code",
   "execution_count": 64,
   "metadata": {
    "collapsed": false
   },
   "outputs": [
    {
     "name": "stderr",
     "output_type": "stream",
     "text": [
      "/opt/local/Library/Frameworks/Python.framework/Versions/3.4/lib/python3.4/site-packages/pandas/core/indexing.py:132: SettingWithCopyWarning: \n",
      "A value is trying to be set on a copy of a slice from a DataFrame\n",
      "\n",
      "See the caveats in the documentation: http://pandas.pydata.org/pandas-docs/stable/indexing.html#indexing-view-versus-copy\n",
      "  self._setitem_with_indexer(indexer, value)\n"
     ]
    }
   ],
   "source": [
    "cw154_cpg[\"filename\"].ix[5] = str(\"RRBS_cw154_CutSmart_proteinase_K_TAGGCATG.ATAGCG\")"
   ]
  },
  {
   "cell_type": "code",
   "execution_count": 65,
   "metadata": {
    "collapsed": false
   },
   "outputs": [
    {
     "name": "stderr",
     "output_type": "stream",
     "text": [
      "/opt/local/Library/Frameworks/Python.framework/Versions/3.4/lib/python3.4/site-packages/pandas/core/indexing.py:132: SettingWithCopyWarning: \n",
      "A value is trying to be set on a copy of a slice from a DataFrame\n",
      "\n",
      "See the caveats in the documentation: http://pandas.pydata.org/pandas-docs/stable/indexing.html#indexing-view-versus-copy\n",
      "  self._setitem_with_indexer(indexer, value)\n"
     ]
    }
   ],
   "source": [
    "cw154_cpg[\"filename\"].ix[6] = str(\"RRBS_cw154_CutSmart_proteinase_K_TAGGCATG.ATCGAC\")"
   ]
  },
  {
   "cell_type": "code",
   "execution_count": 66,
   "metadata": {
    "collapsed": false
   },
   "outputs": [
    {
     "name": "stderr",
     "output_type": "stream",
     "text": [
      "/opt/local/Library/Frameworks/Python.framework/Versions/3.4/lib/python3.4/site-packages/pandas/core/indexing.py:132: SettingWithCopyWarning: \n",
      "A value is trying to be set on a copy of a slice from a DataFrame\n",
      "\n",
      "See the caveats in the documentation: http://pandas.pydata.org/pandas-docs/stable/indexing.html#indexing-view-versus-copy\n",
      "  self._setitem_with_indexer(indexer, value)\n"
     ]
    }
   ],
   "source": [
    "cw154_cpg[\"filename\"].ix[7] = str(\"RRBS_cw154_CutSmart_proteinase_K_TAGGCATG.CAAGAG\")"
   ]
  },
  {
   "cell_type": "code",
   "execution_count": 67,
   "metadata": {
    "collapsed": false
   },
   "outputs": [
    {
     "name": "stderr",
     "output_type": "stream",
     "text": [
      "/opt/local/Library/Frameworks/Python.framework/Versions/3.4/lib/python3.4/site-packages/pandas/core/indexing.py:132: SettingWithCopyWarning: \n",
      "A value is trying to be set on a copy of a slice from a DataFrame\n",
      "\n",
      "See the caveats in the documentation: http://pandas.pydata.org/pandas-docs/stable/indexing.html#indexing-view-versus-copy\n",
      "  self._setitem_with_indexer(indexer, value)\n"
     ]
    }
   ],
   "source": [
    "cw154_cpg[\"filename\"].ix[8] = str(\"RRBS_cw154_CutSmart_proteinase_K_TAGGCATG.CATGAC\")"
   ]
  },
  {
   "cell_type": "code",
   "execution_count": 68,
   "metadata": {
    "collapsed": false
   },
   "outputs": [
    {
     "name": "stderr",
     "output_type": "stream",
     "text": [
      "/opt/local/Library/Frameworks/Python.framework/Versions/3.4/lib/python3.4/site-packages/pandas/core/indexing.py:132: SettingWithCopyWarning: \n",
      "A value is trying to be set on a copy of a slice from a DataFrame\n",
      "\n",
      "See the caveats in the documentation: http://pandas.pydata.org/pandas-docs/stable/indexing.html#indexing-view-versus-copy\n",
      "  self._setitem_with_indexer(indexer, value)\n"
     ]
    }
   ],
   "source": [
    "cw154_cpg[\"filename\"].ix[9] = str(\"RRBS_cw154_CutSmart_proteinase_K_TAGGCATG.CCTTCG\")"
   ]
  },
  {
   "cell_type": "code",
   "execution_count": 69,
   "metadata": {
    "collapsed": false
   },
   "outputs": [
    {
     "name": "stderr",
     "output_type": "stream",
     "text": [
      "/opt/local/Library/Frameworks/Python.framework/Versions/3.4/lib/python3.4/site-packages/pandas/core/indexing.py:132: SettingWithCopyWarning: \n",
      "A value is trying to be set on a copy of a slice from a DataFrame\n",
      "\n",
      "See the caveats in the documentation: http://pandas.pydata.org/pandas-docs/stable/indexing.html#indexing-view-versus-copy\n",
      "  self._setitem_with_indexer(indexer, value)\n"
     ]
    }
   ],
   "source": [
    "cw154_cpg[\"filename\"].ix[10] = str(\"RRBS_cw154_CutSmart_proteinase_K_TAGGCATG.CGGTAG\")"
   ]
  },
  {
   "cell_type": "code",
   "execution_count": 70,
   "metadata": {
    "collapsed": false
   },
   "outputs": [
    {
     "name": "stderr",
     "output_type": "stream",
     "text": [
      "/opt/local/Library/Frameworks/Python.framework/Versions/3.4/lib/python3.4/site-packages/pandas/core/indexing.py:132: SettingWithCopyWarning: \n",
      "A value is trying to be set on a copy of a slice from a DataFrame\n",
      "\n",
      "See the caveats in the documentation: http://pandas.pydata.org/pandas-docs/stable/indexing.html#indexing-view-versus-copy\n",
      "  self._setitem_with_indexer(indexer, value)\n"
     ]
    }
   ],
   "source": [
    "cw154_cpg[\"filename\"].ix[11] = str(\"RRBS_cw154_CutSmart_proteinase_K_TAGGCATG.CTATTG\")"
   ]
  },
  {
   "cell_type": "code",
   "execution_count": 71,
   "metadata": {
    "collapsed": false
   },
   "outputs": [
    {
     "name": "stderr",
     "output_type": "stream",
     "text": [
      "/opt/local/Library/Frameworks/Python.framework/Versions/3.4/lib/python3.4/site-packages/pandas/core/indexing.py:132: SettingWithCopyWarning: \n",
      "A value is trying to be set on a copy of a slice from a DataFrame\n",
      "\n",
      "See the caveats in the documentation: http://pandas.pydata.org/pandas-docs/stable/indexing.html#indexing-view-versus-copy\n",
      "  self._setitem_with_indexer(indexer, value)\n"
     ]
    }
   ],
   "source": [
    "cw154_cpg[\"filename\"].ix[12] = str(\"RRBS_cw154_CutSmart_proteinase_K_TAGGCATG.CTCAGC\")"
   ]
  },
  {
   "cell_type": "code",
   "execution_count": 72,
   "metadata": {
    "collapsed": false
   },
   "outputs": [
    {
     "name": "stderr",
     "output_type": "stream",
     "text": [
      "/opt/local/Library/Frameworks/Python.framework/Versions/3.4/lib/python3.4/site-packages/pandas/core/indexing.py:132: SettingWithCopyWarning: \n",
      "A value is trying to be set on a copy of a slice from a DataFrame\n",
      "\n",
      "See the caveats in the documentation: http://pandas.pydata.org/pandas-docs/stable/indexing.html#indexing-view-versus-copy\n",
      "  self._setitem_with_indexer(indexer, value)\n"
     ]
    }
   ],
   "source": [
    "cw154_cpg[\"filename\"].ix[13] = str(\"RRBS_cw154_CutSmart_proteinase_K_TAGGCATG.GACACG\")"
   ]
  },
  {
   "cell_type": "code",
   "execution_count": 73,
   "metadata": {
    "collapsed": false
   },
   "outputs": [
    {
     "name": "stderr",
     "output_type": "stream",
     "text": [
      "/opt/local/Library/Frameworks/Python.framework/Versions/3.4/lib/python3.4/site-packages/pandas/core/indexing.py:132: SettingWithCopyWarning: \n",
      "A value is trying to be set on a copy of a slice from a DataFrame\n",
      "\n",
      "See the caveats in the documentation: http://pandas.pydata.org/pandas-docs/stable/indexing.html#indexing-view-versus-copy\n",
      "  self._setitem_with_indexer(indexer, value)\n"
     ]
    }
   ],
   "source": [
    "cw154_cpg[\"filename\"].ix[14] = str(\"RRBS_cw154_CutSmart_proteinase_K_TAGGCATG.GCATTC\")"
   ]
  },
  {
   "cell_type": "code",
   "execution_count": 74,
   "metadata": {
    "collapsed": false
   },
   "outputs": [
    {
     "name": "stderr",
     "output_type": "stream",
     "text": [
      "/opt/local/Library/Frameworks/Python.framework/Versions/3.4/lib/python3.4/site-packages/pandas/core/indexing.py:132: SettingWithCopyWarning: \n",
      "A value is trying to be set on a copy of a slice from a DataFrame\n",
      "\n",
      "See the caveats in the documentation: http://pandas.pydata.org/pandas-docs/stable/indexing.html#indexing-view-versus-copy\n",
      "  self._setitem_with_indexer(indexer, value)\n"
     ]
    }
   ],
   "source": [
    "cw154_cpg[\"filename\"].ix[15] = str(\"RRBS_cw154_CutSmart_proteinase_K_TAGGCATG.GCTGCC\")"
   ]
  },
  {
   "cell_type": "code",
   "execution_count": 75,
   "metadata": {
    "collapsed": false
   },
   "outputs": [
    {
     "name": "stderr",
     "output_type": "stream",
     "text": [
      "/opt/local/Library/Frameworks/Python.framework/Versions/3.4/lib/python3.4/site-packages/pandas/core/indexing.py:132: SettingWithCopyWarning: \n",
      "A value is trying to be set on a copy of a slice from a DataFrame\n",
      "\n",
      "See the caveats in the documentation: http://pandas.pydata.org/pandas-docs/stable/indexing.html#indexing-view-versus-copy\n",
      "  self._setitem_with_indexer(indexer, value)\n"
     ]
    }
   ],
   "source": [
    "cw154_cpg[\"filename\"].ix[16] = str(\"RRBS_cw154_CutSmart_proteinase_K_TAGGCATG.GGCATC\")"
   ]
  },
  {
   "cell_type": "code",
   "execution_count": 76,
   "metadata": {
    "collapsed": false
   },
   "outputs": [
    {
     "name": "stderr",
     "output_type": "stream",
     "text": [
      "/opt/local/Library/Frameworks/Python.framework/Versions/3.4/lib/python3.4/site-packages/pandas/core/indexing.py:132: SettingWithCopyWarning: \n",
      "A value is trying to be set on a copy of a slice from a DataFrame\n",
      "\n",
      "See the caveats in the documentation: http://pandas.pydata.org/pandas-docs/stable/indexing.html#indexing-view-versus-copy\n",
      "  self._setitem_with_indexer(indexer, value)\n"
     ]
    }
   ],
   "source": [
    "cw154_cpg[\"filename\"].ix[17] = str(\"RRBS_cw154_CutSmart_proteinase_K_TAGGCATG.GTGAGG\")"
   ]
  },
  {
   "cell_type": "code",
   "execution_count": 77,
   "metadata": {
    "collapsed": false
   },
   "outputs": [
    {
     "name": "stderr",
     "output_type": "stream",
     "text": [
      "/opt/local/Library/Frameworks/Python.framework/Versions/3.4/lib/python3.4/site-packages/pandas/core/indexing.py:132: SettingWithCopyWarning: \n",
      "A value is trying to be set on a copy of a slice from a DataFrame\n",
      "\n",
      "See the caveats in the documentation: http://pandas.pydata.org/pandas-docs/stable/indexing.html#indexing-view-versus-copy\n",
      "  self._setitem_with_indexer(indexer, value)\n"
     ]
    }
   ],
   "source": [
    "cw154_cpg[\"filename\"].ix[18] = str(\"RRBS_cw154_CutSmart_proteinase_K_TAGGCATG.GTTGAG\")"
   ]
  },
  {
   "cell_type": "code",
   "execution_count": 78,
   "metadata": {
    "collapsed": false
   },
   "outputs": [
    {
     "name": "stderr",
     "output_type": "stream",
     "text": [
      "/opt/local/Library/Frameworks/Python.framework/Versions/3.4/lib/python3.4/site-packages/pandas/core/indexing.py:132: SettingWithCopyWarning: \n",
      "A value is trying to be set on a copy of a slice from a DataFrame\n",
      "\n",
      "See the caveats in the documentation: http://pandas.pydata.org/pandas-docs/stable/indexing.html#indexing-view-versus-copy\n",
      "  self._setitem_with_indexer(indexer, value)\n"
     ]
    }
   ],
   "source": [
    "cw154_cpg[\"filename\"].ix[19] = str(\"RRBS_cw154_CutSmart_proteinase_K_TAGGCATG.TAGCGG\")"
   ]
  },
  {
   "cell_type": "code",
   "execution_count": 79,
   "metadata": {
    "collapsed": false
   },
   "outputs": [
    {
     "name": "stderr",
     "output_type": "stream",
     "text": [
      "/opt/local/Library/Frameworks/Python.framework/Versions/3.4/lib/python3.4/site-packages/pandas/core/indexing.py:132: SettingWithCopyWarning: \n",
      "A value is trying to be set on a copy of a slice from a DataFrame\n",
      "\n",
      "See the caveats in the documentation: http://pandas.pydata.org/pandas-docs/stable/indexing.html#indexing-view-versus-copy\n",
      "  self._setitem_with_indexer(indexer, value)\n"
     ]
    }
   ],
   "source": [
    "cw154_cpg[\"filename\"].ix[20] = str(\"RRBS_cw154_CutSmart_proteinase_K_TAGGCATG.TATCTC\")"
   ]
  },
  {
   "cell_type": "code",
   "execution_count": 80,
   "metadata": {
    "collapsed": false
   },
   "outputs": [
    {
     "name": "stderr",
     "output_type": "stream",
     "text": [
      "/opt/local/Library/Frameworks/Python.framework/Versions/3.4/lib/python3.4/site-packages/pandas/core/indexing.py:132: SettingWithCopyWarning: \n",
      "A value is trying to be set on a copy of a slice from a DataFrame\n",
      "\n",
      "See the caveats in the documentation: http://pandas.pydata.org/pandas-docs/stable/indexing.html#indexing-view-versus-copy\n",
      "  self._setitem_with_indexer(indexer, value)\n"
     ]
    }
   ],
   "source": [
    "cw154_cpg[\"filename\"].ix[21] = str(\"RRBS_cw154_CutSmart_proteinase_K_TAGGCATG.TCTCTG\")"
   ]
  },
  {
   "cell_type": "code",
   "execution_count": 81,
   "metadata": {
    "collapsed": false
   },
   "outputs": [
    {
     "data": {
      "text/plain": [
       "'RRBS_cw154_Tris_protease_CTCTCTAC.ACAACC.dan.an'"
      ]
     },
     "execution_count": 81,
     "metadata": {},
     "output_type": "execute_result"
    }
   ],
   "source": [
    "cw154_cpg[\"filename\"].ix[22]"
   ]
  },
  {
   "cell_type": "code",
   "execution_count": 82,
   "metadata": {
    "collapsed": false
   },
   "outputs": [
    {
     "data": {
      "text/plain": [
       "43"
      ]
     },
     "execution_count": 82,
     "metadata": {},
     "output_type": "execute_result"
    }
   ],
   "source": [
    "len(\"RRBS_cw154_Tris_protease_GR_CAGAGAGG.ACAACC\")"
   ]
  },
  {
   "cell_type": "code",
   "execution_count": 83,
   "metadata": {
    "collapsed": false
   },
   "outputs": [],
   "source": [
    "cw154_cpg[\"protocol\"] = cw154_cpg[\"filename\"].str[:28]"
   ]
  },
  {
   "cell_type": "code",
   "execution_count": 84,
   "metadata": {
    "collapsed": false
   },
   "outputs": [
    {
     "data": {
      "text/html": [
       "<div>\n",
       "<table border=\"1\" class=\"dataframe\">\n",
       "  <thead>\n",
       "    <tr style=\"text-align: right;\">\n",
       "      <th></th>\n",
       "      <th>filename</th>\n",
       "      <th>total_cpg_no_filter</th>\n",
       "      <th>total_cpg_gtrthan1</th>\n",
       "      <th>total_cpg_gtrthan38</th>\n",
       "      <th>protocol</th>\n",
       "    </tr>\n",
       "  </thead>\n",
       "  <tbody>\n",
       "    <tr>\n",
       "      <th>41</th>\n",
       "      <td>RRBS_cw154_Tris_protease_CTCTCTAC.TAGCGG.dan.an</td>\n",
       "      <td>77891.0</td>\n",
       "      <td>77882.0</td>\n",
       "      <td>65323.0</td>\n",
       "      <td>RRBS_cw154_Tris_protease_CTC</td>\n",
       "    </tr>\n",
       "    <tr>\n",
       "      <th>42</th>\n",
       "      <td>RRBS_cw154_Tris_protease_CTCTCTAC.TATCTC.dan.an</td>\n",
       "      <td>306155.0</td>\n",
       "      <td>306092.0</td>\n",
       "      <td>257092.0</td>\n",
       "      <td>RRBS_cw154_Tris_protease_CTC</td>\n",
       "    </tr>\n",
       "    <tr>\n",
       "      <th>43</th>\n",
       "      <td>RRBS_cw154_Tris_protease_CTCTCTAC.TCTCTG.dan.an</td>\n",
       "      <td>615705.0</td>\n",
       "      <td>615569.0</td>\n",
       "      <td>519604.0</td>\n",
       "      <td>RRBS_cw154_Tris_protease_CTC</td>\n",
       "    </tr>\n",
       "    <tr>\n",
       "      <th>44</th>\n",
       "      <td>RRBS_cw154_Tris_protease_GR_CAGAGAGG.ACAACC.dan</td>\n",
       "      <td>739320.0</td>\n",
       "      <td>739104.0</td>\n",
       "      <td>625224.0</td>\n",
       "      <td>RRBS_cw154_Tris_protease_GR_</td>\n",
       "    </tr>\n",
       "    <tr>\n",
       "      <th>45</th>\n",
       "      <td>RRBS_cw154_Tris_protease_GR_CAGAGAGG.ACCGCG.dan</td>\n",
       "      <td>56706.0</td>\n",
       "      <td>56695.0</td>\n",
       "      <td>46212.0</td>\n",
       "      <td>RRBS_cw154_Tris_protease_GR_</td>\n",
       "    </tr>\n",
       "    <tr>\n",
       "      <th>46</th>\n",
       "      <td>RRBS_cw154_Tris_protease_GR_CAGAGAGG.ACGTGG.dan</td>\n",
       "      <td>326834.0</td>\n",
       "      <td>326784.0</td>\n",
       "      <td>272926.0</td>\n",
       "      <td>RRBS_cw154_Tris_protease_GR_</td>\n",
       "    </tr>\n",
       "    <tr>\n",
       "      <th>47</th>\n",
       "      <td>RRBS_cw154_Tris_protease_GR_CAGAGAGG.ACTCAC.dan</td>\n",
       "      <td>753993.0</td>\n",
       "      <td>753779.0</td>\n",
       "      <td>635135.0</td>\n",
       "      <td>RRBS_cw154_Tris_protease_GR_</td>\n",
       "    </tr>\n",
       "    <tr>\n",
       "      <th>48</th>\n",
       "      <td>RRBS_cw154_Tris_protease_GR_CAGAGAGG.AGGATG.dan</td>\n",
       "      <td>784636.0</td>\n",
       "      <td>784492.0</td>\n",
       "      <td>663005.0</td>\n",
       "      <td>RRBS_cw154_Tris_protease_GR_</td>\n",
       "    </tr>\n",
       "    <tr>\n",
       "      <th>49</th>\n",
       "      <td>RRBS_cw154_Tris_protease_GR_CAGAGAGG.ATAGCG.dan</td>\n",
       "      <td>287163.0</td>\n",
       "      <td>287118.0</td>\n",
       "      <td>239557.0</td>\n",
       "      <td>RRBS_cw154_Tris_protease_GR_</td>\n",
       "    </tr>\n",
       "    <tr>\n",
       "      <th>50</th>\n",
       "      <td>RRBS_cw154_Tris_protease_GR_CAGAGAGG.ATCGAC.dan</td>\n",
       "      <td>644063.0</td>\n",
       "      <td>643915.0</td>\n",
       "      <td>539497.0</td>\n",
       "      <td>RRBS_cw154_Tris_protease_GR_</td>\n",
       "    </tr>\n",
       "    <tr>\n",
       "      <th>51</th>\n",
       "      <td>RRBS_cw154_Tris_protease_GR_CAGAGAGG.CAAGAG.dan</td>\n",
       "      <td>9786.0</td>\n",
       "      <td>9786.0</td>\n",
       "      <td>7866.0</td>\n",
       "      <td>RRBS_cw154_Tris_protease_GR_</td>\n",
       "    </tr>\n",
       "    <tr>\n",
       "      <th>52</th>\n",
       "      <td>RRBS_cw154_Tris_protease_GR_CAGAGAGG.CATGAC.dan</td>\n",
       "      <td>720869.0</td>\n",
       "      <td>720763.0</td>\n",
       "      <td>600463.0</td>\n",
       "      <td>RRBS_cw154_Tris_protease_GR_</td>\n",
       "    </tr>\n",
       "    <tr>\n",
       "      <th>53</th>\n",
       "      <td>RRBS_cw154_Tris_protease_GR_CAGAGAGG.CCTTCG.dan</td>\n",
       "      <td>259789.0</td>\n",
       "      <td>259749.0</td>\n",
       "      <td>216388.0</td>\n",
       "      <td>RRBS_cw154_Tris_protease_GR_</td>\n",
       "    </tr>\n",
       "    <tr>\n",
       "      <th>54</th>\n",
       "      <td>RRBS_cw154_Tris_protease_GR_CAGAGAGG.CGGTAG.dan</td>\n",
       "      <td>409451.0</td>\n",
       "      <td>409407.0</td>\n",
       "      <td>342160.0</td>\n",
       "      <td>RRBS_cw154_Tris_protease_GR_</td>\n",
       "    </tr>\n",
       "    <tr>\n",
       "      <th>55</th>\n",
       "      <td>RRBS_cw154_Tris_protease_GR_CAGAGAGG.CTATTG.dan</td>\n",
       "      <td>393366.0</td>\n",
       "      <td>393304.0</td>\n",
       "      <td>339646.0</td>\n",
       "      <td>RRBS_cw154_Tris_protease_GR_</td>\n",
       "    </tr>\n",
       "    <tr>\n",
       "      <th>56</th>\n",
       "      <td>RRBS_cw154_Tris_protease_GR_CAGAGAGG.CTCAGC.dan</td>\n",
       "      <td>376935.0</td>\n",
       "      <td>376888.0</td>\n",
       "      <td>309490.0</td>\n",
       "      <td>RRBS_cw154_Tris_protease_GR_</td>\n",
       "    </tr>\n",
       "    <tr>\n",
       "      <th>57</th>\n",
       "      <td>RRBS_cw154_Tris_protease_GR_CAGAGAGG.GACACG.dan</td>\n",
       "      <td>260836.0</td>\n",
       "      <td>260789.0</td>\n",
       "      <td>215879.0</td>\n",
       "      <td>RRBS_cw154_Tris_protease_GR_</td>\n",
       "    </tr>\n",
       "    <tr>\n",
       "      <th>58</th>\n",
       "      <td>RRBS_cw154_Tris_protease_GR_CAGAGAGG.GCATTC.dan</td>\n",
       "      <td>324252.0</td>\n",
       "      <td>324200.0</td>\n",
       "      <td>263836.0</td>\n",
       "      <td>RRBS_cw154_Tris_protease_GR_</td>\n",
       "    </tr>\n",
       "    <tr>\n",
       "      <th>59</th>\n",
       "      <td>RRBS_cw154_Tris_protease_GR_CAGAGAGG.GCTGCC.dan</td>\n",
       "      <td>224514.0</td>\n",
       "      <td>224480.0</td>\n",
       "      <td>183768.0</td>\n",
       "      <td>RRBS_cw154_Tris_protease_GR_</td>\n",
       "    </tr>\n",
       "    <tr>\n",
       "      <th>60</th>\n",
       "      <td>RRBS_cw154_Tris_protease_GR_CAGAGAGG.GGCATC.dan</td>\n",
       "      <td>363506.0</td>\n",
       "      <td>363446.0</td>\n",
       "      <td>297360.0</td>\n",
       "      <td>RRBS_cw154_Tris_protease_GR_</td>\n",
       "    </tr>\n",
       "    <tr>\n",
       "      <th>61</th>\n",
       "      <td>RRBS_cw154_Tris_protease_GR_CAGAGAGG.GTGAGG.dan</td>\n",
       "      <td>446957.0</td>\n",
       "      <td>446899.0</td>\n",
       "      <td>370171.0</td>\n",
       "      <td>RRBS_cw154_Tris_protease_GR_</td>\n",
       "    </tr>\n",
       "    <tr>\n",
       "      <th>62</th>\n",
       "      <td>RRBS_cw154_Tris_protease_GR_CAGAGAGG.GTTGAG.dan</td>\n",
       "      <td>365218.0</td>\n",
       "      <td>365172.0</td>\n",
       "      <td>301151.0</td>\n",
       "      <td>RRBS_cw154_Tris_protease_GR_</td>\n",
       "    </tr>\n",
       "    <tr>\n",
       "      <th>63</th>\n",
       "      <td>RRBS_cw154_Tris_protease_GR_CAGAGAGG.TAGCGG.dan</td>\n",
       "      <td>174703.0</td>\n",
       "      <td>174677.0</td>\n",
       "      <td>141958.0</td>\n",
       "      <td>RRBS_cw154_Tris_protease_GR_</td>\n",
       "    </tr>\n",
       "    <tr>\n",
       "      <th>64</th>\n",
       "      <td>RRBS_cw154_Tris_protease_GR_CAGAGAGG.TATCTC.dan</td>\n",
       "      <td>423104.0</td>\n",
       "      <td>423019.0</td>\n",
       "      <td>349305.0</td>\n",
       "      <td>RRBS_cw154_Tris_protease_GR_</td>\n",
       "    </tr>\n",
       "    <tr>\n",
       "      <th>65</th>\n",
       "      <td>RRBS_cw154_Tris_protease_GR_CAGAGAGG.TCTCTG.dan</td>\n",
       "      <td>569470.0</td>\n",
       "      <td>569373.0</td>\n",
       "      <td>471904.0</td>\n",
       "      <td>RRBS_cw154_Tris_protease_GR_</td>\n",
       "    </tr>\n",
       "  </tbody>\n",
       "</table>\n",
       "</div>"
      ],
      "text/plain": [
       "                                           filename  total_cpg_no_filter  \\\n",
       "41  RRBS_cw154_Tris_protease_CTCTCTAC.TAGCGG.dan.an              77891.0   \n",
       "42  RRBS_cw154_Tris_protease_CTCTCTAC.TATCTC.dan.an             306155.0   \n",
       "43  RRBS_cw154_Tris_protease_CTCTCTAC.TCTCTG.dan.an             615705.0   \n",
       "44  RRBS_cw154_Tris_protease_GR_CAGAGAGG.ACAACC.dan             739320.0   \n",
       "45  RRBS_cw154_Tris_protease_GR_CAGAGAGG.ACCGCG.dan              56706.0   \n",
       "46  RRBS_cw154_Tris_protease_GR_CAGAGAGG.ACGTGG.dan             326834.0   \n",
       "47  RRBS_cw154_Tris_protease_GR_CAGAGAGG.ACTCAC.dan             753993.0   \n",
       "48  RRBS_cw154_Tris_protease_GR_CAGAGAGG.AGGATG.dan             784636.0   \n",
       "49  RRBS_cw154_Tris_protease_GR_CAGAGAGG.ATAGCG.dan             287163.0   \n",
       "50  RRBS_cw154_Tris_protease_GR_CAGAGAGG.ATCGAC.dan             644063.0   \n",
       "51  RRBS_cw154_Tris_protease_GR_CAGAGAGG.CAAGAG.dan               9786.0   \n",
       "52  RRBS_cw154_Tris_protease_GR_CAGAGAGG.CATGAC.dan             720869.0   \n",
       "53  RRBS_cw154_Tris_protease_GR_CAGAGAGG.CCTTCG.dan             259789.0   \n",
       "54  RRBS_cw154_Tris_protease_GR_CAGAGAGG.CGGTAG.dan             409451.0   \n",
       "55  RRBS_cw154_Tris_protease_GR_CAGAGAGG.CTATTG.dan             393366.0   \n",
       "56  RRBS_cw154_Tris_protease_GR_CAGAGAGG.CTCAGC.dan             376935.0   \n",
       "57  RRBS_cw154_Tris_protease_GR_CAGAGAGG.GACACG.dan             260836.0   \n",
       "58  RRBS_cw154_Tris_protease_GR_CAGAGAGG.GCATTC.dan             324252.0   \n",
       "59  RRBS_cw154_Tris_protease_GR_CAGAGAGG.GCTGCC.dan             224514.0   \n",
       "60  RRBS_cw154_Tris_protease_GR_CAGAGAGG.GGCATC.dan             363506.0   \n",
       "61  RRBS_cw154_Tris_protease_GR_CAGAGAGG.GTGAGG.dan             446957.0   \n",
       "62  RRBS_cw154_Tris_protease_GR_CAGAGAGG.GTTGAG.dan             365218.0   \n",
       "63  RRBS_cw154_Tris_protease_GR_CAGAGAGG.TAGCGG.dan             174703.0   \n",
       "64  RRBS_cw154_Tris_protease_GR_CAGAGAGG.TATCTC.dan             423104.0   \n",
       "65  RRBS_cw154_Tris_protease_GR_CAGAGAGG.TCTCTG.dan             569470.0   \n",
       "\n",
       "    total_cpg_gtrthan1  total_cpg_gtrthan38                      protocol  \n",
       "41             77882.0              65323.0  RRBS_cw154_Tris_protease_CTC  \n",
       "42            306092.0             257092.0  RRBS_cw154_Tris_protease_CTC  \n",
       "43            615569.0             519604.0  RRBS_cw154_Tris_protease_CTC  \n",
       "44            739104.0             625224.0  RRBS_cw154_Tris_protease_GR_  \n",
       "45             56695.0              46212.0  RRBS_cw154_Tris_protease_GR_  \n",
       "46            326784.0             272926.0  RRBS_cw154_Tris_protease_GR_  \n",
       "47            753779.0             635135.0  RRBS_cw154_Tris_protease_GR_  \n",
       "48            784492.0             663005.0  RRBS_cw154_Tris_protease_GR_  \n",
       "49            287118.0             239557.0  RRBS_cw154_Tris_protease_GR_  \n",
       "50            643915.0             539497.0  RRBS_cw154_Tris_protease_GR_  \n",
       "51              9786.0               7866.0  RRBS_cw154_Tris_protease_GR_  \n",
       "52            720763.0             600463.0  RRBS_cw154_Tris_protease_GR_  \n",
       "53            259749.0             216388.0  RRBS_cw154_Tris_protease_GR_  \n",
       "54            409407.0             342160.0  RRBS_cw154_Tris_protease_GR_  \n",
       "55            393304.0             339646.0  RRBS_cw154_Tris_protease_GR_  \n",
       "56            376888.0             309490.0  RRBS_cw154_Tris_protease_GR_  \n",
       "57            260789.0             215879.0  RRBS_cw154_Tris_protease_GR_  \n",
       "58            324200.0             263836.0  RRBS_cw154_Tris_protease_GR_  \n",
       "59            224480.0             183768.0  RRBS_cw154_Tris_protease_GR_  \n",
       "60            363446.0             297360.0  RRBS_cw154_Tris_protease_GR_  \n",
       "61            446899.0             370171.0  RRBS_cw154_Tris_protease_GR_  \n",
       "62            365172.0             301151.0  RRBS_cw154_Tris_protease_GR_  \n",
       "63            174677.0             141958.0  RRBS_cw154_Tris_protease_GR_  \n",
       "64            423019.0             349305.0  RRBS_cw154_Tris_protease_GR_  \n",
       "65            569373.0             471904.0  RRBS_cw154_Tris_protease_GR_  "
      ]
     },
     "execution_count": 84,
     "metadata": {},
     "output_type": "execute_result"
    }
   ],
   "source": [
    "cw154_cpg.tail(25)"
   ]
  },
  {
   "cell_type": "code",
   "execution_count": 85,
   "metadata": {
    "collapsed": false
   },
   "outputs": [
    {
     "data": {
      "text/plain": [
       "28"
      ]
     },
     "execution_count": 85,
     "metadata": {},
     "output_type": "execute_result"
    }
   ],
   "source": [
    "len(\"RRBS_cw154_Tris_protease_CTC\")"
   ]
  },
  {
   "cell_type": "code",
   "execution_count": 86,
   "metadata": {
    "collapsed": false
   },
   "outputs": [
    {
     "name": "stderr",
     "output_type": "stream",
     "text": [
      "/opt/local/Library/Frameworks/Python.framework/Versions/3.4/lib/python3.4/site-packages/ipykernel/__main__.py:1: SettingWithCopyWarning: \n",
      "A value is trying to be set on a copy of a slice from a DataFrame\n",
      "\n",
      "See the caveats in the documentation: http://pandas.pydata.org/pandas-docs/stable/indexing.html#indexing-view-versus-copy\n",
      "  if __name__ == '__main__':\n"
     ]
    }
   ],
   "source": [
    "cw154_cpg[\"filename\"][cw154_cpg[\"protocol\"] == str(\"RRBS_cw154_Tris_protease_CTC\")] = cw154_cpg[\"filename\"].str.replace(r'.an$', '')"
   ]
  },
  {
   "cell_type": "code",
   "execution_count": 87,
   "metadata": {
    "collapsed": false
   },
   "outputs": [
    {
     "data": {
      "text/html": [
       "<div>\n",
       "<table border=\"1\" class=\"dataframe\">\n",
       "  <thead>\n",
       "    <tr style=\"text-align: right;\">\n",
       "      <th></th>\n",
       "      <th>filename</th>\n",
       "      <th>total_cpg_no_filter</th>\n",
       "      <th>total_cpg_gtrthan1</th>\n",
       "      <th>total_cpg_gtrthan38</th>\n",
       "      <th>protocol</th>\n",
       "    </tr>\n",
       "  </thead>\n",
       "  <tbody>\n",
       "    <tr>\n",
       "      <th>0</th>\n",
       "      <td>RRBS_cw154_CutSmart_proteinase_K_TAGGCATG.ACAACC</td>\n",
       "      <td>731145.0</td>\n",
       "      <td>730971.0</td>\n",
       "      <td>609788.0</td>\n",
       "      <td>RRBS_cw154_CutSmart_proteina</td>\n",
       "    </tr>\n",
       "    <tr>\n",
       "      <th>1</th>\n",
       "      <td>RRBS_cw154_CutSmart_proteinase_K_TAGGCATG.ACCGCG</td>\n",
       "      <td>202674.0</td>\n",
       "      <td>202653.0</td>\n",
       "      <td>168418.0</td>\n",
       "      <td>RRBS_cw154_CutSmart_proteina</td>\n",
       "    </tr>\n",
       "    <tr>\n",
       "      <th>2</th>\n",
       "      <td>RRBS_cw154_CutSmart_proteinase_K_TAGGCATG.ACGTGG</td>\n",
       "      <td>451053.0</td>\n",
       "      <td>451000.0</td>\n",
       "      <td>374185.0</td>\n",
       "      <td>RRBS_cw154_CutSmart_proteina</td>\n",
       "    </tr>\n",
       "    <tr>\n",
       "      <th>3</th>\n",
       "      <td>RRBS_cw154_CutSmart_proteinase_K_TAGGCATG.ACTCAC</td>\n",
       "      <td>719630.0</td>\n",
       "      <td>719469.0</td>\n",
       "      <td>598731.0</td>\n",
       "      <td>RRBS_cw154_CutSmart_proteina</td>\n",
       "    </tr>\n",
       "    <tr>\n",
       "      <th>4</th>\n",
       "      <td>RRBS_cw154_CutSmart_proteinase_K_TAGGCATG.AGGATG</td>\n",
       "      <td>799182.0</td>\n",
       "      <td>799040.0</td>\n",
       "      <td>668842.0</td>\n",
       "      <td>RRBS_cw154_CutSmart_proteina</td>\n",
       "    </tr>\n",
       "    <tr>\n",
       "      <th>5</th>\n",
       "      <td>RRBS_cw154_CutSmart_proteinase_K_TAGGCATG.ATAGCG</td>\n",
       "      <td>551512.0</td>\n",
       "      <td>551428.0</td>\n",
       "      <td>454895.0</td>\n",
       "      <td>RRBS_cw154_CutSmart_proteina</td>\n",
       "    </tr>\n",
       "    <tr>\n",
       "      <th>6</th>\n",
       "      <td>RRBS_cw154_CutSmart_proteinase_K_TAGGCATG.ATCGAC</td>\n",
       "      <td>746691.0</td>\n",
       "      <td>746542.0</td>\n",
       "      <td>617118.0</td>\n",
       "      <td>RRBS_cw154_CutSmart_proteina</td>\n",
       "    </tr>\n",
       "    <tr>\n",
       "      <th>7</th>\n",
       "      <td>RRBS_cw154_CutSmart_proteinase_K_TAGGCATG.CAAGAG</td>\n",
       "      <td>659749.0</td>\n",
       "      <td>659662.0</td>\n",
       "      <td>548621.0</td>\n",
       "      <td>RRBS_cw154_CutSmart_proteina</td>\n",
       "    </tr>\n",
       "    <tr>\n",
       "      <th>8</th>\n",
       "      <td>RRBS_cw154_CutSmart_proteinase_K_TAGGCATG.CATGAC</td>\n",
       "      <td>772618.0</td>\n",
       "      <td>772511.0</td>\n",
       "      <td>642159.0</td>\n",
       "      <td>RRBS_cw154_CutSmart_proteina</td>\n",
       "    </tr>\n",
       "    <tr>\n",
       "      <th>9</th>\n",
       "      <td>RRBS_cw154_CutSmart_proteinase_K_TAGGCATG.CCTTCG</td>\n",
       "      <td>454537.0</td>\n",
       "      <td>454458.0</td>\n",
       "      <td>373943.0</td>\n",
       "      <td>RRBS_cw154_CutSmart_proteina</td>\n",
       "    </tr>\n",
       "    <tr>\n",
       "      <th>10</th>\n",
       "      <td>RRBS_cw154_CutSmart_proteinase_K_TAGGCATG.CGGTAG</td>\n",
       "      <td>485483.0</td>\n",
       "      <td>485419.0</td>\n",
       "      <td>403532.0</td>\n",
       "      <td>RRBS_cw154_CutSmart_proteina</td>\n",
       "    </tr>\n",
       "    <tr>\n",
       "      <th>11</th>\n",
       "      <td>RRBS_cw154_CutSmart_proteinase_K_TAGGCATG.CTATTG</td>\n",
       "      <td>9834.0</td>\n",
       "      <td>9834.0</td>\n",
       "      <td>8007.0</td>\n",
       "      <td>RRBS_cw154_CutSmart_proteina</td>\n",
       "    </tr>\n",
       "    <tr>\n",
       "      <th>12</th>\n",
       "      <td>RRBS_cw154_CutSmart_proteinase_K_TAGGCATG.CTCAGC</td>\n",
       "      <td>470082.0</td>\n",
       "      <td>470009.0</td>\n",
       "      <td>386951.0</td>\n",
       "      <td>RRBS_cw154_CutSmart_proteina</td>\n",
       "    </tr>\n",
       "    <tr>\n",
       "      <th>13</th>\n",
       "      <td>RRBS_cw154_CutSmart_proteinase_K_TAGGCATG.GACACG</td>\n",
       "      <td>406942.0</td>\n",
       "      <td>406885.0</td>\n",
       "      <td>335484.0</td>\n",
       "      <td>RRBS_cw154_CutSmart_proteina</td>\n",
       "    </tr>\n",
       "    <tr>\n",
       "      <th>14</th>\n",
       "      <td>RRBS_cw154_CutSmart_proteinase_K_TAGGCATG.GCATTC</td>\n",
       "      <td>579844.0</td>\n",
       "      <td>579771.0</td>\n",
       "      <td>476413.0</td>\n",
       "      <td>RRBS_cw154_CutSmart_proteina</td>\n",
       "    </tr>\n",
       "    <tr>\n",
       "      <th>15</th>\n",
       "      <td>RRBS_cw154_CutSmart_proteinase_K_TAGGCATG.GCTGCC</td>\n",
       "      <td>257369.0</td>\n",
       "      <td>257331.0</td>\n",
       "      <td>211519.0</td>\n",
       "      <td>RRBS_cw154_CutSmart_proteina</td>\n",
       "    </tr>\n",
       "    <tr>\n",
       "      <th>16</th>\n",
       "      <td>RRBS_cw154_CutSmart_proteinase_K_TAGGCATG.GGCATC</td>\n",
       "      <td>512469.0</td>\n",
       "      <td>512391.0</td>\n",
       "      <td>426033.0</td>\n",
       "      <td>RRBS_cw154_CutSmart_proteina</td>\n",
       "    </tr>\n",
       "    <tr>\n",
       "      <th>17</th>\n",
       "      <td>RRBS_cw154_CutSmart_proteinase_K_TAGGCATG.GTGAGG</td>\n",
       "      <td>541784.0</td>\n",
       "      <td>541712.0</td>\n",
       "      <td>452376.0</td>\n",
       "      <td>RRBS_cw154_CutSmart_proteina</td>\n",
       "    </tr>\n",
       "    <tr>\n",
       "      <th>18</th>\n",
       "      <td>RRBS_cw154_CutSmart_proteinase_K_TAGGCATG.GTTGAG</td>\n",
       "      <td>15152.0</td>\n",
       "      <td>15150.0</td>\n",
       "      <td>12450.0</td>\n",
       "      <td>RRBS_cw154_CutSmart_proteina</td>\n",
       "    </tr>\n",
       "    <tr>\n",
       "      <th>19</th>\n",
       "      <td>RRBS_cw154_CutSmart_proteinase_K_TAGGCATG.TAGCGG</td>\n",
       "      <td>404298.0</td>\n",
       "      <td>404249.0</td>\n",
       "      <td>334974.0</td>\n",
       "      <td>RRBS_cw154_CutSmart_proteina</td>\n",
       "    </tr>\n",
       "    <tr>\n",
       "      <th>20</th>\n",
       "      <td>RRBS_cw154_CutSmart_proteinase_K_TAGGCATG.TATCTC</td>\n",
       "      <td>791044.0</td>\n",
       "      <td>790894.0</td>\n",
       "      <td>657494.0</td>\n",
       "      <td>RRBS_cw154_CutSmart_proteina</td>\n",
       "    </tr>\n",
       "    <tr>\n",
       "      <th>21</th>\n",
       "      <td>RRBS_cw154_CutSmart_proteinase_K_TAGGCATG.TCTCTG</td>\n",
       "      <td>653387.0</td>\n",
       "      <td>653298.0</td>\n",
       "      <td>544721.0</td>\n",
       "      <td>RRBS_cw154_CutSmart_proteina</td>\n",
       "    </tr>\n",
       "    <tr>\n",
       "      <th>22</th>\n",
       "      <td>RRBS_cw154_Tris_protease_CTCTCTAC.ACAACC.dan</td>\n",
       "      <td>475766.0</td>\n",
       "      <td>475596.0</td>\n",
       "      <td>398721.0</td>\n",
       "      <td>RRBS_cw154_Tris_protease_CTC</td>\n",
       "    </tr>\n",
       "    <tr>\n",
       "      <th>23</th>\n",
       "      <td>RRBS_cw154_Tris_protease_CTCTCTAC.ACCGCG.dan</td>\n",
       "      <td>118876.0</td>\n",
       "      <td>118851.0</td>\n",
       "      <td>100501.0</td>\n",
       "      <td>RRBS_cw154_Tris_protease_CTC</td>\n",
       "    </tr>\n",
       "    <tr>\n",
       "      <th>24</th>\n",
       "      <td>RRBS_cw154_Tris_protease_CTCTCTAC.ACGTGG.dan</td>\n",
       "      <td>133116.0</td>\n",
       "      <td>133102.0</td>\n",
       "      <td>112979.0</td>\n",
       "      <td>RRBS_cw154_Tris_protease_CTC</td>\n",
       "    </tr>\n",
       "    <tr>\n",
       "      <th>25</th>\n",
       "      <td>RRBS_cw154_Tris_protease_CTCTCTAC.ACTCAC.dan</td>\n",
       "      <td>422977.0</td>\n",
       "      <td>422884.0</td>\n",
       "      <td>349345.0</td>\n",
       "      <td>RRBS_cw154_Tris_protease_CTC</td>\n",
       "    </tr>\n",
       "    <tr>\n",
       "      <th>26</th>\n",
       "      <td>RRBS_cw154_Tris_protease_CTCTCTAC.AGGATG.dan</td>\n",
       "      <td>281432.0</td>\n",
       "      <td>281365.0</td>\n",
       "      <td>236281.0</td>\n",
       "      <td>RRBS_cw154_Tris_protease_CTC</td>\n",
       "    </tr>\n",
       "    <tr>\n",
       "      <th>27</th>\n",
       "      <td>RRBS_cw154_Tris_protease_CTCTCTAC.ATAGCG.dan</td>\n",
       "      <td>283027.0</td>\n",
       "      <td>282977.0</td>\n",
       "      <td>237352.0</td>\n",
       "      <td>RRBS_cw154_Tris_protease_CTC</td>\n",
       "    </tr>\n",
       "    <tr>\n",
       "      <th>28</th>\n",
       "      <td>RRBS_cw154_Tris_protease_CTCTCTAC.ATCGAC.dan</td>\n",
       "      <td>333368.0</td>\n",
       "      <td>333284.0</td>\n",
       "      <td>278192.0</td>\n",
       "      <td>RRBS_cw154_Tris_protease_CTC</td>\n",
       "    </tr>\n",
       "    <tr>\n",
       "      <th>29</th>\n",
       "      <td>RRBS_cw154_Tris_protease_CTCTCTAC.CAAGAG.dan</td>\n",
       "      <td>12665.0</td>\n",
       "      <td>12665.0</td>\n",
       "      <td>10385.0</td>\n",
       "      <td>RRBS_cw154_Tris_protease_CTC</td>\n",
       "    </tr>\n",
       "    <tr>\n",
       "      <th>...</th>\n",
       "      <td>...</td>\n",
       "      <td>...</td>\n",
       "      <td>...</td>\n",
       "      <td>...</td>\n",
       "      <td>...</td>\n",
       "    </tr>\n",
       "    <tr>\n",
       "      <th>36</th>\n",
       "      <td>RRBS_cw154_Tris_protease_CTCTCTAC.GCATTC.dan</td>\n",
       "      <td>589697.0</td>\n",
       "      <td>589548.0</td>\n",
       "      <td>490794.0</td>\n",
       "      <td>RRBS_cw154_Tris_protease_CTC</td>\n",
       "    </tr>\n",
       "    <tr>\n",
       "      <th>37</th>\n",
       "      <td>RRBS_cw154_Tris_protease_CTCTCTAC.GCTGCC.dan</td>\n",
       "      <td>146093.0</td>\n",
       "      <td>146076.0</td>\n",
       "      <td>119380.0</td>\n",
       "      <td>RRBS_cw154_Tris_protease_CTC</td>\n",
       "    </tr>\n",
       "    <tr>\n",
       "      <th>38</th>\n",
       "      <td>RRBS_cw154_Tris_protease_CTCTCTAC.GGCATC.dan</td>\n",
       "      <td>430967.0</td>\n",
       "      <td>430875.0</td>\n",
       "      <td>357048.0</td>\n",
       "      <td>RRBS_cw154_Tris_protease_CTC</td>\n",
       "    </tr>\n",
       "    <tr>\n",
       "      <th>39</th>\n",
       "      <td>RRBS_cw154_Tris_protease_CTCTCTAC.GTGAGG.dan</td>\n",
       "      <td>339976.0</td>\n",
       "      <td>339902.0</td>\n",
       "      <td>285024.0</td>\n",
       "      <td>RRBS_cw154_Tris_protease_CTC</td>\n",
       "    </tr>\n",
       "    <tr>\n",
       "      <th>40</th>\n",
       "      <td>RRBS_cw154_Tris_protease_CTCTCTAC.GTTGAG.dan</td>\n",
       "      <td>209790.0</td>\n",
       "      <td>209741.0</td>\n",
       "      <td>172699.0</td>\n",
       "      <td>RRBS_cw154_Tris_protease_CTC</td>\n",
       "    </tr>\n",
       "    <tr>\n",
       "      <th>41</th>\n",
       "      <td>RRBS_cw154_Tris_protease_CTCTCTAC.TAGCGG.dan</td>\n",
       "      <td>77891.0</td>\n",
       "      <td>77882.0</td>\n",
       "      <td>65323.0</td>\n",
       "      <td>RRBS_cw154_Tris_protease_CTC</td>\n",
       "    </tr>\n",
       "    <tr>\n",
       "      <th>42</th>\n",
       "      <td>RRBS_cw154_Tris_protease_CTCTCTAC.TATCTC.dan</td>\n",
       "      <td>306155.0</td>\n",
       "      <td>306092.0</td>\n",
       "      <td>257092.0</td>\n",
       "      <td>RRBS_cw154_Tris_protease_CTC</td>\n",
       "    </tr>\n",
       "    <tr>\n",
       "      <th>43</th>\n",
       "      <td>RRBS_cw154_Tris_protease_CTCTCTAC.TCTCTG.dan</td>\n",
       "      <td>615705.0</td>\n",
       "      <td>615569.0</td>\n",
       "      <td>519604.0</td>\n",
       "      <td>RRBS_cw154_Tris_protease_CTC</td>\n",
       "    </tr>\n",
       "    <tr>\n",
       "      <th>44</th>\n",
       "      <td>RRBS_cw154_Tris_protease_GR_CAGAGAGG.ACAACC.dan</td>\n",
       "      <td>739320.0</td>\n",
       "      <td>739104.0</td>\n",
       "      <td>625224.0</td>\n",
       "      <td>RRBS_cw154_Tris_protease_GR_</td>\n",
       "    </tr>\n",
       "    <tr>\n",
       "      <th>45</th>\n",
       "      <td>RRBS_cw154_Tris_protease_GR_CAGAGAGG.ACCGCG.dan</td>\n",
       "      <td>56706.0</td>\n",
       "      <td>56695.0</td>\n",
       "      <td>46212.0</td>\n",
       "      <td>RRBS_cw154_Tris_protease_GR_</td>\n",
       "    </tr>\n",
       "    <tr>\n",
       "      <th>46</th>\n",
       "      <td>RRBS_cw154_Tris_protease_GR_CAGAGAGG.ACGTGG.dan</td>\n",
       "      <td>326834.0</td>\n",
       "      <td>326784.0</td>\n",
       "      <td>272926.0</td>\n",
       "      <td>RRBS_cw154_Tris_protease_GR_</td>\n",
       "    </tr>\n",
       "    <tr>\n",
       "      <th>47</th>\n",
       "      <td>RRBS_cw154_Tris_protease_GR_CAGAGAGG.ACTCAC.dan</td>\n",
       "      <td>753993.0</td>\n",
       "      <td>753779.0</td>\n",
       "      <td>635135.0</td>\n",
       "      <td>RRBS_cw154_Tris_protease_GR_</td>\n",
       "    </tr>\n",
       "    <tr>\n",
       "      <th>48</th>\n",
       "      <td>RRBS_cw154_Tris_protease_GR_CAGAGAGG.AGGATG.dan</td>\n",
       "      <td>784636.0</td>\n",
       "      <td>784492.0</td>\n",
       "      <td>663005.0</td>\n",
       "      <td>RRBS_cw154_Tris_protease_GR_</td>\n",
       "    </tr>\n",
       "    <tr>\n",
       "      <th>49</th>\n",
       "      <td>RRBS_cw154_Tris_protease_GR_CAGAGAGG.ATAGCG.dan</td>\n",
       "      <td>287163.0</td>\n",
       "      <td>287118.0</td>\n",
       "      <td>239557.0</td>\n",
       "      <td>RRBS_cw154_Tris_protease_GR_</td>\n",
       "    </tr>\n",
       "    <tr>\n",
       "      <th>50</th>\n",
       "      <td>RRBS_cw154_Tris_protease_GR_CAGAGAGG.ATCGAC.dan</td>\n",
       "      <td>644063.0</td>\n",
       "      <td>643915.0</td>\n",
       "      <td>539497.0</td>\n",
       "      <td>RRBS_cw154_Tris_protease_GR_</td>\n",
       "    </tr>\n",
       "    <tr>\n",
       "      <th>51</th>\n",
       "      <td>RRBS_cw154_Tris_protease_GR_CAGAGAGG.CAAGAG.dan</td>\n",
       "      <td>9786.0</td>\n",
       "      <td>9786.0</td>\n",
       "      <td>7866.0</td>\n",
       "      <td>RRBS_cw154_Tris_protease_GR_</td>\n",
       "    </tr>\n",
       "    <tr>\n",
       "      <th>52</th>\n",
       "      <td>RRBS_cw154_Tris_protease_GR_CAGAGAGG.CATGAC.dan</td>\n",
       "      <td>720869.0</td>\n",
       "      <td>720763.0</td>\n",
       "      <td>600463.0</td>\n",
       "      <td>RRBS_cw154_Tris_protease_GR_</td>\n",
       "    </tr>\n",
       "    <tr>\n",
       "      <th>53</th>\n",
       "      <td>RRBS_cw154_Tris_protease_GR_CAGAGAGG.CCTTCG.dan</td>\n",
       "      <td>259789.0</td>\n",
       "      <td>259749.0</td>\n",
       "      <td>216388.0</td>\n",
       "      <td>RRBS_cw154_Tris_protease_GR_</td>\n",
       "    </tr>\n",
       "    <tr>\n",
       "      <th>54</th>\n",
       "      <td>RRBS_cw154_Tris_protease_GR_CAGAGAGG.CGGTAG.dan</td>\n",
       "      <td>409451.0</td>\n",
       "      <td>409407.0</td>\n",
       "      <td>342160.0</td>\n",
       "      <td>RRBS_cw154_Tris_protease_GR_</td>\n",
       "    </tr>\n",
       "    <tr>\n",
       "      <th>55</th>\n",
       "      <td>RRBS_cw154_Tris_protease_GR_CAGAGAGG.CTATTG.dan</td>\n",
       "      <td>393366.0</td>\n",
       "      <td>393304.0</td>\n",
       "      <td>339646.0</td>\n",
       "      <td>RRBS_cw154_Tris_protease_GR_</td>\n",
       "    </tr>\n",
       "    <tr>\n",
       "      <th>56</th>\n",
       "      <td>RRBS_cw154_Tris_protease_GR_CAGAGAGG.CTCAGC.dan</td>\n",
       "      <td>376935.0</td>\n",
       "      <td>376888.0</td>\n",
       "      <td>309490.0</td>\n",
       "      <td>RRBS_cw154_Tris_protease_GR_</td>\n",
       "    </tr>\n",
       "    <tr>\n",
       "      <th>57</th>\n",
       "      <td>RRBS_cw154_Tris_protease_GR_CAGAGAGG.GACACG.dan</td>\n",
       "      <td>260836.0</td>\n",
       "      <td>260789.0</td>\n",
       "      <td>215879.0</td>\n",
       "      <td>RRBS_cw154_Tris_protease_GR_</td>\n",
       "    </tr>\n",
       "    <tr>\n",
       "      <th>58</th>\n",
       "      <td>RRBS_cw154_Tris_protease_GR_CAGAGAGG.GCATTC.dan</td>\n",
       "      <td>324252.0</td>\n",
       "      <td>324200.0</td>\n",
       "      <td>263836.0</td>\n",
       "      <td>RRBS_cw154_Tris_protease_GR_</td>\n",
       "    </tr>\n",
       "    <tr>\n",
       "      <th>59</th>\n",
       "      <td>RRBS_cw154_Tris_protease_GR_CAGAGAGG.GCTGCC.dan</td>\n",
       "      <td>224514.0</td>\n",
       "      <td>224480.0</td>\n",
       "      <td>183768.0</td>\n",
       "      <td>RRBS_cw154_Tris_protease_GR_</td>\n",
       "    </tr>\n",
       "    <tr>\n",
       "      <th>60</th>\n",
       "      <td>RRBS_cw154_Tris_protease_GR_CAGAGAGG.GGCATC.dan</td>\n",
       "      <td>363506.0</td>\n",
       "      <td>363446.0</td>\n",
       "      <td>297360.0</td>\n",
       "      <td>RRBS_cw154_Tris_protease_GR_</td>\n",
       "    </tr>\n",
       "    <tr>\n",
       "      <th>61</th>\n",
       "      <td>RRBS_cw154_Tris_protease_GR_CAGAGAGG.GTGAGG.dan</td>\n",
       "      <td>446957.0</td>\n",
       "      <td>446899.0</td>\n",
       "      <td>370171.0</td>\n",
       "      <td>RRBS_cw154_Tris_protease_GR_</td>\n",
       "    </tr>\n",
       "    <tr>\n",
       "      <th>62</th>\n",
       "      <td>RRBS_cw154_Tris_protease_GR_CAGAGAGG.GTTGAG.dan</td>\n",
       "      <td>365218.0</td>\n",
       "      <td>365172.0</td>\n",
       "      <td>301151.0</td>\n",
       "      <td>RRBS_cw154_Tris_protease_GR_</td>\n",
       "    </tr>\n",
       "    <tr>\n",
       "      <th>63</th>\n",
       "      <td>RRBS_cw154_Tris_protease_GR_CAGAGAGG.TAGCGG.dan</td>\n",
       "      <td>174703.0</td>\n",
       "      <td>174677.0</td>\n",
       "      <td>141958.0</td>\n",
       "      <td>RRBS_cw154_Tris_protease_GR_</td>\n",
       "    </tr>\n",
       "    <tr>\n",
       "      <th>64</th>\n",
       "      <td>RRBS_cw154_Tris_protease_GR_CAGAGAGG.TATCTC.dan</td>\n",
       "      <td>423104.0</td>\n",
       "      <td>423019.0</td>\n",
       "      <td>349305.0</td>\n",
       "      <td>RRBS_cw154_Tris_protease_GR_</td>\n",
       "    </tr>\n",
       "    <tr>\n",
       "      <th>65</th>\n",
       "      <td>RRBS_cw154_Tris_protease_GR_CAGAGAGG.TCTCTG.dan</td>\n",
       "      <td>569470.0</td>\n",
       "      <td>569373.0</td>\n",
       "      <td>471904.0</td>\n",
       "      <td>RRBS_cw154_Tris_protease_GR_</td>\n",
       "    </tr>\n",
       "  </tbody>\n",
       "</table>\n",
       "<p>66 rows × 5 columns</p>\n",
       "</div>"
      ],
      "text/plain": [
       "                                            filename  total_cpg_no_filter  \\\n",
       "0   RRBS_cw154_CutSmart_proteinase_K_TAGGCATG.ACAACC             731145.0   \n",
       "1   RRBS_cw154_CutSmart_proteinase_K_TAGGCATG.ACCGCG             202674.0   \n",
       "2   RRBS_cw154_CutSmart_proteinase_K_TAGGCATG.ACGTGG             451053.0   \n",
       "3   RRBS_cw154_CutSmart_proteinase_K_TAGGCATG.ACTCAC             719630.0   \n",
       "4   RRBS_cw154_CutSmart_proteinase_K_TAGGCATG.AGGATG             799182.0   \n",
       "5   RRBS_cw154_CutSmart_proteinase_K_TAGGCATG.ATAGCG             551512.0   \n",
       "6   RRBS_cw154_CutSmart_proteinase_K_TAGGCATG.ATCGAC             746691.0   \n",
       "7   RRBS_cw154_CutSmart_proteinase_K_TAGGCATG.CAAGAG             659749.0   \n",
       "8   RRBS_cw154_CutSmart_proteinase_K_TAGGCATG.CATGAC             772618.0   \n",
       "9   RRBS_cw154_CutSmart_proteinase_K_TAGGCATG.CCTTCG             454537.0   \n",
       "10  RRBS_cw154_CutSmart_proteinase_K_TAGGCATG.CGGTAG             485483.0   \n",
       "11  RRBS_cw154_CutSmart_proteinase_K_TAGGCATG.CTATTG               9834.0   \n",
       "12  RRBS_cw154_CutSmart_proteinase_K_TAGGCATG.CTCAGC             470082.0   \n",
       "13  RRBS_cw154_CutSmart_proteinase_K_TAGGCATG.GACACG             406942.0   \n",
       "14  RRBS_cw154_CutSmart_proteinase_K_TAGGCATG.GCATTC             579844.0   \n",
       "15  RRBS_cw154_CutSmart_proteinase_K_TAGGCATG.GCTGCC             257369.0   \n",
       "16  RRBS_cw154_CutSmart_proteinase_K_TAGGCATG.GGCATC             512469.0   \n",
       "17  RRBS_cw154_CutSmart_proteinase_K_TAGGCATG.GTGAGG             541784.0   \n",
       "18  RRBS_cw154_CutSmart_proteinase_K_TAGGCATG.GTTGAG              15152.0   \n",
       "19  RRBS_cw154_CutSmart_proteinase_K_TAGGCATG.TAGCGG             404298.0   \n",
       "20  RRBS_cw154_CutSmart_proteinase_K_TAGGCATG.TATCTC             791044.0   \n",
       "21  RRBS_cw154_CutSmart_proteinase_K_TAGGCATG.TCTCTG             653387.0   \n",
       "22      RRBS_cw154_Tris_protease_CTCTCTAC.ACAACC.dan             475766.0   \n",
       "23      RRBS_cw154_Tris_protease_CTCTCTAC.ACCGCG.dan             118876.0   \n",
       "24      RRBS_cw154_Tris_protease_CTCTCTAC.ACGTGG.dan             133116.0   \n",
       "25      RRBS_cw154_Tris_protease_CTCTCTAC.ACTCAC.dan             422977.0   \n",
       "26      RRBS_cw154_Tris_protease_CTCTCTAC.AGGATG.dan             281432.0   \n",
       "27      RRBS_cw154_Tris_protease_CTCTCTAC.ATAGCG.dan             283027.0   \n",
       "28      RRBS_cw154_Tris_protease_CTCTCTAC.ATCGAC.dan             333368.0   \n",
       "29      RRBS_cw154_Tris_protease_CTCTCTAC.CAAGAG.dan              12665.0   \n",
       "..                                               ...                  ...   \n",
       "36      RRBS_cw154_Tris_protease_CTCTCTAC.GCATTC.dan             589697.0   \n",
       "37      RRBS_cw154_Tris_protease_CTCTCTAC.GCTGCC.dan             146093.0   \n",
       "38      RRBS_cw154_Tris_protease_CTCTCTAC.GGCATC.dan             430967.0   \n",
       "39      RRBS_cw154_Tris_protease_CTCTCTAC.GTGAGG.dan             339976.0   \n",
       "40      RRBS_cw154_Tris_protease_CTCTCTAC.GTTGAG.dan             209790.0   \n",
       "41      RRBS_cw154_Tris_protease_CTCTCTAC.TAGCGG.dan              77891.0   \n",
       "42      RRBS_cw154_Tris_protease_CTCTCTAC.TATCTC.dan             306155.0   \n",
       "43      RRBS_cw154_Tris_protease_CTCTCTAC.TCTCTG.dan             615705.0   \n",
       "44   RRBS_cw154_Tris_protease_GR_CAGAGAGG.ACAACC.dan             739320.0   \n",
       "45   RRBS_cw154_Tris_protease_GR_CAGAGAGG.ACCGCG.dan              56706.0   \n",
       "46   RRBS_cw154_Tris_protease_GR_CAGAGAGG.ACGTGG.dan             326834.0   \n",
       "47   RRBS_cw154_Tris_protease_GR_CAGAGAGG.ACTCAC.dan             753993.0   \n",
       "48   RRBS_cw154_Tris_protease_GR_CAGAGAGG.AGGATG.dan             784636.0   \n",
       "49   RRBS_cw154_Tris_protease_GR_CAGAGAGG.ATAGCG.dan             287163.0   \n",
       "50   RRBS_cw154_Tris_protease_GR_CAGAGAGG.ATCGAC.dan             644063.0   \n",
       "51   RRBS_cw154_Tris_protease_GR_CAGAGAGG.CAAGAG.dan               9786.0   \n",
       "52   RRBS_cw154_Tris_protease_GR_CAGAGAGG.CATGAC.dan             720869.0   \n",
       "53   RRBS_cw154_Tris_protease_GR_CAGAGAGG.CCTTCG.dan             259789.0   \n",
       "54   RRBS_cw154_Tris_protease_GR_CAGAGAGG.CGGTAG.dan             409451.0   \n",
       "55   RRBS_cw154_Tris_protease_GR_CAGAGAGG.CTATTG.dan             393366.0   \n",
       "56   RRBS_cw154_Tris_protease_GR_CAGAGAGG.CTCAGC.dan             376935.0   \n",
       "57   RRBS_cw154_Tris_protease_GR_CAGAGAGG.GACACG.dan             260836.0   \n",
       "58   RRBS_cw154_Tris_protease_GR_CAGAGAGG.GCATTC.dan             324252.0   \n",
       "59   RRBS_cw154_Tris_protease_GR_CAGAGAGG.GCTGCC.dan             224514.0   \n",
       "60   RRBS_cw154_Tris_protease_GR_CAGAGAGG.GGCATC.dan             363506.0   \n",
       "61   RRBS_cw154_Tris_protease_GR_CAGAGAGG.GTGAGG.dan             446957.0   \n",
       "62   RRBS_cw154_Tris_protease_GR_CAGAGAGG.GTTGAG.dan             365218.0   \n",
       "63   RRBS_cw154_Tris_protease_GR_CAGAGAGG.TAGCGG.dan             174703.0   \n",
       "64   RRBS_cw154_Tris_protease_GR_CAGAGAGG.TATCTC.dan             423104.0   \n",
       "65   RRBS_cw154_Tris_protease_GR_CAGAGAGG.TCTCTG.dan             569470.0   \n",
       "\n",
       "    total_cpg_gtrthan1  total_cpg_gtrthan38                      protocol  \n",
       "0             730971.0             609788.0  RRBS_cw154_CutSmart_proteina  \n",
       "1             202653.0             168418.0  RRBS_cw154_CutSmart_proteina  \n",
       "2             451000.0             374185.0  RRBS_cw154_CutSmart_proteina  \n",
       "3             719469.0             598731.0  RRBS_cw154_CutSmart_proteina  \n",
       "4             799040.0             668842.0  RRBS_cw154_CutSmart_proteina  \n",
       "5             551428.0             454895.0  RRBS_cw154_CutSmart_proteina  \n",
       "6             746542.0             617118.0  RRBS_cw154_CutSmart_proteina  \n",
       "7             659662.0             548621.0  RRBS_cw154_CutSmart_proteina  \n",
       "8             772511.0             642159.0  RRBS_cw154_CutSmart_proteina  \n",
       "9             454458.0             373943.0  RRBS_cw154_CutSmart_proteina  \n",
       "10            485419.0             403532.0  RRBS_cw154_CutSmart_proteina  \n",
       "11              9834.0               8007.0  RRBS_cw154_CutSmart_proteina  \n",
       "12            470009.0             386951.0  RRBS_cw154_CutSmart_proteina  \n",
       "13            406885.0             335484.0  RRBS_cw154_CutSmart_proteina  \n",
       "14            579771.0             476413.0  RRBS_cw154_CutSmart_proteina  \n",
       "15            257331.0             211519.0  RRBS_cw154_CutSmart_proteina  \n",
       "16            512391.0             426033.0  RRBS_cw154_CutSmart_proteina  \n",
       "17            541712.0             452376.0  RRBS_cw154_CutSmart_proteina  \n",
       "18             15150.0              12450.0  RRBS_cw154_CutSmart_proteina  \n",
       "19            404249.0             334974.0  RRBS_cw154_CutSmart_proteina  \n",
       "20            790894.0             657494.0  RRBS_cw154_CutSmart_proteina  \n",
       "21            653298.0             544721.0  RRBS_cw154_CutSmart_proteina  \n",
       "22            475596.0             398721.0  RRBS_cw154_Tris_protease_CTC  \n",
       "23            118851.0             100501.0  RRBS_cw154_Tris_protease_CTC  \n",
       "24            133102.0             112979.0  RRBS_cw154_Tris_protease_CTC  \n",
       "25            422884.0             349345.0  RRBS_cw154_Tris_protease_CTC  \n",
       "26            281365.0             236281.0  RRBS_cw154_Tris_protease_CTC  \n",
       "27            282977.0             237352.0  RRBS_cw154_Tris_protease_CTC  \n",
       "28            333284.0             278192.0  RRBS_cw154_Tris_protease_CTC  \n",
       "29             12665.0              10385.0  RRBS_cw154_Tris_protease_CTC  \n",
       "..                 ...                  ...                           ...  \n",
       "36            589548.0             490794.0  RRBS_cw154_Tris_protease_CTC  \n",
       "37            146076.0             119380.0  RRBS_cw154_Tris_protease_CTC  \n",
       "38            430875.0             357048.0  RRBS_cw154_Tris_protease_CTC  \n",
       "39            339902.0             285024.0  RRBS_cw154_Tris_protease_CTC  \n",
       "40            209741.0             172699.0  RRBS_cw154_Tris_protease_CTC  \n",
       "41             77882.0              65323.0  RRBS_cw154_Tris_protease_CTC  \n",
       "42            306092.0             257092.0  RRBS_cw154_Tris_protease_CTC  \n",
       "43            615569.0             519604.0  RRBS_cw154_Tris_protease_CTC  \n",
       "44            739104.0             625224.0  RRBS_cw154_Tris_protease_GR_  \n",
       "45             56695.0              46212.0  RRBS_cw154_Tris_protease_GR_  \n",
       "46            326784.0             272926.0  RRBS_cw154_Tris_protease_GR_  \n",
       "47            753779.0             635135.0  RRBS_cw154_Tris_protease_GR_  \n",
       "48            784492.0             663005.0  RRBS_cw154_Tris_protease_GR_  \n",
       "49            287118.0             239557.0  RRBS_cw154_Tris_protease_GR_  \n",
       "50            643915.0             539497.0  RRBS_cw154_Tris_protease_GR_  \n",
       "51              9786.0               7866.0  RRBS_cw154_Tris_protease_GR_  \n",
       "52            720763.0             600463.0  RRBS_cw154_Tris_protease_GR_  \n",
       "53            259749.0             216388.0  RRBS_cw154_Tris_protease_GR_  \n",
       "54            409407.0             342160.0  RRBS_cw154_Tris_protease_GR_  \n",
       "55            393304.0             339646.0  RRBS_cw154_Tris_protease_GR_  \n",
       "56            376888.0             309490.0  RRBS_cw154_Tris_protease_GR_  \n",
       "57            260789.0             215879.0  RRBS_cw154_Tris_protease_GR_  \n",
       "58            324200.0             263836.0  RRBS_cw154_Tris_protease_GR_  \n",
       "59            224480.0             183768.0  RRBS_cw154_Tris_protease_GR_  \n",
       "60            363446.0             297360.0  RRBS_cw154_Tris_protease_GR_  \n",
       "61            446899.0             370171.0  RRBS_cw154_Tris_protease_GR_  \n",
       "62            365172.0             301151.0  RRBS_cw154_Tris_protease_GR_  \n",
       "63            174677.0             141958.0  RRBS_cw154_Tris_protease_GR_  \n",
       "64            423019.0             349305.0  RRBS_cw154_Tris_protease_GR_  \n",
       "65            569373.0             471904.0  RRBS_cw154_Tris_protease_GR_  \n",
       "\n",
       "[66 rows x 5 columns]"
      ]
     },
     "execution_count": 87,
     "metadata": {},
     "output_type": "execute_result"
    }
   ],
   "source": [
    "cw154_cpg"
   ]
  },
  {
   "cell_type": "code",
   "execution_count": 88,
   "metadata": {
    "collapsed": false
   },
   "outputs": [
    {
     "name": "stderr",
     "output_type": "stream",
     "text": [
      "/opt/local/Library/Frameworks/Python.framework/Versions/3.4/lib/python3.4/site-packages/ipykernel/__main__.py:1: SettingWithCopyWarning: \n",
      "A value is trying to be set on a copy of a slice from a DataFrame\n",
      "\n",
      "See the caveats in the documentation: http://pandas.pydata.org/pandas-docs/stable/indexing.html#indexing-view-versus-copy\n",
      "  if __name__ == '__main__':\n"
     ]
    }
   ],
   "source": [
    "cw154_cpg[\"filename\"][cw154_cpg[\"protocol\"] == str(\"RRBS_cw154_Tris_protease_CTC\")] = cw154_cpg[\"filename\"].str.replace(r'.an$', '')"
   ]
  },
  {
   "cell_type": "code",
   "execution_count": 89,
   "metadata": {
    "collapsed": false
   },
   "outputs": [
    {
     "name": "stderr",
     "output_type": "stream",
     "text": [
      "/opt/local/Library/Frameworks/Python.framework/Versions/3.4/lib/python3.4/site-packages/ipykernel/__main__.py:1: SettingWithCopyWarning: \n",
      "A value is trying to be set on a copy of a slice from a DataFrame\n",
      "\n",
      "See the caveats in the documentation: http://pandas.pydata.org/pandas-docs/stable/indexing.html#indexing-view-versus-copy\n",
      "  if __name__ == '__main__':\n"
     ]
    }
   ],
   "source": [
    "cw154_cpg[\"filename\"][cw154_cpg[\"protocol\"] == str(\"RRBS_cw154_Tris_protease_GR_\")] = cw154_cpg[\"filename\"].str.replace(r'.dan$', '')"
   ]
  },
  {
   "cell_type": "code",
   "execution_count": 90,
   "metadata": {
    "collapsed": false
   },
   "outputs": [
    {
     "data": {
      "text/plain": [
       "(66, 5)"
      ]
     },
     "execution_count": 90,
     "metadata": {},
     "output_type": "execute_result"
    }
   ],
   "source": [
    "cw154_cpg.shape"
   ]
  },
  {
   "cell_type": "code",
   "execution_count": 91,
   "metadata": {
    "collapsed": false
   },
   "outputs": [
    {
     "data": {
      "text/html": [
       "<div>\n",
       "<table border=\"1\" class=\"dataframe\">\n",
       "  <thead>\n",
       "    <tr style=\"text-align: right;\">\n",
       "      <th></th>\n",
       "      <th>filename</th>\n",
       "      <th>total_cpg_no_filter</th>\n",
       "      <th>total_cpg_gtrthan1</th>\n",
       "      <th>total_cpg_gtrthan38</th>\n",
       "      <th>protocol</th>\n",
       "    </tr>\n",
       "  </thead>\n",
       "  <tbody>\n",
       "    <tr>\n",
       "      <th>0</th>\n",
       "      <td>RRBS_cw154_CutSmart_proteinase_K_TAGGCATG.ACAACC</td>\n",
       "      <td>731145.0</td>\n",
       "      <td>730971.0</td>\n",
       "      <td>609788.0</td>\n",
       "      <td>RRBS_cw154_CutSmart_proteina</td>\n",
       "    </tr>\n",
       "    <tr>\n",
       "      <th>1</th>\n",
       "      <td>RRBS_cw154_CutSmart_proteinase_K_TAGGCATG.ACCGCG</td>\n",
       "      <td>202674.0</td>\n",
       "      <td>202653.0</td>\n",
       "      <td>168418.0</td>\n",
       "      <td>RRBS_cw154_CutSmart_proteina</td>\n",
       "    </tr>\n",
       "    <tr>\n",
       "      <th>2</th>\n",
       "      <td>RRBS_cw154_CutSmart_proteinase_K_TAGGCATG.ACGTGG</td>\n",
       "      <td>451053.0</td>\n",
       "      <td>451000.0</td>\n",
       "      <td>374185.0</td>\n",
       "      <td>RRBS_cw154_CutSmart_proteina</td>\n",
       "    </tr>\n",
       "    <tr>\n",
       "      <th>3</th>\n",
       "      <td>RRBS_cw154_CutSmart_proteinase_K_TAGGCATG.ACTCAC</td>\n",
       "      <td>719630.0</td>\n",
       "      <td>719469.0</td>\n",
       "      <td>598731.0</td>\n",
       "      <td>RRBS_cw154_CutSmart_proteina</td>\n",
       "    </tr>\n",
       "    <tr>\n",
       "      <th>4</th>\n",
       "      <td>RRBS_cw154_CutSmart_proteinase_K_TAGGCATG.AGGATG</td>\n",
       "      <td>799182.0</td>\n",
       "      <td>799040.0</td>\n",
       "      <td>668842.0</td>\n",
       "      <td>RRBS_cw154_CutSmart_proteina</td>\n",
       "    </tr>\n",
       "    <tr>\n",
       "      <th>5</th>\n",
       "      <td>RRBS_cw154_CutSmart_proteinase_K_TAGGCATG.ATAGCG</td>\n",
       "      <td>551512.0</td>\n",
       "      <td>551428.0</td>\n",
       "      <td>454895.0</td>\n",
       "      <td>RRBS_cw154_CutSmart_proteina</td>\n",
       "    </tr>\n",
       "    <tr>\n",
       "      <th>6</th>\n",
       "      <td>RRBS_cw154_CutSmart_proteinase_K_TAGGCATG.ATCGAC</td>\n",
       "      <td>746691.0</td>\n",
       "      <td>746542.0</td>\n",
       "      <td>617118.0</td>\n",
       "      <td>RRBS_cw154_CutSmart_proteina</td>\n",
       "    </tr>\n",
       "    <tr>\n",
       "      <th>7</th>\n",
       "      <td>RRBS_cw154_CutSmart_proteinase_K_TAGGCATG.CAAGAG</td>\n",
       "      <td>659749.0</td>\n",
       "      <td>659662.0</td>\n",
       "      <td>548621.0</td>\n",
       "      <td>RRBS_cw154_CutSmart_proteina</td>\n",
       "    </tr>\n",
       "    <tr>\n",
       "      <th>8</th>\n",
       "      <td>RRBS_cw154_CutSmart_proteinase_K_TAGGCATG.CATGAC</td>\n",
       "      <td>772618.0</td>\n",
       "      <td>772511.0</td>\n",
       "      <td>642159.0</td>\n",
       "      <td>RRBS_cw154_CutSmart_proteina</td>\n",
       "    </tr>\n",
       "    <tr>\n",
       "      <th>9</th>\n",
       "      <td>RRBS_cw154_CutSmart_proteinase_K_TAGGCATG.CCTTCG</td>\n",
       "      <td>454537.0</td>\n",
       "      <td>454458.0</td>\n",
       "      <td>373943.0</td>\n",
       "      <td>RRBS_cw154_CutSmart_proteina</td>\n",
       "    </tr>\n",
       "    <tr>\n",
       "      <th>10</th>\n",
       "      <td>RRBS_cw154_CutSmart_proteinase_K_TAGGCATG.CGGTAG</td>\n",
       "      <td>485483.0</td>\n",
       "      <td>485419.0</td>\n",
       "      <td>403532.0</td>\n",
       "      <td>RRBS_cw154_CutSmart_proteina</td>\n",
       "    </tr>\n",
       "    <tr>\n",
       "      <th>11</th>\n",
       "      <td>RRBS_cw154_CutSmart_proteinase_K_TAGGCATG.CTATTG</td>\n",
       "      <td>9834.0</td>\n",
       "      <td>9834.0</td>\n",
       "      <td>8007.0</td>\n",
       "      <td>RRBS_cw154_CutSmart_proteina</td>\n",
       "    </tr>\n",
       "    <tr>\n",
       "      <th>12</th>\n",
       "      <td>RRBS_cw154_CutSmart_proteinase_K_TAGGCATG.CTCAGC</td>\n",
       "      <td>470082.0</td>\n",
       "      <td>470009.0</td>\n",
       "      <td>386951.0</td>\n",
       "      <td>RRBS_cw154_CutSmart_proteina</td>\n",
       "    </tr>\n",
       "    <tr>\n",
       "      <th>13</th>\n",
       "      <td>RRBS_cw154_CutSmart_proteinase_K_TAGGCATG.GACACG</td>\n",
       "      <td>406942.0</td>\n",
       "      <td>406885.0</td>\n",
       "      <td>335484.0</td>\n",
       "      <td>RRBS_cw154_CutSmart_proteina</td>\n",
       "    </tr>\n",
       "    <tr>\n",
       "      <th>14</th>\n",
       "      <td>RRBS_cw154_CutSmart_proteinase_K_TAGGCATG.GCATTC</td>\n",
       "      <td>579844.0</td>\n",
       "      <td>579771.0</td>\n",
       "      <td>476413.0</td>\n",
       "      <td>RRBS_cw154_CutSmart_proteina</td>\n",
       "    </tr>\n",
       "    <tr>\n",
       "      <th>15</th>\n",
       "      <td>RRBS_cw154_CutSmart_proteinase_K_TAGGCATG.GCTGCC</td>\n",
       "      <td>257369.0</td>\n",
       "      <td>257331.0</td>\n",
       "      <td>211519.0</td>\n",
       "      <td>RRBS_cw154_CutSmart_proteina</td>\n",
       "    </tr>\n",
       "    <tr>\n",
       "      <th>16</th>\n",
       "      <td>RRBS_cw154_CutSmart_proteinase_K_TAGGCATG.GGCATC</td>\n",
       "      <td>512469.0</td>\n",
       "      <td>512391.0</td>\n",
       "      <td>426033.0</td>\n",
       "      <td>RRBS_cw154_CutSmart_proteina</td>\n",
       "    </tr>\n",
       "    <tr>\n",
       "      <th>17</th>\n",
       "      <td>RRBS_cw154_CutSmart_proteinase_K_TAGGCATG.GTGAGG</td>\n",
       "      <td>541784.0</td>\n",
       "      <td>541712.0</td>\n",
       "      <td>452376.0</td>\n",
       "      <td>RRBS_cw154_CutSmart_proteina</td>\n",
       "    </tr>\n",
       "    <tr>\n",
       "      <th>18</th>\n",
       "      <td>RRBS_cw154_CutSmart_proteinase_K_TAGGCATG.GTTGAG</td>\n",
       "      <td>15152.0</td>\n",
       "      <td>15150.0</td>\n",
       "      <td>12450.0</td>\n",
       "      <td>RRBS_cw154_CutSmart_proteina</td>\n",
       "    </tr>\n",
       "    <tr>\n",
       "      <th>19</th>\n",
       "      <td>RRBS_cw154_CutSmart_proteinase_K_TAGGCATG.TAGCGG</td>\n",
       "      <td>404298.0</td>\n",
       "      <td>404249.0</td>\n",
       "      <td>334974.0</td>\n",
       "      <td>RRBS_cw154_CutSmart_proteina</td>\n",
       "    </tr>\n",
       "    <tr>\n",
       "      <th>20</th>\n",
       "      <td>RRBS_cw154_CutSmart_proteinase_K_TAGGCATG.TATCTC</td>\n",
       "      <td>791044.0</td>\n",
       "      <td>790894.0</td>\n",
       "      <td>657494.0</td>\n",
       "      <td>RRBS_cw154_CutSmart_proteina</td>\n",
       "    </tr>\n",
       "    <tr>\n",
       "      <th>21</th>\n",
       "      <td>RRBS_cw154_CutSmart_proteinase_K_TAGGCATG.TCTCTG</td>\n",
       "      <td>653387.0</td>\n",
       "      <td>653298.0</td>\n",
       "      <td>544721.0</td>\n",
       "      <td>RRBS_cw154_CutSmart_proteina</td>\n",
       "    </tr>\n",
       "    <tr>\n",
       "      <th>22</th>\n",
       "      <td>RRBS_cw154_Tris_protease_CTCTCTAC.ACAACC.</td>\n",
       "      <td>475766.0</td>\n",
       "      <td>475596.0</td>\n",
       "      <td>398721.0</td>\n",
       "      <td>RRBS_cw154_Tris_protease_CTC</td>\n",
       "    </tr>\n",
       "    <tr>\n",
       "      <th>23</th>\n",
       "      <td>RRBS_cw154_Tris_protease_CTCTCTAC.ACCGCG.</td>\n",
       "      <td>118876.0</td>\n",
       "      <td>118851.0</td>\n",
       "      <td>100501.0</td>\n",
       "      <td>RRBS_cw154_Tris_protease_CTC</td>\n",
       "    </tr>\n",
       "    <tr>\n",
       "      <th>24</th>\n",
       "      <td>RRBS_cw154_Tris_protease_CTCTCTAC.ACGTGG.</td>\n",
       "      <td>133116.0</td>\n",
       "      <td>133102.0</td>\n",
       "      <td>112979.0</td>\n",
       "      <td>RRBS_cw154_Tris_protease_CTC</td>\n",
       "    </tr>\n",
       "    <tr>\n",
       "      <th>25</th>\n",
       "      <td>RRBS_cw154_Tris_protease_CTCTCTAC.ACTCAC.</td>\n",
       "      <td>422977.0</td>\n",
       "      <td>422884.0</td>\n",
       "      <td>349345.0</td>\n",
       "      <td>RRBS_cw154_Tris_protease_CTC</td>\n",
       "    </tr>\n",
       "    <tr>\n",
       "      <th>26</th>\n",
       "      <td>RRBS_cw154_Tris_protease_CTCTCTAC.AGGATG.</td>\n",
       "      <td>281432.0</td>\n",
       "      <td>281365.0</td>\n",
       "      <td>236281.0</td>\n",
       "      <td>RRBS_cw154_Tris_protease_CTC</td>\n",
       "    </tr>\n",
       "    <tr>\n",
       "      <th>27</th>\n",
       "      <td>RRBS_cw154_Tris_protease_CTCTCTAC.ATAGCG.</td>\n",
       "      <td>283027.0</td>\n",
       "      <td>282977.0</td>\n",
       "      <td>237352.0</td>\n",
       "      <td>RRBS_cw154_Tris_protease_CTC</td>\n",
       "    </tr>\n",
       "    <tr>\n",
       "      <th>28</th>\n",
       "      <td>RRBS_cw154_Tris_protease_CTCTCTAC.ATCGAC.</td>\n",
       "      <td>333368.0</td>\n",
       "      <td>333284.0</td>\n",
       "      <td>278192.0</td>\n",
       "      <td>RRBS_cw154_Tris_protease_CTC</td>\n",
       "    </tr>\n",
       "    <tr>\n",
       "      <th>29</th>\n",
       "      <td>RRBS_cw154_Tris_protease_CTCTCTAC.CAAGAG.</td>\n",
       "      <td>12665.0</td>\n",
       "      <td>12665.0</td>\n",
       "      <td>10385.0</td>\n",
       "      <td>RRBS_cw154_Tris_protease_CTC</td>\n",
       "    </tr>\n",
       "    <tr>\n",
       "      <th>...</th>\n",
       "      <td>...</td>\n",
       "      <td>...</td>\n",
       "      <td>...</td>\n",
       "      <td>...</td>\n",
       "      <td>...</td>\n",
       "    </tr>\n",
       "    <tr>\n",
       "      <th>36</th>\n",
       "      <td>RRBS_cw154_Tris_protease_CTCTCTAC.GCATTC.</td>\n",
       "      <td>589697.0</td>\n",
       "      <td>589548.0</td>\n",
       "      <td>490794.0</td>\n",
       "      <td>RRBS_cw154_Tris_protease_CTC</td>\n",
       "    </tr>\n",
       "    <tr>\n",
       "      <th>37</th>\n",
       "      <td>RRBS_cw154_Tris_protease_CTCTCTAC.GCTGCC.</td>\n",
       "      <td>146093.0</td>\n",
       "      <td>146076.0</td>\n",
       "      <td>119380.0</td>\n",
       "      <td>RRBS_cw154_Tris_protease_CTC</td>\n",
       "    </tr>\n",
       "    <tr>\n",
       "      <th>38</th>\n",
       "      <td>RRBS_cw154_Tris_protease_CTCTCTAC.GGCATC.</td>\n",
       "      <td>430967.0</td>\n",
       "      <td>430875.0</td>\n",
       "      <td>357048.0</td>\n",
       "      <td>RRBS_cw154_Tris_protease_CTC</td>\n",
       "    </tr>\n",
       "    <tr>\n",
       "      <th>39</th>\n",
       "      <td>RRBS_cw154_Tris_protease_CTCTCTAC.GTGAGG.</td>\n",
       "      <td>339976.0</td>\n",
       "      <td>339902.0</td>\n",
       "      <td>285024.0</td>\n",
       "      <td>RRBS_cw154_Tris_protease_CTC</td>\n",
       "    </tr>\n",
       "    <tr>\n",
       "      <th>40</th>\n",
       "      <td>RRBS_cw154_Tris_protease_CTCTCTAC.GTTGAG.</td>\n",
       "      <td>209790.0</td>\n",
       "      <td>209741.0</td>\n",
       "      <td>172699.0</td>\n",
       "      <td>RRBS_cw154_Tris_protease_CTC</td>\n",
       "    </tr>\n",
       "    <tr>\n",
       "      <th>41</th>\n",
       "      <td>RRBS_cw154_Tris_protease_CTCTCTAC.TAGCGG.</td>\n",
       "      <td>77891.0</td>\n",
       "      <td>77882.0</td>\n",
       "      <td>65323.0</td>\n",
       "      <td>RRBS_cw154_Tris_protease_CTC</td>\n",
       "    </tr>\n",
       "    <tr>\n",
       "      <th>42</th>\n",
       "      <td>RRBS_cw154_Tris_protease_CTCTCTAC.TATCTC.</td>\n",
       "      <td>306155.0</td>\n",
       "      <td>306092.0</td>\n",
       "      <td>257092.0</td>\n",
       "      <td>RRBS_cw154_Tris_protease_CTC</td>\n",
       "    </tr>\n",
       "    <tr>\n",
       "      <th>43</th>\n",
       "      <td>RRBS_cw154_Tris_protease_CTCTCTAC.TCTCTG.</td>\n",
       "      <td>615705.0</td>\n",
       "      <td>615569.0</td>\n",
       "      <td>519604.0</td>\n",
       "      <td>RRBS_cw154_Tris_protease_CTC</td>\n",
       "    </tr>\n",
       "    <tr>\n",
       "      <th>44</th>\n",
       "      <td>RRBS_cw154_Tris_protease_GR_CAGAGAGG.ACAACC</td>\n",
       "      <td>739320.0</td>\n",
       "      <td>739104.0</td>\n",
       "      <td>625224.0</td>\n",
       "      <td>RRBS_cw154_Tris_protease_GR_</td>\n",
       "    </tr>\n",
       "    <tr>\n",
       "      <th>45</th>\n",
       "      <td>RRBS_cw154_Tris_protease_GR_CAGAGAGG.ACCGCG</td>\n",
       "      <td>56706.0</td>\n",
       "      <td>56695.0</td>\n",
       "      <td>46212.0</td>\n",
       "      <td>RRBS_cw154_Tris_protease_GR_</td>\n",
       "    </tr>\n",
       "    <tr>\n",
       "      <th>46</th>\n",
       "      <td>RRBS_cw154_Tris_protease_GR_CAGAGAGG.ACGTGG</td>\n",
       "      <td>326834.0</td>\n",
       "      <td>326784.0</td>\n",
       "      <td>272926.0</td>\n",
       "      <td>RRBS_cw154_Tris_protease_GR_</td>\n",
       "    </tr>\n",
       "    <tr>\n",
       "      <th>47</th>\n",
       "      <td>RRBS_cw154_Tris_protease_GR_CAGAGAGG.ACTCAC</td>\n",
       "      <td>753993.0</td>\n",
       "      <td>753779.0</td>\n",
       "      <td>635135.0</td>\n",
       "      <td>RRBS_cw154_Tris_protease_GR_</td>\n",
       "    </tr>\n",
       "    <tr>\n",
       "      <th>48</th>\n",
       "      <td>RRBS_cw154_Tris_protease_GR_CAGAGAGG.AGGATG</td>\n",
       "      <td>784636.0</td>\n",
       "      <td>784492.0</td>\n",
       "      <td>663005.0</td>\n",
       "      <td>RRBS_cw154_Tris_protease_GR_</td>\n",
       "    </tr>\n",
       "    <tr>\n",
       "      <th>49</th>\n",
       "      <td>RRBS_cw154_Tris_protease_GR_CAGAGAGG.ATAGCG</td>\n",
       "      <td>287163.0</td>\n",
       "      <td>287118.0</td>\n",
       "      <td>239557.0</td>\n",
       "      <td>RRBS_cw154_Tris_protease_GR_</td>\n",
       "    </tr>\n",
       "    <tr>\n",
       "      <th>50</th>\n",
       "      <td>RRBS_cw154_Tris_protease_GR_CAGAGAGG.ATCGAC</td>\n",
       "      <td>644063.0</td>\n",
       "      <td>643915.0</td>\n",
       "      <td>539497.0</td>\n",
       "      <td>RRBS_cw154_Tris_protease_GR_</td>\n",
       "    </tr>\n",
       "    <tr>\n",
       "      <th>51</th>\n",
       "      <td>RRBS_cw154_Tris_protease_GR_CAGAGAGG.CAAGAG</td>\n",
       "      <td>9786.0</td>\n",
       "      <td>9786.0</td>\n",
       "      <td>7866.0</td>\n",
       "      <td>RRBS_cw154_Tris_protease_GR_</td>\n",
       "    </tr>\n",
       "    <tr>\n",
       "      <th>52</th>\n",
       "      <td>RRBS_cw154_Tris_protease_GR_CAGAGAGG.CATGAC</td>\n",
       "      <td>720869.0</td>\n",
       "      <td>720763.0</td>\n",
       "      <td>600463.0</td>\n",
       "      <td>RRBS_cw154_Tris_protease_GR_</td>\n",
       "    </tr>\n",
       "    <tr>\n",
       "      <th>53</th>\n",
       "      <td>RRBS_cw154_Tris_protease_GR_CAGAGAGG.CCTTCG</td>\n",
       "      <td>259789.0</td>\n",
       "      <td>259749.0</td>\n",
       "      <td>216388.0</td>\n",
       "      <td>RRBS_cw154_Tris_protease_GR_</td>\n",
       "    </tr>\n",
       "    <tr>\n",
       "      <th>54</th>\n",
       "      <td>RRBS_cw154_Tris_protease_GR_CAGAGAGG.CGGTAG</td>\n",
       "      <td>409451.0</td>\n",
       "      <td>409407.0</td>\n",
       "      <td>342160.0</td>\n",
       "      <td>RRBS_cw154_Tris_protease_GR_</td>\n",
       "    </tr>\n",
       "    <tr>\n",
       "      <th>55</th>\n",
       "      <td>RRBS_cw154_Tris_protease_GR_CAGAGAGG.CTATTG</td>\n",
       "      <td>393366.0</td>\n",
       "      <td>393304.0</td>\n",
       "      <td>339646.0</td>\n",
       "      <td>RRBS_cw154_Tris_protease_GR_</td>\n",
       "    </tr>\n",
       "    <tr>\n",
       "      <th>56</th>\n",
       "      <td>RRBS_cw154_Tris_protease_GR_CAGAGAGG.CTCAGC</td>\n",
       "      <td>376935.0</td>\n",
       "      <td>376888.0</td>\n",
       "      <td>309490.0</td>\n",
       "      <td>RRBS_cw154_Tris_protease_GR_</td>\n",
       "    </tr>\n",
       "    <tr>\n",
       "      <th>57</th>\n",
       "      <td>RRBS_cw154_Tris_protease_GR_CAGAGAGG.GACACG</td>\n",
       "      <td>260836.0</td>\n",
       "      <td>260789.0</td>\n",
       "      <td>215879.0</td>\n",
       "      <td>RRBS_cw154_Tris_protease_GR_</td>\n",
       "    </tr>\n",
       "    <tr>\n",
       "      <th>58</th>\n",
       "      <td>RRBS_cw154_Tris_protease_GR_CAGAGAGG.GCATTC</td>\n",
       "      <td>324252.0</td>\n",
       "      <td>324200.0</td>\n",
       "      <td>263836.0</td>\n",
       "      <td>RRBS_cw154_Tris_protease_GR_</td>\n",
       "    </tr>\n",
       "    <tr>\n",
       "      <th>59</th>\n",
       "      <td>RRBS_cw154_Tris_protease_GR_CAGAGAGG.GCTGCC</td>\n",
       "      <td>224514.0</td>\n",
       "      <td>224480.0</td>\n",
       "      <td>183768.0</td>\n",
       "      <td>RRBS_cw154_Tris_protease_GR_</td>\n",
       "    </tr>\n",
       "    <tr>\n",
       "      <th>60</th>\n",
       "      <td>RRBS_cw154_Tris_protease_GR_CAGAGAGG.GGCATC</td>\n",
       "      <td>363506.0</td>\n",
       "      <td>363446.0</td>\n",
       "      <td>297360.0</td>\n",
       "      <td>RRBS_cw154_Tris_protease_GR_</td>\n",
       "    </tr>\n",
       "    <tr>\n",
       "      <th>61</th>\n",
       "      <td>RRBS_cw154_Tris_protease_GR_CAGAGAGG.GTGAGG</td>\n",
       "      <td>446957.0</td>\n",
       "      <td>446899.0</td>\n",
       "      <td>370171.0</td>\n",
       "      <td>RRBS_cw154_Tris_protease_GR_</td>\n",
       "    </tr>\n",
       "    <tr>\n",
       "      <th>62</th>\n",
       "      <td>RRBS_cw154_Tris_protease_GR_CAGAGAGG.GTTGAG</td>\n",
       "      <td>365218.0</td>\n",
       "      <td>365172.0</td>\n",
       "      <td>301151.0</td>\n",
       "      <td>RRBS_cw154_Tris_protease_GR_</td>\n",
       "    </tr>\n",
       "    <tr>\n",
       "      <th>63</th>\n",
       "      <td>RRBS_cw154_Tris_protease_GR_CAGAGAGG.TAGCGG</td>\n",
       "      <td>174703.0</td>\n",
       "      <td>174677.0</td>\n",
       "      <td>141958.0</td>\n",
       "      <td>RRBS_cw154_Tris_protease_GR_</td>\n",
       "    </tr>\n",
       "    <tr>\n",
       "      <th>64</th>\n",
       "      <td>RRBS_cw154_Tris_protease_GR_CAGAGAGG.TATCTC</td>\n",
       "      <td>423104.0</td>\n",
       "      <td>423019.0</td>\n",
       "      <td>349305.0</td>\n",
       "      <td>RRBS_cw154_Tris_protease_GR_</td>\n",
       "    </tr>\n",
       "    <tr>\n",
       "      <th>65</th>\n",
       "      <td>RRBS_cw154_Tris_protease_GR_CAGAGAGG.TCTCTG</td>\n",
       "      <td>569470.0</td>\n",
       "      <td>569373.0</td>\n",
       "      <td>471904.0</td>\n",
       "      <td>RRBS_cw154_Tris_protease_GR_</td>\n",
       "    </tr>\n",
       "  </tbody>\n",
       "</table>\n",
       "<p>66 rows × 5 columns</p>\n",
       "</div>"
      ],
      "text/plain": [
       "                                            filename  total_cpg_no_filter  \\\n",
       "0   RRBS_cw154_CutSmart_proteinase_K_TAGGCATG.ACAACC             731145.0   \n",
       "1   RRBS_cw154_CutSmart_proteinase_K_TAGGCATG.ACCGCG             202674.0   \n",
       "2   RRBS_cw154_CutSmart_proteinase_K_TAGGCATG.ACGTGG             451053.0   \n",
       "3   RRBS_cw154_CutSmart_proteinase_K_TAGGCATG.ACTCAC             719630.0   \n",
       "4   RRBS_cw154_CutSmart_proteinase_K_TAGGCATG.AGGATG             799182.0   \n",
       "5   RRBS_cw154_CutSmart_proteinase_K_TAGGCATG.ATAGCG             551512.0   \n",
       "6   RRBS_cw154_CutSmart_proteinase_K_TAGGCATG.ATCGAC             746691.0   \n",
       "7   RRBS_cw154_CutSmart_proteinase_K_TAGGCATG.CAAGAG             659749.0   \n",
       "8   RRBS_cw154_CutSmart_proteinase_K_TAGGCATG.CATGAC             772618.0   \n",
       "9   RRBS_cw154_CutSmart_proteinase_K_TAGGCATG.CCTTCG             454537.0   \n",
       "10  RRBS_cw154_CutSmart_proteinase_K_TAGGCATG.CGGTAG             485483.0   \n",
       "11  RRBS_cw154_CutSmart_proteinase_K_TAGGCATG.CTATTG               9834.0   \n",
       "12  RRBS_cw154_CutSmart_proteinase_K_TAGGCATG.CTCAGC             470082.0   \n",
       "13  RRBS_cw154_CutSmart_proteinase_K_TAGGCATG.GACACG             406942.0   \n",
       "14  RRBS_cw154_CutSmart_proteinase_K_TAGGCATG.GCATTC             579844.0   \n",
       "15  RRBS_cw154_CutSmart_proteinase_K_TAGGCATG.GCTGCC             257369.0   \n",
       "16  RRBS_cw154_CutSmart_proteinase_K_TAGGCATG.GGCATC             512469.0   \n",
       "17  RRBS_cw154_CutSmart_proteinase_K_TAGGCATG.GTGAGG             541784.0   \n",
       "18  RRBS_cw154_CutSmart_proteinase_K_TAGGCATG.GTTGAG              15152.0   \n",
       "19  RRBS_cw154_CutSmart_proteinase_K_TAGGCATG.TAGCGG             404298.0   \n",
       "20  RRBS_cw154_CutSmart_proteinase_K_TAGGCATG.TATCTC             791044.0   \n",
       "21  RRBS_cw154_CutSmart_proteinase_K_TAGGCATG.TCTCTG             653387.0   \n",
       "22         RRBS_cw154_Tris_protease_CTCTCTAC.ACAACC.             475766.0   \n",
       "23         RRBS_cw154_Tris_protease_CTCTCTAC.ACCGCG.             118876.0   \n",
       "24         RRBS_cw154_Tris_protease_CTCTCTAC.ACGTGG.             133116.0   \n",
       "25         RRBS_cw154_Tris_protease_CTCTCTAC.ACTCAC.             422977.0   \n",
       "26         RRBS_cw154_Tris_protease_CTCTCTAC.AGGATG.             281432.0   \n",
       "27         RRBS_cw154_Tris_protease_CTCTCTAC.ATAGCG.             283027.0   \n",
       "28         RRBS_cw154_Tris_protease_CTCTCTAC.ATCGAC.             333368.0   \n",
       "29         RRBS_cw154_Tris_protease_CTCTCTAC.CAAGAG.              12665.0   \n",
       "..                                               ...                  ...   \n",
       "36         RRBS_cw154_Tris_protease_CTCTCTAC.GCATTC.             589697.0   \n",
       "37         RRBS_cw154_Tris_protease_CTCTCTAC.GCTGCC.             146093.0   \n",
       "38         RRBS_cw154_Tris_protease_CTCTCTAC.GGCATC.             430967.0   \n",
       "39         RRBS_cw154_Tris_protease_CTCTCTAC.GTGAGG.             339976.0   \n",
       "40         RRBS_cw154_Tris_protease_CTCTCTAC.GTTGAG.             209790.0   \n",
       "41         RRBS_cw154_Tris_protease_CTCTCTAC.TAGCGG.              77891.0   \n",
       "42         RRBS_cw154_Tris_protease_CTCTCTAC.TATCTC.             306155.0   \n",
       "43         RRBS_cw154_Tris_protease_CTCTCTAC.TCTCTG.             615705.0   \n",
       "44       RRBS_cw154_Tris_protease_GR_CAGAGAGG.ACAACC             739320.0   \n",
       "45       RRBS_cw154_Tris_protease_GR_CAGAGAGG.ACCGCG              56706.0   \n",
       "46       RRBS_cw154_Tris_protease_GR_CAGAGAGG.ACGTGG             326834.0   \n",
       "47       RRBS_cw154_Tris_protease_GR_CAGAGAGG.ACTCAC             753993.0   \n",
       "48       RRBS_cw154_Tris_protease_GR_CAGAGAGG.AGGATG             784636.0   \n",
       "49       RRBS_cw154_Tris_protease_GR_CAGAGAGG.ATAGCG             287163.0   \n",
       "50       RRBS_cw154_Tris_protease_GR_CAGAGAGG.ATCGAC             644063.0   \n",
       "51       RRBS_cw154_Tris_protease_GR_CAGAGAGG.CAAGAG               9786.0   \n",
       "52       RRBS_cw154_Tris_protease_GR_CAGAGAGG.CATGAC             720869.0   \n",
       "53       RRBS_cw154_Tris_protease_GR_CAGAGAGG.CCTTCG             259789.0   \n",
       "54       RRBS_cw154_Tris_protease_GR_CAGAGAGG.CGGTAG             409451.0   \n",
       "55       RRBS_cw154_Tris_protease_GR_CAGAGAGG.CTATTG             393366.0   \n",
       "56       RRBS_cw154_Tris_protease_GR_CAGAGAGG.CTCAGC             376935.0   \n",
       "57       RRBS_cw154_Tris_protease_GR_CAGAGAGG.GACACG             260836.0   \n",
       "58       RRBS_cw154_Tris_protease_GR_CAGAGAGG.GCATTC             324252.0   \n",
       "59       RRBS_cw154_Tris_protease_GR_CAGAGAGG.GCTGCC             224514.0   \n",
       "60       RRBS_cw154_Tris_protease_GR_CAGAGAGG.GGCATC             363506.0   \n",
       "61       RRBS_cw154_Tris_protease_GR_CAGAGAGG.GTGAGG             446957.0   \n",
       "62       RRBS_cw154_Tris_protease_GR_CAGAGAGG.GTTGAG             365218.0   \n",
       "63       RRBS_cw154_Tris_protease_GR_CAGAGAGG.TAGCGG             174703.0   \n",
       "64       RRBS_cw154_Tris_protease_GR_CAGAGAGG.TATCTC             423104.0   \n",
       "65       RRBS_cw154_Tris_protease_GR_CAGAGAGG.TCTCTG             569470.0   \n",
       "\n",
       "    total_cpg_gtrthan1  total_cpg_gtrthan38                      protocol  \n",
       "0             730971.0             609788.0  RRBS_cw154_CutSmart_proteina  \n",
       "1             202653.0             168418.0  RRBS_cw154_CutSmart_proteina  \n",
       "2             451000.0             374185.0  RRBS_cw154_CutSmart_proteina  \n",
       "3             719469.0             598731.0  RRBS_cw154_CutSmart_proteina  \n",
       "4             799040.0             668842.0  RRBS_cw154_CutSmart_proteina  \n",
       "5             551428.0             454895.0  RRBS_cw154_CutSmart_proteina  \n",
       "6             746542.0             617118.0  RRBS_cw154_CutSmart_proteina  \n",
       "7             659662.0             548621.0  RRBS_cw154_CutSmart_proteina  \n",
       "8             772511.0             642159.0  RRBS_cw154_CutSmart_proteina  \n",
       "9             454458.0             373943.0  RRBS_cw154_CutSmart_proteina  \n",
       "10            485419.0             403532.0  RRBS_cw154_CutSmart_proteina  \n",
       "11              9834.0               8007.0  RRBS_cw154_CutSmart_proteina  \n",
       "12            470009.0             386951.0  RRBS_cw154_CutSmart_proteina  \n",
       "13            406885.0             335484.0  RRBS_cw154_CutSmart_proteina  \n",
       "14            579771.0             476413.0  RRBS_cw154_CutSmart_proteina  \n",
       "15            257331.0             211519.0  RRBS_cw154_CutSmart_proteina  \n",
       "16            512391.0             426033.0  RRBS_cw154_CutSmart_proteina  \n",
       "17            541712.0             452376.0  RRBS_cw154_CutSmart_proteina  \n",
       "18             15150.0              12450.0  RRBS_cw154_CutSmart_proteina  \n",
       "19            404249.0             334974.0  RRBS_cw154_CutSmart_proteina  \n",
       "20            790894.0             657494.0  RRBS_cw154_CutSmart_proteina  \n",
       "21            653298.0             544721.0  RRBS_cw154_CutSmart_proteina  \n",
       "22            475596.0             398721.0  RRBS_cw154_Tris_protease_CTC  \n",
       "23            118851.0             100501.0  RRBS_cw154_Tris_protease_CTC  \n",
       "24            133102.0             112979.0  RRBS_cw154_Tris_protease_CTC  \n",
       "25            422884.0             349345.0  RRBS_cw154_Tris_protease_CTC  \n",
       "26            281365.0             236281.0  RRBS_cw154_Tris_protease_CTC  \n",
       "27            282977.0             237352.0  RRBS_cw154_Tris_protease_CTC  \n",
       "28            333284.0             278192.0  RRBS_cw154_Tris_protease_CTC  \n",
       "29             12665.0              10385.0  RRBS_cw154_Tris_protease_CTC  \n",
       "..                 ...                  ...                           ...  \n",
       "36            589548.0             490794.0  RRBS_cw154_Tris_protease_CTC  \n",
       "37            146076.0             119380.0  RRBS_cw154_Tris_protease_CTC  \n",
       "38            430875.0             357048.0  RRBS_cw154_Tris_protease_CTC  \n",
       "39            339902.0             285024.0  RRBS_cw154_Tris_protease_CTC  \n",
       "40            209741.0             172699.0  RRBS_cw154_Tris_protease_CTC  \n",
       "41             77882.0              65323.0  RRBS_cw154_Tris_protease_CTC  \n",
       "42            306092.0             257092.0  RRBS_cw154_Tris_protease_CTC  \n",
       "43            615569.0             519604.0  RRBS_cw154_Tris_protease_CTC  \n",
       "44            739104.0             625224.0  RRBS_cw154_Tris_protease_GR_  \n",
       "45             56695.0              46212.0  RRBS_cw154_Tris_protease_GR_  \n",
       "46            326784.0             272926.0  RRBS_cw154_Tris_protease_GR_  \n",
       "47            753779.0             635135.0  RRBS_cw154_Tris_protease_GR_  \n",
       "48            784492.0             663005.0  RRBS_cw154_Tris_protease_GR_  \n",
       "49            287118.0             239557.0  RRBS_cw154_Tris_protease_GR_  \n",
       "50            643915.0             539497.0  RRBS_cw154_Tris_protease_GR_  \n",
       "51              9786.0               7866.0  RRBS_cw154_Tris_protease_GR_  \n",
       "52            720763.0             600463.0  RRBS_cw154_Tris_protease_GR_  \n",
       "53            259749.0             216388.0  RRBS_cw154_Tris_protease_GR_  \n",
       "54            409407.0             342160.0  RRBS_cw154_Tris_protease_GR_  \n",
       "55            393304.0             339646.0  RRBS_cw154_Tris_protease_GR_  \n",
       "56            376888.0             309490.0  RRBS_cw154_Tris_protease_GR_  \n",
       "57            260789.0             215879.0  RRBS_cw154_Tris_protease_GR_  \n",
       "58            324200.0             263836.0  RRBS_cw154_Tris_protease_GR_  \n",
       "59            224480.0             183768.0  RRBS_cw154_Tris_protease_GR_  \n",
       "60            363446.0             297360.0  RRBS_cw154_Tris_protease_GR_  \n",
       "61            446899.0             370171.0  RRBS_cw154_Tris_protease_GR_  \n",
       "62            365172.0             301151.0  RRBS_cw154_Tris_protease_GR_  \n",
       "63            174677.0             141958.0  RRBS_cw154_Tris_protease_GR_  \n",
       "64            423019.0             349305.0  RRBS_cw154_Tris_protease_GR_  \n",
       "65            569373.0             471904.0  RRBS_cw154_Tris_protease_GR_  \n",
       "\n",
       "[66 rows x 5 columns]"
      ]
     },
     "execution_count": 91,
     "metadata": {},
     "output_type": "execute_result"
    }
   ],
   "source": [
    "cw154_cpg"
   ]
  },
  {
   "cell_type": "code",
   "execution_count": 92,
   "metadata": {
    "collapsed": false
   },
   "outputs": [
    {
     "data": {
      "text/html": [
       "<div>\n",
       "<table border=\"1\" class=\"dataframe\">\n",
       "  <thead>\n",
       "    <tr style=\"text-align: right;\">\n",
       "      <th></th>\n",
       "      <th>filename</th>\n",
       "      <th>total_cpg_no_filter</th>\n",
       "      <th>total_cpg_gtrthan1</th>\n",
       "      <th>total_cpg_gtrthan38</th>\n",
       "    </tr>\n",
       "  </thead>\n",
       "  <tbody>\n",
       "    <tr>\n",
       "      <th>0</th>\n",
       "      <td>RRBS_cw154_CutSmart_proteinase_K_TAGGCATG.ACAACC</td>\n",
       "      <td>731145.0</td>\n",
       "      <td>730971.0</td>\n",
       "      <td>609788.0</td>\n",
       "    </tr>\n",
       "    <tr>\n",
       "      <th>1</th>\n",
       "      <td>RRBS_cw154_CutSmart_proteinase_K_TAGGCATG.ACCGCG</td>\n",
       "      <td>202674.0</td>\n",
       "      <td>202653.0</td>\n",
       "      <td>168418.0</td>\n",
       "    </tr>\n",
       "    <tr>\n",
       "      <th>2</th>\n",
       "      <td>RRBS_cw154_CutSmart_proteinase_K_TAGGCATG.ACGTGG</td>\n",
       "      <td>451053.0</td>\n",
       "      <td>451000.0</td>\n",
       "      <td>374185.0</td>\n",
       "    </tr>\n",
       "    <tr>\n",
       "      <th>3</th>\n",
       "      <td>RRBS_cw154_CutSmart_proteinase_K_TAGGCATG.ACTCAC</td>\n",
       "      <td>719630.0</td>\n",
       "      <td>719469.0</td>\n",
       "      <td>598731.0</td>\n",
       "    </tr>\n",
       "    <tr>\n",
       "      <th>4</th>\n",
       "      <td>RRBS_cw154_CutSmart_proteinase_K_TAGGCATG.AGGATG</td>\n",
       "      <td>799182.0</td>\n",
       "      <td>799040.0</td>\n",
       "      <td>668842.0</td>\n",
       "    </tr>\n",
       "    <tr>\n",
       "      <th>5</th>\n",
       "      <td>RRBS_cw154_CutSmart_proteinase_K_TAGGCATG.ATAGCG</td>\n",
       "      <td>551512.0</td>\n",
       "      <td>551428.0</td>\n",
       "      <td>454895.0</td>\n",
       "    </tr>\n",
       "    <tr>\n",
       "      <th>6</th>\n",
       "      <td>RRBS_cw154_CutSmart_proteinase_K_TAGGCATG.ATCGAC</td>\n",
       "      <td>746691.0</td>\n",
       "      <td>746542.0</td>\n",
       "      <td>617118.0</td>\n",
       "    </tr>\n",
       "    <tr>\n",
       "      <th>7</th>\n",
       "      <td>RRBS_cw154_CutSmart_proteinase_K_TAGGCATG.CAAGAG</td>\n",
       "      <td>659749.0</td>\n",
       "      <td>659662.0</td>\n",
       "      <td>548621.0</td>\n",
       "    </tr>\n",
       "    <tr>\n",
       "      <th>8</th>\n",
       "      <td>RRBS_cw154_CutSmart_proteinase_K_TAGGCATG.CATGAC</td>\n",
       "      <td>772618.0</td>\n",
       "      <td>772511.0</td>\n",
       "      <td>642159.0</td>\n",
       "    </tr>\n",
       "    <tr>\n",
       "      <th>9</th>\n",
       "      <td>RRBS_cw154_CutSmart_proteinase_K_TAGGCATG.CCTTCG</td>\n",
       "      <td>454537.0</td>\n",
       "      <td>454458.0</td>\n",
       "      <td>373943.0</td>\n",
       "    </tr>\n",
       "    <tr>\n",
       "      <th>10</th>\n",
       "      <td>RRBS_cw154_CutSmart_proteinase_K_TAGGCATG.CGGTAG</td>\n",
       "      <td>485483.0</td>\n",
       "      <td>485419.0</td>\n",
       "      <td>403532.0</td>\n",
       "    </tr>\n",
       "    <tr>\n",
       "      <th>11</th>\n",
       "      <td>RRBS_cw154_CutSmart_proteinase_K_TAGGCATG.CTATTG</td>\n",
       "      <td>9834.0</td>\n",
       "      <td>9834.0</td>\n",
       "      <td>8007.0</td>\n",
       "    </tr>\n",
       "    <tr>\n",
       "      <th>12</th>\n",
       "      <td>RRBS_cw154_CutSmart_proteinase_K_TAGGCATG.CTCAGC</td>\n",
       "      <td>470082.0</td>\n",
       "      <td>470009.0</td>\n",
       "      <td>386951.0</td>\n",
       "    </tr>\n",
       "    <tr>\n",
       "      <th>13</th>\n",
       "      <td>RRBS_cw154_CutSmart_proteinase_K_TAGGCATG.GACACG</td>\n",
       "      <td>406942.0</td>\n",
       "      <td>406885.0</td>\n",
       "      <td>335484.0</td>\n",
       "    </tr>\n",
       "    <tr>\n",
       "      <th>14</th>\n",
       "      <td>RRBS_cw154_CutSmart_proteinase_K_TAGGCATG.GCATTC</td>\n",
       "      <td>579844.0</td>\n",
       "      <td>579771.0</td>\n",
       "      <td>476413.0</td>\n",
       "    </tr>\n",
       "    <tr>\n",
       "      <th>15</th>\n",
       "      <td>RRBS_cw154_CutSmart_proteinase_K_TAGGCATG.GCTGCC</td>\n",
       "      <td>257369.0</td>\n",
       "      <td>257331.0</td>\n",
       "      <td>211519.0</td>\n",
       "    </tr>\n",
       "    <tr>\n",
       "      <th>16</th>\n",
       "      <td>RRBS_cw154_CutSmart_proteinase_K_TAGGCATG.GGCATC</td>\n",
       "      <td>512469.0</td>\n",
       "      <td>512391.0</td>\n",
       "      <td>426033.0</td>\n",
       "    </tr>\n",
       "    <tr>\n",
       "      <th>17</th>\n",
       "      <td>RRBS_cw154_CutSmart_proteinase_K_TAGGCATG.GTGAGG</td>\n",
       "      <td>541784.0</td>\n",
       "      <td>541712.0</td>\n",
       "      <td>452376.0</td>\n",
       "    </tr>\n",
       "    <tr>\n",
       "      <th>18</th>\n",
       "      <td>RRBS_cw154_CutSmart_proteinase_K_TAGGCATG.GTTGAG</td>\n",
       "      <td>15152.0</td>\n",
       "      <td>15150.0</td>\n",
       "      <td>12450.0</td>\n",
       "    </tr>\n",
       "    <tr>\n",
       "      <th>19</th>\n",
       "      <td>RRBS_cw154_CutSmart_proteinase_K_TAGGCATG.TAGCGG</td>\n",
       "      <td>404298.0</td>\n",
       "      <td>404249.0</td>\n",
       "      <td>334974.0</td>\n",
       "    </tr>\n",
       "    <tr>\n",
       "      <th>20</th>\n",
       "      <td>RRBS_cw154_CutSmart_proteinase_K_TAGGCATG.TATCTC</td>\n",
       "      <td>791044.0</td>\n",
       "      <td>790894.0</td>\n",
       "      <td>657494.0</td>\n",
       "    </tr>\n",
       "    <tr>\n",
       "      <th>21</th>\n",
       "      <td>RRBS_cw154_CutSmart_proteinase_K_TAGGCATG.TCTCTG</td>\n",
       "      <td>653387.0</td>\n",
       "      <td>653298.0</td>\n",
       "      <td>544721.0</td>\n",
       "    </tr>\n",
       "    <tr>\n",
       "      <th>22</th>\n",
       "      <td>RRBS_cw154_Tris_protease_CTCTCTAC.ACAACC.</td>\n",
       "      <td>475766.0</td>\n",
       "      <td>475596.0</td>\n",
       "      <td>398721.0</td>\n",
       "    </tr>\n",
       "    <tr>\n",
       "      <th>23</th>\n",
       "      <td>RRBS_cw154_Tris_protease_CTCTCTAC.ACCGCG.</td>\n",
       "      <td>118876.0</td>\n",
       "      <td>118851.0</td>\n",
       "      <td>100501.0</td>\n",
       "    </tr>\n",
       "    <tr>\n",
       "      <th>24</th>\n",
       "      <td>RRBS_cw154_Tris_protease_CTCTCTAC.ACGTGG.</td>\n",
       "      <td>133116.0</td>\n",
       "      <td>133102.0</td>\n",
       "      <td>112979.0</td>\n",
       "    </tr>\n",
       "    <tr>\n",
       "      <th>25</th>\n",
       "      <td>RRBS_cw154_Tris_protease_CTCTCTAC.ACTCAC.</td>\n",
       "      <td>422977.0</td>\n",
       "      <td>422884.0</td>\n",
       "      <td>349345.0</td>\n",
       "    </tr>\n",
       "    <tr>\n",
       "      <th>26</th>\n",
       "      <td>RRBS_cw154_Tris_protease_CTCTCTAC.AGGATG.</td>\n",
       "      <td>281432.0</td>\n",
       "      <td>281365.0</td>\n",
       "      <td>236281.0</td>\n",
       "    </tr>\n",
       "    <tr>\n",
       "      <th>27</th>\n",
       "      <td>RRBS_cw154_Tris_protease_CTCTCTAC.ATAGCG.</td>\n",
       "      <td>283027.0</td>\n",
       "      <td>282977.0</td>\n",
       "      <td>237352.0</td>\n",
       "    </tr>\n",
       "    <tr>\n",
       "      <th>28</th>\n",
       "      <td>RRBS_cw154_Tris_protease_CTCTCTAC.ATCGAC.</td>\n",
       "      <td>333368.0</td>\n",
       "      <td>333284.0</td>\n",
       "      <td>278192.0</td>\n",
       "    </tr>\n",
       "    <tr>\n",
       "      <th>29</th>\n",
       "      <td>RRBS_cw154_Tris_protease_CTCTCTAC.CAAGAG.</td>\n",
       "      <td>12665.0</td>\n",
       "      <td>12665.0</td>\n",
       "      <td>10385.0</td>\n",
       "    </tr>\n",
       "    <tr>\n",
       "      <th>...</th>\n",
       "      <td>...</td>\n",
       "      <td>...</td>\n",
       "      <td>...</td>\n",
       "      <td>...</td>\n",
       "    </tr>\n",
       "    <tr>\n",
       "      <th>36</th>\n",
       "      <td>RRBS_cw154_Tris_protease_CTCTCTAC.GCATTC.</td>\n",
       "      <td>589697.0</td>\n",
       "      <td>589548.0</td>\n",
       "      <td>490794.0</td>\n",
       "    </tr>\n",
       "    <tr>\n",
       "      <th>37</th>\n",
       "      <td>RRBS_cw154_Tris_protease_CTCTCTAC.GCTGCC.</td>\n",
       "      <td>146093.0</td>\n",
       "      <td>146076.0</td>\n",
       "      <td>119380.0</td>\n",
       "    </tr>\n",
       "    <tr>\n",
       "      <th>38</th>\n",
       "      <td>RRBS_cw154_Tris_protease_CTCTCTAC.GGCATC.</td>\n",
       "      <td>430967.0</td>\n",
       "      <td>430875.0</td>\n",
       "      <td>357048.0</td>\n",
       "    </tr>\n",
       "    <tr>\n",
       "      <th>39</th>\n",
       "      <td>RRBS_cw154_Tris_protease_CTCTCTAC.GTGAGG.</td>\n",
       "      <td>339976.0</td>\n",
       "      <td>339902.0</td>\n",
       "      <td>285024.0</td>\n",
       "    </tr>\n",
       "    <tr>\n",
       "      <th>40</th>\n",
       "      <td>RRBS_cw154_Tris_protease_CTCTCTAC.GTTGAG.</td>\n",
       "      <td>209790.0</td>\n",
       "      <td>209741.0</td>\n",
       "      <td>172699.0</td>\n",
       "    </tr>\n",
       "    <tr>\n",
       "      <th>41</th>\n",
       "      <td>RRBS_cw154_Tris_protease_CTCTCTAC.TAGCGG.</td>\n",
       "      <td>77891.0</td>\n",
       "      <td>77882.0</td>\n",
       "      <td>65323.0</td>\n",
       "    </tr>\n",
       "    <tr>\n",
       "      <th>42</th>\n",
       "      <td>RRBS_cw154_Tris_protease_CTCTCTAC.TATCTC.</td>\n",
       "      <td>306155.0</td>\n",
       "      <td>306092.0</td>\n",
       "      <td>257092.0</td>\n",
       "    </tr>\n",
       "    <tr>\n",
       "      <th>43</th>\n",
       "      <td>RRBS_cw154_Tris_protease_CTCTCTAC.TCTCTG.</td>\n",
       "      <td>615705.0</td>\n",
       "      <td>615569.0</td>\n",
       "      <td>519604.0</td>\n",
       "    </tr>\n",
       "    <tr>\n",
       "      <th>44</th>\n",
       "      <td>RRBS_cw154_Tris_protease_GR_CAGAGAGG.ACAACC</td>\n",
       "      <td>739320.0</td>\n",
       "      <td>739104.0</td>\n",
       "      <td>625224.0</td>\n",
       "    </tr>\n",
       "    <tr>\n",
       "      <th>45</th>\n",
       "      <td>RRBS_cw154_Tris_protease_GR_CAGAGAGG.ACCGCG</td>\n",
       "      <td>56706.0</td>\n",
       "      <td>56695.0</td>\n",
       "      <td>46212.0</td>\n",
       "    </tr>\n",
       "    <tr>\n",
       "      <th>46</th>\n",
       "      <td>RRBS_cw154_Tris_protease_GR_CAGAGAGG.ACGTGG</td>\n",
       "      <td>326834.0</td>\n",
       "      <td>326784.0</td>\n",
       "      <td>272926.0</td>\n",
       "    </tr>\n",
       "    <tr>\n",
       "      <th>47</th>\n",
       "      <td>RRBS_cw154_Tris_protease_GR_CAGAGAGG.ACTCAC</td>\n",
       "      <td>753993.0</td>\n",
       "      <td>753779.0</td>\n",
       "      <td>635135.0</td>\n",
       "    </tr>\n",
       "    <tr>\n",
       "      <th>48</th>\n",
       "      <td>RRBS_cw154_Tris_protease_GR_CAGAGAGG.AGGATG</td>\n",
       "      <td>784636.0</td>\n",
       "      <td>784492.0</td>\n",
       "      <td>663005.0</td>\n",
       "    </tr>\n",
       "    <tr>\n",
       "      <th>49</th>\n",
       "      <td>RRBS_cw154_Tris_protease_GR_CAGAGAGG.ATAGCG</td>\n",
       "      <td>287163.0</td>\n",
       "      <td>287118.0</td>\n",
       "      <td>239557.0</td>\n",
       "    </tr>\n",
       "    <tr>\n",
       "      <th>50</th>\n",
       "      <td>RRBS_cw154_Tris_protease_GR_CAGAGAGG.ATCGAC</td>\n",
       "      <td>644063.0</td>\n",
       "      <td>643915.0</td>\n",
       "      <td>539497.0</td>\n",
       "    </tr>\n",
       "    <tr>\n",
       "      <th>51</th>\n",
       "      <td>RRBS_cw154_Tris_protease_GR_CAGAGAGG.CAAGAG</td>\n",
       "      <td>9786.0</td>\n",
       "      <td>9786.0</td>\n",
       "      <td>7866.0</td>\n",
       "    </tr>\n",
       "    <tr>\n",
       "      <th>52</th>\n",
       "      <td>RRBS_cw154_Tris_protease_GR_CAGAGAGG.CATGAC</td>\n",
       "      <td>720869.0</td>\n",
       "      <td>720763.0</td>\n",
       "      <td>600463.0</td>\n",
       "    </tr>\n",
       "    <tr>\n",
       "      <th>53</th>\n",
       "      <td>RRBS_cw154_Tris_protease_GR_CAGAGAGG.CCTTCG</td>\n",
       "      <td>259789.0</td>\n",
       "      <td>259749.0</td>\n",
       "      <td>216388.0</td>\n",
       "    </tr>\n",
       "    <tr>\n",
       "      <th>54</th>\n",
       "      <td>RRBS_cw154_Tris_protease_GR_CAGAGAGG.CGGTAG</td>\n",
       "      <td>409451.0</td>\n",
       "      <td>409407.0</td>\n",
       "      <td>342160.0</td>\n",
       "    </tr>\n",
       "    <tr>\n",
       "      <th>55</th>\n",
       "      <td>RRBS_cw154_Tris_protease_GR_CAGAGAGG.CTATTG</td>\n",
       "      <td>393366.0</td>\n",
       "      <td>393304.0</td>\n",
       "      <td>339646.0</td>\n",
       "    </tr>\n",
       "    <tr>\n",
       "      <th>56</th>\n",
       "      <td>RRBS_cw154_Tris_protease_GR_CAGAGAGG.CTCAGC</td>\n",
       "      <td>376935.0</td>\n",
       "      <td>376888.0</td>\n",
       "      <td>309490.0</td>\n",
       "    </tr>\n",
       "    <tr>\n",
       "      <th>57</th>\n",
       "      <td>RRBS_cw154_Tris_protease_GR_CAGAGAGG.GACACG</td>\n",
       "      <td>260836.0</td>\n",
       "      <td>260789.0</td>\n",
       "      <td>215879.0</td>\n",
       "    </tr>\n",
       "    <tr>\n",
       "      <th>58</th>\n",
       "      <td>RRBS_cw154_Tris_protease_GR_CAGAGAGG.GCATTC</td>\n",
       "      <td>324252.0</td>\n",
       "      <td>324200.0</td>\n",
       "      <td>263836.0</td>\n",
       "    </tr>\n",
       "    <tr>\n",
       "      <th>59</th>\n",
       "      <td>RRBS_cw154_Tris_protease_GR_CAGAGAGG.GCTGCC</td>\n",
       "      <td>224514.0</td>\n",
       "      <td>224480.0</td>\n",
       "      <td>183768.0</td>\n",
       "    </tr>\n",
       "    <tr>\n",
       "      <th>60</th>\n",
       "      <td>RRBS_cw154_Tris_protease_GR_CAGAGAGG.GGCATC</td>\n",
       "      <td>363506.0</td>\n",
       "      <td>363446.0</td>\n",
       "      <td>297360.0</td>\n",
       "    </tr>\n",
       "    <tr>\n",
       "      <th>61</th>\n",
       "      <td>RRBS_cw154_Tris_protease_GR_CAGAGAGG.GTGAGG</td>\n",
       "      <td>446957.0</td>\n",
       "      <td>446899.0</td>\n",
       "      <td>370171.0</td>\n",
       "    </tr>\n",
       "    <tr>\n",
       "      <th>62</th>\n",
       "      <td>RRBS_cw154_Tris_protease_GR_CAGAGAGG.GTTGAG</td>\n",
       "      <td>365218.0</td>\n",
       "      <td>365172.0</td>\n",
       "      <td>301151.0</td>\n",
       "    </tr>\n",
       "    <tr>\n",
       "      <th>63</th>\n",
       "      <td>RRBS_cw154_Tris_protease_GR_CAGAGAGG.TAGCGG</td>\n",
       "      <td>174703.0</td>\n",
       "      <td>174677.0</td>\n",
       "      <td>141958.0</td>\n",
       "    </tr>\n",
       "    <tr>\n",
       "      <th>64</th>\n",
       "      <td>RRBS_cw154_Tris_protease_GR_CAGAGAGG.TATCTC</td>\n",
       "      <td>423104.0</td>\n",
       "      <td>423019.0</td>\n",
       "      <td>349305.0</td>\n",
       "    </tr>\n",
       "    <tr>\n",
       "      <th>65</th>\n",
       "      <td>RRBS_cw154_Tris_protease_GR_CAGAGAGG.TCTCTG</td>\n",
       "      <td>569470.0</td>\n",
       "      <td>569373.0</td>\n",
       "      <td>471904.0</td>\n",
       "    </tr>\n",
       "  </tbody>\n",
       "</table>\n",
       "<p>66 rows × 4 columns</p>\n",
       "</div>"
      ],
      "text/plain": [
       "                                            filename  total_cpg_no_filter  \\\n",
       "0   RRBS_cw154_CutSmart_proteinase_K_TAGGCATG.ACAACC             731145.0   \n",
       "1   RRBS_cw154_CutSmart_proteinase_K_TAGGCATG.ACCGCG             202674.0   \n",
       "2   RRBS_cw154_CutSmart_proteinase_K_TAGGCATG.ACGTGG             451053.0   \n",
       "3   RRBS_cw154_CutSmart_proteinase_K_TAGGCATG.ACTCAC             719630.0   \n",
       "4   RRBS_cw154_CutSmart_proteinase_K_TAGGCATG.AGGATG             799182.0   \n",
       "5   RRBS_cw154_CutSmart_proteinase_K_TAGGCATG.ATAGCG             551512.0   \n",
       "6   RRBS_cw154_CutSmart_proteinase_K_TAGGCATG.ATCGAC             746691.0   \n",
       "7   RRBS_cw154_CutSmart_proteinase_K_TAGGCATG.CAAGAG             659749.0   \n",
       "8   RRBS_cw154_CutSmart_proteinase_K_TAGGCATG.CATGAC             772618.0   \n",
       "9   RRBS_cw154_CutSmart_proteinase_K_TAGGCATG.CCTTCG             454537.0   \n",
       "10  RRBS_cw154_CutSmart_proteinase_K_TAGGCATG.CGGTAG             485483.0   \n",
       "11  RRBS_cw154_CutSmart_proteinase_K_TAGGCATG.CTATTG               9834.0   \n",
       "12  RRBS_cw154_CutSmart_proteinase_K_TAGGCATG.CTCAGC             470082.0   \n",
       "13  RRBS_cw154_CutSmart_proteinase_K_TAGGCATG.GACACG             406942.0   \n",
       "14  RRBS_cw154_CutSmart_proteinase_K_TAGGCATG.GCATTC             579844.0   \n",
       "15  RRBS_cw154_CutSmart_proteinase_K_TAGGCATG.GCTGCC             257369.0   \n",
       "16  RRBS_cw154_CutSmart_proteinase_K_TAGGCATG.GGCATC             512469.0   \n",
       "17  RRBS_cw154_CutSmart_proteinase_K_TAGGCATG.GTGAGG             541784.0   \n",
       "18  RRBS_cw154_CutSmart_proteinase_K_TAGGCATG.GTTGAG              15152.0   \n",
       "19  RRBS_cw154_CutSmart_proteinase_K_TAGGCATG.TAGCGG             404298.0   \n",
       "20  RRBS_cw154_CutSmart_proteinase_K_TAGGCATG.TATCTC             791044.0   \n",
       "21  RRBS_cw154_CutSmart_proteinase_K_TAGGCATG.TCTCTG             653387.0   \n",
       "22         RRBS_cw154_Tris_protease_CTCTCTAC.ACAACC.             475766.0   \n",
       "23         RRBS_cw154_Tris_protease_CTCTCTAC.ACCGCG.             118876.0   \n",
       "24         RRBS_cw154_Tris_protease_CTCTCTAC.ACGTGG.             133116.0   \n",
       "25         RRBS_cw154_Tris_protease_CTCTCTAC.ACTCAC.             422977.0   \n",
       "26         RRBS_cw154_Tris_protease_CTCTCTAC.AGGATG.             281432.0   \n",
       "27         RRBS_cw154_Tris_protease_CTCTCTAC.ATAGCG.             283027.0   \n",
       "28         RRBS_cw154_Tris_protease_CTCTCTAC.ATCGAC.             333368.0   \n",
       "29         RRBS_cw154_Tris_protease_CTCTCTAC.CAAGAG.              12665.0   \n",
       "..                                               ...                  ...   \n",
       "36         RRBS_cw154_Tris_protease_CTCTCTAC.GCATTC.             589697.0   \n",
       "37         RRBS_cw154_Tris_protease_CTCTCTAC.GCTGCC.             146093.0   \n",
       "38         RRBS_cw154_Tris_protease_CTCTCTAC.GGCATC.             430967.0   \n",
       "39         RRBS_cw154_Tris_protease_CTCTCTAC.GTGAGG.             339976.0   \n",
       "40         RRBS_cw154_Tris_protease_CTCTCTAC.GTTGAG.             209790.0   \n",
       "41         RRBS_cw154_Tris_protease_CTCTCTAC.TAGCGG.              77891.0   \n",
       "42         RRBS_cw154_Tris_protease_CTCTCTAC.TATCTC.             306155.0   \n",
       "43         RRBS_cw154_Tris_protease_CTCTCTAC.TCTCTG.             615705.0   \n",
       "44       RRBS_cw154_Tris_protease_GR_CAGAGAGG.ACAACC             739320.0   \n",
       "45       RRBS_cw154_Tris_protease_GR_CAGAGAGG.ACCGCG              56706.0   \n",
       "46       RRBS_cw154_Tris_protease_GR_CAGAGAGG.ACGTGG             326834.0   \n",
       "47       RRBS_cw154_Tris_protease_GR_CAGAGAGG.ACTCAC             753993.0   \n",
       "48       RRBS_cw154_Tris_protease_GR_CAGAGAGG.AGGATG             784636.0   \n",
       "49       RRBS_cw154_Tris_protease_GR_CAGAGAGG.ATAGCG             287163.0   \n",
       "50       RRBS_cw154_Tris_protease_GR_CAGAGAGG.ATCGAC             644063.0   \n",
       "51       RRBS_cw154_Tris_protease_GR_CAGAGAGG.CAAGAG               9786.0   \n",
       "52       RRBS_cw154_Tris_protease_GR_CAGAGAGG.CATGAC             720869.0   \n",
       "53       RRBS_cw154_Tris_protease_GR_CAGAGAGG.CCTTCG             259789.0   \n",
       "54       RRBS_cw154_Tris_protease_GR_CAGAGAGG.CGGTAG             409451.0   \n",
       "55       RRBS_cw154_Tris_protease_GR_CAGAGAGG.CTATTG             393366.0   \n",
       "56       RRBS_cw154_Tris_protease_GR_CAGAGAGG.CTCAGC             376935.0   \n",
       "57       RRBS_cw154_Tris_protease_GR_CAGAGAGG.GACACG             260836.0   \n",
       "58       RRBS_cw154_Tris_protease_GR_CAGAGAGG.GCATTC             324252.0   \n",
       "59       RRBS_cw154_Tris_protease_GR_CAGAGAGG.GCTGCC             224514.0   \n",
       "60       RRBS_cw154_Tris_protease_GR_CAGAGAGG.GGCATC             363506.0   \n",
       "61       RRBS_cw154_Tris_protease_GR_CAGAGAGG.GTGAGG             446957.0   \n",
       "62       RRBS_cw154_Tris_protease_GR_CAGAGAGG.GTTGAG             365218.0   \n",
       "63       RRBS_cw154_Tris_protease_GR_CAGAGAGG.TAGCGG             174703.0   \n",
       "64       RRBS_cw154_Tris_protease_GR_CAGAGAGG.TATCTC             423104.0   \n",
       "65       RRBS_cw154_Tris_protease_GR_CAGAGAGG.TCTCTG             569470.0   \n",
       "\n",
       "    total_cpg_gtrthan1  total_cpg_gtrthan38  \n",
       "0             730971.0             609788.0  \n",
       "1             202653.0             168418.0  \n",
       "2             451000.0             374185.0  \n",
       "3             719469.0             598731.0  \n",
       "4             799040.0             668842.0  \n",
       "5             551428.0             454895.0  \n",
       "6             746542.0             617118.0  \n",
       "7             659662.0             548621.0  \n",
       "8             772511.0             642159.0  \n",
       "9             454458.0             373943.0  \n",
       "10            485419.0             403532.0  \n",
       "11              9834.0               8007.0  \n",
       "12            470009.0             386951.0  \n",
       "13            406885.0             335484.0  \n",
       "14            579771.0             476413.0  \n",
       "15            257331.0             211519.0  \n",
       "16            512391.0             426033.0  \n",
       "17            541712.0             452376.0  \n",
       "18             15150.0              12450.0  \n",
       "19            404249.0             334974.0  \n",
       "20            790894.0             657494.0  \n",
       "21            653298.0             544721.0  \n",
       "22            475596.0             398721.0  \n",
       "23            118851.0             100501.0  \n",
       "24            133102.0             112979.0  \n",
       "25            422884.0             349345.0  \n",
       "26            281365.0             236281.0  \n",
       "27            282977.0             237352.0  \n",
       "28            333284.0             278192.0  \n",
       "29             12665.0              10385.0  \n",
       "..                 ...                  ...  \n",
       "36            589548.0             490794.0  \n",
       "37            146076.0             119380.0  \n",
       "38            430875.0             357048.0  \n",
       "39            339902.0             285024.0  \n",
       "40            209741.0             172699.0  \n",
       "41             77882.0              65323.0  \n",
       "42            306092.0             257092.0  \n",
       "43            615569.0             519604.0  \n",
       "44            739104.0             625224.0  \n",
       "45             56695.0              46212.0  \n",
       "46            326784.0             272926.0  \n",
       "47            753779.0             635135.0  \n",
       "48            784492.0             663005.0  \n",
       "49            287118.0             239557.0  \n",
       "50            643915.0             539497.0  \n",
       "51              9786.0               7866.0  \n",
       "52            720763.0             600463.0  \n",
       "53            259749.0             216388.0  \n",
       "54            409407.0             342160.0  \n",
       "55            393304.0             339646.0  \n",
       "56            376888.0             309490.0  \n",
       "57            260789.0             215879.0  \n",
       "58            324200.0             263836.0  \n",
       "59            224480.0             183768.0  \n",
       "60            363446.0             297360.0  \n",
       "61            446899.0             370171.0  \n",
       "62            365172.0             301151.0  \n",
       "63            174677.0             141958.0  \n",
       "64            423019.0             349305.0  \n",
       "65            569373.0             471904.0  \n",
       "\n",
       "[66 rows x 4 columns]"
      ]
     },
     "execution_count": 92,
     "metadata": {},
     "output_type": "execute_result"
    }
   ],
   "source": [
    "cw154_cpg.drop(\"protocol\", axis=1)"
   ]
  },
  {
   "cell_type": "code",
   "execution_count": 93,
   "metadata": {
    "collapsed": true
   },
   "outputs": [],
   "source": [
    "cw154_cpg.to_csv(\"cw154_cpg.csv\")"
   ]
  },
  {
   "cell_type": "code",
   "execution_count": 94,
   "metadata": {
    "collapsed": false
   },
   "outputs": [
    {
     "name": "stdout",
     "output_type": "stream",
     "text": [
      "(89, 4)\n",
      "(88, 4)\n",
      "(90, 4)\n",
      "(42, 4)\n",
      "(66, 5)\n"
     ]
    }
   ],
   "source": [
    "print(cd19_merged.shape)\n",
    "print(mcell_cpg.shape)\n",
    "print(pcell_cpg.shape)\n",
    "print(trito_cpg.shape)\n",
    "print(cw154_cpg.shape)"
   ]
  },
  {
   "cell_type": "code",
   "execution_count": null,
   "metadata": {
    "collapsed": true
   },
   "outputs": [],
   "source": [
    "files = [mcell_cpg, pcell_cpg, trito_cpg, cw154_cpg, cd19_merged]"
   ]
  },
  {
   "cell_type": "code",
   "execution_count": 97,
   "metadata": {
    "collapsed": false
   },
   "outputs": [
    {
     "data": {
      "text/plain": [
       "48"
      ]
     },
     "execution_count": 97,
     "metadata": {},
     "output_type": "execute_result"
    }
   ],
   "source": [
    "len(\"stacked_RRBS_normal_B_cell_G1_22_GGACTCCT.ACCGCG\")"
   ]
  },
  {
   "cell_type": "code",
   "execution_count": 98,
   "metadata": {
    "collapsed": true
   },
   "outputs": [],
   "source": [
    "totcpg = pd.read_csv('total_CpG_filename.csv')"
   ]
  },
  {
   "cell_type": "code",
   "execution_count": null,
   "metadata": {
    "collapsed": false
   },
   "outputs": [],
   "source": []
  },
  {
   "cell_type": "code",
   "execution_count": null,
   "metadata": {
    "collapsed": true
   },
   "outputs": [],
   "source": []
  },
  {
   "cell_type": "code",
   "execution_count": null,
   "metadata": {
    "collapsed": true
   },
   "outputs": [],
   "source": []
  },
  {
   "cell_type": "code",
   "execution_count": null,
   "metadata": {
    "collapsed": true
   },
   "outputs": [],
   "source": []
  }
 ],
 "metadata": {
  "kernelspec": {
   "display_name": "Python 3",
   "language": "python",
   "name": "python3"
  },
  "language_info": {
   "codemirror_mode": {
    "name": "ipython",
    "version": 3
   },
   "file_extension": ".py",
   "mimetype": "text/x-python",
   "name": "python",
   "nbconvert_exporter": "python",
   "pygments_lexer": "ipython3",
   "version": "3.4.5"
  }
 },
 "nbformat": 4,
 "nbformat_minor": 0
}
