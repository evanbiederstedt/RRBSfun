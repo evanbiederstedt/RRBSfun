{
 "cells": [
  {
   "cell_type": "code",
   "execution_count": 1,
   "metadata": {
    "collapsed": true
   },
   "outputs": [],
   "source": [
    "%matplotlib inline"
   ]
  },
  {
   "cell_type": "code",
   "execution_count": 2,
   "metadata": {
    "collapsed": true
   },
   "outputs": [],
   "source": [
    "import glob\n",
    "import pandas as pd\n",
    "import numpy as np\n",
    "import seaborn as sns\n",
    "import matplotlib.pyplot as plt\n",
    "import matplotlib\n",
    "pd.set_option('display.max_columns', 50) # print all rows\n",
    "\n",
    "import os\n",
    "os.chdir('/Users/evanbiederstedt/Downloads/required_binary_phylo_files')\n",
    "\n",
    "import statsmodels.api as sm"
   ]
  },
  {
   "cell_type": "code",
   "execution_count": 3,
   "metadata": {
    "collapsed": false
   },
   "outputs": [
    {
     "name": "stdout",
     "output_type": "stream",
     "text": [
      "binary_position_RRBS_B_double_digestion_CGTACTAG.GTTGAG.bed.anno.csv\r\n",
      "binary_position_RRBS_CW154_double_digestion_TCCTGAGC.ACAACC.bed.anno.csv\r\n",
      "binary_position_RRBS_CW154_double_digestion_TCCTGAGC.ACCGCG.bed.anno.csv\r\n",
      "binary_position_RRBS_CW154_double_digestion_TCCTGAGC.ACGTGG.bed.anno.csv\r\n",
      "binary_position_RRBS_CW154_double_digestion_TCCTGAGC.ACTCAC.bed.anno.csv\r\n",
      "binary_position_RRBS_CW154_double_digestion_TCCTGAGC.AGGATG.bed.anno.csv\r\n",
      "binary_position_RRBS_CW154_double_digestion_TCCTGAGC.ATAGCG.bed.anno.csv\r\n",
      "binary_position_RRBS_CW154_double_digestion_TCCTGAGC.ATCGAC.bed.anno.csv\r\n",
      "binary_position_RRBS_CW154_double_digestion_TCCTGAGC.CAAGAG.bed.anno.csv\r\n",
      "binary_position_RRBS_CW154_double_digestion_TCCTGAGC.CATGAC.bed.anno.csv\r\n",
      "binary_position_RRBS_CW154_double_digestion_TCCTGAGC.CCTTCG.bed.anno.csv\r\n",
      "binary_position_RRBS_CW154_double_digestion_TCCTGAGC.CGGTAG.bed.anno.csv\r\n",
      "binary_position_RRBS_CW154_double_digestion_TCCTGAGC.CTCAGC.bed.anno.csv\r\n",
      "binary_position_RRBS_CW154_double_digestion_TCCTGAGC.GACACG.bed.anno.csv\r\n",
      "binary_position_RRBS_CW154_double_digestion_TCCTGAGC.GCATTC.bed.anno.csv\r\n",
      "binary_position_RRBS_CW154_double_digestion_TCCTGAGC.GCTGCC.bed.anno.csv\r\n",
      "binary_position_RRBS_CW154_double_digestion_TCCTGAGC.GGCATC.bed.anno.csv\r\n",
      "binary_position_RRBS_CW154_double_digestion_TCCTGAGC.GTGAGG.bed.anno.csv\r\n",
      "binary_position_RRBS_CW154_double_digestion_TCCTGAGC.TAGCGG.bed.anno.csv\r\n",
      "binary_position_RRBS_CW154_double_digestion_TCCTGAGC.TATCTC.bed.anno.csv\r\n",
      "binary_position_RRBS_CW154_double_digestion_TCCTGAGC.TCTCTG.bed.anno.csv\r\n",
      "binary_position_RRBS_cw154_CutSmart_proteinase_K_TAGGCATG.ACAACC.bed.anno.csv\r\n",
      "binary_position_RRBS_cw154_CutSmart_proteinase_K_TAGGCATG.ACCGCG.bed.anno.csv\r\n",
      "binary_position_RRBS_cw154_CutSmart_proteinase_K_TAGGCATG.ACGTGG.bed.anno.csv\r\n",
      "binary_position_RRBS_cw154_CutSmart_proteinase_K_TAGGCATG.ACTCAC.bed.anno.csv\r\n",
      "binary_position_RRBS_cw154_CutSmart_proteinase_K_TAGGCATG.AGGATG.bed.anno.csv\r\n",
      "binary_position_RRBS_cw154_CutSmart_proteinase_K_TAGGCATG.ATAGCG.bed.anno.csv\r\n",
      "binary_position_RRBS_cw154_CutSmart_proteinase_K_TAGGCATG.ATCGAC.bed.anno.csv\r\n",
      "binary_position_RRBS_cw154_CutSmart_proteinase_K_TAGGCATG.CAAGAG.bed.anno.csv\r\n",
      "binary_position_RRBS_cw154_CutSmart_proteinase_K_TAGGCATG.CATGAC.bed.anno.csv\r\n",
      "binary_position_RRBS_cw154_CutSmart_proteinase_K_TAGGCATG.CCTTCG.bed.anno.csv\r\n",
      "binary_position_RRBS_cw154_CutSmart_proteinase_K_TAGGCATG.CGGTAG.bed.anno.csv\r\n",
      "binary_position_RRBS_cw154_CutSmart_proteinase_K_TAGGCATG.CTCAGC.bed.anno.csv\r\n",
      "binary_position_RRBS_cw154_CutSmart_proteinase_K_TAGGCATG.GACACG.bed.anno.csv\r\n",
      "binary_position_RRBS_cw154_CutSmart_proteinase_K_TAGGCATG.GCATTC.bed.anno.csv\r\n",
      "binary_position_RRBS_cw154_CutSmart_proteinase_K_TAGGCATG.GCTGCC.bed.anno.csv\r\n",
      "binary_position_RRBS_cw154_CutSmart_proteinase_K_TAGGCATG.GGCATC.bed.anno.csv\r\n",
      "binary_position_RRBS_cw154_CutSmart_proteinase_K_TAGGCATG.GTGAGG.bed.anno.csv\r\n",
      "binary_position_RRBS_cw154_CutSmart_proteinase_K_TAGGCATG.TAGCGG.bed.anno.csv\r\n",
      "binary_position_RRBS_cw154_CutSmart_proteinase_K_TAGGCATG.TATCTC.bed.anno.csv\r\n",
      "binary_position_RRBS_cw154_CutSmart_proteinase_K_TAGGCATG.TCTCTG.bed.anno.csv\r\n",
      "binary_position_RRBS_cw154_Tris_protease_CTCTCTAC.ACAACC.bed.anno.csv\r\n",
      "binary_position_RRBS_cw154_Tris_protease_CTCTCTAC.ACCGCG.bed.anno.csv\r\n",
      "binary_position_RRBS_cw154_Tris_protease_CTCTCTAC.ACGTGG.bed.anno.csv\r\n",
      "binary_position_RRBS_cw154_Tris_protease_CTCTCTAC.ACTCAC.bed.anno.csv\r\n",
      "binary_position_RRBS_cw154_Tris_protease_CTCTCTAC.AGGATG.bed.anno.csv\r\n",
      "binary_position_RRBS_cw154_Tris_protease_CTCTCTAC.ATAGCG.bed.anno.csv\r\n",
      "binary_position_RRBS_cw154_Tris_protease_CTCTCTAC.ATCGAC.bed.anno.csv\r\n",
      "binary_position_RRBS_cw154_Tris_protease_CTCTCTAC.CATGAC.bed.anno.csv\r\n",
      "binary_position_RRBS_cw154_Tris_protease_CTCTCTAC.CCTTCG.bed.anno.csv\r\n",
      "binary_position_RRBS_cw154_Tris_protease_CTCTCTAC.CGGTAG.bed.anno.csv\r\n",
      "binary_position_RRBS_cw154_Tris_protease_CTCTCTAC.CTATTG.bed.anno.csv\r\n",
      "binary_position_RRBS_cw154_Tris_protease_CTCTCTAC.CTCAGC.bed.anno.csv\r\n",
      "binary_position_RRBS_cw154_Tris_protease_CTCTCTAC.GACACG.bed.anno.csv\r\n",
      "binary_position_RRBS_cw154_Tris_protease_CTCTCTAC.GCATTC.bed.anno.csv\r\n",
      "binary_position_RRBS_cw154_Tris_protease_CTCTCTAC.GCTGCC.bed.anno.csv\r\n",
      "binary_position_RRBS_cw154_Tris_protease_CTCTCTAC.GGCATC.bed.anno.csv\r\n",
      "binary_position_RRBS_cw154_Tris_protease_CTCTCTAC.GTGAGG.bed.anno.csv\r\n",
      "binary_position_RRBS_cw154_Tris_protease_CTCTCTAC.GTTGAG.bed.anno.csv\r\n",
      "binary_position_RRBS_cw154_Tris_protease_CTCTCTAC.TAGCGG.bed.anno.csv\r\n",
      "binary_position_RRBS_cw154_Tris_protease_CTCTCTAC.TATCTC.bed.anno.csv\r\n",
      "binary_position_RRBS_cw154_Tris_protease_CTCTCTAC.TCTCTG.bed.anno.csv\r\n",
      "binary_position_RRBS_cw154_Tris_protease_GR_CAGAGAGG.ACAACC.bed.anno.csv\r\n",
      "binary_position_RRBS_cw154_Tris_protease_GR_CAGAGAGG.ACCGCG.bed.anno.csv\r\n",
      "binary_position_RRBS_cw154_Tris_protease_GR_CAGAGAGG.ACGTGG.bed.anno.csv\r\n",
      "binary_position_RRBS_cw154_Tris_protease_GR_CAGAGAGG.ACTCAC.bed.anno.csv\r\n",
      "binary_position_RRBS_cw154_Tris_protease_GR_CAGAGAGG.AGGATG.bed.anno.csv\r\n",
      "binary_position_RRBS_cw154_Tris_protease_GR_CAGAGAGG.ATAGCG.bed.anno.csv\r\n",
      "binary_position_RRBS_cw154_Tris_protease_GR_CAGAGAGG.ATCGAC.bed.anno.csv\r\n",
      "binary_position_RRBS_cw154_Tris_protease_GR_CAGAGAGG.CATGAC.bed.anno.csv\r\n",
      "binary_position_RRBS_cw154_Tris_protease_GR_CAGAGAGG.CCTTCG.bed.anno.csv\r\n",
      "binary_position_RRBS_cw154_Tris_protease_GR_CAGAGAGG.CGGTAG.bed.anno.csv\r\n",
      "binary_position_RRBS_cw154_Tris_protease_GR_CAGAGAGG.CTATTG.bed.anno.csv\r\n",
      "binary_position_RRBS_cw154_Tris_protease_GR_CAGAGAGG.CTCAGC.bed.anno.csv\r\n",
      "binary_position_RRBS_cw154_Tris_protease_GR_CAGAGAGG.GACACG.bed.anno.csv\r\n",
      "binary_position_RRBS_cw154_Tris_protease_GR_CAGAGAGG.GCATTC.bed.anno.csv\r\n",
      "binary_position_RRBS_cw154_Tris_protease_GR_CAGAGAGG.GCTGCC.bed.anno.csv\r\n",
      "binary_position_RRBS_cw154_Tris_protease_GR_CAGAGAGG.GGCATC.bed.anno.csv\r\n",
      "binary_position_RRBS_cw154_Tris_protease_GR_CAGAGAGG.GTGAGG.bed.anno.csv\r\n",
      "binary_position_RRBS_cw154_Tris_protease_GR_CAGAGAGG.GTTGAG.bed.anno.csv\r\n",
      "binary_position_RRBS_cw154_Tris_protease_GR_CAGAGAGG.TAGCGG.bed.anno.csv\r\n",
      "binary_position_RRBS_cw154_Tris_protease_GR_CAGAGAGG.TATCTC.bed.anno.csv\r\n",
      "binary_position_RRBS_cw154_Tris_protease_GR_CAGAGAGG.TCTCTG.bed.anno.csv\r\n",
      "binary_position_RRBS_normal_B_cell_A1_24_TAAGGCGA.ACAACC.bed.anno.csv\r\n",
      "binary_position_RRBS_normal_B_cell_A1_24_TAAGGCGA.ACCGCG.bed.anno.csv\r\n",
      "binary_position_RRBS_normal_B_cell_A1_24_TAAGGCGA.ACGTGG.bed.anno.csv\r\n",
      "binary_position_RRBS_normal_B_cell_A1_24_TAAGGCGA.AGGATG.bed.anno.csv\r\n",
      "binary_position_RRBS_normal_B_cell_A1_24_TAAGGCGA.ATAGCG.bed.anno.csv\r\n",
      "binary_position_RRBS_normal_B_cell_A1_24_TAAGGCGA.ATCGAC.bed.anno.csv\r\n",
      "binary_position_RRBS_normal_B_cell_A1_24_TAAGGCGA.CAAGAG.bed.anno.csv\r\n",
      "binary_position_RRBS_normal_B_cell_A1_24_TAAGGCGA.CATGAC.bed.anno.csv\r\n",
      "binary_position_RRBS_normal_B_cell_A1_24_TAAGGCGA.CGGTAG.bed.anno.csv\r\n",
      "binary_position_RRBS_normal_B_cell_A1_24_TAAGGCGA.CTATTG.bed.anno.csv\r\n",
      "binary_position_RRBS_normal_B_cell_A1_24_TAAGGCGA.CTCAGC.bed.anno.csv\r\n",
      "binary_position_RRBS_normal_B_cell_A1_24_TAAGGCGA.GACACG.bed.anno.csv\r\n",
      "binary_position_RRBS_normal_B_cell_A1_24_TAAGGCGA.GCTGCC.bed.anno.csv\r\n",
      "binary_position_RRBS_normal_B_cell_A1_24_TAAGGCGA.GGCATC.bed.anno.csv\r\n",
      "binary_position_RRBS_normal_B_cell_A1_24_TAAGGCGA.GTGAGG.bed.anno.csv\r\n",
      "binary_position_RRBS_normal_B_cell_A1_24_TAAGGCGA.GTTGAG.bed.anno.csv\r\n",
      "binary_position_RRBS_normal_B_cell_A1_24_TAAGGCGA.TAGCGG.bed.anno.csv\r\n",
      "binary_position_RRBS_normal_B_cell_A1_24_TAAGGCGA.TATCTC.bed.anno.csv\r\n",
      "binary_position_RRBS_normal_B_cell_A1_24_TAAGGCGA.TCTCTG.bed.anno.csv\r\n",
      "binary_position_RRBS_normal_B_cell_A1_24_TAAGGCGA.TGACAG.bed.anno.csv\r\n",
      "binary_position_RRBS_normal_B_cell_B1_24_CGTACTAG.ACAACC.bed.anno.csv\r\n",
      "binary_position_RRBS_normal_B_cell_B1_24_CGTACTAG.ACCGCG.bed.anno.csv\r\n",
      "binary_position_RRBS_normal_B_cell_B1_24_CGTACTAG.ACTCAC.bed.anno.csv\r\n",
      "binary_position_RRBS_normal_B_cell_B1_24_CGTACTAG.ATAGCG.bed.anno.csv\r\n",
      "binary_position_RRBS_normal_B_cell_B1_24_CGTACTAG.CAAGAG.bed.anno.csv\r\n",
      "binary_position_RRBS_normal_B_cell_B1_24_CGTACTAG.CATGAC.bed.anno.csv\r\n",
      "binary_position_RRBS_normal_B_cell_B1_24_CGTACTAG.CCTTCG.bed.anno.csv\r\n",
      "binary_position_RRBS_normal_B_cell_B1_24_CGTACTAG.CGGTAG.bed.anno.csv\r\n",
      "binary_position_RRBS_normal_B_cell_B1_24_CGTACTAG.CTATTG.bed.anno.csv\r\n",
      "binary_position_RRBS_normal_B_cell_B1_24_CGTACTAG.CTCAGC.bed.anno.csv\r\n",
      "binary_position_RRBS_normal_B_cell_B1_24_CGTACTAG.GACACG.bed.anno.csv\r\n",
      "binary_position_RRBS_normal_B_cell_B1_24_CGTACTAG.GCATTC.bed.anno.csv\r\n",
      "binary_position_RRBS_normal_B_cell_B1_24_CGTACTAG.GGCATC.bed.anno.csv\r\n",
      "binary_position_RRBS_normal_B_cell_B1_24_CGTACTAG.GTGAGG.bed.anno.csv\r\n",
      "binary_position_RRBS_normal_B_cell_B1_24_CGTACTAG.GTTGAG.bed.anno.csv\r\n",
      "binary_position_RRBS_normal_B_cell_B1_24_CGTACTAG.TAGCGG.bed.anno.csv\r\n",
      "binary_position_RRBS_normal_B_cell_B1_24_CGTACTAG.TATCTC.bed.anno.csv\r\n",
      "binary_position_RRBS_normal_B_cell_B1_24_CGTACTAG.TCTCTG.bed.anno.csv\r\n",
      "binary_position_RRBS_normal_B_cell_B1_24_CGTACTAG.TGACAG.bed.anno.csv\r\n",
      "binary_position_RRBS_normal_B_cell_B1_24_CGTACTAG.TGCTGC.bed.anno.csv\r\n",
      "binary_position_RRBS_normal_B_cell_C1_24_AGGCAGAA.ACAACC.bed.anno.csv\r\n",
      "binary_position_RRBS_normal_B_cell_C1_24_AGGCAGAA.ACCGCG.bed.anno.csv\r\n",
      "binary_position_RRBS_normal_B_cell_C1_24_AGGCAGAA.ACGTGG.bed.anno.csv\r\n",
      "binary_position_RRBS_normal_B_cell_C1_24_AGGCAGAA.ACTCAC.bed.anno.csv\r\n",
      "binary_position_RRBS_normal_B_cell_C1_24_AGGCAGAA.AGGATG.bed.anno.csv\r\n",
      "binary_position_RRBS_normal_B_cell_C1_24_AGGCAGAA.ATAGCG.bed.anno.csv\r\n",
      "binary_position_RRBS_normal_B_cell_C1_24_AGGCAGAA.ATCGAC.bed.anno.csv\r\n",
      "binary_position_RRBS_normal_B_cell_C1_24_AGGCAGAA.CAAGAG.bed.anno.csv\r\n",
      "binary_position_RRBS_normal_B_cell_C1_24_AGGCAGAA.CATGAC.bed.anno.csv\r\n",
      "binary_position_RRBS_normal_B_cell_C1_24_AGGCAGAA.CGGTAG.bed.anno.csv\r\n",
      "binary_position_RRBS_normal_B_cell_C1_24_AGGCAGAA.CTATTG.bed.anno.csv\r\n",
      "binary_position_RRBS_normal_B_cell_C1_24_AGGCAGAA.GACACG.bed.anno.csv\r\n",
      "binary_position_RRBS_normal_B_cell_C1_24_AGGCAGAA.GCATTC.bed.anno.csv\r\n",
      "binary_position_RRBS_normal_B_cell_C1_24_AGGCAGAA.GCTGCC.bed.anno.csv\r\n",
      "binary_position_RRBS_normal_B_cell_C1_24_AGGCAGAA.GGCATC.bed.anno.csv\r\n",
      "binary_position_RRBS_normal_B_cell_C1_24_AGGCAGAA.GTGAGG.bed.anno.csv\r\n",
      "binary_position_RRBS_normal_B_cell_C1_24_AGGCAGAA.GTTGAG.bed.anno.csv\r\n",
      "binary_position_RRBS_normal_B_cell_C1_24_AGGCAGAA.TAGCGG.bed.anno.csv\r\n",
      "binary_position_RRBS_normal_B_cell_C1_24_AGGCAGAA.TATCTC.bed.anno.csv\r\n",
      "binary_position_RRBS_normal_B_cell_D1_24_TCCTGAGC.ACAACC.bed.anno.csv\r\n",
      "binary_position_RRBS_normal_B_cell_D1_24_TCCTGAGC.ACCGCG.bed.anno.csv\r\n",
      "binary_position_RRBS_normal_B_cell_D1_24_TCCTGAGC.ACGTGG.bed.anno.csv\r\n",
      "binary_position_RRBS_normal_B_cell_D1_24_TCCTGAGC.ACTCAC.bed.anno.csv\r\n",
      "binary_position_RRBS_normal_B_cell_D1_24_TCCTGAGC.AGGATG.bed.anno.csv\r\n",
      "binary_position_RRBS_normal_B_cell_D1_24_TCCTGAGC.ATCGAC.bed.anno.csv\r\n",
      "binary_position_RRBS_normal_B_cell_D1_24_TCCTGAGC.CAAGAG.bed.anno.csv\r\n",
      "binary_position_RRBS_normal_B_cell_D1_24_TCCTGAGC.CATGAC.bed.anno.csv\r\n",
      "binary_position_RRBS_normal_B_cell_D1_24_TCCTGAGC.CCTTCG.bed.anno.csv\r\n",
      "binary_position_RRBS_normal_B_cell_D1_24_TCCTGAGC.CGGTAG.bed.anno.csv\r\n",
      "binary_position_RRBS_normal_B_cell_D1_24_TCCTGAGC.CTATTG.bed.anno.csv\r\n",
      "binary_position_RRBS_normal_B_cell_D1_24_TCCTGAGC.CTCAGC.bed.anno.csv\r\n",
      "binary_position_RRBS_normal_B_cell_D1_24_TCCTGAGC.GACACG.bed.anno.csv\r\n",
      "binary_position_RRBS_normal_B_cell_D1_24_TCCTGAGC.GCATTC.bed.anno.csv\r\n",
      "binary_position_RRBS_normal_B_cell_D1_24_TCCTGAGC.GCTGCC.bed.anno.csv\r\n",
      "binary_position_RRBS_normal_B_cell_D1_24_TCCTGAGC.GGCATC.bed.anno.csv\r\n",
      "binary_position_RRBS_normal_B_cell_D1_24_TCCTGAGC.GTTGAG.bed.anno.csv\r\n",
      "binary_position_RRBS_normal_B_cell_D1_24_TCCTGAGC.TAGCGG.bed.anno.csv\r\n",
      "binary_position_RRBS_normal_B_cell_D1_24_TCCTGAGC.TATCTC.bed.anno.csv\r\n",
      "binary_position_RRBS_normal_B_cell_G1_22_GGACTCCT.ACAACC.bed.anno.csv\r\n",
      "binary_position_RRBS_normal_B_cell_G1_22_GGACTCCT.ACCGCG.bed.anno.csv\r\n",
      "binary_position_RRBS_normal_B_cell_G1_22_GGACTCCT.ACGTGG.bed.anno.csv\r\n",
      "binary_position_RRBS_normal_B_cell_G1_22_GGACTCCT.ACTCAC.bed.anno.csv\r\n",
      "binary_position_RRBS_normal_B_cell_G1_22_GGACTCCT.AGGATG.bed.anno.csv\r\n",
      "binary_position_RRBS_normal_B_cell_G1_22_GGACTCCT.ATAGCG.bed.anno.csv\r\n",
      "binary_position_RRBS_normal_B_cell_G1_22_GGACTCCT.ATCGAC.bed.anno.csv\r\n",
      "binary_position_RRBS_normal_B_cell_G1_22_GGACTCCT.CAAGAG.bed.anno.csv\r\n",
      "binary_position_RRBS_normal_B_cell_G1_22_GGACTCCT.CATGAC.bed.anno.csv\r\n",
      "binary_position_RRBS_normal_B_cell_G1_22_GGACTCCT.CGGTAG.bed.anno.csv\r\n",
      "binary_position_RRBS_normal_B_cell_G1_22_GGACTCCT.CTATTG.bed.anno.csv\r\n",
      "binary_position_RRBS_normal_B_cell_G1_22_GGACTCCT.CTCAGC.bed.anno.csv\r\n",
      "binary_position_RRBS_normal_B_cell_G1_22_GGACTCCT.GACACG.bed.anno.csv\r\n",
      "binary_position_RRBS_normal_B_cell_G1_22_GGACTCCT.GCATTC.bed.anno.csv\r\n",
      "binary_position_RRBS_normal_B_cell_G1_22_GGACTCCT.GCTGCC.bed.anno.csv\r\n",
      "binary_position_RRBS_normal_B_cell_G1_22_GGACTCCT.GGCATC.bed.anno.csv\r\n",
      "binary_position_RRBS_normal_B_cell_G1_22_GGACTCCT.GTGAGG.bed.anno.csv\r\n",
      "binary_position_RRBS_normal_B_cell_G1_22_GGACTCCT.TAGCGG.bed.anno.csv\r\n",
      "binary_position_RRBS_normal_B_cell_G1_22_GGACTCCT.TATCTC.bed.anno.csv\r\n",
      "binary_position_RRBS_normal_B_cell_H1_22_TAGGCATG.ACCGCG.bed.anno.csv\r\n",
      "binary_position_RRBS_normal_B_cell_H1_22_TAGGCATG.ACGTGG.bed.anno.csv\r\n",
      "binary_position_RRBS_normal_B_cell_H1_22_TAGGCATG.ACTCAC.bed.anno.csv\r\n",
      "binary_position_RRBS_normal_B_cell_H1_22_TAGGCATG.AGGATG.bed.anno.csv\r\n",
      "binary_position_RRBS_normal_B_cell_H1_22_TAGGCATG.ATCGAC.bed.anno.csv\r\n",
      "binary_position_RRBS_normal_B_cell_H1_22_TAGGCATG.CAAGAG.bed.anno.csv\r\n",
      "binary_position_RRBS_normal_B_cell_H1_22_TAGGCATG.CATGAC.bed.anno.csv\r\n",
      "binary_position_RRBS_normal_B_cell_H1_22_TAGGCATG.CCTTCG.bed.anno.csv\r\n",
      "binary_position_RRBS_normal_B_cell_H1_22_TAGGCATG.CTATTG.bed.anno.csv\r\n",
      "binary_position_RRBS_normal_B_cell_H1_22_TAGGCATG.CTCAGC.bed.anno.csv\r\n",
      "binary_position_RRBS_normal_B_cell_H1_22_TAGGCATG.GCATTC.bed.anno.csv\r\n",
      "binary_position_RRBS_normal_B_cell_H1_22_TAGGCATG.GCTGCC.bed.anno.csv\r\n",
      "binary_position_RRBS_normal_B_cell_H1_22_TAGGCATG.GGCATC.bed.anno.csv\r\n",
      "binary_position_RRBS_normal_B_cell_H1_22_TAGGCATG.GTGAGG.bed.anno.csv\r\n",
      "binary_position_RRBS_normal_B_cell_H1_22_TAGGCATG.GTTGAG.bed.anno.csv\r\n",
      "binary_position_RRBS_normal_B_cell_H1_22_TAGGCATG.TCTCTG.bed.anno.csv\r\n",
      "binary_position_RRBS_trito_pool_1_TAAGGCGA.ACAACC.bed.anno.csv\r\n",
      "binary_position_RRBS_trito_pool_1_TAAGGCGA.ACGTGG.bed.anno.csv\r\n",
      "binary_position_RRBS_trito_pool_1_TAAGGCGA.ACTCAC.bed.anno.csv\r\n",
      "binary_position_RRBS_trito_pool_1_TAAGGCGA.ATAGCG.bed.anno.csv\r\n",
      "binary_position_RRBS_trito_pool_1_TAAGGCGA.ATCGAC.bed.anno.csv\r\n",
      "binary_position_RRBS_trito_pool_1_TAAGGCGA.CAAGAG.bed.anno.csv\r\n",
      "binary_position_RRBS_trito_pool_1_TAAGGCGA.CATGAC.bed.anno.csv\r\n",
      "binary_position_RRBS_trito_pool_1_TAAGGCGA.CCTTCG.bed.anno.csv\r\n",
      "binary_position_RRBS_trito_pool_1_TAAGGCGA.CGGTAG.bed.anno.csv\r\n",
      "binary_position_RRBS_trito_pool_1_TAAGGCGA.CTATTG.bed.anno.csv\r\n",
      "binary_position_RRBS_trito_pool_1_TAAGGCGA.GACACG.bed.anno.csv\r\n",
      "binary_position_RRBS_trito_pool_1_TAAGGCGA.GCATTC.bed.anno.csv\r\n",
      "binary_position_RRBS_trito_pool_1_TAAGGCGA.GCTGCC.bed.anno.csv\r\n",
      "binary_position_RRBS_trito_pool_1_TAAGGCGA.GGCATC.bed.anno.csv\r\n",
      "binary_position_RRBS_trito_pool_1_TAAGGCGA.GTGAGG.bed.anno.csv\r\n",
      "binary_position_RRBS_trito_pool_1_TAAGGCGA.GTTGAG.bed.anno.csv\r\n",
      "binary_position_RRBS_trito_pool_1_TAAGGCGA.TAGCGG.bed.anno.csv\r\n",
      "binary_position_RRBS_trito_pool_1_TAAGGCGA.TATCTC.bed.anno.csv\r\n",
      "binary_position_RRBS_trito_pool_1_TAAGGCGA.TCTCTG.bed.anno.csv\r\n",
      "binary_position_RRBS_trito_pool_1_TAAGGCGA.TGACAG.bed.anno.csv\r\n",
      "binary_position_RRBS_trito_pool_1_TAAGGCGA.TGCTGC.bed.anno.csv\r\n",
      "binary_position_RRBS_trito_pool_2_CGTACTAG.ACAACC.bed.anno.csv\r\n",
      "binary_position_RRBS_trito_pool_2_CGTACTAG.ACGTGG.bed.anno.csv\r\n",
      "binary_position_RRBS_trito_pool_2_CGTACTAG.ACTCAC.bed.anno.csv\r\n",
      "binary_position_RRBS_trito_pool_2_CGTACTAG.AGGATG.bed.anno.csv\r\n",
      "binary_position_RRBS_trito_pool_2_CGTACTAG.ATAGCG.bed.anno.csv\r\n",
      "binary_position_RRBS_trito_pool_2_CGTACTAG.ATCGAC.bed.anno.csv\r\n",
      "binary_position_RRBS_trito_pool_2_CGTACTAG.CAAGAG.bed.anno.csv\r\n",
      "binary_position_RRBS_trito_pool_2_CGTACTAG.CATGAC.bed.anno.csv\r\n",
      "binary_position_RRBS_trito_pool_2_CGTACTAG.CCTTCG.bed.anno.csv\r\n",
      "binary_position_RRBS_trito_pool_2_CGTACTAG.CGGTAG.bed.anno.csv\r\n",
      "binary_position_RRBS_trito_pool_2_CGTACTAG.CTATTG.bed.anno.csv\r\n",
      "binary_position_RRBS_trito_pool_2_CGTACTAG.GACACG.bed.anno.csv\r\n",
      "binary_position_RRBS_trito_pool_2_CGTACTAG.GCATTC.bed.anno.csv\r\n",
      "binary_position_RRBS_trito_pool_2_CGTACTAG.GCTGCC.bed.anno.csv\r\n",
      "binary_position_RRBS_trito_pool_2_CGTACTAG.GGCATC.bed.anno.csv\r\n",
      "binary_position_RRBS_trito_pool_2_CGTACTAG.GTGAGG.bed.anno.csv\r\n",
      "binary_position_RRBS_trito_pool_2_CGTACTAG.GTTGAG.bed.anno.csv\r\n",
      "binary_position_RRBS_trito_pool_2_CGTACTAG.TAGCGG.bed.anno.csv\r\n",
      "binary_position_RRBS_trito_pool_2_CGTACTAG.TATCTC.bed.anno.csv\r\n",
      "binary_position_RRBS_trito_pool_2_CGTACTAG.TCTCTG.bed.anno.csv\r\n",
      "binary_position_RRBS_trito_pool_2_CGTACTAG.TGACAG.bed.anno.csv\r\n",
      "cll_total.phy\r\n",
      "cw154_total.phy\r\n",
      "\u001b[34mleftovers\u001b[m\u001b[m/\r\n",
      "phyl_RRBS_B_double_digestion_CGTACTAG.GTTGAG.bed.anno.csv\r\n",
      "trito1_binary.csv\r\n",
      "trito1_binary.phy\r\n",
      "trito1_binary.txt\r\n",
      "tritopool_1_final.phy\r\n",
      "tritopool_2_final.phy\r\n",
      "tritopool_total_final.phy\r\n"
     ]
    }
   ],
   "source": [
    "%ls"
   ]
  },
  {
   "cell_type": "code",
   "execution_count": null,
   "metadata": {
    "collapsed": false
   },
   "outputs": [],
   "source": [
    "len(cw154_GR)"
   ]
  },
  {
   "cell_type": "code",
   "execution_count": null,
   "metadata": {
    "collapsed": true
   },
   "outputs": [],
   "source": [
    "cw154 =glob.glob('binary_position_RRBS_cw154*')"
   ]
  },
  {
   "cell_type": "code",
   "execution_count": null,
   "metadata": {
    "collapsed": false
   },
   "outputs": [],
   "source": [
    "cw154"
   ]
  },
  {
   "cell_type": "code",
   "execution_count": null,
   "metadata": {
    "collapsed": false
   },
   "outputs": [],
   "source": [
    "len(cw154)"
   ]
  },
  {
   "cell_type": "code",
   "execution_count": null,
   "metadata": {
    "collapsed": false
   },
   "outputs": [],
   "source": [
    "import glob    \n",
    "cw154 = glob.glob('binary_position_RRBS_cw154*')\n",
    "df_list = []\n",
    "for file in cw154:\n",
    "    df = pd.read_csv(file)\n",
    "    df = df.drop(\"Unnamed: 0\", axis=1)\n",
    "    df_list.append(df)"
   ]
  },
  {
   "cell_type": "code",
   "execution_count": null,
   "metadata": {
    "collapsed": false
   },
   "outputs": [],
   "source": [
    "len(df_list)"
   ]
  },
  {
   "cell_type": "code",
   "execution_count": null,
   "metadata": {
    "collapsed": true
   },
   "outputs": [],
   "source": [
    "cw154_matrix = pd.concat([df.set_index(\"position\") for df in df_list], axis=1).reset_index().astype(object)"
   ]
  },
  {
   "cell_type": "code",
   "execution_count": null,
   "metadata": {
    "collapsed": false
   },
   "outputs": [],
   "source": [
    "cw154_matrix.shape"
   ]
  },
  {
   "cell_type": "code",
   "execution_count": null,
   "metadata": {
    "collapsed": false
   },
   "outputs": [],
   "source": [
    "cw154_matrix.head()"
   ]
  },
  {
   "cell_type": "code",
   "execution_count": null,
   "metadata": {
    "collapsed": false
   },
   "outputs": [],
   "source": [
    "cw154_matrix = cw154_matrix.drop(\"index\", axis=1)"
   ]
  },
  {
   "cell_type": "code",
   "execution_count": null,
   "metadata": {
    "collapsed": false
   },
   "outputs": [],
   "source": [
    "cw154_matrix.columns"
   ]
  },
  {
   "cell_type": "code",
   "execution_count": null,
   "metadata": {
    "collapsed": false
   },
   "outputs": [],
   "source": [
    "print(len(df_list))\n",
    "print(len(cw154_matrix.columns))"
   ]
  },
  {
   "cell_type": "code",
   "execution_count": null,
   "metadata": {
    "collapsed": false
   },
   "outputs": [],
   "source": [
    "cw154_matrix.columns  = [\"RRBS_cw154_CutSmart_proteinase_K_TAGGCATG.ACAACC\",\"RRBS_cw154_CutSmart_proteinase_K_TAGGCATG.ACCGCG\",\n",
    "\"RRBS_cw154_CutSmart_proteinase_K_TAGGCATG.ACGTGG\",\"RRBS_cw154_CutSmart_proteinase_K_TAGGCATG.ACTCAC\",\n",
    "\"RRBS_cw154_CutSmart_proteinase_K_TAGGCATG.AGGATG\",\"RRBS_cw154_CutSmart_proteinase_K_TAGGCATG.ATAGCG\",\n",
    "\"RRBS_cw154_CutSmart_proteinase_K_TAGGCATG.ATCGAC\",\"RRBS_cw154_CutSmart_proteinase_K_TAGGCATG.CAAGAG\",\n",
    "\"RRBS_cw154_CutSmart_proteinase_K_TAGGCATG.CATGAC\",\"RRBS_cw154_CutSmart_proteinase_K_TAGGCATG.CCTTCG\",\n",
    "\"RRBS_cw154_CutSmart_proteinase_K_TAGGCATG.CGGTAG\",\"RRBS_cw154_CutSmart_proteinase_K_TAGGCATG.CTCAGC\",\n",
    "\"RRBS_cw154_CutSmart_proteinase_K_TAGGCATG.GACACG\",\"RRBS_cw154_CutSmart_proteinase_K_TAGGCATG.GCATTC\",\n",
    "\"RRBS_cw154_CutSmart_proteinase_K_TAGGCATG.GCTGCC\",\"RRBS_cw154_CutSmart_proteinase_K_TAGGCATG.GGCATC\",\n",
    "\"RRBS_cw154_CutSmart_proteinase_K_TAGGCATG.GTGAGG\",\"RRBS_cw154_CutSmart_proteinase_K_TAGGCATG.TAGCGG\",\n",
    "\"RRBS_cw154_CutSmart_proteinase_K_TAGGCATG.TATCTC\",\"RRBS_cw154_CutSmart_proteinase_K_TAGGCATG.TCTCTG\",\n",
    "\"RRBS_cw154_Tris_protease_CTCTCTAC.ACAACC\",\"RRBS_cw154_Tris_protease_CTCTCTAC.ACCGCG\",\n",
    "\"RRBS_cw154_Tris_protease_CTCTCTAC.ACGTGG\",\"RRBS_cw154_Tris_protease_CTCTCTAC.ACTCAC\",\n",
    "\"RRBS_cw154_Tris_protease_CTCTCTAC.AGGATG\",\"RRBS_cw154_Tris_protease_CTCTCTAC.ATAGCG\",\n",
    "\"RRBS_cw154_Tris_protease_CTCTCTAC.ATCGAC\",\"RRBS_cw154_Tris_protease_CTCTCTAC.CATGAC\",\n",
    "\"RRBS_cw154_Tris_protease_CTCTCTAC.CCTTCG\",\"RRBS_cw154_Tris_protease_CTCTCTAC.CGGTAG\",\n",
    "\"RRBS_cw154_Tris_protease_CTCTCTAC.CTATTG\",\"RRBS_cw154_Tris_protease_CTCTCTAC.CTCAGC\",\n",
    "\"RRBS_cw154_Tris_protease_CTCTCTAC.GACACG\",\"RRBS_cw154_Tris_protease_CTCTCTAC.GCATTC\",\n",
    "\"RRBS_cw154_Tris_protease_CTCTCTAC.GCTGCC\",\"RRBS_cw154_Tris_protease_CTCTCTAC.GGCATC\",\n",
    "\"RRBS_cw154_Tris_protease_CTCTCTAC.GTGAGG\",\"RRBS_cw154_Tris_protease_CTCTCTAC.GTTGAG\",\n",
    "\"RRBS_cw154_Tris_protease_CTCTCTAC.TAGCGG\",\"RRBS_cw154_Tris_protease_CTCTCTAC.TATCTC\",\n",
    "\"RRBS_cw154_Tris_protease_CTCTCTAC.TCTCTG\",\"RRBS_cw154_Tris_protease_GR_CAGAGAGG.ACAACC\",\n",
    "\"RRBS_cw154_Tris_protease_GR_CAGAGAGG.ACCGCG\",\"RRBS_cw154_Tris_protease_GR_CAGAGAGG.ACGTGG\",\n",
    "\"RRBS_cw154_Tris_protease_GR_CAGAGAGG.ACTCAC\",\"RRBS_cw154_Tris_protease_GR_CAGAGAGG.AGGATG\",\n",
    "\"RRBS_cw154_Tris_protease_GR_CAGAGAGG.ATAGCG\",\"RRBS_cw154_Tris_protease_GR_CAGAGAGG.ATCGAC\",\n",
    "\"RRBS_cw154_Tris_protease_GR_CAGAGAGG.CATGAC\",\"RRBS_cw154_Tris_protease_GR_CAGAGAGG.CCTTCG\",\n",
    "\"RRBS_cw154_Tris_protease_GR_CAGAGAGG.CGGTAG\",\"RRBS_cw154_Tris_protease_GR_CAGAGAGG.CTATTG\",\n",
    "\"RRBS_cw154_Tris_protease_GR_CAGAGAGG.CTCAGC\",\"RRBS_cw154_Tris_protease_GR_CAGAGAGG.GACACG\",\n",
    "\"RRBS_cw154_Tris_protease_GR_CAGAGAGG.GCATTC\",\"RRBS_cw154_Tris_protease_GR_CAGAGAGG.GCTGCC\",\n",
    "\"RRBS_cw154_Tris_protease_GR_CAGAGAGG.GGCATC\",\"RRBS_cw154_Tris_protease_GR_CAGAGAGG.GTGAGG\",\n",
    "\"RRBS_cw154_Tris_protease_GR_CAGAGAGG.GTTGAG\",\"RRBS_cw154_Tris_protease_GR_CAGAGAGG.TAGCGG\",\n",
    "\"RRBS_cw154_Tris_protease_GR_CAGAGAGG.TATCTC\",\"RRBS_cw154_Tris_protease_GR_CAGAGAGG.TCTCTG\"]"
   ]
  },
  {
   "cell_type": "code",
   "execution_count": null,
   "metadata": {
    "collapsed": false
   },
   "outputs": [],
   "source": [
    "cw154_matrix.columns"
   ]
  },
  {
   "cell_type": "code",
   "execution_count": null,
   "metadata": {
    "collapsed": true
   },
   "outputs": [],
   "source": [
    "cw154_matrix = cw154_matrix.applymap(lambda x: int(x) if pd.notnull(x) else str(\"?\"))"
   ]
  },
  {
   "cell_type": "code",
   "execution_count": null,
   "metadata": {
    "collapsed": false
   },
   "outputs": [],
   "source": [
    "cw154_matrix.shape"
   ]
  },
  {
   "cell_type": "code",
   "execution_count": null,
   "metadata": {
    "collapsed": true
   },
   "outputs": [],
   "source": [
    "cw154_matrix = cw154_matrix.astype(str).apply(''.join)"
   ]
  },
  {
   "cell_type": "code",
   "execution_count": null,
   "metadata": {
    "collapsed": false
   },
   "outputs": [],
   "source": [
    "cw154_matrix"
   ]
  },
  {
   "cell_type": "code",
   "execution_count": null,
   "metadata": {
    "collapsed": false
   },
   "outputs": [],
   "source": [
    "cw154_matrix.index"
   ]
  },
  {
   "cell_type": "code",
   "execution_count": null,
   "metadata": {
    "collapsed": false
   },
   "outputs": [],
   "source": [
    "cw154_matrix.shape"
   ]
  },
  {
   "cell_type": "code",
   "execution_count": null,
   "metadata": {
    "collapsed": true
   },
   "outputs": [],
   "source": [
    "cw = pd.Series(cw154_matrix.index.astype(str).str.cat(cw154_matrix.astype(str),'    '))"
   ]
  },
  {
   "cell_type": "code",
   "execution_count": null,
   "metadata": {
    "collapsed": false
   },
   "outputs": [],
   "source": [
    "cw.shape"
   ]
  },
  {
   "cell_type": "code",
   "execution_count": null,
   "metadata": {
    "collapsed": true
   },
   "outputs": [],
   "source": []
  },
  {
   "cell_type": "code",
   "execution_count": null,
   "metadata": {
    "collapsed": true
   },
   "outputs": [],
   "source": [
    "cw.to_csv(\"cw154_total.phy\", header=None, index=None)"
   ]
  },
  {
   "cell_type": "code",
   "execution_count": null,
   "metadata": {
    "collapsed": false
   },
   "outputs": [],
   "source": [
    "cw"
   ]
  },
  {
   "cell_type": "code",
   "execution_count": null,
   "metadata": {
    "collapsed": true
   },
   "outputs": [],
   "source": []
  },
  {
   "cell_type": "code",
   "execution_count": null,
   "metadata": {
    "collapsed": true
   },
   "outputs": [],
   "source": []
  },
  {
   "cell_type": "code",
   "execution_count": null,
   "metadata": {
    "collapsed": true
   },
   "outputs": [],
   "source": []
  },
  {
   "cell_type": "code",
   "execution_count": null,
   "metadata": {
    "collapsed": true
   },
   "outputs": [],
   "source": []
  },
  {
   "cell_type": "code",
   "execution_count": null,
   "metadata": {
    "collapsed": false
   },
   "outputs": [],
   "source": [
    "type(cw154)"
   ]
  },
  {
   "cell_type": "code",
   "execution_count": null,
   "metadata": {
    "collapsed": true
   },
   "outputs": [],
   "source": [
    "trito_files = glob.glob(\"binary_position_RRBS_trito_pool*\")"
   ]
  },
  {
   "cell_type": "code",
   "execution_count": null,
   "metadata": {
    "collapsed": false
   },
   "outputs": [],
   "source": [
    "type(trito_files)"
   ]
  },
  {
   "cell_type": "code",
   "execution_count": null,
   "metadata": {
    "collapsed": true
   },
   "outputs": [],
   "source": [
    "total_files = trito_files + cw154"
   ]
  },
  {
   "cell_type": "code",
   "execution_count": null,
   "metadata": {
    "collapsed": false
   },
   "outputs": [],
   "source": [
    "type(total_files)"
   ]
  },
  {
   "cell_type": "code",
   "execution_count": null,
   "metadata": {
    "collapsed": false
   },
   "outputs": [],
   "source": [
    "len(total_files)"
   ]
  },
  {
   "cell_type": "code",
   "execution_count": null,
   "metadata": {
    "collapsed": false
   },
   "outputs": [],
   "source": [
    "df_list = []\n",
    "for file in total_files:\n",
    "    df = pd.read_csv(file)\n",
    "    df = df.drop(\"Unnamed: 0\", axis=1)\n",
    "    df_list.append(df)"
   ]
  },
  {
   "cell_type": "code",
   "execution_count": null,
   "metadata": {
    "collapsed": true
   },
   "outputs": [],
   "source": [
    "total_matrix = pd.concat([df.set_index(\"position\") for df in df_list], axis=1).reset_index().astype(object)"
   ]
  },
  {
   "cell_type": "code",
   "execution_count": null,
   "metadata": {
    "collapsed": false
   },
   "outputs": [],
   "source": [
    "total_matrix.shape"
   ]
  },
  {
   "cell_type": "code",
   "execution_count": null,
   "metadata": {
    "collapsed": false
   },
   "outputs": [],
   "source": [
    "total_matrix.head()"
   ]
  },
  {
   "cell_type": "code",
   "execution_count": null,
   "metadata": {
    "collapsed": true
   },
   "outputs": [],
   "source": [
    "total_matrix = total_matrix.drop(\"index\", axis=1)"
   ]
  },
  {
   "cell_type": "code",
   "execution_count": null,
   "metadata": {
    "collapsed": false
   },
   "outputs": [],
   "source": [
    "len(total_matrix.columns)"
   ]
  },
  {
   "cell_type": "code",
   "execution_count": null,
   "metadata": {
    "collapsed": true
   },
   "outputs": [],
   "source": [
    "total_matrix.columns = [\"RRBS_trito_pool_1_TAAGGCGA.ACAACC\", \"RRBS_trito_pool_1_TAAGGCGA.ACGTGG\", \n",
    "                        \"RRBS_trito_pool_1_TAAGGCGA.ACTCAC\", \"RRBS_trito_pool_1_TAAGGCGA.ATAGCG\", \n",
    "                        \"RRBS_trito_pool_1_TAAGGCGA.ATCGAC\", \"RRBS_trito_pool_1_TAAGGCGA.CAAGAG\", \n",
    "                        \"RRBS_trito_pool_1_TAAGGCGA.CATGAC\", \"RRBS_trito_pool_1_TAAGGCGA.CCTTCG\", \n",
    "                        \"RRBS_trito_pool_1_TAAGGCGA.CGGTAG\", \"RRBS_trito_pool_1_TAAGGCGA.CTATTG\", \n",
    "                        \"RRBS_trito_pool_1_TAAGGCGA.GACACG\", \"RRBS_trito_pool_1_TAAGGCGA.GCATTC\", \n",
    "                        \"RRBS_trito_pool_1_TAAGGCGA.GCTGCC\", \"RRBS_trito_pool_1_TAAGGCGA.GGCATC\", \n",
    "                        \"RRBS_trito_pool_1_TAAGGCGA.GTGAGG\", \"RRBS_trito_pool_1_TAAGGCGA.GTTGAG\", \n",
    "                        \"RRBS_trito_pool_1_TAAGGCGA.TAGCGG\", \"RRBS_trito_pool_1_TAAGGCGA.TATCTC\", \n",
    "                        \"RRBS_trito_pool_1_TAAGGCGA.TCTCTG\", \"RRBS_trito_pool_1_TAAGGCGA.TGACAG\", \n",
    "                        \"RRBS_trito_pool_1_TAAGGCGA.TGCTGC\", \"RRBS_trito_pool_2_CGTACTAG.ACAACC\", \n",
    "                        \"RRBS_trito_pool_2_CGTACTAG.ACGTGG\", \"RRBS_trito_pool_2_CGTACTAG.ACTCAC\", \n",
    "                        \"RRBS_trito_pool_2_CGTACTAG.AGGATG\", \n",
    "                        \"RRBS_trito_pool_2_CGTACTAG.ATAGCG\", \"RRBS_trito_pool_2_CGTACTAG.ATCGAC\", \n",
    "                        \"RRBS_trito_pool_2_CGTACTAG.CAAGAG\", \"RRBS_trito_pool_2_CGTACTAG.CATGAC\", \n",
    "                        \"RRBS_trito_pool_2_CGTACTAG.CCTTCG\", \"RRBS_trito_pool_2_CGTACTAG.CGGTAG\", \n",
    "                        \"RRBS_trito_pool_2_CGTACTAG.CTATTG\", \"RRBS_trito_pool_2_CGTACTAG.GACACG\", \n",
    "                        \"RRBS_trito_pool_2_CGTACTAG.GCATTC\", \"RRBS_trito_pool_2_CGTACTAG.GCTGCC\", \n",
    "                        \"RRBS_trito_pool_2_CGTACTAG.GGCATC\", \"RRBS_trito_pool_2_CGTACTAG.GTGAGG\", \n",
    "                        \"RRBS_trito_pool_2_CGTACTAG.GTTGAG\", \"RRBS_trito_pool_2_CGTACTAG.TAGCGG\", \n",
    "                        \"RRBS_trito_pool_2_CGTACTAG.TATCTC\", \"RRBS_trito_pool_2_CGTACTAG.TCTCTG\", \n",
    "                        \"RRBS_trito_pool_2_CGTACTAG.TGACAG\",\"RRBS_cw154_CutSmart_proteinase_K_TAGGCATG.ACAACC\",\"RRBS_cw154_CutSmart_proteinase_K_TAGGCATG.ACCGCG\",\n",
    "\"RRBS_cw154_CutSmart_proteinase_K_TAGGCATG.ACGTGG\",\"RRBS_cw154_CutSmart_proteinase_K_TAGGCATG.ACTCAC\",\n",
    "\"RRBS_cw154_CutSmart_proteinase_K_TAGGCATG.AGGATG\",\"RRBS_cw154_CutSmart_proteinase_K_TAGGCATG.ATAGCG\",\n",
    "\"RRBS_cw154_CutSmart_proteinase_K_TAGGCATG.ATCGAC\",\"RRBS_cw154_CutSmart_proteinase_K_TAGGCATG.CAAGAG\",\n",
    "\"RRBS_cw154_CutSmart_proteinase_K_TAGGCATG.CATGAC\",\"RRBS_cw154_CutSmart_proteinase_K_TAGGCATG.CCTTCG\",\n",
    "\"RRBS_cw154_CutSmart_proteinase_K_TAGGCATG.CGGTAG\",\"RRBS_cw154_CutSmart_proteinase_K_TAGGCATG.CTCAGC\",\n",
    "\"RRBS_cw154_CutSmart_proteinase_K_TAGGCATG.GACACG\",\"RRBS_cw154_CutSmart_proteinase_K_TAGGCATG.GCATTC\",\n",
    "\"RRBS_cw154_CutSmart_proteinase_K_TAGGCATG.GCTGCC\",\"RRBS_cw154_CutSmart_proteinase_K_TAGGCATG.GGCATC\",\n",
    "\"RRBS_cw154_CutSmart_proteinase_K_TAGGCATG.GTGAGG\",\"RRBS_cw154_CutSmart_proteinase_K_TAGGCATG.TAGCGG\",\n",
    "\"RRBS_cw154_CutSmart_proteinase_K_TAGGCATG.TATCTC\",\"RRBS_cw154_CutSmart_proteinase_K_TAGGCATG.TCTCTG\",\n",
    "\"RRBS_cw154_Tris_protease_CTCTCTAC.ACAACC\",\"RRBS_cw154_Tris_protease_CTCTCTAC.ACCGCG\",\n",
    "\"RRBS_cw154_Tris_protease_CTCTCTAC.ACGTGG\",\"RRBS_cw154_Tris_protease_CTCTCTAC.ACTCAC\",\n",
    "\"RRBS_cw154_Tris_protease_CTCTCTAC.AGGATG\",\"RRBS_cw154_Tris_protease_CTCTCTAC.ATAGCG\",\n",
    "\"RRBS_cw154_Tris_protease_CTCTCTAC.ATCGAC\",\"RRBS_cw154_Tris_protease_CTCTCTAC.CATGAC\",\n",
    "\"RRBS_cw154_Tris_protease_CTCTCTAC.CCTTCG\",\"RRBS_cw154_Tris_protease_CTCTCTAC.CGGTAG\",\n",
    "\"RRBS_cw154_Tris_protease_CTCTCTAC.CTATTG\",\"RRBS_cw154_Tris_protease_CTCTCTAC.CTCAGC\",\n",
    "\"RRBS_cw154_Tris_protease_CTCTCTAC.GACACG\",\"RRBS_cw154_Tris_protease_CTCTCTAC.GCATTC\",\n",
    "\"RRBS_cw154_Tris_protease_CTCTCTAC.GCTGCC\",\"RRBS_cw154_Tris_protease_CTCTCTAC.GGCATC\",\n",
    "\"RRBS_cw154_Tris_protease_CTCTCTAC.GTGAGG\",\"RRBS_cw154_Tris_protease_CTCTCTAC.GTTGAG\",\n",
    "\"RRBS_cw154_Tris_protease_CTCTCTAC.TAGCGG\",\"RRBS_cw154_Tris_protease_CTCTCTAC.TATCTC\",\n",
    "\"RRBS_cw154_Tris_protease_CTCTCTAC.TCTCTG\",\"RRBS_cw154_Tris_protease_GR_CAGAGAGG.ACAACC\",\n",
    "\"RRBS_cw154_Tris_protease_GR_CAGAGAGG.ACCGCG\",\"RRBS_cw154_Tris_protease_GR_CAGAGAGG.ACGTGG\",\n",
    "\"RRBS_cw154_Tris_protease_GR_CAGAGAGG.ACTCAC\",\"RRBS_cw154_Tris_protease_GR_CAGAGAGG.AGGATG\",\n",
    "\"RRBS_cw154_Tris_protease_GR_CAGAGAGG.ATAGCG\",\"RRBS_cw154_Tris_protease_GR_CAGAGAGG.ATCGAC\",\n",
    "\"RRBS_cw154_Tris_protease_GR_CAGAGAGG.CATGAC\",\"RRBS_cw154_Tris_protease_GR_CAGAGAGG.CCTTCG\",\n",
    "\"RRBS_cw154_Tris_protease_GR_CAGAGAGG.CGGTAG\",\"RRBS_cw154_Tris_protease_GR_CAGAGAGG.CTATTG\",\n",
    "\"RRBS_cw154_Tris_protease_GR_CAGAGAGG.CTCAGC\",\"RRBS_cw154_Tris_protease_GR_CAGAGAGG.GACACG\",\n",
    "\"RRBS_cw154_Tris_protease_GR_CAGAGAGG.GCATTC\",\"RRBS_cw154_Tris_protease_GR_CAGAGAGG.GCTGCC\",\n",
    "\"RRBS_cw154_Tris_protease_GR_CAGAGAGG.GGCATC\",\"RRBS_cw154_Tris_protease_GR_CAGAGAGG.GTGAGG\",\n",
    "\"RRBS_cw154_Tris_protease_GR_CAGAGAGG.GTTGAG\",\"RRBS_cw154_Tris_protease_GR_CAGAGAGG.TAGCGG\",\n",
    "\"RRBS_cw154_Tris_protease_GR_CAGAGAGG.TATCTC\",\"RRBS_cw154_Tris_protease_GR_CAGAGAGG.TCTCTG\"]\n",
    " \n",
    " \n",
    " "
   ]
  },
  {
   "cell_type": "code",
   "execution_count": null,
   "metadata": {
    "collapsed": true
   },
   "outputs": [],
   "source": [
    "total_matrix = total_matrix.applymap(lambda x: int(x) if pd.notnull(x) else str(\"?\"))"
   ]
  },
  {
   "cell_type": "code",
   "execution_count": null,
   "metadata": {
    "collapsed": false
   },
   "outputs": [],
   "source": [
    "total_matrix.shape"
   ]
  },
  {
   "cell_type": "code",
   "execution_count": null,
   "metadata": {
    "collapsed": true
   },
   "outputs": [],
   "source": [
    "total_matrix = total_matrix.astype(str).apply(''.join)"
   ]
  },
  {
   "cell_type": "code",
   "execution_count": null,
   "metadata": {
    "collapsed": false
   },
   "outputs": [],
   "source": [
    "total_matrix.shape"
   ]
  },
  {
   "cell_type": "code",
   "execution_count": null,
   "metadata": {
    "collapsed": false
   },
   "outputs": [],
   "source": [
    "total_matrix.index"
   ]
  },
  {
   "cell_type": "code",
   "execution_count": null,
   "metadata": {
    "collapsed": true
   },
   "outputs": [],
   "source": [
    "totz = pd.Series(total_matrix.index.astype(str).str.cat(total_matrix.astype(str),'    '))"
   ]
  },
  {
   "cell_type": "code",
   "execution_count": null,
   "metadata": {
    "collapsed": false
   },
   "outputs": [],
   "source": [
    "totz"
   ]
  },
  {
   "cell_type": "code",
   "execution_count": null,
   "metadata": {
    "collapsed": false
   },
   "outputs": [],
   "source": [
    "totz.shape"
   ]
  },
  {
   "cell_type": "code",
   "execution_count": null,
   "metadata": {
    "collapsed": false
   },
   "outputs": [],
   "source": [
    "len(totz)"
   ]
  },
  {
   "cell_type": "code",
   "execution_count": null,
   "metadata": {
    "collapsed": false
   },
   "outputs": [],
   "source": [
    "len(trito_files)"
   ]
  },
  {
   "cell_type": "code",
   "execution_count": null,
   "metadata": {
    "collapsed": false
   },
   "outputs": [],
   "source": [
    "len(cw154)"
   ]
  },
  {
   "cell_type": "code",
   "execution_count": null,
   "metadata": {
    "collapsed": true
   },
   "outputs": [],
   "source": [
    "totz.to_csv(\"cll_total.phy\", header=None, index=None)"
   ]
  },
  {
   "cell_type": "code",
   "execution_count": null,
   "metadata": {
    "collapsed": true
   },
   "outputs": [],
   "source": []
  },
  {
   "cell_type": "code",
   "execution_count": null,
   "metadata": {
    "collapsed": true
   },
   "outputs": [],
   "source": []
  },
  {
   "cell_type": "code",
   "execution_count": 4,
   "metadata": {
    "collapsed": true
   },
   "outputs": [],
   "source": [
    "normalB_files = glob.glob(\"binary_position_RRBS_normal_B_cell*\")"
   ]
  },
  {
   "cell_type": "code",
   "execution_count": 5,
   "metadata": {
    "collapsed": false
   },
   "outputs": [
    {
     "data": {
      "text/plain": [
       "113"
      ]
     },
     "execution_count": 5,
     "metadata": {},
     "output_type": "execute_result"
    }
   ],
   "source": [
    "len(normalB_files)"
   ]
  },
  {
   "cell_type": "code",
   "execution_count": 6,
   "metadata": {
    "collapsed": false
   },
   "outputs": [],
   "source": [
    "df_list = []\n",
    "for file in normalB_files:\n",
    "    df = pd.read_csv(file)\n",
    "    df = df.drop(\"Unnamed: 0\", axis=1)\n",
    "    df_list.append(df)"
   ]
  },
  {
   "cell_type": "code",
   "execution_count": 7,
   "metadata": {
    "collapsed": false
   },
   "outputs": [
    {
     "data": {
      "text/plain": [
       "113"
      ]
     },
     "execution_count": 7,
     "metadata": {},
     "output_type": "execute_result"
    }
   ],
   "source": [
    "len(df_list)"
   ]
  },
  {
   "cell_type": "code",
   "execution_count": 8,
   "metadata": {
    "collapsed": false
   },
   "outputs": [],
   "source": [
    "normalB_matrix = pd.concat([df.set_index(\"position\") for df in df_list], axis=1).reset_index().astype(object)"
   ]
  },
  {
   "cell_type": "code",
   "execution_count": 9,
   "metadata": {
    "collapsed": false
   },
   "outputs": [
    {
     "data": {
      "text/plain": [
       "(6309024, 114)"
      ]
     },
     "execution_count": 9,
     "metadata": {},
     "output_type": "execute_result"
    }
   ],
   "source": [
    "normalB_matrix.shape"
   ]
  },
  {
   "cell_type": "code",
   "execution_count": 10,
   "metadata": {
    "collapsed": true
   },
   "outputs": [],
   "source": [
    "normalB_matrix = normalB_matrix.drop(\"index\", axis=1)"
   ]
  },
  {
   "cell_type": "code",
   "execution_count": 11,
   "metadata": {
    "collapsed": false
   },
   "outputs": [
    {
     "data": {
      "text/plain": [
       "113"
      ]
     },
     "execution_count": 11,
     "metadata": {},
     "output_type": "execute_result"
    }
   ],
   "source": [
    "len(normalB_matrix.columns)"
   ]
  },
  {
   "cell_type": "code",
   "execution_count": 13,
   "metadata": {
    "collapsed": true
   },
   "outputs": [],
   "source": [
    "normalB_matrix.columns = [\"RRBS_normal_B_cell_A1_24_TAAGGCGA.ACAACC\",\n",
    "\"RRBS_normal_B_cell_A1_24_TAAGGCGA.ACCGCG\",\n",
    "\"RRBS_normal_B_cell_A1_24_TAAGGCGA.ACGTGG\",\n",
    "\"RRBS_normal_B_cell_A1_24_TAAGGCGA.AGGATG\",\n",
    "\"RRBS_normal_B_cell_A1_24_TAAGGCGA.ATAGCG\",\n",
    "\"RRBS_normal_B_cell_A1_24_TAAGGCGA.ATCGAC\",\n",
    "\"RRBS_normal_B_cell_A1_24_TAAGGCGA.CAAGAG\",\n",
    "\"RRBS_normal_B_cell_A1_24_TAAGGCGA.CATGAC\",\n",
    "\"RRBS_normal_B_cell_A1_24_TAAGGCGA.CGGTAG\",\n",
    "\"RRBS_normal_B_cell_A1_24_TAAGGCGA.CTATTG\",\n",
    "\"RRBS_normal_B_cell_A1_24_TAAGGCGA.CTCAGC\",\n",
    "\"RRBS_normal_B_cell_A1_24_TAAGGCGA.GACACG\",\n",
    "\"RRBS_normal_B_cell_A1_24_TAAGGCGA.GCTGCC\",\n",
    "\"RRBS_normal_B_cell_A1_24_TAAGGCGA.GGCATC\",\n",
    "\"RRBS_normal_B_cell_A1_24_TAAGGCGA.GTGAGG\",\n",
    "\"RRBS_normal_B_cell_A1_24_TAAGGCGA.GTTGAG\",\n",
    "\"RRBS_normal_B_cell_A1_24_TAAGGCGA.TAGCGG\",\n",
    "\"RRBS_normal_B_cell_A1_24_TAAGGCGA.TATCTC\",\n",
    "\"RRBS_normal_B_cell_A1_24_TAAGGCGA.TCTCTG\",\n",
    "\"RRBS_normal_B_cell_A1_24_TAAGGCGA.TGACAG\",\n",
    "\"RRBS_normal_B_cell_B1_24_CGTACTAG.ACAACC\",\n",
    "\"RRBS_normal_B_cell_B1_24_CGTACTAG.ACCGCG\",\n",
    "\"RRBS_normal_B_cell_B1_24_CGTACTAG.ACTCAC\",\n",
    "\"RRBS_normal_B_cell_B1_24_CGTACTAG.ATAGCG\",\n",
    "\"RRBS_normal_B_cell_B1_24_CGTACTAG.CAAGAG\",\n",
    "\"RRBS_normal_B_cell_B1_24_CGTACTAG.CATGAC\",\n",
    "\"RRBS_normal_B_cell_B1_24_CGTACTAG.CCTTCG\",\n",
    "\"RRBS_normal_B_cell_B1_24_CGTACTAG.CGGTAG\",\n",
    "\"RRBS_normal_B_cell_B1_24_CGTACTAG.CTATTG\",\n",
    "\"RRBS_normal_B_cell_B1_24_CGTACTAG.CTCAGC\",\n",
    "\"RRBS_normal_B_cell_B1_24_CGTACTAG.GACACG\",\n",
    "\"RRBS_normal_B_cell_B1_24_CGTACTAG.GCATTC\",\n",
    "\"RRBS_normal_B_cell_B1_24_CGTACTAG.GGCATC\",\n",
    "\"RRBS_normal_B_cell_B1_24_CGTACTAG.GTGAGG\",\n",
    "\"RRBS_normal_B_cell_B1_24_CGTACTAG.GTTGAG\",\n",
    "\"RRBS_normal_B_cell_B1_24_CGTACTAG.TAGCGG\",\n",
    "\"RRBS_normal_B_cell_B1_24_CGTACTAG.TATCTC\",\n",
    "\"RRBS_normal_B_cell_B1_24_CGTACTAG.TCTCTG\",\n",
    "\"RRBS_normal_B_cell_B1_24_CGTACTAG.TGACAG\",\n",
    "\"RRBS_normal_B_cell_B1_24_CGTACTAG.TGCTGC\",\n",
    "\"RRBS_normal_B_cell_C1_24_AGGCAGAA.ACAACC\",\n",
    "\"RRBS_normal_B_cell_C1_24_AGGCAGAA.ACCGCG\",\n",
    "\"RRBS_normal_B_cell_C1_24_AGGCAGAA.ACGTGG\",\n",
    "\"RRBS_normal_B_cell_C1_24_AGGCAGAA.ACTCAC\",\n",
    "\"RRBS_normal_B_cell_C1_24_AGGCAGAA.AGGATG\",\n",
    "\"RRBS_normal_B_cell_C1_24_AGGCAGAA.ATAGCG\",\n",
    "\"RRBS_normal_B_cell_C1_24_AGGCAGAA.ATCGAC\",\n",
    "\"RRBS_normal_B_cell_C1_24_AGGCAGAA.CAAGAG\",\n",
    "\"RRBS_normal_B_cell_C1_24_AGGCAGAA.CATGAC\",\n",
    "\"RRBS_normal_B_cell_C1_24_AGGCAGAA.CGGTAG\",\n",
    "\"RRBS_normal_B_cell_C1_24_AGGCAGAA.CTATTG\",\n",
    "\"RRBS_normal_B_cell_C1_24_AGGCAGAA.GACACG\",\n",
    "\"RRBS_normal_B_cell_C1_24_AGGCAGAA.GCATTC\",\n",
    "\"RRBS_normal_B_cell_C1_24_AGGCAGAA.GCTGCC\",\n",
    "\"RRBS_normal_B_cell_C1_24_AGGCAGAA.GGCATC\",\n",
    "\"RRBS_normal_B_cell_C1_24_AGGCAGAA.GTGAGG\",\n",
    "\"RRBS_normal_B_cell_C1_24_AGGCAGAA.GTTGAG\",\n",
    "\"RRBS_normal_B_cell_C1_24_AGGCAGAA.TAGCGG\",\n",
    "\"RRBS_normal_B_cell_C1_24_AGGCAGAA.TATCTC\",\n",
    "\"RRBS_normal_B_cell_D1_24_TCCTGAGC.ACAACC\",\n",
    "\"RRBS_normal_B_cell_D1_24_TCCTGAGC.ACCGCG\",\n",
    "\"RRBS_normal_B_cell_D1_24_TCCTGAGC.ACGTGG\",\n",
    "\"RRBS_normal_B_cell_D1_24_TCCTGAGC.ACTCAC\",\n",
    "\"RRBS_normal_B_cell_D1_24_TCCTGAGC.AGGATG\",\n",
    "\"RRBS_normal_B_cell_D1_24_TCCTGAGC.ATCGAC\",\n",
    "\"RRBS_normal_B_cell_D1_24_TCCTGAGC.CAAGAG\",\n",
    "\"RRBS_normal_B_cell_D1_24_TCCTGAGC.CATGAC\",\n",
    "\"RRBS_normal_B_cell_D1_24_TCCTGAGC.CCTTCG\",\n",
    "\"RRBS_normal_B_cell_D1_24_TCCTGAGC.CGGTAG\",\n",
    "\"RRBS_normal_B_cell_D1_24_TCCTGAGC.CTATTG\",\n",
    "\"RRBS_normal_B_cell_D1_24_TCCTGAGC.CTCAGC\",\n",
    "\"RRBS_normal_B_cell_D1_24_TCCTGAGC.GACACG\",\n",
    "\"RRBS_normal_B_cell_D1_24_TCCTGAGC.GCATTC\",\n",
    "\"RRBS_normal_B_cell_D1_24_TCCTGAGC.GCTGCC\",\n",
    "\"RRBS_normal_B_cell_D1_24_TCCTGAGC.GGCATC\",\n",
    "\"RRBS_normal_B_cell_D1_24_TCCTGAGC.GTTGAG\",\n",
    "\"RRBS_normal_B_cell_D1_24_TCCTGAGC.TAGCGG\",\n",
    "\"RRBS_normal_B_cell_D1_24_TCCTGAGC.TATCTC\",\n",
    "\"RRBS_normal_B_cell_G1_22_GGACTCCT.ACAACC\",\n",
    "\"RRBS_normal_B_cell_G1_22_GGACTCCT.ACCGCG\",\n",
    "\"RRBS_normal_B_cell_G1_22_GGACTCCT.ACGTGG\",\n",
    "\"RRBS_normal_B_cell_G1_22_GGACTCCT.ACTCAC\",\n",
    "\"RRBS_normal_B_cell_G1_22_GGACTCCT.AGGATG\",\n",
    "\"RRBS_normal_B_cell_G1_22_GGACTCCT.ATAGCG\",\n",
    "\"RRBS_normal_B_cell_G1_22_GGACTCCT.ATCGAC\",\n",
    "\"RRBS_normal_B_cell_G1_22_GGACTCCT.CAAGAG\",\n",
    "\"RRBS_normal_B_cell_G1_22_GGACTCCT.CATGAC\",\n",
    "\"RRBS_normal_B_cell_G1_22_GGACTCCT.CGGTAG\",\n",
    "\"RRBS_normal_B_cell_G1_22_GGACTCCT.CTATTG\",\n",
    "\"RRBS_normal_B_cell_G1_22_GGACTCCT.CTCAGC\",\n",
    "\"RRBS_normal_B_cell_G1_22_GGACTCCT.GACACG\",\n",
    "\"RRBS_normal_B_cell_G1_22_GGACTCCT.GCATTC\",\n",
    "\"RRBS_normal_B_cell_G1_22_GGACTCCT.GCTGCC\",\n",
    "\"RRBS_normal_B_cell_G1_22_GGACTCCT.GGCATC\",\n",
    "\"RRBS_normal_B_cell_G1_22_GGACTCCT.GTGAGG\",\n",
    "\"RRBS_normal_B_cell_G1_22_GGACTCCT.TAGCGG\",\n",
    "\"RRBS_normal_B_cell_G1_22_GGACTCCT.TATCTC\",\n",
    "\"RRBS_normal_B_cell_H1_22_TAGGCATG.ACCGCG\",\n",
    "\"RRBS_normal_B_cell_H1_22_TAGGCATG.ACGTGG\",\n",
    "\"RRBS_normal_B_cell_H1_22_TAGGCATG.ACTCAC\",\n",
    "\"RRBS_normal_B_cell_H1_22_TAGGCATG.AGGATG\",\n",
    "\"RRBS_normal_B_cell_H1_22_TAGGCATG.ATCGAC\",\n",
    "\"RRBS_normal_B_cell_H1_22_TAGGCATG.CAAGAG\",\n",
    "\"RRBS_normal_B_cell_H1_22_TAGGCATG.CATGAC\",\n",
    "\"RRBS_normal_B_cell_H1_22_TAGGCATG.CCTTCG\",\n",
    "\"RRBS_normal_B_cell_H1_22_TAGGCATG.CTATTG\",\n",
    "\"RRBS_normal_B_cell_H1_22_TAGGCATG.CTCAGC\",\n",
    "\"RRBS_normal_B_cell_H1_22_TAGGCATG.GCATTC\",\n",
    "\"RRBS_normal_B_cell_H1_22_TAGGCATG.GCTGCC\",\n",
    "\"RRBS_normal_B_cell_H1_22_TAGGCATG.GGCATC\",\n",
    "\"RRBS_normal_B_cell_H1_22_TAGGCATG.GTGAGG\",\n",
    "\"RRBS_normal_B_cell_H1_22_TAGGCATG.GTTGAG\",\n",
    "\"RRBS_normal_B_cell_H1_22_TAGGCATG.TCTCTG\"]"
   ]
  },
  {
   "cell_type": "code",
   "execution_count": 14,
   "metadata": {
    "collapsed": false
   },
   "outputs": [
    {
     "data": {
      "text/plain": [
       "113"
      ]
     },
     "execution_count": 14,
     "metadata": {},
     "output_type": "execute_result"
    }
   ],
   "source": [
    "len(normalB_matrix.columns)"
   ]
  },
  {
   "cell_type": "code",
   "execution_count": null,
   "metadata": {
    "collapsed": true
   },
   "outputs": [],
   "source": [
    "normalB_matrix = normalB_matrix.applymap(lambda x: int(x) if pd.notnull(x) else str(\"?\"))"
   ]
  },
  {
   "cell_type": "code",
   "execution_count": null,
   "metadata": {
    "collapsed": true
   },
   "outputs": [],
   "source": [
    "normalB_matrix.shape"
   ]
  },
  {
   "cell_type": "code",
   "execution_count": null,
   "metadata": {
    "collapsed": true
   },
   "outputs": [],
   "source": [
    "normalB_matrix = normalB_matrix.astype(str).apply(''.join)"
   ]
  },
  {
   "cell_type": "code",
   "execution_count": null,
   "metadata": {
    "collapsed": true
   },
   "outputs": [],
   "source": [
    "normalB_matrix.index"
   ]
  },
  {
   "cell_type": "code",
   "execution_count": null,
   "metadata": {
    "collapsed": true
   },
   "outputs": [],
   "source": [
    "tot_normB = pd.Series(total_matrix.index.astype(str).str.cat(total_matrix.astype(str),'    '))"
   ]
  },
  {
   "cell_type": "code",
   "execution_count": null,
   "metadata": {
    "collapsed": true
   },
   "outputs": [],
   "source": []
  },
  {
   "cell_type": "code",
   "execution_count": null,
   "metadata": {
    "collapsed": true
   },
   "outputs": [],
   "source": []
  },
  {
   "cell_type": "code",
   "execution_count": null,
   "metadata": {
    "collapsed": true
   },
   "outputs": [],
   "source": []
  },
  {
   "cell_type": "code",
   "execution_count": null,
   "metadata": {
    "collapsed": true
   },
   "outputs": [],
   "source": []
  },
  {
   "cell_type": "code",
   "execution_count": null,
   "metadata": {
    "collapsed": true
   },
   "outputs": [],
   "source": []
  },
  {
   "cell_type": "code",
   "execution_count": null,
   "metadata": {
    "collapsed": true
   },
   "outputs": [],
   "source": []
  },
  {
   "cell_type": "code",
   "execution_count": null,
   "metadata": {
    "collapsed": true
   },
   "outputs": [],
   "source": []
  },
  {
   "cell_type": "code",
   "execution_count": null,
   "metadata": {
    "collapsed": true
   },
   "outputs": [],
   "source": []
  },
  {
   "cell_type": "code",
   "execution_count": null,
   "metadata": {
    "collapsed": true
   },
   "outputs": [],
   "source": []
  },
  {
   "cell_type": "code",
   "execution_count": null,
   "metadata": {
    "collapsed": true
   },
   "outputs": [],
   "source": []
  },
  {
   "cell_type": "code",
   "execution_count": null,
   "metadata": {
    "collapsed": true
   },
   "outputs": [],
   "source": []
  },
  {
   "cell_type": "code",
   "execution_count": null,
   "metadata": {
    "collapsed": true
   },
   "outputs": [],
   "source": []
  },
  {
   "cell_type": "code",
   "execution_count": null,
   "metadata": {
    "collapsed": true
   },
   "outputs": [],
   "source": []
  },
  {
   "cell_type": "code",
   "execution_count": null,
   "metadata": {
    "collapsed": true
   },
   "outputs": [],
   "source": []
  },
  {
   "cell_type": "code",
   "execution_count": null,
   "metadata": {
    "collapsed": true
   },
   "outputs": [],
   "source": []
  },
  {
   "cell_type": "code",
   "execution_count": null,
   "metadata": {
    "collapsed": true
   },
   "outputs": [],
   "source": []
  },
  {
   "cell_type": "code",
   "execution_count": null,
   "metadata": {
    "collapsed": true
   },
   "outputs": [],
   "source": []
  },
  {
   "cell_type": "code",
   "execution_count": null,
   "metadata": {
    "collapsed": true
   },
   "outputs": [],
   "source": []
  },
  {
   "cell_type": "code",
   "execution_count": null,
   "metadata": {
    "collapsed": true
   },
   "outputs": [],
   "source": []
  },
  {
   "cell_type": "code",
   "execution_count": null,
   "metadata": {
    "collapsed": true
   },
   "outputs": [],
   "source": []
  },
  {
   "cell_type": "code",
   "execution_count": null,
   "metadata": {
    "collapsed": true
   },
   "outputs": [],
   "source": []
  },
  {
   "cell_type": "code",
   "execution_count": null,
   "metadata": {
    "collapsed": true
   },
   "outputs": [],
   "source": []
  },
  {
   "cell_type": "code",
   "execution_count": null,
   "metadata": {
    "collapsed": true
   },
   "outputs": [],
   "source": []
  },
  {
   "cell_type": "code",
   "execution_count": null,
   "metadata": {
    "collapsed": true
   },
   "outputs": [],
   "source": []
  },
  {
   "cell_type": "code",
   "execution_count": null,
   "metadata": {
    "collapsed": true
   },
   "outputs": [],
   "source": []
  },
  {
   "cell_type": "code",
   "execution_count": null,
   "metadata": {
    "collapsed": true
   },
   "outputs": [],
   "source": []
  },
  {
   "cell_type": "code",
   "execution_count": null,
   "metadata": {
    "collapsed": true
   },
   "outputs": [],
   "source": []
  },
  {
   "cell_type": "code",
   "execution_count": null,
   "metadata": {
    "collapsed": true
   },
   "outputs": [],
   "source": []
  },
  {
   "cell_type": "code",
   "execution_count": null,
   "metadata": {
    "collapsed": true
   },
   "outputs": [],
   "source": []
  },
  {
   "cell_type": "code",
   "execution_count": null,
   "metadata": {
    "collapsed": true
   },
   "outputs": [],
   "source": []
  },
  {
   "cell_type": "code",
   "execution_count": null,
   "metadata": {
    "collapsed": true
   },
   "outputs": [],
   "source": []
  },
  {
   "cell_type": "code",
   "execution_count": null,
   "metadata": {
    "collapsed": true
   },
   "outputs": [],
   "source": []
  },
  {
   "cell_type": "code",
   "execution_count": null,
   "metadata": {
    "collapsed": true
   },
   "outputs": [],
   "source": []
  },
  {
   "cell_type": "code",
   "execution_count": null,
   "metadata": {
    "collapsed": true
   },
   "outputs": [],
   "source": []
  },
  {
   "cell_type": "code",
   "execution_count": null,
   "metadata": {
    "collapsed": true
   },
   "outputs": [],
   "source": []
  },
  {
   "cell_type": "code",
   "execution_count": null,
   "metadata": {
    "collapsed": true
   },
   "outputs": [],
   "source": []
  },
  {
   "cell_type": "code",
   "execution_count": null,
   "metadata": {
    "collapsed": true
   },
   "outputs": [],
   "source": []
  },
  {
   "cell_type": "code",
   "execution_count": null,
   "metadata": {
    "collapsed": true
   },
   "outputs": [],
   "source": []
  },
  {
   "cell_type": "code",
   "execution_count": null,
   "metadata": {
    "collapsed": true
   },
   "outputs": [],
   "source": []
  },
  {
   "cell_type": "code",
   "execution_count": null,
   "metadata": {
    "collapsed": true
   },
   "outputs": [],
   "source": []
  },
  {
   "cell_type": "code",
   "execution_count": null,
   "metadata": {
    "collapsed": true
   },
   "outputs": [],
   "source": []
  },
  {
   "cell_type": "code",
   "execution_count": null,
   "metadata": {
    "collapsed": true
   },
   "outputs": [],
   "source": []
  },
  {
   "cell_type": "code",
   "execution_count": null,
   "metadata": {
    "collapsed": true
   },
   "outputs": [],
   "source": []
  },
  {
   "cell_type": "code",
   "execution_count": null,
   "metadata": {
    "collapsed": true
   },
   "outputs": [],
   "source": []
  },
  {
   "cell_type": "code",
   "execution_count": null,
   "metadata": {
    "collapsed": true
   },
   "outputs": [],
   "source": []
  },
  {
   "cell_type": "code",
   "execution_count": null,
   "metadata": {
    "collapsed": true
   },
   "outputs": [],
   "source": [
    "trito_files = glob.glob(\"binary_position_RRBS_trito_pool*\")"
   ]
  },
  {
   "cell_type": "code",
   "execution_count": null,
   "metadata": {
    "collapsed": false
   },
   "outputs": [],
   "source": [
    "len(trito_files)"
   ]
  },
  {
   "cell_type": "code",
   "execution_count": null,
   "metadata": {
    "collapsed": false
   },
   "outputs": [],
   "source": [
    "df1 = pd.read_csv(\"binary_position_RRBS_trito_pool_1_TAAGGCGA.ACAACC.bed.anno.csv\")\n",
    "df2 = pd.read_csv(\"binary_position_RRBS_trito_pool_1_TAAGGCGA.ACGTGG.bed.anno.csv\")\n",
    "df3 = pd.read_csv(\"binary_position_RRBS_trito_pool_1_TAAGGCGA.ACTCAC.bed.anno.csv\")\n",
    "df4 = pd.read_csv(\"binary_position_RRBS_trito_pool_1_TAAGGCGA.ATAGCG.bed.anno.csv\")\n",
    "df5 = pd.read_csv(\"binary_position_RRBS_trito_pool_1_TAAGGCGA.ATCGAC.bed.anno.csv\")\n",
    "df6 = pd.read_csv(\"binary_position_RRBS_trito_pool_1_TAAGGCGA.CAAGAG.bed.anno.csv\")\n",
    "df7 = pd.read_csv(\"binary_position_RRBS_trito_pool_1_TAAGGCGA.CATGAC.bed.anno.csv\")\n",
    "df8 = pd.read_csv(\"binary_position_RRBS_trito_pool_1_TAAGGCGA.CCTTCG.bed.anno.csv\")\n",
    "df9 = pd.read_csv(\"binary_position_RRBS_trito_pool_1_TAAGGCGA.CGGTAG.bed.anno.csv\")\n",
    "df10 = pd.read_csv(\"binary_position_RRBS_trito_pool_1_TAAGGCGA.CTATTG.bed.anno.csv\")\n",
    "df11 = pd.read_csv(\"binary_position_RRBS_trito_pool_1_TAAGGCGA.GACACG.bed.anno.csv\")\n",
    "df12 = pd.read_csv(\"binary_position_RRBS_trito_pool_1_TAAGGCGA.GCATTC.bed.anno.csv\")\n",
    "df13 = pd.read_csv(\"binary_position_RRBS_trito_pool_1_TAAGGCGA.GCTGCC.bed.anno.csv\")\n",
    "df14 = pd.read_csv(\"binary_position_RRBS_trito_pool_1_TAAGGCGA.GGCATC.bed.anno.csv\")\n",
    "df15 = pd.read_csv(\"binary_position_RRBS_trito_pool_1_TAAGGCGA.GTGAGG.bed.anno.csv\")\n",
    "df16 = pd.read_csv(\"binary_position_RRBS_trito_pool_1_TAAGGCGA.GTTGAG.bed.anno.csv\")\n",
    "df17 = pd.read_csv(\"binary_position_RRBS_trito_pool_1_TAAGGCGA.TAGCGG.bed.anno.csv\")\n",
    "df18 = pd.read_csv(\"binary_position_RRBS_trito_pool_1_TAAGGCGA.TATCTC.bed.anno.csv\")\n",
    "df19 = pd.read_csv(\"binary_position_RRBS_trito_pool_1_TAAGGCGA.TCTCTG.bed.anno.csv\")\n",
    "df20 = pd.read_csv(\"binary_position_RRBS_trito_pool_1_TAAGGCGA.TGACAG.bed.anno.csv\")\n",
    "df21 = pd.read_csv(\"binary_position_RRBS_trito_pool_1_TAAGGCGA.TGCTGC.bed.anno.csv\")"
   ]
  },
  {
   "cell_type": "code",
   "execution_count": null,
   "metadata": {
    "collapsed": false
   },
   "outputs": [],
   "source": [
    "df1 = df1.drop(\"Unnamed: 0\", axis=1)\n",
    "df2 = df2.drop(\"Unnamed: 0\", axis=1)\n",
    "df3 = df3.drop(\"Unnamed: 0\", axis=1)\n",
    "df4 = df4.drop(\"Unnamed: 0\", axis=1)\n",
    "df5 = df5.drop(\"Unnamed: 0\", axis=1)\n",
    "df6 = df6.drop(\"Unnamed: 0\", axis=1)\n",
    "df7 = df7.drop(\"Unnamed: 0\", axis=1)\n",
    "df8 = df8.drop(\"Unnamed: 0\", axis=1)\n",
    "df9 = df9.drop(\"Unnamed: 0\", axis=1)\n",
    "df10 = df10.drop(\"Unnamed: 0\", axis=1)\n",
    "df11 = df11.drop(\"Unnamed: 0\", axis=1)\n",
    "df12 = df12.drop(\"Unnamed: 0\", axis=1)\n",
    "df13 = df13.drop(\"Unnamed: 0\", axis=1)\n",
    "df14 = df14.drop(\"Unnamed: 0\", axis=1)\n",
    "df15 = df15.drop(\"Unnamed: 0\", axis=1)\n",
    "df16 = df16.drop(\"Unnamed: 0\", axis=1)\n",
    "df17 = df17.drop(\"Unnamed: 0\", axis=1)\n",
    "df18 = df18.drop(\"Unnamed: 0\", axis=1)\n",
    "df19 = df19.drop(\"Unnamed: 0\", axis=1)\n",
    "df20 = df20.drop(\"Unnamed: 0\", axis=1)\n",
    "df21 = df21.drop(\"Unnamed: 0\", axis=1)"
   ]
  },
  {
   "cell_type": "code",
   "execution_count": null,
   "metadata": {
    "collapsed": false
   },
   "outputs": [],
   "source": [
    "df_list = [df1, df2, df3, df4, df5, df6, df7, df8, df9, df10, df11, \n",
    "           df12, df13, df14, df15, df16, df17, df18, df19, df20, df21]"
   ]
  },
  {
   "cell_type": "code",
   "execution_count": null,
   "metadata": {
    "collapsed": true
   },
   "outputs": [],
   "source": []
  },
  {
   "cell_type": "code",
   "execution_count": null,
   "metadata": {
    "collapsed": false
   },
   "outputs": [],
   "source": [
    "df1.head()"
   ]
  },
  {
   "cell_type": "code",
   "execution_count": null,
   "metadata": {
    "collapsed": true
   },
   "outputs": [],
   "source": [
    "\n",
    "trito_matrix = pd.concat([df.set_index(\"position\") for df in df_list], axis=1).reset_index().astype(object)"
   ]
  },
  {
   "cell_type": "code",
   "execution_count": null,
   "metadata": {
    "collapsed": false
   },
   "outputs": [],
   "source": [
    "trito_matrix.shape"
   ]
  },
  {
   "cell_type": "code",
   "execution_count": null,
   "metadata": {
    "collapsed": false
   },
   "outputs": [],
   "source": [
    "trito_matrix.head()"
   ]
  },
  {
   "cell_type": "code",
   "execution_count": null,
   "metadata": {
    "collapsed": false
   },
   "outputs": [],
   "source": [
    "trito_matrix = trito_matrix.drop(\"index\", axis=1)\n"
   ]
  },
  {
   "cell_type": "code",
   "execution_count": null,
   "metadata": {
    "collapsed": false
   },
   "outputs": [],
   "source": [
    "trito_matrix.columns = [\"RRBS_trito_pool_1_TAAGGCGA.ACAACC\", \"RRBS_trito_pool_1_TAAGGCGA.ACGTGG\", \n",
    "                        \"RRBS_trito_pool_1_TAAGGCGA.ACTCAC\", \"RRBS_trito_pool_1_TAAGGCGA.ATAGCG\", \n",
    "                        \"RRBS_trito_pool_1_TAAGGCGA.ATCGAC\", \"RRBS_trito_pool_1_TAAGGCGA.CAAGAG\", \n",
    "                        \"RRBS_trito_pool_1_TAAGGCGA.CATGAC\", \"RRBS_trito_pool_1_TAAGGCGA.CCTTCG\", \n",
    "                        \"RRBS_trito_pool_1_TAAGGCGA.CGGTAG\", \"RRBS_trito_pool_1_TAAGGCGA.CTATTG\", \n",
    "                        \"RRBS_trito_pool_1_TAAGGCGA.GACACG\", \"RRBS_trito_pool_1_TAAGGCGA.GCATTC\", \n",
    "                        \"RRBS_trito_pool_1_TAAGGCGA.GCTGCC\", \"RRBS_trito_pool_1_TAAGGCGA.GGCATC\", \n",
    "                        \"RRBS_trito_pool_1_TAAGGCGA.GTGAGG\", \"RRBS_trito_pool_1_TAAGGCGA.GTTGAG\", \n",
    "                        \"RRBS_trito_pool_1_TAAGGCGA.TAGCGG\", \"RRBS_trito_pool_1_TAAGGCGA.TATCTC\", \n",
    "                        \"RRBS_trito_pool_1_TAAGGCGA.TCTCTG\", \"RRBS_trito_pool_1_TAAGGCGA.TGACAG\", \n",
    "                        \"RRBS_trito_pool_1_TAAGGCGA.TGCTGC\"]\n",
    "\n",
    "\n"
   ]
  },
  {
   "cell_type": "code",
   "execution_count": null,
   "metadata": {
    "collapsed": true
   },
   "outputs": [],
   "source": []
  },
  {
   "cell_type": "code",
   "execution_count": null,
   "metadata": {
    "collapsed": true
   },
   "outputs": [],
   "source": []
  },
  {
   "cell_type": "code",
   "execution_count": null,
   "metadata": {
    "collapsed": false
   },
   "outputs": [],
   "source": [
    "#trito_matrix = trito_matrix.T.astype(object)  # don't transpose"
   ]
  },
  {
   "cell_type": "code",
   "execution_count": null,
   "metadata": {
    "collapsed": false
   },
   "outputs": [],
   "source": [
    "# trito_matrix.applymap(int)"
   ]
  },
  {
   "cell_type": "code",
   "execution_count": null,
   "metadata": {
    "collapsed": false
   },
   "outputs": [],
   "source": [
    "trito_matrix.head()"
   ]
  },
  {
   "cell_type": "code",
   "execution_count": null,
   "metadata": {
    "collapsed": true
   },
   "outputs": [],
   "source": [
    "#trito_matrix.to_csv(\"trito1_binary.csv\", index=False, header=False)"
   ]
  },
  {
   "cell_type": "code",
   "execution_count": null,
   "metadata": {
    "collapsed": false
   },
   "outputs": [],
   "source": [
    "#f = pd.read_csv(\"trito1_binary.csv\")"
   ]
  },
  {
   "cell_type": "code",
   "execution_count": null,
   "metadata": {
    "collapsed": true
   },
   "outputs": [],
   "source": [
    "#f"
   ]
  },
  {
   "cell_type": "code",
   "execution_count": null,
   "metadata": {
    "collapsed": true
   },
   "outputs": [],
   "source": []
  },
  {
   "cell_type": "code",
   "execution_count": null,
   "metadata": {
    "collapsed": true
   },
   "outputs": [],
   "source": [
    "\n"
   ]
  },
  {
   "cell_type": "code",
   "execution_count": null,
   "metadata": {
    "collapsed": false
   },
   "outputs": [],
   "source": [
    "trito_matrix = trito_matrix.applymap(lambda x: int(x) if pd.notnull(x) else str(\"?\"))"
   ]
  },
  {
   "cell_type": "code",
   "execution_count": null,
   "metadata": {
    "collapsed": false
   },
   "outputs": [],
   "source": [
    "#trito_matrix.to_csv(\"tritopool_binary1.phy\", header=None, index=None, sep=' ')"
   ]
  },
  {
   "cell_type": "code",
   "execution_count": null,
   "metadata": {
    "collapsed": false
   },
   "outputs": [],
   "source": [
    "trito_matrix.shape"
   ]
  },
  {
   "cell_type": "code",
   "execution_count": null,
   "metadata": {
    "collapsed": false
   },
   "outputs": [],
   "source": [
    "%pwd"
   ]
  },
  {
   "cell_type": "code",
   "execution_count": null,
   "metadata": {
    "collapsed": false
   },
   "outputs": [],
   "source": [
    "trito_matrix"
   ]
  },
  {
   "cell_type": "code",
   "execution_count": null,
   "metadata": {
    "collapsed": true
   },
   "outputs": [],
   "source": [
    "#trito_matrix.applymap(lambda x: int(x) if pd.notnull(x) else str(\"?\"))"
   ]
  },
  {
   "cell_type": "code",
   "execution_count": null,
   "metadata": {
    "collapsed": true
   },
   "outputs": [],
   "source": [
    "#trito_matrix.to_csv(\"tritopool_correct1.phy\", header=None, index=None)"
   ]
  },
  {
   "cell_type": "code",
   "execution_count": null,
   "metadata": {
    "collapsed": false
   },
   "outputs": [],
   "source": [
    "#trito_matrix.to_csv(\"tritopool_correct2.phy\", header=None, index=None, sep=' ')"
   ]
  },
  {
   "cell_type": "code",
   "execution_count": null,
   "metadata": {
    "collapsed": false
   },
   "outputs": [],
   "source": [
    "#trito_matrix.to_csv(\"tritopool_correct3.phy\", header=None, index=None, sep='')"
   ]
  },
  {
   "cell_type": "code",
   "execution_count": null,
   "metadata": {
    "collapsed": true
   },
   "outputs": [],
   "source": [
    "    "
   ]
  },
  {
   "cell_type": "code",
   "execution_count": null,
   "metadata": {
    "collapsed": true
   },
   "outputs": [],
   "source": [
    "trito_matrix = trito_matrix.astype(str).apply(''.join)"
   ]
  },
  {
   "cell_type": "code",
   "execution_count": null,
   "metadata": {
    "collapsed": false
   },
   "outputs": [],
   "source": [
    "trito_matrix"
   ]
  },
  {
   "cell_type": "code",
   "execution_count": null,
   "metadata": {
    "collapsed": false
   },
   "outputs": [],
   "source": [
    "type(trito_matrix)"
   ]
  },
  {
   "cell_type": "code",
   "execution_count": null,
   "metadata": {
    "collapsed": false
   },
   "outputs": [],
   "source": [
    "trito_matrix.index"
   ]
  },
  {
   "cell_type": "code",
   "execution_count": null,
   "metadata": {
    "collapsed": true
   },
   "outputs": [],
   "source": [
    "matt = pd.Series(trito_matrix.index.astype(str).str.cat(trito_matrix.astype(str),'    '))"
   ]
  },
  {
   "cell_type": "code",
   "execution_count": null,
   "metadata": {
    "collapsed": false
   },
   "outputs": [],
   "source": [
    "matt"
   ]
  },
  {
   "cell_type": "code",
   "execution_count": null,
   "metadata": {
    "collapsed": true
   },
   "outputs": [],
   "source": [
    "trito_matrix = matt"
   ]
  },
  {
   "cell_type": "code",
   "execution_count": null,
   "metadata": {
    "collapsed": true
   },
   "outputs": [],
   "source": [
    "trito_matrix.to_csv(\"tritopool_1_final.phy\", header=None, index=None)"
   ]
  },
  {
   "cell_type": "code",
   "execution_count": null,
   "metadata": {
    "collapsed": false
   },
   "outputs": [],
   "source": [
    "trito_matrix"
   ]
  },
  {
   "cell_type": "code",
   "execution_count": null,
   "metadata": {
    "collapsed": true
   },
   "outputs": [],
   "source": []
  },
  {
   "cell_type": "code",
   "execution_count": null,
   "metadata": {
    "collapsed": true
   },
   "outputs": [],
   "source": []
  },
  {
   "cell_type": "code",
   "execution_count": null,
   "metadata": {
    "collapsed": true
   },
   "outputs": [],
   "source": []
  },
  {
   "cell_type": "code",
   "execution_count": null,
   "metadata": {
    "collapsed": true
   },
   "outputs": [],
   "source": []
  },
  {
   "cell_type": "code",
   "execution_count": null,
   "metadata": {
    "collapsed": false
   },
   "outputs": [],
   "source": [
    "trito_files2 = glob.glob(\"binary_position_RRBS_trito_pool_2*\")"
   ]
  },
  {
   "cell_type": "code",
   "execution_count": null,
   "metadata": {
    "collapsed": false
   },
   "outputs": [],
   "source": [
    "len(trito_files2)"
   ]
  },
  {
   "cell_type": "code",
   "execution_count": null,
   "metadata": {
    "collapsed": false
   },
   "outputs": [],
   "source": [
    "trito_files2"
   ]
  },
  {
   "cell_type": "code",
   "execution_count": null,
   "metadata": {
    "collapsed": true
   },
   "outputs": [],
   "source": [
    "df1 = pd.read_csv(\"binary_position_RRBS_trito_pool_2_CGTACTAG.ACAACC.bed.anno.csv\")\n",
    "df2 = pd.read_csv(\"binary_position_RRBS_trito_pool_2_CGTACTAG.ACGTGG.bed.anno.csv\")\n",
    "df3 = pd.read_csv(\"binary_position_RRBS_trito_pool_2_CGTACTAG.ACTCAC.bed.anno.csv\")\n",
    "df4 = pd.read_csv(\"binary_position_RRBS_trito_pool_2_CGTACTAG.AGGATG.bed.anno.csv\")\n",
    "df5 = pd.read_csv(\"binary_position_RRBS_trito_pool_2_CGTACTAG.ATAGCG.bed.anno.csv\")\n",
    "df6 = pd.read_csv(\"binary_position_RRBS_trito_pool_2_CGTACTAG.ATCGAC.bed.anno.csv\")\n",
    "df7 = pd.read_csv(\"binary_position_RRBS_trito_pool_2_CGTACTAG.CAAGAG.bed.anno.csv\")\n",
    "df8 = pd.read_csv(\"binary_position_RRBS_trito_pool_2_CGTACTAG.CATGAC.bed.anno.csv\")\n",
    "df9 = pd.read_csv(\"binary_position_RRBS_trito_pool_2_CGTACTAG.CCTTCG.bed.anno.csv\")\n",
    "df10 = pd.read_csv(\"binary_position_RRBS_trito_pool_2_CGTACTAG.CGGTAG.bed.anno.csv\")\n",
    "df11 = pd.read_csv(\"binary_position_RRBS_trito_pool_2_CGTACTAG.CTATTG.bed.anno.csv\")\n",
    "df12 = pd.read_csv(\"binary_position_RRBS_trito_pool_2_CGTACTAG.GACACG.bed.anno.csv\")\n",
    "df13 = pd.read_csv(\"binary_position_RRBS_trito_pool_2_CGTACTAG.GCATTC.bed.anno.csv\")\n",
    "df14 = pd.read_csv(\"binary_position_RRBS_trito_pool_2_CGTACTAG.GCTGCC.bed.anno.csv\")\n",
    "df15 = pd.read_csv(\"binary_position_RRBS_trito_pool_2_CGTACTAG.GGCATC.bed.anno.csv\")\n",
    "df16 = pd.read_csv(\"binary_position_RRBS_trito_pool_2_CGTACTAG.GTGAGG.bed.anno.csv\")\n",
    "df17 = pd.read_csv(\"binary_position_RRBS_trito_pool_2_CGTACTAG.GTTGAG.bed.anno.csv\")\n",
    "df18 = pd.read_csv(\"binary_position_RRBS_trito_pool_2_CGTACTAG.TAGCGG.bed.anno.csv\")\n",
    "df19 = pd.read_csv(\"binary_position_RRBS_trito_pool_2_CGTACTAG.TATCTC.bed.anno.csv\")\n",
    "df20 = pd.read_csv(\"binary_position_RRBS_trito_pool_2_CGTACTAG.TCTCTG.bed.anno.csv\")\n",
    "df21 = pd.read_csv(\"binary_position_RRBS_trito_pool_2_CGTACTAG.TGACAG.bed.anno.csv\")"
   ]
  },
  {
   "cell_type": "code",
   "execution_count": null,
   "metadata": {
    "collapsed": true
   },
   "outputs": [],
   "source": [
    "df1 = df1.drop(\"Unnamed: 0\", axis=1)\n",
    "df2 = df2.drop(\"Unnamed: 0\", axis=1)\n",
    "df3 = df3.drop(\"Unnamed: 0\", axis=1)\n",
    "df4 = df4.drop(\"Unnamed: 0\", axis=1)\n",
    "df5 = df5.drop(\"Unnamed: 0\", axis=1)\n",
    "df6 = df6.drop(\"Unnamed: 0\", axis=1)\n",
    "df7 = df7.drop(\"Unnamed: 0\", axis=1)\n",
    "df8 = df8.drop(\"Unnamed: 0\", axis=1)\n",
    "df9 = df9.drop(\"Unnamed: 0\", axis=1)\n",
    "df10 = df10.drop(\"Unnamed: 0\", axis=1)\n",
    "df11 = df11.drop(\"Unnamed: 0\", axis=1)\n",
    "df12 = df12.drop(\"Unnamed: 0\", axis=1)\n",
    "df13 = df13.drop(\"Unnamed: 0\", axis=1)\n",
    "df14 = df14.drop(\"Unnamed: 0\", axis=1)\n",
    "df15 = df15.drop(\"Unnamed: 0\", axis=1)\n",
    "df16 = df16.drop(\"Unnamed: 0\", axis=1)\n",
    "df17 = df17.drop(\"Unnamed: 0\", axis=1)\n",
    "df18 = df18.drop(\"Unnamed: 0\", axis=1)\n",
    "df19 = df19.drop(\"Unnamed: 0\", axis=1)\n",
    "df20 = df20.drop(\"Unnamed: 0\", axis=1)\n",
    "df21 = df21.drop(\"Unnamed: 0\", axis=1)"
   ]
  },
  {
   "cell_type": "code",
   "execution_count": null,
   "metadata": {
    "collapsed": true
   },
   "outputs": [],
   "source": [
    "df_list = [df1, df2, df3, df4, df5, df6, df7, df8, df9, df10, df11, \n",
    "           df12, df13, df14, df15, df16, df17, df18, df19, df20, df21]"
   ]
  },
  {
   "cell_type": "code",
   "execution_count": null,
   "metadata": {
    "collapsed": true
   },
   "outputs": [],
   "source": [
    "trito_matrix2 = pd.concat([df.set_index(\"position\") for df in df_list], axis=1).reset_index().astype(object)"
   ]
  },
  {
   "cell_type": "code",
   "execution_count": null,
   "metadata": {
    "collapsed": false
   },
   "outputs": [],
   "source": [
    "trito_matrix2.shape"
   ]
  },
  {
   "cell_type": "code",
   "execution_count": null,
   "metadata": {
    "collapsed": false
   },
   "outputs": [],
   "source": [
    "trito_matrix2.head()"
   ]
  },
  {
   "cell_type": "code",
   "execution_count": null,
   "metadata": {
    "collapsed": true
   },
   "outputs": [],
   "source": [
    "trito_matrix2 = trito_matrix2.drop(\"index\", axis=1)"
   ]
  },
  {
   "cell_type": "code",
   "execution_count": null,
   "metadata": {
    "collapsed": true
   },
   "outputs": [],
   "source": [
    "trito_matrix2.columns = [\"RRBS_trito_pool_2_CGTACTAG.ACAACC\", \"RRBS_trito_pool_2_CGTACTAG.ACGTGG\", \n",
    "                        \"RRBS_trito_pool_2_CGTACTAG.ACTCAC\", \"RRBS_trito_pool_2_CGTACTAG.AGGATG\", \n",
    "                        \"RRBS_trito_pool_2_CGTACTAG.ATAGCG\", \"RRBS_trito_pool_2_CGTACTAG.ATCGAC\", \n",
    "                        \"RRBS_trito_pool_2_CGTACTAG.CAAGAG\", \"RRBS_trito_pool_2_CGTACTAG.CATGAC\", \n",
    "                        \"RRBS_trito_pool_2_CGTACTAG.CCTTCG\", \"RRBS_trito_pool_2_CGTACTAG.CGGTAG\", \n",
    "                        \"RRBS_trito_pool_2_CGTACTAG.CTATTG\", \"RRBS_trito_pool_2_CGTACTAG.GACACG\", \n",
    "                        \"RRBS_trito_pool_2_CGTACTAG.GCATTC\", \"RRBS_trito_pool_2_CGTACTAG.GCTGCC\", \n",
    "                        \"RRBS_trito_pool_2_CGTACTAG.GGCATC\", \"RRBS_trito_pool_2_CGTACTAG.GTGAGG\", \n",
    "                        \"RRBS_trito_pool_2_CGTACTAG.GTTGAG\", \"RRBS_trito_pool_2_CGTACTAG.TAGCGG\", \n",
    "                        \"RRBS_trito_pool_2_CGTACTAG.TATCTC\", \"RRBS_trito_pool_2_CGTACTAG.TCTCTG\", \n",
    "                        \"RRBS_trito_pool_2_CGTACTAG.TGACAG\"]\n"
   ]
  },
  {
   "cell_type": "code",
   "execution_count": null,
   "metadata": {
    "collapsed": true
   },
   "outputs": [],
   "source": [
    "trito_matrix2 = trito_matrix2.applymap(lambda x: int(x) if pd.notnull(x) else str(\"?\"))"
   ]
  },
  {
   "cell_type": "code",
   "execution_count": null,
   "metadata": {
    "collapsed": true
   },
   "outputs": [],
   "source": [
    "trito_matrix2 = trito_matrix2.astype(str).apply(''.join)"
   ]
  },
  {
   "cell_type": "code",
   "execution_count": null,
   "metadata": {
    "collapsed": true
   },
   "outputs": [],
   "source": [
    "trito2 = pd.Series(trito_matrix2.index.astype(str).str.cat(trito_matrix2.astype(str),'    '))"
   ]
  },
  {
   "cell_type": "code",
   "execution_count": null,
   "metadata": {
    "collapsed": false
   },
   "outputs": [],
   "source": [
    "trito_matrix2 = trito2"
   ]
  },
  {
   "cell_type": "code",
   "execution_count": null,
   "metadata": {
    "collapsed": true
   },
   "outputs": [],
   "source": [
    "trito_matrix2.to_csv(\"tritopool_2_final.phy\", header=None, index=None)"
   ]
  },
  {
   "cell_type": "code",
   "execution_count": null,
   "metadata": {
    "collapsed": false
   },
   "outputs": [],
   "source": [
    "trito_matrix2"
   ]
  },
  {
   "cell_type": "code",
   "execution_count": null,
   "metadata": {
    "collapsed": false
   },
   "outputs": [],
   "source": [
    "trito_matrix2.shape"
   ]
  },
  {
   "cell_type": "code",
   "execution_count": null,
   "metadata": {
    "collapsed": false
   },
   "outputs": [],
   "source": [
    "trito_matrix.shape"
   ]
  },
  {
   "cell_type": "code",
   "execution_count": null,
   "metadata": {
    "collapsed": false
   },
   "outputs": [],
   "source": [
    "type(trito_matrix)"
   ]
  },
  {
   "cell_type": "code",
   "execution_count": null,
   "metadata": {
    "collapsed": true
   },
   "outputs": [],
   "source": []
  },
  {
   "cell_type": "code",
   "execution_count": null,
   "metadata": {
    "collapsed": true
   },
   "outputs": [],
   "source": []
  },
  {
   "cell_type": "code",
   "execution_count": null,
   "metadata": {
    "collapsed": true
   },
   "outputs": [],
   "source": [
    "df1 = pd.read_csv(\"binary_position_RRBS_trito_pool_1_TAAGGCGA.ACAACC.bed.anno.csv\")\n",
    "df2 = pd.read_csv(\"binary_position_RRBS_trito_pool_1_TAAGGCGA.ACGTGG.bed.anno.csv\")\n",
    "df3 = pd.read_csv(\"binary_position_RRBS_trito_pool_1_TAAGGCGA.ACTCAC.bed.anno.csv\")\n",
    "df4 = pd.read_csv(\"binary_position_RRBS_trito_pool_1_TAAGGCGA.ATAGCG.bed.anno.csv\")\n",
    "df5 = pd.read_csv(\"binary_position_RRBS_trito_pool_1_TAAGGCGA.ATCGAC.bed.anno.csv\")\n",
    "df6 = pd.read_csv(\"binary_position_RRBS_trito_pool_1_TAAGGCGA.CAAGAG.bed.anno.csv\")\n",
    "df7 = pd.read_csv(\"binary_position_RRBS_trito_pool_1_TAAGGCGA.CATGAC.bed.anno.csv\")\n",
    "df8 = pd.read_csv(\"binary_position_RRBS_trito_pool_1_TAAGGCGA.CCTTCG.bed.anno.csv\")\n",
    "df9 = pd.read_csv(\"binary_position_RRBS_trito_pool_1_TAAGGCGA.CGGTAG.bed.anno.csv\")\n",
    "df10 = pd.read_csv(\"binary_position_RRBS_trito_pool_1_TAAGGCGA.CTATTG.bed.anno.csv\")\n",
    "df11 = pd.read_csv(\"binary_position_RRBS_trito_pool_1_TAAGGCGA.GACACG.bed.anno.csv\")\n",
    "df12 = pd.read_csv(\"binary_position_RRBS_trito_pool_1_TAAGGCGA.GCATTC.bed.anno.csv\")\n",
    "df13 = pd.read_csv(\"binary_position_RRBS_trito_pool_1_TAAGGCGA.GCTGCC.bed.anno.csv\")\n",
    "df14 = pd.read_csv(\"binary_position_RRBS_trito_pool_1_TAAGGCGA.GGCATC.bed.anno.csv\")\n",
    "df15 = pd.read_csv(\"binary_position_RRBS_trito_pool_1_TAAGGCGA.GTGAGG.bed.anno.csv\")\n",
    "df16 = pd.read_csv(\"binary_position_RRBS_trito_pool_1_TAAGGCGA.GTTGAG.bed.anno.csv\")\n",
    "df17 = pd.read_csv(\"binary_position_RRBS_trito_pool_1_TAAGGCGA.TAGCGG.bed.anno.csv\")\n",
    "df18 = pd.read_csv(\"binary_position_RRBS_trito_pool_1_TAAGGCGA.TATCTC.bed.anno.csv\")\n",
    "df19 = pd.read_csv(\"binary_position_RRBS_trito_pool_1_TAAGGCGA.TCTCTG.bed.anno.csv\")\n",
    "df20 = pd.read_csv(\"binary_position_RRBS_trito_pool_1_TAAGGCGA.TGACAG.bed.anno.csv\")\n",
    "df21 = pd.read_csv(\"binary_position_RRBS_trito_pool_1_TAAGGCGA.TGCTGC.bed.anno.csv\")\n",
    "df22 = pd.read_csv(\"binary_position_RRBS_trito_pool_2_CGTACTAG.ACAACC.bed.anno.csv\")\n",
    "df23 = pd.read_csv(\"binary_position_RRBS_trito_pool_2_CGTACTAG.ACGTGG.bed.anno.csv\")\n",
    "df24 = pd.read_csv(\"binary_position_RRBS_trito_pool_2_CGTACTAG.ACTCAC.bed.anno.csv\")\n",
    "df25 = pd.read_csv(\"binary_position_RRBS_trito_pool_2_CGTACTAG.AGGATG.bed.anno.csv\")\n",
    "df26 = pd.read_csv(\"binary_position_RRBS_trito_pool_2_CGTACTAG.ATAGCG.bed.anno.csv\")\n",
    "df27 = pd.read_csv(\"binary_position_RRBS_trito_pool_2_CGTACTAG.ATCGAC.bed.anno.csv\")\n",
    "df28 = pd.read_csv(\"binary_position_RRBS_trito_pool_2_CGTACTAG.CAAGAG.bed.anno.csv\")\n",
    "df29 = pd.read_csv(\"binary_position_RRBS_trito_pool_2_CGTACTAG.CATGAC.bed.anno.csv\")\n",
    "df30 = pd.read_csv(\"binary_position_RRBS_trito_pool_2_CGTACTAG.CCTTCG.bed.anno.csv\")\n",
    "df31 = pd.read_csv(\"binary_position_RRBS_trito_pool_2_CGTACTAG.CGGTAG.bed.anno.csv\")\n",
    "df32 = pd.read_csv(\"binary_position_RRBS_trito_pool_2_CGTACTAG.CTATTG.bed.anno.csv\")\n",
    "df33 = pd.read_csv(\"binary_position_RRBS_trito_pool_2_CGTACTAG.GACACG.bed.anno.csv\")\n",
    "df34 = pd.read_csv(\"binary_position_RRBS_trito_pool_2_CGTACTAG.GCATTC.bed.anno.csv\")\n",
    "df35 = pd.read_csv(\"binary_position_RRBS_trito_pool_2_CGTACTAG.GCTGCC.bed.anno.csv\")\n",
    "df36 = pd.read_csv(\"binary_position_RRBS_trito_pool_2_CGTACTAG.GGCATC.bed.anno.csv\")\n",
    "df37 = pd.read_csv(\"binary_position_RRBS_trito_pool_2_CGTACTAG.GTGAGG.bed.anno.csv\")\n",
    "df38 = pd.read_csv(\"binary_position_RRBS_trito_pool_2_CGTACTAG.GTTGAG.bed.anno.csv\")\n",
    "df39 = pd.read_csv(\"binary_position_RRBS_trito_pool_2_CGTACTAG.TAGCGG.bed.anno.csv\")\n",
    "df40 = pd.read_csv(\"binary_position_RRBS_trito_pool_2_CGTACTAG.TATCTC.bed.anno.csv\")\n",
    "df41 = pd.read_csv(\"binary_position_RRBS_trito_pool_2_CGTACTAG.TCTCTG.bed.anno.csv\")\n",
    "df42 = pd.read_csv(\"binary_position_RRBS_trito_pool_2_CGTACTAG.TGACAG.bed.anno.csv\")"
   ]
  },
  {
   "cell_type": "code",
   "execution_count": null,
   "metadata": {
    "collapsed": true
   },
   "outputs": [],
   "source": [
    "df1 = df1.drop(\"Unnamed: 0\", axis=1)\n",
    "df2 = df2.drop(\"Unnamed: 0\", axis=1)\n",
    "df3 = df3.drop(\"Unnamed: 0\", axis=1)\n",
    "df4 = df4.drop(\"Unnamed: 0\", axis=1)\n",
    "df5 = df5.drop(\"Unnamed: 0\", axis=1)\n",
    "df6 = df6.drop(\"Unnamed: 0\", axis=1)\n",
    "df7 = df7.drop(\"Unnamed: 0\", axis=1)\n",
    "df8 = df8.drop(\"Unnamed: 0\", axis=1)\n",
    "df9 = df9.drop(\"Unnamed: 0\", axis=1)\n",
    "df10 = df10.drop(\"Unnamed: 0\", axis=1)\n",
    "df11 = df11.drop(\"Unnamed: 0\", axis=1)\n",
    "df12 = df12.drop(\"Unnamed: 0\", axis=1)\n",
    "df13 = df13.drop(\"Unnamed: 0\", axis=1)\n",
    "df14 = df14.drop(\"Unnamed: 0\", axis=1)\n",
    "df15 = df15.drop(\"Unnamed: 0\", axis=1)\n",
    "df16 = df16.drop(\"Unnamed: 0\", axis=1)\n",
    "df17 = df17.drop(\"Unnamed: 0\", axis=1)\n",
    "df18 = df18.drop(\"Unnamed: 0\", axis=1)\n",
    "df19 = df19.drop(\"Unnamed: 0\", axis=1)\n",
    "df20 = df20.drop(\"Unnamed: 0\", axis=1)\n",
    "df21 = df21.drop(\"Unnamed: 0\", axis=1)\n",
    "\n",
    "df22 = df22.drop(\"Unnamed: 0\", axis=1)\n",
    "df23 = df23.drop(\"Unnamed: 0\", axis=1)\n",
    "df24 = df24.drop(\"Unnamed: 0\", axis=1)\n",
    "df25 = df25.drop(\"Unnamed: 0\", axis=1)\n",
    "df26 = df26.drop(\"Unnamed: 0\", axis=1)\n",
    "df27 = df27.drop(\"Unnamed: 0\", axis=1)\n",
    "df28 = df28.drop(\"Unnamed: 0\", axis=1)\n",
    "df29 = df29.drop(\"Unnamed: 0\", axis=1)\n",
    "df30 = df30.drop(\"Unnamed: 0\", axis=1)\n",
    "df31 = df31.drop(\"Unnamed: 0\", axis=1)\n",
    "df32 = df32.drop(\"Unnamed: 0\", axis=1)\n",
    "df33 = df33.drop(\"Unnamed: 0\", axis=1)\n",
    "df34 = df34.drop(\"Unnamed: 0\", axis=1)\n",
    "df35 = df35.drop(\"Unnamed: 0\", axis=1)\n",
    "df36 = df36.drop(\"Unnamed: 0\", axis=1)\n",
    "df37 = df37.drop(\"Unnamed: 0\", axis=1)\n",
    "df38 = df38.drop(\"Unnamed: 0\", axis=1)\n",
    "df39 = df39.drop(\"Unnamed: 0\", axis=1)\n",
    "df40 = df40.drop(\"Unnamed: 0\", axis=1)\n",
    "df41 = df41.drop(\"Unnamed: 0\", axis=1)\n",
    "df42 = df42.drop(\"Unnamed: 0\", axis=1)"
   ]
  },
  {
   "cell_type": "code",
   "execution_count": null,
   "metadata": {
    "collapsed": true
   },
   "outputs": [],
   "source": [
    "df_list = [df1, df2, df3, df4, df5, df6, df7, df8, df9, df10, df11, df12, df13, df14, df15, df16, df17, df18, df19,\n",
    "           df20, df21, df22, df23, df24, df25, df26, df27, df28, df29, df30, df31, df32, df33, df34, df35,\n",
    "           df36, df37, df38, df39, df40, df41, df42]"
   ]
  },
  {
   "cell_type": "code",
   "execution_count": null,
   "metadata": {
    "collapsed": true
   },
   "outputs": [],
   "source": [
    "trito_matrix3 = pd.concat([df.set_index(\"position\") for df in df_list], axis=1).reset_index().astype(object)"
   ]
  },
  {
   "cell_type": "code",
   "execution_count": null,
   "metadata": {
    "collapsed": false
   },
   "outputs": [],
   "source": [
    "trito_matrix3.shape"
   ]
  },
  {
   "cell_type": "code",
   "execution_count": null,
   "metadata": {
    "collapsed": true
   },
   "outputs": [],
   "source": [
    "trito_matrix3 = trito_matrix3.drop(\"index\", axis=1)"
   ]
  },
  {
   "cell_type": "code",
   "execution_count": null,
   "metadata": {
    "collapsed": true
   },
   "outputs": [],
   "source": [
    "trito_matrix3.columns = [\"RRBS_trito_pool_1_TAAGGCGA.ACAACC\", \"RRBS_trito_pool_1_TAAGGCGA.ACGTGG\", \n",
    "                        \"RRBS_trito_pool_1_TAAGGCGA.ACTCAC\", \"RRBS_trito_pool_1_TAAGGCGA.ATAGCG\", \n",
    "                        \"RRBS_trito_pool_1_TAAGGCGA.ATCGAC\", \"RRBS_trito_pool_1_TAAGGCGA.CAAGAG\", \n",
    "                        \"RRBS_trito_pool_1_TAAGGCGA.CATGAC\", \"RRBS_trito_pool_1_TAAGGCGA.CCTTCG\", \n",
    "                        \"RRBS_trito_pool_1_TAAGGCGA.CGGTAG\", \"RRBS_trito_pool_1_TAAGGCGA.CTATTG\", \n",
    "                        \"RRBS_trito_pool_1_TAAGGCGA.GACACG\", \"RRBS_trito_pool_1_TAAGGCGA.GCATTC\", \n",
    "                        \"RRBS_trito_pool_1_TAAGGCGA.GCTGCC\", \"RRBS_trito_pool_1_TAAGGCGA.GGCATC\", \n",
    "                        \"RRBS_trito_pool_1_TAAGGCGA.GTGAGG\", \"RRBS_trito_pool_1_TAAGGCGA.GTTGAG\", \n",
    "                        \"RRBS_trito_pool_1_TAAGGCGA.TAGCGG\", \"RRBS_trito_pool_1_TAAGGCGA.TATCTC\", \n",
    "                        \"RRBS_trito_pool_1_TAAGGCGA.TCTCTG\", \"RRBS_trito_pool_1_TAAGGCGA.TGACAG\", \n",
    "                        \"RRBS_trito_pool_1_TAAGGCGA.TGCTGC\", \"RRBS_trito_pool_2_CGTACTAG.ACAACC\", \n",
    "                        \"RRBS_trito_pool_2_CGTACTAG.ACGTGG\", \"RRBS_trito_pool_2_CGTACTAG.ACTCAC\", \n",
    "                        \"RRBS_trito_pool_2_CGTACTAG.AGGATG\", \n",
    "                        \"RRBS_trito_pool_2_CGTACTAG.ATAGCG\", \"RRBS_trito_pool_2_CGTACTAG.ATCGAC\", \n",
    "                        \"RRBS_trito_pool_2_CGTACTAG.CAAGAG\", \"RRBS_trito_pool_2_CGTACTAG.CATGAC\", \n",
    "                        \"RRBS_trito_pool_2_CGTACTAG.CCTTCG\", \"RRBS_trito_pool_2_CGTACTAG.CGGTAG\", \n",
    "                        \"RRBS_trito_pool_2_CGTACTAG.CTATTG\", \"RRBS_trito_pool_2_CGTACTAG.GACACG\", \n",
    "                        \"RRBS_trito_pool_2_CGTACTAG.GCATTC\", \"RRBS_trito_pool_2_CGTACTAG.GCTGCC\", \n",
    "                        \"RRBS_trito_pool_2_CGTACTAG.GGCATC\", \"RRBS_trito_pool_2_CGTACTAG.GTGAGG\", \n",
    "                        \"RRBS_trito_pool_2_CGTACTAG.GTTGAG\", \"RRBS_trito_pool_2_CGTACTAG.TAGCGG\", \n",
    "                        \"RRBS_trito_pool_2_CGTACTAG.TATCTC\", \"RRBS_trito_pool_2_CGTACTAG.TCTCTG\", \n",
    "                        \"RRBS_trito_pool_2_CGTACTAG.TGACAG\"]"
   ]
  },
  {
   "cell_type": "code",
   "execution_count": null,
   "metadata": {
    "collapsed": false
   },
   "outputs": [],
   "source": [
    "trito_matrix3 = trito_matrix3.applymap(lambda x: int(x) if pd.notnull(x) else str(\"?\"))"
   ]
  },
  {
   "cell_type": "code",
   "execution_count": null,
   "metadata": {
    "collapsed": true
   },
   "outputs": [],
   "source": [
    "trito_matrix3 = trito_matrix3.astype(str).apply(''.join)"
   ]
  },
  {
   "cell_type": "code",
   "execution_count": null,
   "metadata": {
    "collapsed": false
   },
   "outputs": [],
   "source": [
    "trito_matrix3.shape"
   ]
  },
  {
   "cell_type": "code",
   "execution_count": null,
   "metadata": {
    "collapsed": false
   },
   "outputs": [],
   "source": [
    "trito3 = pd.Series(trito_matrix3.index.astype(str).str.cat(trito_matrix3.astype(str),'    '))"
   ]
  },
  {
   "cell_type": "code",
   "execution_count": null,
   "metadata": {
    "collapsed": true
   },
   "outputs": [],
   "source": [
    "trito_matrix3 = trito3"
   ]
  },
  {
   "cell_type": "code",
   "execution_count": null,
   "metadata": {
    "collapsed": true
   },
   "outputs": [],
   "source": [
    "trito_matrix3.to_csv(\"tritopool_total_final.phy\", header=None, index=None)"
   ]
  },
  {
   "cell_type": "code",
   "execution_count": null,
   "metadata": {
    "collapsed": false
   },
   "outputs": [],
   "source": [
    "trito_matrix3.head()"
   ]
  },
  {
   "cell_type": "code",
   "execution_count": null,
   "metadata": {
    "collapsed": true
   },
   "outputs": [],
   "source": []
  },
  {
   "cell_type": "code",
   "execution_count": null,
   "metadata": {
    "collapsed": true
   },
   "outputs": [],
   "source": []
  },
  {
   "cell_type": "code",
   "execution_count": null,
   "metadata": {
    "collapsed": true
   },
   "outputs": [],
   "source": []
  }
 ],
 "metadata": {
  "kernelspec": {
   "display_name": "Python 3",
   "language": "python",
   "name": "python3"
  },
  "language_info": {
   "codemirror_mode": {
    "name": "ipython",
    "version": 3
   },
   "file_extension": ".py",
   "mimetype": "text/x-python",
   "name": "python",
   "nbconvert_exporter": "python",
   "pygments_lexer": "ipython3",
   "version": "3.4.5"
  }
 },
 "nbformat": 4,
 "nbformat_minor": 1
}
